{
 "cells": [
  {
   "cell_type": "markdown",
   "metadata": {},
   "source": [
    "# AGGREGATION AND CLEANING OF UNSTRUCTURED HOUSE RENTS DATA OF POPULAR NIGERIAN CITIES\n",
    "\n",
    "We have 6 similar house rents datasets of Nigerian cities which needs to be cleaned and aggregated for analysis. You can download them on kaggle via this [link](https://www.kaggle.com/duoarc/rent-listings-in-nigeria/version/1#prop24.csv)\n",
    "\n",
    "\n",
    "    Our main goals are:\n",
    "    1. clean all numeric and non-numeric columns in our datasets\n",
    "    2. efficiently aggregate the six(6) datasets into one that we can use for analysis.\n",
    "   \n",
    "  ### Summary:\n",
    "      The six dataset were cleaned with some rows droped to ensure consistency and accuracy. \n",
    "      The final dataset has about 5 columns and more than 8,000 rows of data"
   ]
  },
  {
   "cell_type": "markdown",
   "metadata": {},
   "source": [
    "    importing required libraries and reading data from cvs files"
   ]
  },
  {
   "cell_type": "code",
   "execution_count": 1,
   "metadata": {
    "collapsed": true
   },
   "outputs": [],
   "source": [
    "import pandas as pd\n",
    "import numpy as np\n",
    "import matplotlib.pyplot as plt\n",
    "import seaborn as sns\n",
    "import re\n",
    "%matplotlib inline"
   ]
  },
  {
   "cell_type": "code",
   "execution_count": 2,
   "metadata": {
    "collapsed": true
   },
   "outputs": [],
   "source": [
    "# reading the csv files into pandas dataframe\n",
    "housing_1 = pd.read_csv(\"findnigprop.csv\")\n",
    "housing_2 = pd.read_csv(\"naijaprop.csv\")\n",
    "housing_3 = pd.read_csv(\"prop24.csv\")\n",
    "housing_4 = pd.read_csv(\"propexp.csv\")\n",
    "housing_5 = pd.read_csv(\"renting.csv\")\n",
    "housing_6 = pd.read_csv(\"trovit.csv\")\n"
   ]
  },
  {
   "cell_type": "markdown",
   "metadata": {},
   "source": [
    "## Inspecting the Datasets"
   ]
  },
  {
   "cell_type": "code",
   "execution_count": 3,
   "metadata": {},
   "outputs": [
    {
     "data": {
      "text/html": [
       "<div>\n",
       "<style>\n",
       "    .dataframe thead tr:only-child th {\n",
       "        text-align: right;\n",
       "    }\n",
       "\n",
       "    .dataframe thead th {\n",
       "        text-align: left;\n",
       "    }\n",
       "\n",
       "    .dataframe tbody tr th {\n",
       "        vertical-align: top;\n",
       "    }\n",
       "</style>\n",
       "<table border=\"1\" class=\"dataframe\">\n",
       "  <thead>\n",
       "    <tr style=\"text-align: right;\">\n",
       "      <th></th>\n",
       "      <th>price</th>\n",
       "      <th>unit</th>\n",
       "      <th>location</th>\n",
       "      <th>bedrooms</th>\n",
       "      <th>baths</th>\n",
       "      <th>state</th>\n",
       "    </tr>\n",
       "  </thead>\n",
       "  <tbody>\n",
       "    <tr>\n",
       "      <th>0</th>\n",
       "      <td>₦2,620,000.00 Per Year</td>\n",
       "      <td>₦2,620,000.00 Per Year</td>\n",
       "      <td>, 7 obasa street, Oba-Akran, Ikeja, Lagos, Nig...</td>\n",
       "      <td>NaN</td>\n",
       "      <td>NaN</td>\n",
       "      <td>NaN</td>\n",
       "    </tr>\n",
       "    <tr>\n",
       "      <th>1</th>\n",
       "      <td>₦2,500,000.00</td>\n",
       "      <td>₦2,500,000.00</td>\n",
       "      <td>, Tudu wada, Karshi,, Karu, Nasaruwa, Nigeria</td>\n",
       "      <td>NaN</td>\n",
       "      <td>NaN</td>\n",
       "      <td>NaN</td>\n",
       "    </tr>\n",
       "    <tr>\n",
       "      <th>2</th>\n",
       "      <td>₦300,000.00</td>\n",
       "      <td>₦300,000.00</td>\n",
       "      <td>, ukeh, masaka, mararba, Karu, Nasaruwa, Nigeria</td>\n",
       "      <td>NaN</td>\n",
       "      <td>NaN</td>\n",
       "      <td>NaN</td>\n",
       "    </tr>\n",
       "    <tr>\n",
       "      <th>3</th>\n",
       "      <td>per month</td>\n",
       "      <td>per month</td>\n",
       "      <td>, World Trade Center Commercial Tower, Plot 11...</td>\n",
       "      <td>NaN</td>\n",
       "      <td>NaN</td>\n",
       "      <td>NaN</td>\n",
       "    </tr>\n",
       "    <tr>\n",
       "      <th>4</th>\n",
       "      <td></td>\n",
       "      <td></td>\n",
       "      <td>, World Trade Center, Plot 1113, Constitution ...</td>\n",
       "      <td>2.0</td>\n",
       "      <td>NaN</td>\n",
       "      <td>NaN</td>\n",
       "    </tr>\n",
       "  </tbody>\n",
       "</table>\n",
       "</div>"
      ],
      "text/plain": [
       "                    price                    unit  \\\n",
       "0  ₦2,620,000.00 Per Year  ₦2,620,000.00 Per Year   \n",
       "1          ₦2,500,000.00           ₦2,500,000.00    \n",
       "2            ₦300,000.00             ₦300,000.00    \n",
       "3               per month               per month   \n",
       "4                                                   \n",
       "\n",
       "                                            location  bedrooms baths  state  \n",
       "0  , 7 obasa street, Oba-Akran, Ikeja, Lagos, Nig...       NaN   NaN    NaN  \n",
       "1      , Tudu wada, Karshi,, Karu, Nasaruwa, Nigeria       NaN   NaN    NaN  \n",
       "2   , ukeh, masaka, mararba, Karu, Nasaruwa, Nigeria       NaN   NaN    NaN  \n",
       "3  , World Trade Center Commercial Tower, Plot 11...       NaN   NaN    NaN  \n",
       "4  , World Trade Center, Plot 1113, Constitution ...       2.0   NaN    NaN  "
      ]
     },
     "execution_count": 3,
     "metadata": {},
     "output_type": "execute_result"
    }
   ],
   "source": [
    "housing_1.head()"
   ]
  },
  {
   "cell_type": "code",
   "execution_count": 4,
   "metadata": {},
   "outputs": [
    {
     "data": {
      "text/html": [
       "<div>\n",
       "<style>\n",
       "    .dataframe thead tr:only-child th {\n",
       "        text-align: right;\n",
       "    }\n",
       "\n",
       "    .dataframe thead th {\n",
       "        text-align: left;\n",
       "    }\n",
       "\n",
       "    .dataframe tbody tr th {\n",
       "        vertical-align: top;\n",
       "    }\n",
       "</style>\n",
       "<table border=\"1\" class=\"dataframe\">\n",
       "  <thead>\n",
       "    <tr style=\"text-align: right;\">\n",
       "      <th></th>\n",
       "      <th>price</th>\n",
       "      <th>unit</th>\n",
       "      <th>location</th>\n",
       "      <th>bedrooms</th>\n",
       "      <th>baths</th>\n",
       "      <th>state</th>\n",
       "    </tr>\n",
       "  </thead>\n",
       "  <tbody>\n",
       "    <tr>\n",
       "      <th>0</th>\n",
       "      <td>1,000,000</td>\n",
       "      <td>per Year</td>\n",
       "      <td>15 - 17 Bolaji Balogun Street, Ayonusi Estate,...</td>\n",
       "      <td>5.0</td>\n",
       "      <td>6.0</td>\n",
       "      <td>Lagos</td>\n",
       "    </tr>\n",
       "    <tr>\n",
       "      <th>1</th>\n",
       "      <td>600,000</td>\n",
       "      <td>per Year</td>\n",
       "      <td>15 - 17 Bolaji Balogun Street, Ayonusi Estate,...</td>\n",
       "      <td>3.0</td>\n",
       "      <td>3.0</td>\n",
       "      <td>Lagos</td>\n",
       "    </tr>\n",
       "    <tr>\n",
       "      <th>2</th>\n",
       "      <td>250,000</td>\n",
       "      <td>per Year</td>\n",
       "      <td>badore,owode and addo roads,</td>\n",
       "      <td>1.0</td>\n",
       "      <td>1.0</td>\n",
       "      <td>Lagos</td>\n",
       "    </tr>\n",
       "    <tr>\n",
       "      <th>3</th>\n",
       "      <td>1,000,000</td>\n",
       "      <td>per Year</td>\n",
       "      <td>ilupeju,</td>\n",
       "      <td>3.0</td>\n",
       "      <td>2.0</td>\n",
       "      <td>Lagos</td>\n",
       "    </tr>\n",
       "    <tr>\n",
       "      <th>4</th>\n",
       "      <td>600,000</td>\n",
       "      <td>per Year</td>\n",
       "      <td>badore road,</td>\n",
       "      <td>NaN</td>\n",
       "      <td>NaN</td>\n",
       "      <td>Lagos</td>\n",
       "    </tr>\n",
       "  </tbody>\n",
       "</table>\n",
       "</div>"
      ],
      "text/plain": [
       "       price      unit                                           location  \\\n",
       "0  1,000,000  per Year  15 - 17 Bolaji Balogun Street, Ayonusi Estate,...   \n",
       "1    600,000  per Year  15 - 17 Bolaji Balogun Street, Ayonusi Estate,...   \n",
       "2    250,000  per Year                       badore,owode and addo roads,   \n",
       "3  1,000,000  per Year                                           ilupeju,   \n",
       "4    600,000  per Year                                       badore road,   \n",
       "\n",
       "   bedrooms  baths  state  \n",
       "0       5.0    6.0  Lagos  \n",
       "1       3.0    3.0  Lagos  \n",
       "2       1.0    1.0  Lagos  \n",
       "3       3.0    2.0  Lagos  \n",
       "4       NaN    NaN  Lagos  "
      ]
     },
     "execution_count": 4,
     "metadata": {},
     "output_type": "execute_result"
    }
   ],
   "source": [
    "housing_2.head()"
   ]
  },
  {
   "cell_type": "code",
   "execution_count": 5,
   "metadata": {},
   "outputs": [
    {
     "data": {
      "text/html": [
       "<div>\n",
       "<style>\n",
       "    .dataframe thead tr:only-child th {\n",
       "        text-align: right;\n",
       "    }\n",
       "\n",
       "    .dataframe thead th {\n",
       "        text-align: left;\n",
       "    }\n",
       "\n",
       "    .dataframe tbody tr th {\n",
       "        vertical-align: top;\n",
       "    }\n",
       "</style>\n",
       "<table border=\"1\" class=\"dataframe\">\n",
       "  <thead>\n",
       "    <tr style=\"text-align: right;\">\n",
       "      <th></th>\n",
       "      <th>price</th>\n",
       "      <th>unit</th>\n",
       "      <th>location</th>\n",
       "      <th>bedrooms</th>\n",
       "      <th>baths</th>\n",
       "      <th>parking_lots</th>\n",
       "      <th>state</th>\n",
       "    </tr>\n",
       "  </thead>\n",
       "  <tbody>\n",
       "    <tr>\n",
       "      <th>0</th>\n",
       "      <td>\\r\\r\\n                    ₦ 8 000 000\\r\\r\\n   ...</td>\n",
       "      <td>\\r\\r\\n                        Per Year\\r\\r\\n  ...</td>\n",
       "      <td>1c Fatai Durosinmi-Etiti Cres, Lagos Island We...</td>\n",
       "      <td>5.0</td>\n",
       "      <td>4</td>\n",
       "      <td>1</td>\n",
       "      <td>Lagos</td>\n",
       "    </tr>\n",
       "    <tr>\n",
       "      <th>1</th>\n",
       "      <td>\\r\\r\\n                    ₦ 3 200 000\\r\\r\\n   ...</td>\n",
       "      <td>\\r\\r\\n                        Per Year\\r\\r\\n  ...</td>\n",
       "      <td>IKOTA, Lekki, Lekki</td>\n",
       "      <td>4.0</td>\n",
       "      <td>4</td>\n",
       "      <td>NaN</td>\n",
       "      <td>Lagos</td>\n",
       "    </tr>\n",
       "    <tr>\n",
       "      <th>2</th>\n",
       "      <td>\\r\\r\\n                    ₦ 2 000 000\\r\\r\\n   ...</td>\n",
       "      <td>\\r\\r\\n                        Per Year\\r\\r\\n  ...</td>\n",
       "      <td>IKATE, Lekki, Lekki</td>\n",
       "      <td>2.0</td>\n",
       "      <td>2</td>\n",
       "      <td>NaN</td>\n",
       "      <td>Lagos</td>\n",
       "    </tr>\n",
       "    <tr>\n",
       "      <th>3</th>\n",
       "      <td>\\r\\r\\n                    ₦ 2 500 000\\r\\r\\n   ...</td>\n",
       "      <td>\\r\\r\\n                        Per Year\\r\\r\\n  ...</td>\n",
       "      <td>ONIRU, Victoria Island, Lekki</td>\n",
       "      <td>3.0</td>\n",
       "      <td>3</td>\n",
       "      <td>NaN</td>\n",
       "      <td>Lagos</td>\n",
       "    </tr>\n",
       "    <tr>\n",
       "      <th>4</th>\n",
       "      <td>\\r\\r\\n                    ₦ 18 000 000\\r\\r\\n  ...</td>\n",
       "      <td>\\r\\r\\n                        Per Year\\r\\r\\n  ...</td>\n",
       "      <td>BANANA ISLAND ESTATE, Ikoyi-obalende, Ikoyi-ob...</td>\n",
       "      <td>3.0</td>\n",
       "      <td>3</td>\n",
       "      <td>NaN</td>\n",
       "      <td>Lagos</td>\n",
       "    </tr>\n",
       "  </tbody>\n",
       "</table>\n",
       "</div>"
      ],
      "text/plain": [
       "                                               price  \\\n",
       "0  \\r\\r\\n                    ₦ 8 000 000\\r\\r\\n   ...   \n",
       "1  \\r\\r\\n                    ₦ 3 200 000\\r\\r\\n   ...   \n",
       "2  \\r\\r\\n                    ₦ 2 000 000\\r\\r\\n   ...   \n",
       "3  \\r\\r\\n                    ₦ 2 500 000\\r\\r\\n   ...   \n",
       "4  \\r\\r\\n                    ₦ 18 000 000\\r\\r\\n  ...   \n",
       "\n",
       "                                                unit  \\\n",
       "0  \\r\\r\\n                        Per Year\\r\\r\\n  ...   \n",
       "1  \\r\\r\\n                        Per Year\\r\\r\\n  ...   \n",
       "2  \\r\\r\\n                        Per Year\\r\\r\\n  ...   \n",
       "3  \\r\\r\\n                        Per Year\\r\\r\\n  ...   \n",
       "4  \\r\\r\\n                        Per Year\\r\\r\\n  ...   \n",
       "\n",
       "                                            location  bedrooms baths  \\\n",
       "0  1c Fatai Durosinmi-Etiti Cres, Lagos Island We...       5.0     4   \n",
       "1                                IKOTA, Lekki, Lekki       4.0     4   \n",
       "2                                IKATE, Lekki, Lekki       2.0     2   \n",
       "3                      ONIRU, Victoria Island, Lekki       3.0     3   \n",
       "4  BANANA ISLAND ESTATE, Ikoyi-obalende, Ikoyi-ob...       3.0     3   \n",
       "\n",
       "  parking_lots  state  \n",
       "0            1  Lagos  \n",
       "1          NaN  Lagos  \n",
       "2          NaN  Lagos  \n",
       "3          NaN  Lagos  \n",
       "4          NaN  Lagos  "
      ]
     },
     "execution_count": 5,
     "metadata": {},
     "output_type": "execute_result"
    }
   ],
   "source": [
    "housing_3.head()"
   ]
  },
  {
   "cell_type": "code",
   "execution_count": 6,
   "metadata": {},
   "outputs": [
    {
     "data": {
      "text/html": [
       "<div>\n",
       "<style>\n",
       "    .dataframe thead tr:only-child th {\n",
       "        text-align: right;\n",
       "    }\n",
       "\n",
       "    .dataframe thead th {\n",
       "        text-align: left;\n",
       "    }\n",
       "\n",
       "    .dataframe tbody tr th {\n",
       "        vertical-align: top;\n",
       "    }\n",
       "</style>\n",
       "<table border=\"1\" class=\"dataframe\">\n",
       "  <thead>\n",
       "    <tr style=\"text-align: right;\">\n",
       "      <th></th>\n",
       "      <th>price</th>\n",
       "      <th>unit</th>\n",
       "      <th>location</th>\n",
       "      <th>bedrooms</th>\n",
       "      <th>baths</th>\n",
       "      <th>parking_lots</th>\n",
       "      <th>state</th>\n",
       "    </tr>\n",
       "  </thead>\n",
       "  <tbody>\n",
       "    <tr>\n",
       "      <th>0</th>\n",
       "      <td>₦4,500,000</td>\n",
       "      <td>per year</td>\n",
       "      <td>Ikoyi, Lagos</td>\n",
       "      <td>2</td>\n",
       "      <td>2</td>\n",
       "      <td>NaN</td>\n",
       "      <td>Ikoyi, Lagos</td>\n",
       "    </tr>\n",
       "    <tr>\n",
       "      <th>1</th>\n",
       "      <td>₦15,000,000</td>\n",
       "      <td>per year</td>\n",
       "      <td>Ikoyi, Lagos</td>\n",
       "      <td>4</td>\n",
       "      <td>4</td>\n",
       "      <td>NaN</td>\n",
       "      <td>Ikoyi, Lagos</td>\n",
       "    </tr>\n",
       "    <tr>\n",
       "      <th>2</th>\n",
       "      <td>₦15,000,000</td>\n",
       "      <td>per year</td>\n",
       "      <td>Ikoyi, Lagos</td>\n",
       "      <td>3</td>\n",
       "      <td>4</td>\n",
       "      <td>NaN</td>\n",
       "      <td>Ikoyi, Lagos</td>\n",
       "    </tr>\n",
       "    <tr>\n",
       "      <th>3</th>\n",
       "      <td>₦6,000,000</td>\n",
       "      <td>per year</td>\n",
       "      <td>Ikoyi, Lagos</td>\n",
       "      <td>2</td>\n",
       "      <td>2</td>\n",
       "      <td>NaN</td>\n",
       "      <td>Ikoyi, Lagos</td>\n",
       "    </tr>\n",
       "    <tr>\n",
       "      <th>4</th>\n",
       "      <td>₦13,000,000</td>\n",
       "      <td>per year</td>\n",
       "      <td>Ikoyi, Lagos</td>\n",
       "      <td>3</td>\n",
       "      <td>4</td>\n",
       "      <td>NaN</td>\n",
       "      <td>Ikoyi, Lagos</td>\n",
       "    </tr>\n",
       "  </tbody>\n",
       "</table>\n",
       "</div>"
      ],
      "text/plain": [
       "          price      unit      location  bedrooms  baths  parking_lots  \\\n",
       "0   ₦4,500,000   per year  Ikoyi, Lagos         2      2           NaN   \n",
       "1  ₦15,000,000   per year  Ikoyi, Lagos         4      4           NaN   \n",
       "2  ₦15,000,000   per year  Ikoyi, Lagos         3      4           NaN   \n",
       "3   ₦6,000,000   per year  Ikoyi, Lagos         2      2           NaN   \n",
       "4  ₦13,000,000   per year  Ikoyi, Lagos         3      4           NaN   \n",
       "\n",
       "          state  \n",
       "0  Ikoyi, Lagos  \n",
       "1  Ikoyi, Lagos  \n",
       "2  Ikoyi, Lagos  \n",
       "3  Ikoyi, Lagos  \n",
       "4  Ikoyi, Lagos  "
      ]
     },
     "execution_count": 6,
     "metadata": {},
     "output_type": "execute_result"
    }
   ],
   "source": [
    "housing_4.head()"
   ]
  },
  {
   "cell_type": "code",
   "execution_count": 7,
   "metadata": {},
   "outputs": [
    {
     "data": {
      "text/html": [
       "<div>\n",
       "<style>\n",
       "    .dataframe thead tr:only-child th {\n",
       "        text-align: right;\n",
       "    }\n",
       "\n",
       "    .dataframe thead th {\n",
       "        text-align: left;\n",
       "    }\n",
       "\n",
       "    .dataframe tbody tr th {\n",
       "        vertical-align: top;\n",
       "    }\n",
       "</style>\n",
       "<table border=\"1\" class=\"dataframe\">\n",
       "  <thead>\n",
       "    <tr style=\"text-align: right;\">\n",
       "      <th></th>\n",
       "      <th>price</th>\n",
       "      <th>unit</th>\n",
       "      <th>location</th>\n",
       "      <th>bedrooms</th>\n",
       "      <th>baths</th>\n",
       "      <th>state</th>\n",
       "    </tr>\n",
       "  </thead>\n",
       "  <tbody>\n",
       "    <tr>\n",
       "      <th>0</th>\n",
       "      <td>₦ 5,000 / Per Event</td>\n",
       "      <td>₦ 5,000 / Per Event</td>\n",
       "      <td>LAGOS/Ikeja</td>\n",
       "      <td>NaN</td>\n",
       "      <td>NaN</td>\n",
       "      <td>NaN</td>\n",
       "    </tr>\n",
       "    <tr>\n",
       "      <th>1</th>\n",
       "      <td>₦ 45,000 / Yearly</td>\n",
       "      <td>₦ 45,000 / Yearly</td>\n",
       "      <td>ABUJA (FCT)/Dutse Makaranta</td>\n",
       "      <td>1.0</td>\n",
       "      <td>NaN</td>\n",
       "      <td>NaN</td>\n",
       "    </tr>\n",
       "    <tr>\n",
       "      <th>2</th>\n",
       "      <td>₦ 45,000 / Yearly</td>\n",
       "      <td>₦ 45,000 / Yearly</td>\n",
       "      <td>ABUJA (FCT)/Dutse Makaranta</td>\n",
       "      <td>1.0</td>\n",
       "      <td>NaN</td>\n",
       "      <td>NaN</td>\n",
       "    </tr>\n",
       "    <tr>\n",
       "      <th>3</th>\n",
       "      <td>₦ 50,000 / Yearly</td>\n",
       "      <td>₦ 50,000 / Yearly</td>\n",
       "      <td>ABUJA (FCT)/Dutse Sokale</td>\n",
       "      <td>1.0</td>\n",
       "      <td>NaN</td>\n",
       "      <td>NaN</td>\n",
       "    </tr>\n",
       "    <tr>\n",
       "      <th>4</th>\n",
       "      <td>₦ 65,000 / Yearly</td>\n",
       "      <td>₦ 65,000 / Yearly</td>\n",
       "      <td>ABUJA (FCT)/Dutse Alhaji</td>\n",
       "      <td>1.0</td>\n",
       "      <td>NaN</td>\n",
       "      <td>NaN</td>\n",
       "    </tr>\n",
       "  </tbody>\n",
       "</table>\n",
       "</div>"
      ],
      "text/plain": [
       "                 price                 unit                     location  \\\n",
       "0  ₦ 5,000 / Per Event  ₦ 5,000 / Per Event                  LAGOS/Ikeja   \n",
       "1    ₦ 45,000 / Yearly    ₦ 45,000 / Yearly  ABUJA (FCT)/Dutse Makaranta   \n",
       "2    ₦ 45,000 / Yearly    ₦ 45,000 / Yearly  ABUJA (FCT)/Dutse Makaranta   \n",
       "3    ₦ 50,000 / Yearly    ₦ 50,000 / Yearly     ABUJA (FCT)/Dutse Sokale   \n",
       "4    ₦ 65,000 / Yearly    ₦ 65,000 / Yearly     ABUJA (FCT)/Dutse Alhaji   \n",
       "\n",
       "   bedrooms  baths  state  \n",
       "0       NaN    NaN    NaN  \n",
       "1       1.0    NaN    NaN  \n",
       "2       1.0    NaN    NaN  \n",
       "3       1.0    NaN    NaN  \n",
       "4       1.0    NaN    NaN  "
      ]
     },
     "execution_count": 7,
     "metadata": {},
     "output_type": "execute_result"
    }
   ],
   "source": [
    "housing_5.head()"
   ]
  },
  {
   "cell_type": "code",
   "execution_count": 8,
   "metadata": {},
   "outputs": [
    {
     "data": {
      "text/html": [
       "<div>\n",
       "<style>\n",
       "    .dataframe thead tr:only-child th {\n",
       "        text-align: right;\n",
       "    }\n",
       "\n",
       "    .dataframe thead th {\n",
       "        text-align: left;\n",
       "    }\n",
       "\n",
       "    .dataframe tbody tr th {\n",
       "        vertical-align: top;\n",
       "    }\n",
       "</style>\n",
       "<table border=\"1\" class=\"dataframe\">\n",
       "  <thead>\n",
       "    <tr style=\"text-align: right;\">\n",
       "      <th></th>\n",
       "      <th>price</th>\n",
       "      <th>unit</th>\n",
       "      <th>location</th>\n",
       "      <th>bedrooms</th>\n",
       "      <th>baths</th>\n",
       "      <th>state</th>\n",
       "    </tr>\n",
       "  </thead>\n",
       "  <tbody>\n",
       "    <tr>\n",
       "      <th>0</th>\n",
       "      <td>₦450,000</td>\n",
       "      <td>per Year</td>\n",
       "      <td>Ogun, Odeda, Ogun State</td>\n",
       "      <td>2</td>\n",
       "      <td>2</td>\n",
       "      <td>NaN</td>\n",
       "    </tr>\n",
       "    <tr>\n",
       "      <th>1</th>\n",
       "      <td>₦150,000</td>\n",
       "      <td>per Year</td>\n",
       "      <td>Abeokuta, Abeokuta South, Ogun State</td>\n",
       "      <td>1</td>\n",
       "      <td>1</td>\n",
       "      <td>NaN</td>\n",
       "    </tr>\n",
       "    <tr>\n",
       "      <th>2</th>\n",
       "      <td>₦700,000</td>\n",
       "      <td>per Year</td>\n",
       "      <td>Ogun, Odeda, Ogun State</td>\n",
       "      <td>3</td>\n",
       "      <td>3</td>\n",
       "      <td>NaN</td>\n",
       "    </tr>\n",
       "    <tr>\n",
       "      <th>3</th>\n",
       "      <td>₦250,000</td>\n",
       "      <td>per Year</td>\n",
       "      <td>Ifo, Ogun State</td>\n",
       "      <td>2</td>\n",
       "      <td>2</td>\n",
       "      <td>NaN</td>\n",
       "    </tr>\n",
       "    <tr>\n",
       "      <th>4</th>\n",
       "      <td>₦200,000</td>\n",
       "      <td>per Year</td>\n",
       "      <td>Ofada, Obafemi Owode, Ogun State</td>\n",
       "      <td>NaN</td>\n",
       "      <td>NaN</td>\n",
       "      <td>NaN</td>\n",
       "    </tr>\n",
       "  </tbody>\n",
       "</table>\n",
       "</div>"
      ],
      "text/plain": [
       "      price      unit                                location bedrooms baths  \\\n",
       "0  ₦450,000  per Year                Ogun, Odeda, Ogun State         2     2   \n",
       "1  ₦150,000  per Year   Abeokuta, Abeokuta South, Ogun State         1     1   \n",
       "2  ₦700,000  per Year                Ogun, Odeda, Ogun State         3     3   \n",
       "3  ₦250,000  per Year                        Ifo, Ogun State         2     2   \n",
       "4  ₦200,000  per Year       Ofada, Obafemi Owode, Ogun State       NaN   NaN   \n",
       "\n",
       "   state  \n",
       "0    NaN  \n",
       "1    NaN  \n",
       "2    NaN  \n",
       "3    NaN  \n",
       "4    NaN  "
      ]
     },
     "execution_count": 8,
     "metadata": {},
     "output_type": "execute_result"
    }
   ],
   "source": [
    "housing_6.head()"
   ]
  },
  {
   "cell_type": "markdown",
   "metadata": {},
   "source": [
    "### OBSERVATION\n",
    "\n",
    "    All the datasets have five(5) columns in common - Price, unit, location, bedrooms, baths and state.The parking_lot column is  present in only 2 of our dataset. Also, all the common columns requires cleaning and conversion to their appropriate data types. For example,it is obvious that location should be strings but in some rows we have a combination of words and numbers.\n",
    "\n",
    "    We will now clean each of the datasets starting from housing_1.\n",
    "    "
   ]
  },
  {
   "cell_type": "markdown",
   "metadata": {},
   "source": [
    " ### INSPECTING AND CLEANING 1ST DATASET"
   ]
  },
  {
   "cell_type": "code",
   "execution_count": 9,
   "metadata": {
    "scrolled": false
   },
   "outputs": [
    {
     "name": "stdout",
     "output_type": "stream",
     "text": [
      "<class 'pandas.core.frame.DataFrame'>\n",
      "RangeIndex: 752 entries, 0 to 751\n",
      "Data columns (total 6 columns):\n",
      "price       752 non-null object\n",
      "unit        752 non-null object\n",
      "location    752 non-null object\n",
      "bedrooms    620 non-null float64\n",
      "baths       437 non-null object\n",
      "state       0 non-null float64\n",
      "dtypes: float64(2), object(4)\n",
      "memory usage: 35.3+ KB\n"
     ]
    }
   ],
   "source": [
    "housing_1.info()"
   ]
  },
  {
   "cell_type": "markdown",
   "metadata": {},
   "source": [
    "    The bedrooms and  baths columns have lots of missing values and state column contain no value at all. \n",
    "    We also need to convert each column to their respective data types after cleaning.\n",
    "    First, we do a heatmap Visualization to observe the null values more clearly."
   ]
  },
  {
   "cell_type": "code",
   "execution_count": 10,
   "metadata": {
    "scrolled": true
   },
   "outputs": [
    {
     "data": {
      "image/png": "[encoded data removed]",
      "text/plain": [
       "<matplotlib.figure.Figure at 0x2b697376358>"
      ]
     },
     "metadata": {},
     "output_type": "display_data"
    }
   ],
   "source": [
    "fig,ax = plt.subplots(figsize =(20,8))\n",
    "ax = sns.heatmap(housing_1.isnull(), cbar=False)\n",
    "ax.set_yticks([])\n",
    "ax.set_title(\"Data Presence in Housing_1\", fontsize=20)\n",
    "plt.show()"
   ]
  },
  {
   "cell_type": "markdown",
   "metadata": {},
   "source": [
    "#### We start cleaning from left to right along the rows. So we take the price column first."
   ]
  },
  {
   "cell_type": "code",
   "execution_count": 11,
   "metadata": {
    "scrolled": true
   },
   "outputs": [
    {
     "data": {
      "text/plain": [
       "                    36\n",
       "₦35,000,000.00      19\n",
       "₦150,000,000.00     13\n",
       "₦65,000,000.00      13\n",
       "₦40,000,000.00      12\n",
       "Name: price, dtype: int64"
      ]
     },
     "execution_count": 11,
     "metadata": {},
     "output_type": "execute_result"
    }
   ],
   "source": [
    "housing_1[\"price\"].value_counts().head()"
   ]
  },
  {
   "cell_type": "code",
   "execution_count": 12,
   "metadata": {},
   "outputs": [
    {
     "data": {
      "text/plain": [
       "array(['₦2,620,000.00 Per Year', '₦2,500,000.00 ', '₦300,000.00 ',\n",
       "       ' per month', ' ', '₦33,000,000.00 ', '₦30,000,000.00 ',\n",
       "       '₦3,750,000.00 Per Year', '₦40,000,000.00 ', '₦150,000,000.00 ',\n",
       "       '₦5,500,000.00 Per Year', '₦48,000,000.00 ', '₦9,500,000.00 ',\n",
       "       '₦66,000,000.00 ', '₦2,700,000.00 ', '₦10,000,000.00 ',\n",
       "       '₦350,000.00 Per Year', '₦40,000.00 Per Year', '₦55,000,000.00 ',\n",
       "       '₦110,000,000.00 ', '₦16,600,000.00 ', '₦85,000,000.00 ',\n",
       "       '₦50,000,000.00 ', '₦8,500,000.00 ', '₦39,000,000.00 ',\n",
       "       '₦35,000,000.00 ', '₦300,000,000.00 ', '₦75,000,000.00 ',\n",
       "       '₦850,000.00 ', '₦18,000,000.00 ', '₦12,000,000.00 ',\n",
       "       '₦3,000,000.00 Per Year', '₦400,000.00 Per Year', '₦1,275,000.00 ',\n",
       "       '₦28,000,000.00 ', '₦26,000,000.00 ', '₦33,500,000.00 ',\n",
       "       '₦16,000,000.00 ', '₦1,700,000.00 Per Year', '₦500,000,000.00 ',\n",
       "       '₦550,000,000.00 ', '₦520,000,000.00 ', '₦6,000,000.00 ',\n",
       "       '₦1,000,000.00 Per Year', '₦15,000,000.00 ', '₦4,000,000.00 ',\n",
       "       '₦2,500,000.00 Per Year', '₦5,500,000.00 ', '₦210,000,000.00 ',\n",
       "       '₦140,000,000.00 '], dtype=object)"
      ]
     },
     "execution_count": 12,
     "metadata": {},
     "output_type": "execute_result"
    }
   ],
   "source": [
    "housing_1[\"price\"].unique()[:50]"
   ]
  },
  {
   "cell_type": "markdown",
   "metadata": {},
   "source": [
    "    On close observation, We notice the following:\n",
    "    * A considerable number of rows have empty spaces where price values ought to be\n",
    "    * some prices have a combination of numbers, symbols and strings (unit) e.g ₦6,656,000.00 Per Year\n",
    "    * a few of the values are in dollars.\n",
    "    * some rows have wholely strings (e.g Per Month) entered as price "
   ]
  },
  {
   "cell_type": "markdown",
   "metadata": {},
   "source": [
    "    We will use the following strategy to clean the dataset:\n",
    "    1. remove unwanted words and charaters in price.\n",
    "    2. convert all prices to numberic.\n",
    "    3. convert prices in dollars to naira by multiplying them with the current exchange rate.\n",
    "    4. convert all the prices rendered as payment in months or days to price in years."
   ]
  },
  {
   "cell_type": "code",
   "execution_count": 13,
   "metadata": {
    "collapsed": true
   },
   "outputs": [],
   "source": [
    "# removing special characters and string attached to prices ($, ₦, Per Month, Per Year, Per day )\n",
    "housing_1['price'] = housing_1['price'].str.replace(\"₦\",\"\").str.replace(\"$\",\"\").str.replace(\"per day|per month|per year\",\"\",case =False).str.replace(\",\",\"\").str.strip()"
   ]
  },
  {
   "cell_type": "code",
   "execution_count": 14,
   "metadata": {
    "collapsed": true,
    "scrolled": true
   },
   "outputs": [],
   "source": [
    "# we convert price values to numeric\n",
    "housing_1[\"price\"] = pd.to_numeric(housing_1[\"price\"], errors = 'coerce')"
   ]
  },
  {
   "cell_type": "markdown",
   "metadata": {},
   "source": [
    "Our code above forces non-numeric values to NaN. We now drop rows with NaN"
   ]
  },
  {
   "cell_type": "code",
   "execution_count": 15,
   "metadata": {
    "collapsed": true
   },
   "outputs": [],
   "source": [
    "housing_1 = housing_1.drop(housing_1.loc[housing_1[\"price\"].isnull()].index, axis =0)\n",
    "housing_1.reset_index(drop=True, inplace=True)"
   ]
  },
  {
   "cell_type": "code",
   "execution_count": 16,
   "metadata": {
    "scrolled": true
   },
   "outputs": [
    {
     "data": {
      "text/plain": [
       "0     2620000.0\n",
       "1     2500000.0\n",
       "2      300000.0\n",
       "3    33000000.0\n",
       "4    30000000.0\n",
       "Name: price, dtype: float64"
      ]
     },
     "execution_count": 16,
     "metadata": {},
     "output_type": "execute_result"
    }
   ],
   "source": [
    "housing_1[\"price\"].head()"
   ]
  },
  {
   "cell_type": "code",
   "execution_count": 17,
   "metadata": {},
   "outputs": [
    {
     "data": {
      "text/plain": [
       "0"
      ]
     },
     "execution_count": 17,
     "metadata": {},
     "output_type": "execute_result"
    }
   ],
   "source": [
    "housing_1[\"price\"].isnull().sum()"
   ]
  },
  {
   "cell_type": "code",
   "execution_count": 18,
   "metadata": {},
   "outputs": [
    {
     "data": {
      "text/html": [
       "<div>\n",
       "<style>\n",
       "    .dataframe thead tr:only-child th {\n",
       "        text-align: right;\n",
       "    }\n",
       "\n",
       "    .dataframe thead th {\n",
       "        text-align: left;\n",
       "    }\n",
       "\n",
       "    .dataframe tbody tr th {\n",
       "        vertical-align: top;\n",
       "    }\n",
       "</style>\n",
       "<table border=\"1\" class=\"dataframe\">\n",
       "  <thead>\n",
       "    <tr style=\"text-align: right;\">\n",
       "      <th></th>\n",
       "      <th>price</th>\n",
       "      <th>unit</th>\n",
       "      <th>location</th>\n",
       "      <th>bedrooms</th>\n",
       "      <th>baths</th>\n",
       "      <th>state</th>\n",
       "    </tr>\n",
       "  </thead>\n",
       "  <tbody>\n",
       "    <tr>\n",
       "      <th>0</th>\n",
       "      <td>2620000.0</td>\n",
       "      <td>₦2,620,000.00 Per Year</td>\n",
       "      <td>, 7 obasa street, Oba-Akran, Ikeja, Lagos, Nig...</td>\n",
       "      <td>NaN</td>\n",
       "      <td>NaN</td>\n",
       "      <td>NaN</td>\n",
       "    </tr>\n",
       "    <tr>\n",
       "      <th>1</th>\n",
       "      <td>2500000.0</td>\n",
       "      <td>₦2,500,000.00</td>\n",
       "      <td>, Tudu wada, Karshi,, Karu, Nasaruwa, Nigeria</td>\n",
       "      <td>NaN</td>\n",
       "      <td>NaN</td>\n",
       "      <td>NaN</td>\n",
       "    </tr>\n",
       "    <tr>\n",
       "      <th>2</th>\n",
       "      <td>300000.0</td>\n",
       "      <td>₦300,000.00</td>\n",
       "      <td>, ukeh, masaka, mararba, Karu, Nasaruwa, Nigeria</td>\n",
       "      <td>NaN</td>\n",
       "      <td>NaN</td>\n",
       "      <td>NaN</td>\n",
       "    </tr>\n",
       "    <tr>\n",
       "      <th>3</th>\n",
       "      <td>33000000.0</td>\n",
       "      <td>₦33,000,000.00</td>\n",
       "      <td>, Alafia Bus stop, Badagry Express Way, Lagos,...</td>\n",
       "      <td>5.0</td>\n",
       "      <td>5f</td>\n",
       "      <td>NaN</td>\n",
       "    </tr>\n",
       "    <tr>\n",
       "      <th>4</th>\n",
       "      <td>30000000.0</td>\n",
       "      <td>₦30,000,000.00</td>\n",
       "      <td>, Alafia Bus stop, Badagry Express Way, Lagos,...</td>\n",
       "      <td>8.0</td>\n",
       "      <td>7f</td>\n",
       "      <td>NaN</td>\n",
       "    </tr>\n",
       "  </tbody>\n",
       "</table>\n",
       "</div>"
      ],
      "text/plain": [
       "        price                    unit  \\\n",
       "0   2620000.0  ₦2,620,000.00 Per Year   \n",
       "1   2500000.0          ₦2,500,000.00    \n",
       "2    300000.0            ₦300,000.00    \n",
       "3  33000000.0         ₦33,000,000.00    \n",
       "4  30000000.0         ₦30,000,000.00    \n",
       "\n",
       "                                            location  bedrooms baths  state  \n",
       "0  , 7 obasa street, Oba-Akran, Ikeja, Lagos, Nig...       NaN   NaN    NaN  \n",
       "1      , Tudu wada, Karshi,, Karu, Nasaruwa, Nigeria       NaN   NaN    NaN  \n",
       "2   , ukeh, masaka, mararba, Karu, Nasaruwa, Nigeria       NaN   NaN    NaN  \n",
       "3  , Alafia Bus stop, Badagry Express Way, Lagos,...       5.0    5f    NaN  \n",
       "4  , Alafia Bus stop, Badagry Express Way, Lagos,...       8.0    7f    NaN  "
      ]
     },
     "execution_count": 18,
     "metadata": {},
     "output_type": "execute_result"
    }
   ],
   "source": [
    "housing_1.head()"
   ]
  },
  {
   "cell_type": "markdown",
   "metadata": {},
   "source": [
    "### Converting Prices in Dollars to Naira and converting all prices to yearly price\n",
    "\n",
    "    We've just striped off the special characters attached to the price values and converted them to numeric.It is now almost impossible to know which prices were in dollars. However, as seen above, the unit columns also holds the price values. We can use these values to find out where our prices were in dollars and then multiply the corresponding values in the price columns with the dollar-naira exchange rate which in this project is 360.\n",
    "    \n",
    "    Some of the prices as shown on the unit column are either in years, months or days. We have to calculate these prices per year. \n",
    "    \n",
    "    To handle these conversions, we create a function that we can re-use in cleaning other datasets."
   ]
  },
  {
   "cell_type": "code",
   "execution_count": 19,
   "metadata": {
    "collapsed": true
   },
   "outputs": [],
   "source": [
    "def price_conversion(data):\n",
    "    \"\"\"\n",
    "    The function takes in a dataset, iterate through each row and uses the unit column to convert prices in dollars to naira.\n",
    "    Also, prices in months, weeks and days are converted to yearly prices.\n",
    "    \n",
    "    Args(pandas DF): the pandas dataframe to be cleaned.\n",
    "    \n",
    "    Returns(float): yearly price in naira\n",
    "    \n",
    "    \"\"\"\n",
    "    for index, row_series in data.iterrows():\n",
    "        if \"$\" in row_series['unit']:\n",
    "            data.at[index, 'price'] = row_series['price'] * 360\n",
    "# since Iterrows() works on only a copy of the dataset, we use data.at[index,'column']\n",
    "# to write in the change(s) we've made in the column into  the dataset.\n",
    "        else:\n",
    "            if \"month\" or \"monthly\" in row_series['unit'].lower().split():\n",
    "                data.at[index, 'price'] = row_series['price'] * 12\n",
    "            elif \"week\" or \"weekly\"  in row_series['unit'].lower().split():\n",
    "                data.at[index, 'price'] = row_series['price'] * 52\n",
    "            elif \"day\" or \"daly\" in row_series['unit'].lower().split():\n",
    "                data.at[index, 'price'] = row_series['price'] * 365\n",
    "            else:\n",
    "                pass\n",
    "    return data"
   ]
  },
  {
   "cell_type": "code",
   "execution_count": 20,
   "metadata": {
    "collapsed": true
   },
   "outputs": [],
   "source": [
    "housing_1 = price_conversion(housing_1)"
   ]
  },
  {
   "cell_type": "code",
   "execution_count": 21,
   "metadata": {},
   "outputs": [
    {
     "data": {
      "text/html": [
       "<div>\n",
       "<style>\n",
       "    .dataframe thead tr:only-child th {\n",
       "        text-align: right;\n",
       "    }\n",
       "\n",
       "    .dataframe thead th {\n",
       "        text-align: left;\n",
       "    }\n",
       "\n",
       "    .dataframe tbody tr th {\n",
       "        vertical-align: top;\n",
       "    }\n",
       "</style>\n",
       "<table border=\"1\" class=\"dataframe\">\n",
       "  <thead>\n",
       "    <tr style=\"text-align: right;\">\n",
       "      <th></th>\n",
       "      <th>price</th>\n",
       "      <th>unit</th>\n",
       "      <th>location</th>\n",
       "      <th>bedrooms</th>\n",
       "      <th>baths</th>\n",
       "      <th>state</th>\n",
       "    </tr>\n",
       "  </thead>\n",
       "  <tbody>\n",
       "    <tr>\n",
       "      <th>704</th>\n",
       "      <td>1.140000e+10</td>\n",
       "      <td>₦950,000,000.00</td>\n",
       "      <td>, Adeola Odeku, Victoria Island (VI), Lagos, N...</td>\n",
       "      <td>NaN</td>\n",
       "      <td>NaN</td>\n",
       "      <td>NaN</td>\n",
       "    </tr>\n",
       "    <tr>\n",
       "      <th>705</th>\n",
       "      <td>4.800000e+07</td>\n",
       "      <td>₦4,000,000.00 per month</td>\n",
       "      <td>, Allen Avenue, Ikeja, Lagos, Nigeria</td>\n",
       "      <td>NaN</td>\n",
       "      <td>NaN</td>\n",
       "      <td>NaN</td>\n",
       "    </tr>\n",
       "    <tr>\n",
       "      <th>706</th>\n",
       "      <td>2.400000e+09</td>\n",
       "      <td>₦200,000,000.00</td>\n",
       "      <td>, ALABA INTERNATIONAL MARKET;IGBEDE ROAD..., O...</td>\n",
       "      <td>NaN</td>\n",
       "      <td>NaN</td>\n",
       "      <td>NaN</td>\n",
       "    </tr>\n",
       "    <tr>\n",
       "      <th>707</th>\n",
       "      <td>3.300000e+05</td>\n",
       "      <td>₦27,500.00 Per Year</td>\n",
       "      <td>, Awolowo Road, Nigeria</td>\n",
       "      <td>NaN</td>\n",
       "      <td>NaN</td>\n",
       "      <td>NaN</td>\n",
       "    </tr>\n",
       "    <tr>\n",
       "      <th>708</th>\n",
       "      <td>6.000000e+06</td>\n",
       "      <td>₦500,000.00 Per Year</td>\n",
       "      <td>, Ogudu GRA Road, Nigeria</td>\n",
       "      <td>NaN</td>\n",
       "      <td>NaN</td>\n",
       "      <td>NaN</td>\n",
       "    </tr>\n",
       "  </tbody>\n",
       "</table>\n",
       "</div>"
      ],
      "text/plain": [
       "            price                     unit  \\\n",
       "704  1.140000e+10         ₦950,000,000.00    \n",
       "705  4.800000e+07  ₦4,000,000.00 per month   \n",
       "706  2.400000e+09         ₦200,000,000.00    \n",
       "707  3.300000e+05      ₦27,500.00 Per Year   \n",
       "708  6.000000e+06     ₦500,000.00 Per Year   \n",
       "\n",
       "                                              location  bedrooms baths  state  \n",
       "704  , Adeola Odeku, Victoria Island (VI), Lagos, N...       NaN   NaN    NaN  \n",
       "705              , Allen Avenue, Ikeja, Lagos, Nigeria       NaN   NaN    NaN  \n",
       "706  , ALABA INTERNATIONAL MARKET;IGBEDE ROAD..., O...       NaN   NaN    NaN  \n",
       "707                            , Awolowo Road, Nigeria       NaN   NaN    NaN  \n",
       "708                          , Ogudu GRA Road, Nigeria       NaN   NaN    NaN  "
      ]
     },
     "execution_count": 21,
     "metadata": {},
     "output_type": "execute_result"
    }
   ],
   "source": [
    "# checking if our fuction worked as intended.\n",
    "housing_1.tail()"
   ]
  },
  {
   "cell_type": "markdown",
   "metadata": {},
   "source": [
    "### Extration of states from the Location column"
   ]
  },
  {
   "cell_type": "markdown",
   "metadata": {},
   "source": [
    "    We create a function to extract states from location and the output saved in the state column."
   ]
  },
  {
   "cell_type": "code",
   "execution_count": 22,
   "metadata": {},
   "outputs": [
    {
     "data": {
      "text/plain": [
       "array([', 7 obasa street, Oba-Akran, Ikeja, Lagos, Nigeria',\n",
       "       ', Tudu wada, Karshi,, Karu, Nasaruwa, Nigeria',\n",
       "       ', ukeh, masaka, mararba, Karu, Nasaruwa, Nigeria',\n",
       "       ', Alafia Bus stop, Badagry Express Way, Lagos, Nigeria',\n",
       "       ', jabi by eco bank, Jabi, Abuja FCT, Nigeria',\n",
       "       ', Oduduwa Crescent, Nigeria', ', Nigeria',\n",
       "       ', BeechWood Estate Shapati, Lakowe Lagos., Lakowe, Ibeju/Lekki, Lagos, Nigeria',\n",
       "       ', Image, Ikate, Lekki, Lagos, Nigeria',\n",
       "       ', Kayetoro street, eleko Lagos, Eleko, Ibeju/Lekki, Lagos, Nigeria',\n",
       "       ', Boystown Bus stop, Ipaja Road, Ipaja Lagos, Egbeda, Alimosho, Lagos, Nigeria',\n",
       "       ', solebo estate ebute ikorodu, Ipakodo, Ikorodu, Lagos, Nigeria',\n",
       "       ', adegbose estate solebo ebute, Ipakodo, Ikorodu, Lagos, Nigeria',\n",
       "       ', Lifecamp, Gwarinpa, Abuja FCT, Nigeria',\n",
       "       ', Apo, Gudu, Abuja FCT, Nigeria',\n",
       "       ', Gwarinpa, Gwarinpa, Abuja FCT, Nigeria',\n",
       "       ', Simawa, Ogun, Nigeria', ', Lekki Gardens Horizon 2, Nigeria',\n",
       "       ', Prince Kazeem Eletu Road,, Osapa, Lekki, Lagos, Nigeria',\n",
       "       ', Adekunle Araba Street, Ire Akari, Isolo, Oshodi-Isolo, Lagos, Nigeria'], dtype=object)"
      ]
     },
     "execution_count": 22,
     "metadata": {},
     "output_type": "execute_result"
    }
   ],
   "source": [
    "# check the unique locations\n",
    "housing_1['location'].unique()[:20]"
   ]
  },
  {
   "cell_type": "code",
   "execution_count": 23,
   "metadata": {
    "collapsed": true
   },
   "outputs": [],
   "source": [
    "def find_state(string):\n",
    "    '''\n",
    "    function takes in a city and return the state where the city belong.\n",
    "    \n",
    "    Args(str): the name of the city.\n",
    "    \n",
    "    Returns(str): name of state.\n",
    "    \n",
    "    '''\n",
    "    list =[\n",
    "        \"lagos\", \"abuja\", \"rivers\", \"cross river\", \"ogun\", \"oyo\", \n",
    "        \"delta\", \"edo\", \"abia\", \"adamawa\", \"akwa ibom\",\"sokoto\",\n",
    "        \"anambra\", \"bauchi\", \"bayelsa\", \"benue\",\"borno\",\"ebonyi\",\n",
    "        \"ekiti\",\"enugu\", \"gombe\", \"imo\", \"jigawa\", \"kano\",\"kastina\",\n",
    "        \"kebbi\", \"kogi\", \"kwara\",\"niger\", \"ondo\", \"osun\", \"plateau\",\n",
    "        \"taraba\",\"yobe\", \"zamfara\",\"kaduna\",\"nasarawa\"\n",
    "    ]\n",
    "    \n",
    "    for a in list:\n",
    "        if a in string.lower():\n",
    "            return a\n",
    "        "
   ]
  },
  {
   "cell_type": "code",
   "execution_count": 24,
   "metadata": {
    "collapsed": true
   },
   "outputs": [],
   "source": [
    "# we apply the function and store the values in a new column name state\n",
    "housing_1[\"state\"] = housing_1[\"location\"].apply(find_state)"
   ]
  },
  {
   "cell_type": "code",
   "execution_count": 25,
   "metadata": {},
   "outputs": [
    {
     "data": {
      "text/plain": [
       "lagos          551\n",
       "abuja           65\n",
       "niger           59\n",
       "ogun            15\n",
       "oyo             11\n",
       "rivers           4\n",
       "abia             2\n",
       "cross river      1\n",
       "delta            1\n",
       "Name: state, dtype: int64"
      ]
     },
     "execution_count": 25,
     "metadata": {},
     "output_type": "execute_result"
    }
   ],
   "source": [
    "housing_1[\"state\"].value_counts(dropna=False)"
   ]
  },
  {
   "cell_type": "markdown",
   "metadata": {},
   "source": [
    "### Cleaning location and unit columns"
   ]
  },
  {
   "cell_type": "code",
   "execution_count": 26,
   "metadata": {
    "scrolled": true
   },
   "outputs": [
    {
     "data": {
      "text/plain": [
       "0    , 7 obasa street, Oba-Akran, Ikeja, Lagos, Nig...\n",
       "1        , Tudu wada, Karshi,, Karu, Nasaruwa, Nigeria\n",
       "2     , ukeh, masaka, mararba, Karu, Nasaruwa, Nigeria\n",
       "3    , Alafia Bus stop, Badagry Express Way, Lagos,...\n",
       "4    , Alafia Bus stop, Badagry Express Way, Lagos,...\n",
       "Name: location, dtype: object"
      ]
     },
     "execution_count": 26,
     "metadata": {},
     "output_type": "execute_result"
    }
   ],
   "source": [
    "housing_1[\"location\"].head()"
   ]
  },
  {
   "cell_type": "markdown",
   "metadata": {},
   "source": [
    "    For the location column, we require just the city. We do a split and extract the city where possible."
   ]
  },
  {
   "cell_type": "code",
   "execution_count": 27,
   "metadata": {
    "collapsed": true
   },
   "outputs": [],
   "source": [
    "housing_1[\"location\"] = housing_1[\"location\"].str.split(\",\").str[2]"
   ]
  },
  {
   "cell_type": "code",
   "execution_count": 28,
   "metadata": {},
   "outputs": [
    {
     "data": {
      "text/plain": [
       " Lekki              64\n",
       " Nigeria            42\n",
       " Ikoyi              42\n",
       " Lagos              35\n",
       " Victoria Island    31\n",
       " Ikeja              30\n",
       " Abuja FCT          25\n",
       " Ajah               16\n",
       "NaN                 14\n",
       "                    12\n",
       "Name: location, dtype: int64"
      ]
     },
     "execution_count": 28,
     "metadata": {},
     "output_type": "execute_result"
    }
   ],
   "source": [
    "housing_1[\"location\"].value_counts(dropna=False).head(10)"
   ]
  },
  {
   "cell_type": "markdown",
   "metadata": {},
   "source": [
    "    We have about 14 missing values in location. Since this data is difficult to get from our dataset or research on, we take the corresponding states as the location."
   ]
  },
  {
   "cell_type": "code",
   "execution_count": 29,
   "metadata": {
    "collapsed": true
   },
   "outputs": [],
   "source": [
    "housing_1.loc[housing_1[\"location\"].isnull(), 'location'] = housing_1.loc[housing_1[\"location\"].isnull(),\"state\"]"
   ]
  },
  {
   "cell_type": "markdown",
   "metadata": {},
   "source": [
    "### BATHROOMS AND BATHS COLUMNS\n",
    "\n",
    "    We take a look at the bedrooms and bath columns of our dataset to ascertain whether we should go ahead with cleaning them now or leave them for later."
   ]
  },
  {
   "cell_type": "code",
   "execution_count": 30,
   "metadata": {},
   "outputs": [
    {
     "data": {
      "text/plain": [
       " 0.0     191\n",
       " 3.0     126\n",
       " 4.0     124\n",
       "NaN      114\n",
       " 5.0      78\n",
       " 2.0      37\n",
       " 6.0      13\n",
       " 1.0       9\n",
       " 7.0       3\n",
       " 8.0       3\n",
       " 12.0      2\n",
       " 9.0       2\n",
       " 10.0      2\n",
       " 15.0      1\n",
       " 30.0      1\n",
       " 16.0      1\n",
       " 11.0      1\n",
       " 14.0      1\n",
       "Name: bedrooms, dtype: int64"
      ]
     },
     "execution_count": 30,
     "metadata": {},
     "output_type": "execute_result"
    }
   ],
   "source": [
    "housing_1.bedrooms.value_counts(dropna=False)"
   ]
  },
  {
   "cell_type": "code",
   "execution_count": 31,
   "metadata": {},
   "outputs": [
    {
     "data": {
      "text/plain": [
       "NaN     287\n",
       "0f      283\n",
       "3f       42\n",
       "4f       39\n",
       "5f       23\n",
       "2f       15\n",
       "6f        9\n",
       "1f        4\n",
       "7f        3\n",
       "10f       2\n",
       "9f        1\n",
       "3.5f      1\n",
       "Name: baths, dtype: int64"
      ]
     },
     "execution_count": 31,
     "metadata": {},
     "output_type": "execute_result"
    }
   ],
   "source": [
    "housing_1.baths.value_counts(dropna=False)"
   ]
  },
  {
   "cell_type": "markdown",
   "metadata": {},
   "source": [
    "### Observation:\n",
    "    The 2 columns holds data that seems to make little analytical sense. For example, we have lots of houses with zero (0) bedrooms/baths and up to 16 bedrooms. Also, we have many missing values in both columns and there are no columns from our dataset or external resource to get them from.  \n",
    "    For now we decide to leave these columns the way they are until after we aggregate all the datasets together."
   ]
  },
  {
   "cell_type": "code",
   "execution_count": 32,
   "metadata": {
    "collapsed": true
   },
   "outputs": [],
   "source": [
    "# we remove the units column from our dataset\n",
    "housing_1.drop('unit', axis =1, inplace=True)"
   ]
  },
  {
   "cell_type": "markdown",
   "metadata": {},
   "source": [
    "     The cleaned version of the dataset is inspected to ensure that we are on the right track."
   ]
  },
  {
   "cell_type": "code",
   "execution_count": 33,
   "metadata": {},
   "outputs": [
    {
     "data": {
      "text/html": [
       "<div>\n",
       "<style>\n",
       "    .dataframe thead tr:only-child th {\n",
       "        text-align: right;\n",
       "    }\n",
       "\n",
       "    .dataframe thead th {\n",
       "        text-align: left;\n",
       "    }\n",
       "\n",
       "    .dataframe tbody tr th {\n",
       "        vertical-align: top;\n",
       "    }\n",
       "</style>\n",
       "<table border=\"1\" class=\"dataframe\">\n",
       "  <thead>\n",
       "    <tr style=\"text-align: right;\">\n",
       "      <th></th>\n",
       "      <th>price</th>\n",
       "      <th>location</th>\n",
       "      <th>bedrooms</th>\n",
       "      <th>baths</th>\n",
       "      <th>state</th>\n",
       "    </tr>\n",
       "  </thead>\n",
       "  <tbody>\n",
       "    <tr>\n",
       "      <th>0</th>\n",
       "      <td>31440000.0</td>\n",
       "      <td>Oba-Akran</td>\n",
       "      <td>NaN</td>\n",
       "      <td>NaN</td>\n",
       "      <td>lagos</td>\n",
       "    </tr>\n",
       "    <tr>\n",
       "      <th>1</th>\n",
       "      <td>30000000.0</td>\n",
       "      <td>Karshi</td>\n",
       "      <td>NaN</td>\n",
       "      <td>NaN</td>\n",
       "      <td>niger</td>\n",
       "    </tr>\n",
       "    <tr>\n",
       "      <th>2</th>\n",
       "      <td>3600000.0</td>\n",
       "      <td>masaka</td>\n",
       "      <td>NaN</td>\n",
       "      <td>NaN</td>\n",
       "      <td>niger</td>\n",
       "    </tr>\n",
       "    <tr>\n",
       "      <th>3</th>\n",
       "      <td>396000000.0</td>\n",
       "      <td>Badagry Express Way</td>\n",
       "      <td>5.0</td>\n",
       "      <td>5f</td>\n",
       "      <td>lagos</td>\n",
       "    </tr>\n",
       "    <tr>\n",
       "      <th>4</th>\n",
       "      <td>360000000.0</td>\n",
       "      <td>Badagry Express Way</td>\n",
       "      <td>8.0</td>\n",
       "      <td>7f</td>\n",
       "      <td>lagos</td>\n",
       "    </tr>\n",
       "  </tbody>\n",
       "</table>\n",
       "</div>"
      ],
      "text/plain": [
       "         price              location  bedrooms baths  state\n",
       "0   31440000.0             Oba-Akran       NaN   NaN  lagos\n",
       "1   30000000.0                Karshi       NaN   NaN  niger\n",
       "2    3600000.0                masaka       NaN   NaN  niger\n",
       "3  396000000.0   Badagry Express Way       5.0    5f  lagos\n",
       "4  360000000.0   Badagry Express Way       8.0    7f  lagos"
      ]
     },
     "execution_count": 33,
     "metadata": {},
     "output_type": "execute_result"
    }
   ],
   "source": [
    "housing_1.head()"
   ]
  },
  {
   "cell_type": "code",
   "execution_count": 34,
   "metadata": {
    "scrolled": false
   },
   "outputs": [
    {
     "data": {
      "text/plain": [
       "price         0\n",
       "location      0\n",
       "bedrooms    114\n",
       "baths       287\n",
       "state         0\n",
       "dtype: int64"
      ]
     },
     "execution_count": 34,
     "metadata": {},
     "output_type": "execute_result"
    }
   ],
   "source": [
    "housing_1.isnull().sum()"
   ]
  },
  {
   "cell_type": "markdown",
   "metadata": {},
   "source": [
    "# Cleaning the 2nd Dataset\n",
    "\n",
    "    First, we check all the columns of the dataset"
   ]
  },
  {
   "cell_type": "code",
   "execution_count": 35,
   "metadata": {},
   "outputs": [
    {
     "name": "stdout",
     "output_type": "stream",
     "text": [
      "<class 'pandas.core.frame.DataFrame'>\n",
      "RangeIndex: 20 entries, 0 to 19\n",
      "Data columns (total 6 columns):\n",
      "price       20 non-null object\n",
      "unit        20 non-null object\n",
      "location    20 non-null object\n",
      "bedrooms    18 non-null float64\n",
      "baths       17 non-null float64\n",
      "state       20 non-null object\n",
      "dtypes: float64(2), object(4)\n",
      "memory usage: 1.0+ KB\n"
     ]
    }
   ],
   "source": [
    "housing_2.info()"
   ]
  },
  {
   "cell_type": "code",
   "execution_count": 36,
   "metadata": {},
   "outputs": [
    {
     "data": {
      "text/html": [
       "<div>\n",
       "<style>\n",
       "    .dataframe thead tr:only-child th {\n",
       "        text-align: right;\n",
       "    }\n",
       "\n",
       "    .dataframe thead th {\n",
       "        text-align: left;\n",
       "    }\n",
       "\n",
       "    .dataframe tbody tr th {\n",
       "        vertical-align: top;\n",
       "    }\n",
       "</style>\n",
       "<table border=\"1\" class=\"dataframe\">\n",
       "  <thead>\n",
       "    <tr style=\"text-align: right;\">\n",
       "      <th></th>\n",
       "      <th>price</th>\n",
       "      <th>unit</th>\n",
       "      <th>location</th>\n",
       "      <th>bedrooms</th>\n",
       "      <th>baths</th>\n",
       "      <th>state</th>\n",
       "    </tr>\n",
       "  </thead>\n",
       "  <tbody>\n",
       "    <tr>\n",
       "      <th>0</th>\n",
       "      <td>1,000,000</td>\n",
       "      <td>per Year</td>\n",
       "      <td>15 - 17 Bolaji Balogun Street, Ayonusi Estate,...</td>\n",
       "      <td>5.0</td>\n",
       "      <td>6.0</td>\n",
       "      <td>Lagos</td>\n",
       "    </tr>\n",
       "    <tr>\n",
       "      <th>1</th>\n",
       "      <td>600,000</td>\n",
       "      <td>per Year</td>\n",
       "      <td>15 - 17 Bolaji Balogun Street, Ayonusi Estate,...</td>\n",
       "      <td>3.0</td>\n",
       "      <td>3.0</td>\n",
       "      <td>Lagos</td>\n",
       "    </tr>\n",
       "    <tr>\n",
       "      <th>2</th>\n",
       "      <td>250,000</td>\n",
       "      <td>per Year</td>\n",
       "      <td>badore,owode and addo roads,</td>\n",
       "      <td>1.0</td>\n",
       "      <td>1.0</td>\n",
       "      <td>Lagos</td>\n",
       "    </tr>\n",
       "    <tr>\n",
       "      <th>3</th>\n",
       "      <td>1,000,000</td>\n",
       "      <td>per Year</td>\n",
       "      <td>ilupeju,</td>\n",
       "      <td>3.0</td>\n",
       "      <td>2.0</td>\n",
       "      <td>Lagos</td>\n",
       "    </tr>\n",
       "    <tr>\n",
       "      <th>4</th>\n",
       "      <td>600,000</td>\n",
       "      <td>per Year</td>\n",
       "      <td>badore road,</td>\n",
       "      <td>NaN</td>\n",
       "      <td>NaN</td>\n",
       "      <td>Lagos</td>\n",
       "    </tr>\n",
       "  </tbody>\n",
       "</table>\n",
       "</div>"
      ],
      "text/plain": [
       "       price      unit                                           location  \\\n",
       "0  1,000,000  per Year  15 - 17 Bolaji Balogun Street, Ayonusi Estate,...   \n",
       "1    600,000  per Year  15 - 17 Bolaji Balogun Street, Ayonusi Estate,...   \n",
       "2    250,000  per Year                       badore,owode and addo roads,   \n",
       "3  1,000,000  per Year                                           ilupeju,   \n",
       "4    600,000  per Year                                       badore road,   \n",
       "\n",
       "   bedrooms  baths  state  \n",
       "0       5.0    6.0  Lagos  \n",
       "1       3.0    3.0  Lagos  \n",
       "2       1.0    1.0  Lagos  \n",
       "3       3.0    2.0  Lagos  \n",
       "4       NaN    NaN  Lagos  "
      ]
     },
     "execution_count": 36,
     "metadata": {},
     "output_type": "execute_result"
    }
   ],
   "source": [
    "housing_2.head()"
   ]
  },
  {
   "cell_type": "code",
   "execution_count": 37,
   "metadata": {},
   "outputs": [
    {
     "data": {
      "text/plain": [
       "price       0\n",
       "unit        0\n",
       "location    0\n",
       "bedrooms    2\n",
       "baths       3\n",
       "state       0\n",
       "dtype: int64"
      ]
     },
     "execution_count": 37,
     "metadata": {},
     "output_type": "execute_result"
    }
   ],
   "source": [
    "# check for null values and columns to clean in the dataset. \n",
    "housing_2.isnull().sum()"
   ]
  },
  {
   "cell_type": "markdown",
   "metadata": {},
   "source": [
    "### Observation:\n",
    "\n",
    "    We have a very small dataset here (just 20 rows). There are very few missing values and they are present only in the bathrooms and baths columns. However, we have to convert price,bathrooms and baths to numeric types and also check if there's any need to  clean the location and states columns."
   ]
  },
  {
   "cell_type": "markdown",
   "metadata": {},
   "source": [
    "### Cleaning price column"
   ]
  },
  {
   "cell_type": "code",
   "execution_count": 38,
   "metadata": {
    "scrolled": true
   },
   "outputs": [
    {
     "data": {
      "text/plain": [
       "array(['1,000,000', '600,000', '250,000', '400,000', '3,700,000', '100',\n",
       "       '12,500,000', '1,500,000', '15', '15,000,000', '1,700,000',\n",
       "       '85,000', '2,500,000', '360,000', '10', '2,200,000', '3,300,000'], dtype=object)"
      ]
     },
     "execution_count": 38,
     "metadata": {},
     "output_type": "execute_result"
    }
   ],
   "source": [
    "housing_2[\"price\"].unique()"
   ]
  },
  {
   "cell_type": "markdown",
   "metadata": {},
   "source": [
    "    From the unique price values, all we need removed before converting to numberic is the coma(,) sign"
   ]
  },
  {
   "cell_type": "code",
   "execution_count": 39,
   "metadata": {
    "collapsed": true
   },
   "outputs": [],
   "source": [
    "housing_2[\"price\"] = housing_2[\"price\"].str.replace(\",\", \"\").astype(float)"
   ]
  },
  {
   "cell_type": "markdown",
   "metadata": {},
   "source": [
    "### Cleaning Location"
   ]
  },
  {
   "cell_type": "code",
   "execution_count": 40,
   "metadata": {},
   "outputs": [
    {
     "data": {
      "text/plain": [
       "0    15 - 17 Bolaji Balogun Street, Ayonusi Estate,...\n",
       "1    15 - 17 Bolaji Balogun Street, Ayonusi Estate,...\n",
       "2                         badore,owode and addo roads,\n",
       "3                                             ilupeju,\n",
       "4                                         badore road,\n",
       "5                                         badore road,\n",
       "6                             Choba Uniport Road, Ph.,\n",
       "7                                 Ozuoba NTA road Ph.,\n",
       "8                                               Ikoyi,\n",
       "9                                             alapere,\n",
       "Name: location, dtype: object"
      ]
     },
     "execution_count": 40,
     "metadata": {},
     "output_type": "execute_result"
    }
   ],
   "source": [
    "housing_2[\"location\"].head(10)"
   ]
  },
  {
   "cell_type": "markdown",
   "metadata": {},
   "source": [
    "    We notice that the last two words in location for each row is more descriptive. So we will split the location strings and take the last two words."
   ]
  },
  {
   "cell_type": "code",
   "execution_count": 41,
   "metadata": {
    "collapsed": true
   },
   "outputs": [],
   "source": [
    "housing_2[\"location\"] = housing_3[\"location\"].str.split(\",\").str[-2]"
   ]
  },
  {
   "cell_type": "code",
   "execution_count": 42,
   "metadata": {},
   "outputs": [
    {
     "data": {
      "text/plain": [
       "array([' Lagos Island West', ' Lekki', ' Victoria Island',\n",
       "       ' Ikoyi-obalende', ' Egbe Idimu', ' Lagos Mainland'], dtype=object)"
      ]
     },
     "execution_count": 42,
     "metadata": {},
     "output_type": "execute_result"
    }
   ],
   "source": [
    "housing_2[\"location\"].unique()"
   ]
  },
  {
   "cell_type": "markdown",
   "metadata": {},
   "source": [
    "       We will leave out the cleaning of the bedrooms and baths columns until after we concatenate all the datasets"
   ]
  },
  {
   "cell_type": "code",
   "execution_count": 43,
   "metadata": {
    "collapsed": true
   },
   "outputs": [],
   "source": [
    "# we'll drop the units column since we all the values are 'per year' and we don't need it in our combined dataset.\n",
    "housing_2.drop('unit', axis =1, inplace=True)"
   ]
  },
  {
   "cell_type": "code",
   "execution_count": 44,
   "metadata": {
    "scrolled": true
   },
   "outputs": [
    {
     "data": {
      "text/plain": [
       "price       0\n",
       "location    0\n",
       "bedrooms    2\n",
       "baths       3\n",
       "state       0\n",
       "dtype: int64"
      ]
     },
     "execution_count": 44,
     "metadata": {},
     "output_type": "execute_result"
    }
   ],
   "source": [
    "housing_2.isnull().sum()"
   ]
  },
  {
   "cell_type": "code",
   "execution_count": 45,
   "metadata": {},
   "outputs": [
    {
     "data": {
      "text/html": [
       "<div>\n",
       "<style>\n",
       "    .dataframe thead tr:only-child th {\n",
       "        text-align: right;\n",
       "    }\n",
       "\n",
       "    .dataframe thead th {\n",
       "        text-align: left;\n",
       "    }\n",
       "\n",
       "    .dataframe tbody tr th {\n",
       "        vertical-align: top;\n",
       "    }\n",
       "</style>\n",
       "<table border=\"1\" class=\"dataframe\">\n",
       "  <thead>\n",
       "    <tr style=\"text-align: right;\">\n",
       "      <th></th>\n",
       "      <th>price</th>\n",
       "      <th>location</th>\n",
       "      <th>bedrooms</th>\n",
       "      <th>baths</th>\n",
       "      <th>state</th>\n",
       "    </tr>\n",
       "  </thead>\n",
       "  <tbody>\n",
       "    <tr>\n",
       "      <th>0</th>\n",
       "      <td>1000000.0</td>\n",
       "      <td>Lagos Island West</td>\n",
       "      <td>5.0</td>\n",
       "      <td>6.0</td>\n",
       "      <td>Lagos</td>\n",
       "    </tr>\n",
       "    <tr>\n",
       "      <th>1</th>\n",
       "      <td>600000.0</td>\n",
       "      <td>Lekki</td>\n",
       "      <td>3.0</td>\n",
       "      <td>3.0</td>\n",
       "      <td>Lagos</td>\n",
       "    </tr>\n",
       "    <tr>\n",
       "      <th>2</th>\n",
       "      <td>250000.0</td>\n",
       "      <td>Lekki</td>\n",
       "      <td>1.0</td>\n",
       "      <td>1.0</td>\n",
       "      <td>Lagos</td>\n",
       "    </tr>\n",
       "    <tr>\n",
       "      <th>3</th>\n",
       "      <td>1000000.0</td>\n",
       "      <td>Victoria Island</td>\n",
       "      <td>3.0</td>\n",
       "      <td>2.0</td>\n",
       "      <td>Lagos</td>\n",
       "    </tr>\n",
       "    <tr>\n",
       "      <th>4</th>\n",
       "      <td>600000.0</td>\n",
       "      <td>Ikoyi-obalende</td>\n",
       "      <td>NaN</td>\n",
       "      <td>NaN</td>\n",
       "      <td>Lagos</td>\n",
       "    </tr>\n",
       "  </tbody>\n",
       "</table>\n",
       "</div>"
      ],
      "text/plain": [
       "       price            location  bedrooms  baths  state\n",
       "0  1000000.0   Lagos Island West       5.0    6.0  Lagos\n",
       "1   600000.0               Lekki       3.0    3.0  Lagos\n",
       "2   250000.0               Lekki       1.0    1.0  Lagos\n",
       "3  1000000.0     Victoria Island       3.0    2.0  Lagos\n",
       "4   600000.0      Ikoyi-obalende       NaN    NaN  Lagos"
      ]
     },
     "execution_count": 45,
     "metadata": {},
     "output_type": "execute_result"
    }
   ],
   "source": [
    "housing_2.head()"
   ]
  },
  {
   "cell_type": "markdown",
   "metadata": {},
   "source": [
    "# Cleaning Dataset 3"
   ]
  },
  {
   "cell_type": "markdown",
   "metadata": {},
   "source": [
    "    we first inspect the dataset"
   ]
  },
  {
   "cell_type": "code",
   "execution_count": 46,
   "metadata": {},
   "outputs": [
    {
     "name": "stdout",
     "output_type": "stream",
     "text": [
      "<class 'pandas.core.frame.DataFrame'>\n",
      "RangeIndex: 612 entries, 0 to 611\n",
      "Data columns (total 7 columns):\n",
      "price           612 non-null object\n",
      "unit            610 non-null object\n",
      "location        607 non-null object\n",
      "bedrooms        570 non-null float64\n",
      "baths           562 non-null object\n",
      "parking_lots    291 non-null object\n",
      "state           612 non-null object\n",
      "dtypes: float64(1), object(6)\n",
      "memory usage: 33.5+ KB\n"
     ]
    }
   ],
   "source": [
    "housing_3.info()"
   ]
  },
  {
   "cell_type": "code",
   "execution_count": 47,
   "metadata": {
    "scrolled": false
   },
   "outputs": [
    {
     "data": {
      "text/html": [
       "<div>\n",
       "<style>\n",
       "    .dataframe thead tr:only-child th {\n",
       "        text-align: right;\n",
       "    }\n",
       "\n",
       "    .dataframe thead th {\n",
       "        text-align: left;\n",
       "    }\n",
       "\n",
       "    .dataframe tbody tr th {\n",
       "        vertical-align: top;\n",
       "    }\n",
       "</style>\n",
       "<table border=\"1\" class=\"dataframe\">\n",
       "  <thead>\n",
       "    <tr style=\"text-align: right;\">\n",
       "      <th></th>\n",
       "      <th>price</th>\n",
       "      <th>unit</th>\n",
       "      <th>location</th>\n",
       "      <th>bedrooms</th>\n",
       "      <th>baths</th>\n",
       "      <th>parking_lots</th>\n",
       "      <th>state</th>\n",
       "    </tr>\n",
       "  </thead>\n",
       "  <tbody>\n",
       "    <tr>\n",
       "      <th>0</th>\n",
       "      <td>\\r\\r\\n                    ₦ 8 000 000\\r\\r\\n   ...</td>\n",
       "      <td>\\r\\r\\n                        Per Year\\r\\r\\n  ...</td>\n",
       "      <td>1c Fatai Durosinmi-Etiti Cres, Lagos Island We...</td>\n",
       "      <td>5.0</td>\n",
       "      <td>4</td>\n",
       "      <td>1</td>\n",
       "      <td>Lagos</td>\n",
       "    </tr>\n",
       "    <tr>\n",
       "      <th>1</th>\n",
       "      <td>\\r\\r\\n                    ₦ 3 200 000\\r\\r\\n   ...</td>\n",
       "      <td>\\r\\r\\n                        Per Year\\r\\r\\n  ...</td>\n",
       "      <td>IKOTA, Lekki, Lekki</td>\n",
       "      <td>4.0</td>\n",
       "      <td>4</td>\n",
       "      <td>NaN</td>\n",
       "      <td>Lagos</td>\n",
       "    </tr>\n",
       "    <tr>\n",
       "      <th>2</th>\n",
       "      <td>\\r\\r\\n                    ₦ 2 000 000\\r\\r\\n   ...</td>\n",
       "      <td>\\r\\r\\n                        Per Year\\r\\r\\n  ...</td>\n",
       "      <td>IKATE, Lekki, Lekki</td>\n",
       "      <td>2.0</td>\n",
       "      <td>2</td>\n",
       "      <td>NaN</td>\n",
       "      <td>Lagos</td>\n",
       "    </tr>\n",
       "    <tr>\n",
       "      <th>3</th>\n",
       "      <td>\\r\\r\\n                    ₦ 2 500 000\\r\\r\\n   ...</td>\n",
       "      <td>\\r\\r\\n                        Per Year\\r\\r\\n  ...</td>\n",
       "      <td>ONIRU, Victoria Island, Lekki</td>\n",
       "      <td>3.0</td>\n",
       "      <td>3</td>\n",
       "      <td>NaN</td>\n",
       "      <td>Lagos</td>\n",
       "    </tr>\n",
       "    <tr>\n",
       "      <th>4</th>\n",
       "      <td>\\r\\r\\n                    ₦ 18 000 000\\r\\r\\n  ...</td>\n",
       "      <td>\\r\\r\\n                        Per Year\\r\\r\\n  ...</td>\n",
       "      <td>BANANA ISLAND ESTATE, Ikoyi-obalende, Ikoyi-ob...</td>\n",
       "      <td>3.0</td>\n",
       "      <td>3</td>\n",
       "      <td>NaN</td>\n",
       "      <td>Lagos</td>\n",
       "    </tr>\n",
       "  </tbody>\n",
       "</table>\n",
       "</div>"
      ],
      "text/plain": [
       "                                               price  \\\n",
       "0  \\r\\r\\n                    ₦ 8 000 000\\r\\r\\n   ...   \n",
       "1  \\r\\r\\n                    ₦ 3 200 000\\r\\r\\n   ...   \n",
       "2  \\r\\r\\n                    ₦ 2 000 000\\r\\r\\n   ...   \n",
       "3  \\r\\r\\n                    ₦ 2 500 000\\r\\r\\n   ...   \n",
       "4  \\r\\r\\n                    ₦ 18 000 000\\r\\r\\n  ...   \n",
       "\n",
       "                                                unit  \\\n",
       "0  \\r\\r\\n                        Per Year\\r\\r\\n  ...   \n",
       "1  \\r\\r\\n                        Per Year\\r\\r\\n  ...   \n",
       "2  \\r\\r\\n                        Per Year\\r\\r\\n  ...   \n",
       "3  \\r\\r\\n                        Per Year\\r\\r\\n  ...   \n",
       "4  \\r\\r\\n                        Per Year\\r\\r\\n  ...   \n",
       "\n",
       "                                            location  bedrooms baths  \\\n",
       "0  1c Fatai Durosinmi-Etiti Cres, Lagos Island We...       5.0     4   \n",
       "1                                IKOTA, Lekki, Lekki       4.0     4   \n",
       "2                                IKATE, Lekki, Lekki       2.0     2   \n",
       "3                      ONIRU, Victoria Island, Lekki       3.0     3   \n",
       "4  BANANA ISLAND ESTATE, Ikoyi-obalende, Ikoyi-ob...       3.0     3   \n",
       "\n",
       "  parking_lots  state  \n",
       "0            1  Lagos  \n",
       "1          NaN  Lagos  \n",
       "2          NaN  Lagos  \n",
       "3          NaN  Lagos  \n",
       "4          NaN  Lagos  "
      ]
     },
     "execution_count": 47,
     "metadata": {},
     "output_type": "execute_result"
    }
   ],
   "source": [
    "housing_3.head()"
   ]
  },
  {
   "cell_type": "code",
   "execution_count": 48,
   "metadata": {},
   "outputs": [
    {
     "data": {
      "text/plain": [
       "price             0\n",
       "unit              2\n",
       "location          5\n",
       "bedrooms         42\n",
       "baths            50\n",
       "parking_lots    321\n",
       "state             0\n",
       "dtype: int64"
      ]
     },
     "execution_count": 48,
     "metadata": {},
     "output_type": "execute_result"
    }
   ],
   "source": [
    "housing_3.isnull().sum()"
   ]
  },
  {
   "cell_type": "markdown",
   "metadata": {},
   "source": [
    "### Observation:\n",
    "\n",
    "    we have about 611 rows and 7 columns of data with missing values in 3 columns.The parking_lots column however have many missing values and it is not needed. \n",
    "    The price and unit columns requires deep cleaning to put them in order."
   ]
  },
  {
   "cell_type": "markdown",
   "metadata": {},
   "source": [
    "### we'll do some cleaning on this dataset by:\n",
    "\n",
    "    1. droping the parking_lots column since we don't need it for our analysis\n",
    "    2. cleaning price and convert to float numbers\n",
    "    3. removing null values from city_location and unit"
   ]
  },
  {
   "cell_type": "code",
   "execution_count": 49,
   "metadata": {
    "collapsed": true
   },
   "outputs": [],
   "source": [
    "# dropping parking_lots\n",
    "housing_3.drop(\"parking_lots\", axis =1, inplace = True)"
   ]
  },
  {
   "cell_type": "markdown",
   "metadata": {},
   "source": [
    "### Cleaning price column"
   ]
  },
  {
   "cell_type": "code",
   "execution_count": 50,
   "metadata": {},
   "outputs": [
    {
     "data": {
      "text/plain": [
       "0    \\r\\r\\n                    ₦ 8 000 000\\r\\r\\n   ...\n",
       "1    \\r\\r\\n                    ₦ 3 200 000\\r\\r\\n   ...\n",
       "2    \\r\\r\\n                    ₦ 2 000 000\\r\\r\\n   ...\n",
       "3    \\r\\r\\n                    ₦ 2 500 000\\r\\r\\n   ...\n",
       "4    \\r\\r\\n                    ₦ 18 000 000\\r\\r\\n  ...\n",
       "Name: price, dtype: object"
      ]
     },
     "execution_count": 50,
     "metadata": {},
     "output_type": "execute_result"
    }
   ],
   "source": [
    "housing_3[\"price\"].head()"
   ]
  },
  {
   "cell_type": "markdown",
   "metadata": {},
   "source": [
    "    we observe the real prices are always after  the charaters \\r\\r\\n . So we do a split and extract price"
   ]
  },
  {
   "cell_type": "code",
   "execution_count": 51,
   "metadata": {
    "collapsed": true
   },
   "outputs": [],
   "source": [
    "# extracting price and removing unwanted characters\n",
    "housing_3[\"price\"] = housing_3[\"price\"].str.split(\"\\r\\r\\n\").str[1].str.replace(\"₦\",\"\").str.replace(r\"[\\s+]\",\"\").str.strip()"
   ]
  },
  {
   "cell_type": "code",
   "execution_count": 52,
   "metadata": {
    "collapsed": true
   },
   "outputs": [],
   "source": [
    "# we convert the prices to float values\n",
    "housing_3[\"price\"] =housing_3[\"price\"].astype(float)"
   ]
  },
  {
   "cell_type": "code",
   "execution_count": 53,
   "metadata": {},
   "outputs": [
    {
     "data": {
      "text/html": [
       "<div>\n",
       "<style>\n",
       "    .dataframe thead tr:only-child th {\n",
       "        text-align: right;\n",
       "    }\n",
       "\n",
       "    .dataframe thead th {\n",
       "        text-align: left;\n",
       "    }\n",
       "\n",
       "    .dataframe tbody tr th {\n",
       "        vertical-align: top;\n",
       "    }\n",
       "</style>\n",
       "<table border=\"1\" class=\"dataframe\">\n",
       "  <thead>\n",
       "    <tr style=\"text-align: right;\">\n",
       "      <th></th>\n",
       "      <th>price</th>\n",
       "      <th>unit</th>\n",
       "      <th>location</th>\n",
       "      <th>bedrooms</th>\n",
       "      <th>baths</th>\n",
       "      <th>state</th>\n",
       "    </tr>\n",
       "  </thead>\n",
       "  <tbody>\n",
       "    <tr>\n",
       "      <th>0</th>\n",
       "      <td>8000000.0</td>\n",
       "      <td>\\r\\r\\n                        Per Year\\r\\r\\n  ...</td>\n",
       "      <td>1c Fatai Durosinmi-Etiti Cres, Lagos Island We...</td>\n",
       "      <td>5.0</td>\n",
       "      <td>4</td>\n",
       "      <td>Lagos</td>\n",
       "    </tr>\n",
       "    <tr>\n",
       "      <th>1</th>\n",
       "      <td>3200000.0</td>\n",
       "      <td>\\r\\r\\n                        Per Year\\r\\r\\n  ...</td>\n",
       "      <td>IKOTA, Lekki, Lekki</td>\n",
       "      <td>4.0</td>\n",
       "      <td>4</td>\n",
       "      <td>Lagos</td>\n",
       "    </tr>\n",
       "    <tr>\n",
       "      <th>2</th>\n",
       "      <td>2000000.0</td>\n",
       "      <td>\\r\\r\\n                        Per Year\\r\\r\\n  ...</td>\n",
       "      <td>IKATE, Lekki, Lekki</td>\n",
       "      <td>2.0</td>\n",
       "      <td>2</td>\n",
       "      <td>Lagos</td>\n",
       "    </tr>\n",
       "    <tr>\n",
       "      <th>3</th>\n",
       "      <td>2500000.0</td>\n",
       "      <td>\\r\\r\\n                        Per Year\\r\\r\\n  ...</td>\n",
       "      <td>ONIRU, Victoria Island, Lekki</td>\n",
       "      <td>3.0</td>\n",
       "      <td>3</td>\n",
       "      <td>Lagos</td>\n",
       "    </tr>\n",
       "    <tr>\n",
       "      <th>4</th>\n",
       "      <td>18000000.0</td>\n",
       "      <td>\\r\\r\\n                        Per Year\\r\\r\\n  ...</td>\n",
       "      <td>BANANA ISLAND ESTATE, Ikoyi-obalende, Ikoyi-ob...</td>\n",
       "      <td>3.0</td>\n",
       "      <td>3</td>\n",
       "      <td>Lagos</td>\n",
       "    </tr>\n",
       "  </tbody>\n",
       "</table>\n",
       "</div>"
      ],
      "text/plain": [
       "        price                                               unit  \\\n",
       "0   8000000.0  \\r\\r\\n                        Per Year\\r\\r\\n  ...   \n",
       "1   3200000.0  \\r\\r\\n                        Per Year\\r\\r\\n  ...   \n",
       "2   2000000.0  \\r\\r\\n                        Per Year\\r\\r\\n  ...   \n",
       "3   2500000.0  \\r\\r\\n                        Per Year\\r\\r\\n  ...   \n",
       "4  18000000.0  \\r\\r\\n                        Per Year\\r\\r\\n  ...   \n",
       "\n",
       "                                            location  bedrooms baths  state  \n",
       "0  1c Fatai Durosinmi-Etiti Cres, Lagos Island We...       5.0     4  Lagos  \n",
       "1                                IKOTA, Lekki, Lekki       4.0     4  Lagos  \n",
       "2                                IKATE, Lekki, Lekki       2.0     2  Lagos  \n",
       "3                      ONIRU, Victoria Island, Lekki       3.0     3  Lagos  \n",
       "4  BANANA ISLAND ESTATE, Ikoyi-obalende, Ikoyi-ob...       3.0     3  Lagos  "
      ]
     },
     "execution_count": 53,
     "metadata": {},
     "output_type": "execute_result"
    }
   ],
   "source": [
    "housing_3.head()"
   ]
  },
  {
   "cell_type": "markdown",
   "metadata": {},
   "source": [
    "### Unit column"
   ]
  },
  {
   "cell_type": "markdown",
   "metadata": {},
   "source": [
    "    The unit column obviously require cleaning.we'll extract the neccessary words form each entry and check the unique values in the column to check for adnormalities"
   ]
  },
  {
   "cell_type": "code",
   "execution_count": 54,
   "metadata": {
    "collapsed": true
   },
   "outputs": [],
   "source": [
    "# we extract units\n",
    "housing_3[\"unit\"] = housing_3[\"unit\"].str.split(\"\\r\\r\\n\").str[1].str.strip()"
   ]
  },
  {
   "cell_type": "code",
   "execution_count": 55,
   "metadata": {},
   "outputs": [
    {
     "data": {
      "text/plain": [
       "array(['Per Year', 'Per m²', 'Per Month', nan, 'Per Day'], dtype=object)"
      ]
     },
     "execution_count": 55,
     "metadata": {},
     "output_type": "execute_result"
    }
   ],
   "source": [
    "housing_3[\"unit\"].unique()"
   ]
  },
  {
   "cell_type": "markdown",
   "metadata": {},
   "source": [
    "    We have 4 types of units of which 3 are familiar.So far, we've not seen any Per m² unit. Let's first ascertain the percentage of rows where it occurs"
   ]
  },
  {
   "cell_type": "code",
   "execution_count": 56,
   "metadata": {},
   "outputs": [
    {
     "name": "stdout",
     "output_type": "stream",
     "text": [
      "The percentage of our data where units is labeled Per m² is: 3.0\n"
     ]
    }
   ],
   "source": [
    "pm = (housing_3[\"unit\"]==\"Per m²\").sum()/housing_3.shape[0] *100\n",
    "print('The percentage of our data where units is labeled Per m² is: {}'.format(round(pm),0))"
   ]
  },
  {
   "cell_type": "markdown",
   "metadata": {},
   "source": [
    "    Rows whose units are in Per squared meters needs to be dropped since the size of the property is not given. only about 3% of our data fall in this category so it is safe to drop them."
   ]
  },
  {
   "cell_type": "code",
   "execution_count": 57,
   "metadata": {
    "collapsed": true
   },
   "outputs": [],
   "source": [
    "housing_3.drop(housing_3[housing_3[\"unit\"]==\"Per m²\"].index, axis =0, inplace =True)"
   ]
  },
  {
   "cell_type": "code",
   "execution_count": 58,
   "metadata": {
    "collapsed": true
   },
   "outputs": [],
   "source": [
    "housing_3 =housing_3.reset_index(drop =True)"
   ]
  },
  {
   "cell_type": "code",
   "execution_count": 59,
   "metadata": {},
   "outputs": [
    {
     "data": {
      "text/plain": [
       "Per Year     506\n",
       "Per Month     63\n",
       "Per Day       23\n",
       "NaN            2\n",
       "Name: unit, dtype: int64"
      ]
     },
     "execution_count": 59,
     "metadata": {},
     "output_type": "execute_result"
    }
   ],
   "source": [
    "housing_3['unit'].value_counts(dropna=False)"
   ]
  },
  {
   "cell_type": "markdown",
   "metadata": {},
   "source": [
    "    we have 2 missing values in the units column. we will obtain the dataset where unit is missing, check up the state(s) and find the mode of the units for those states. We will then fill in the missing values with this mode."
   ]
  },
  {
   "cell_type": "code",
   "execution_count": 60,
   "metadata": {},
   "outputs": [
    {
     "data": {
      "text/html": [
       "<div>\n",
       "<style>\n",
       "    .dataframe thead tr:only-child th {\n",
       "        text-align: right;\n",
       "    }\n",
       "\n",
       "    .dataframe thead th {\n",
       "        text-align: left;\n",
       "    }\n",
       "\n",
       "    .dataframe tbody tr th {\n",
       "        vertical-align: top;\n",
       "    }\n",
       "</style>\n",
       "<table border=\"1\" class=\"dataframe\">\n",
       "  <thead>\n",
       "    <tr style=\"text-align: right;\">\n",
       "      <th></th>\n",
       "      <th>price</th>\n",
       "      <th>unit</th>\n",
       "      <th>location</th>\n",
       "      <th>bedrooms</th>\n",
       "      <th>baths</th>\n",
       "      <th>state</th>\n",
       "    </tr>\n",
       "  </thead>\n",
       "  <tbody>\n",
       "    <tr>\n",
       "      <th>78</th>\n",
       "      <td>20000000.0</td>\n",
       "      <td>NaN</td>\n",
       "      <td>Asokoro, Asokoro</td>\n",
       "      <td>6.0</td>\n",
       "      <td>8</td>\n",
       "      <td>Abuja</td>\n",
       "    </tr>\n",
       "    <tr>\n",
       "      <th>121</th>\n",
       "      <td>500000000.0</td>\n",
       "      <td>NaN</td>\n",
       "      <td>Maitama, Maitama</td>\n",
       "      <td>6.0</td>\n",
       "      <td>8</td>\n",
       "      <td>Abuja</td>\n",
       "    </tr>\n",
       "  </tbody>\n",
       "</table>\n",
       "</div>"
      ],
      "text/plain": [
       "           price unit          location  bedrooms baths  state\n",
       "78    20000000.0  NaN  Asokoro, Asokoro       6.0     8  Abuja\n",
       "121  500000000.0  NaN  Maitama, Maitama       6.0     8  Abuja"
      ]
     },
     "execution_count": 60,
     "metadata": {},
     "output_type": "execute_result"
    }
   ],
   "source": [
    "housing_3.loc[housing_3['unit'].isnull()]"
   ]
  },
  {
   "cell_type": "code",
   "execution_count": 61,
   "metadata": {},
   "outputs": [
    {
     "data": {
      "text/plain": [
       "0    Per Year\n",
       "dtype: object"
      ]
     },
     "execution_count": 61,
     "metadata": {},
     "output_type": "execute_result"
    }
   ],
   "source": [
    "# since the state is Abuja, we find the most frequent unit for that state\n",
    "housing_3.loc[housing_3['state']==\"Abuja\",\"unit\"].mode()"
   ]
  },
  {
   "cell_type": "code",
   "execution_count": 62,
   "metadata": {
    "collapsed": true
   },
   "outputs": [],
   "source": [
    "# we fill the missing values with the mode\n",
    "housing_3.unit.fillna(\"Per Year\", inplace =True)"
   ]
  },
  {
   "cell_type": "markdown",
   "metadata": {},
   "source": [
    "    We recall that not all prices are yearly so the prices need to be converted using the unit column. We use the price_conversion formula here."
   ]
  },
  {
   "cell_type": "code",
   "execution_count": 63,
   "metadata": {
    "collapsed": true
   },
   "outputs": [],
   "source": [
    "# converting all prices to yearly price.\n",
    "housing_3 = price_conversion(housing_3)"
   ]
  },
  {
   "cell_type": "code",
   "execution_count": 64,
   "metadata": {
    "collapsed": true
   },
   "outputs": [],
   "source": [
    "# We drop the unit column now\n",
    "housing_3.drop('unit', axis = 1, inplace= True)"
   ]
  },
  {
   "cell_type": "markdown",
   "metadata": {},
   "source": [
    "### Location"
   ]
  },
  {
   "cell_type": "code",
   "execution_count": 65,
   "metadata": {},
   "outputs": [
    {
     "data": {
      "text/plain": [
       "0    1c Fatai Durosinmi-Etiti Cres, Lagos Island We...\n",
       "1                                  IKOTA, Lekki, Lekki\n",
       "2                                  IKATE, Lekki, Lekki\n",
       "3                        ONIRU, Victoria Island, Lekki\n",
       "4    BANANA ISLAND ESTATE, Ikoyi-obalende, Ikoyi-ob...\n",
       "Name: location, dtype: object"
      ]
     },
     "execution_count": 65,
     "metadata": {},
     "output_type": "execute_result"
    }
   ],
   "source": [
    "housing_3['location'].head()"
   ]
  },
  {
   "cell_type": "markdown",
   "metadata": {},
   "source": [
    "    We observe that the required city location are frequently the last phrase after the coma(,) in the location string. So we extract these.\n",
    "    For missing values, we'll fill them in with their corresponding states. "
   ]
  },
  {
   "cell_type": "code",
   "execution_count": 66,
   "metadata": {
    "collapsed": true
   },
   "outputs": [],
   "source": [
    "housing_3['location'] = housing_3['location'].str.split(\",\").str[-1]"
   ]
  },
  {
   "cell_type": "code",
   "execution_count": 67,
   "metadata": {
    "collapsed": true
   },
   "outputs": [],
   "source": [
    "# filling missing locations with corresponding states values\n",
    "housing_3.loc[housing_3['location'].isnull(),\"location\"] = housing_3.loc[housing_3['location'].isnull(),\"state\"]"
   ]
  },
  {
   "cell_type": "code",
   "execution_count": 68,
   "metadata": {},
   "outputs": [
    {
     "data": {
      "text/plain": [
       "price        0\n",
       "location     0\n",
       "bedrooms    28\n",
       "baths       36\n",
       "state        0\n",
       "dtype: int64"
      ]
     },
     "execution_count": 68,
     "metadata": {},
     "output_type": "execute_result"
    }
   ],
   "source": [
    "housing_3.isnull().sum()"
   ]
  },
  {
   "cell_type": "code",
   "execution_count": 69,
   "metadata": {},
   "outputs": [
    {
     "data": {
      "text/html": [
       "<div>\n",
       "<style>\n",
       "    .dataframe thead tr:only-child th {\n",
       "        text-align: right;\n",
       "    }\n",
       "\n",
       "    .dataframe thead th {\n",
       "        text-align: left;\n",
       "    }\n",
       "\n",
       "    .dataframe tbody tr th {\n",
       "        vertical-align: top;\n",
       "    }\n",
       "</style>\n",
       "<table border=\"1\" class=\"dataframe\">\n",
       "  <thead>\n",
       "    <tr style=\"text-align: right;\">\n",
       "      <th></th>\n",
       "      <th>price</th>\n",
       "      <th>location</th>\n",
       "      <th>bedrooms</th>\n",
       "      <th>baths</th>\n",
       "      <th>state</th>\n",
       "    </tr>\n",
       "  </thead>\n",
       "  <tbody>\n",
       "    <tr>\n",
       "      <th>0</th>\n",
       "      <td>96000000.0</td>\n",
       "      <td>Lagos Island West</td>\n",
       "      <td>5.0</td>\n",
       "      <td>4</td>\n",
       "      <td>Lagos</td>\n",
       "    </tr>\n",
       "    <tr>\n",
       "      <th>1</th>\n",
       "      <td>38400000.0</td>\n",
       "      <td>Lekki</td>\n",
       "      <td>4.0</td>\n",
       "      <td>4</td>\n",
       "      <td>Lagos</td>\n",
       "    </tr>\n",
       "    <tr>\n",
       "      <th>2</th>\n",
       "      <td>24000000.0</td>\n",
       "      <td>Lekki</td>\n",
       "      <td>2.0</td>\n",
       "      <td>2</td>\n",
       "      <td>Lagos</td>\n",
       "    </tr>\n",
       "    <tr>\n",
       "      <th>3</th>\n",
       "      <td>30000000.0</td>\n",
       "      <td>Lekki</td>\n",
       "      <td>3.0</td>\n",
       "      <td>3</td>\n",
       "      <td>Lagos</td>\n",
       "    </tr>\n",
       "    <tr>\n",
       "      <th>4</th>\n",
       "      <td>216000000.0</td>\n",
       "      <td>Ikoyi-obalende</td>\n",
       "      <td>3.0</td>\n",
       "      <td>3</td>\n",
       "      <td>Lagos</td>\n",
       "    </tr>\n",
       "  </tbody>\n",
       "</table>\n",
       "</div>"
      ],
      "text/plain": [
       "         price            location  bedrooms baths  state\n",
       "0   96000000.0   Lagos Island West       5.0     4  Lagos\n",
       "1   38400000.0               Lekki       4.0     4  Lagos\n",
       "2   24000000.0               Lekki       2.0     2  Lagos\n",
       "3   30000000.0               Lekki       3.0     3  Lagos\n",
       "4  216000000.0      Ikoyi-obalende       3.0     3  Lagos"
      ]
     },
     "execution_count": 69,
     "metadata": {},
     "output_type": "execute_result"
    }
   ],
   "source": [
    "housing_3.head()"
   ]
  },
  {
   "cell_type": "markdown",
   "metadata": {},
   "source": [
    "# Cleaning the 4th Dataset"
   ]
  },
  {
   "cell_type": "markdown",
   "metadata": {},
   "source": [
    "    General dataset inspection"
   ]
  },
  {
   "cell_type": "code",
   "execution_count": 70,
   "metadata": {},
   "outputs": [
    {
     "name": "stdout",
     "output_type": "stream",
     "text": [
      "<class 'pandas.core.frame.DataFrame'>\n",
      "RangeIndex: 378 entries, 0 to 377\n",
      "Data columns (total 7 columns):\n",
      "price           378 non-null object\n",
      "unit            378 non-null object\n",
      "location        377 non-null object\n",
      "bedrooms        378 non-null int64\n",
      "baths           378 non-null int64\n",
      "parking_lots    0 non-null float64\n",
      "state           377 non-null object\n",
      "dtypes: float64(1), int64(2), object(4)\n",
      "memory usage: 20.8+ KB\n"
     ]
    }
   ],
   "source": [
    "housing_4.info()"
   ]
  },
  {
   "cell_type": "code",
   "execution_count": 71,
   "metadata": {},
   "outputs": [
    {
     "data": {
      "text/html": [
       "<div>\n",
       "<style>\n",
       "    .dataframe thead tr:only-child th {\n",
       "        text-align: right;\n",
       "    }\n",
       "\n",
       "    .dataframe thead th {\n",
       "        text-align: left;\n",
       "    }\n",
       "\n",
       "    .dataframe tbody tr th {\n",
       "        vertical-align: top;\n",
       "    }\n",
       "</style>\n",
       "<table border=\"1\" class=\"dataframe\">\n",
       "  <thead>\n",
       "    <tr style=\"text-align: right;\">\n",
       "      <th></th>\n",
       "      <th>price</th>\n",
       "      <th>unit</th>\n",
       "      <th>location</th>\n",
       "      <th>bedrooms</th>\n",
       "      <th>baths</th>\n",
       "      <th>parking_lots</th>\n",
       "      <th>state</th>\n",
       "    </tr>\n",
       "  </thead>\n",
       "  <tbody>\n",
       "    <tr>\n",
       "      <th>0</th>\n",
       "      <td>₦4,500,000</td>\n",
       "      <td>per year</td>\n",
       "      <td>Ikoyi, Lagos</td>\n",
       "      <td>2</td>\n",
       "      <td>2</td>\n",
       "      <td>NaN</td>\n",
       "      <td>Ikoyi, Lagos</td>\n",
       "    </tr>\n",
       "    <tr>\n",
       "      <th>1</th>\n",
       "      <td>₦15,000,000</td>\n",
       "      <td>per year</td>\n",
       "      <td>Ikoyi, Lagos</td>\n",
       "      <td>4</td>\n",
       "      <td>4</td>\n",
       "      <td>NaN</td>\n",
       "      <td>Ikoyi, Lagos</td>\n",
       "    </tr>\n",
       "    <tr>\n",
       "      <th>2</th>\n",
       "      <td>₦15,000,000</td>\n",
       "      <td>per year</td>\n",
       "      <td>Ikoyi, Lagos</td>\n",
       "      <td>3</td>\n",
       "      <td>4</td>\n",
       "      <td>NaN</td>\n",
       "      <td>Ikoyi, Lagos</td>\n",
       "    </tr>\n",
       "    <tr>\n",
       "      <th>3</th>\n",
       "      <td>₦6,000,000</td>\n",
       "      <td>per year</td>\n",
       "      <td>Ikoyi, Lagos</td>\n",
       "      <td>2</td>\n",
       "      <td>2</td>\n",
       "      <td>NaN</td>\n",
       "      <td>Ikoyi, Lagos</td>\n",
       "    </tr>\n",
       "    <tr>\n",
       "      <th>4</th>\n",
       "      <td>₦13,000,000</td>\n",
       "      <td>per year</td>\n",
       "      <td>Ikoyi, Lagos</td>\n",
       "      <td>3</td>\n",
       "      <td>4</td>\n",
       "      <td>NaN</td>\n",
       "      <td>Ikoyi, Lagos</td>\n",
       "    </tr>\n",
       "  </tbody>\n",
       "</table>\n",
       "</div>"
      ],
      "text/plain": [
       "          price      unit      location  bedrooms  baths  parking_lots  \\\n",
       "0   ₦4,500,000   per year  Ikoyi, Lagos         2      2           NaN   \n",
       "1  ₦15,000,000   per year  Ikoyi, Lagos         4      4           NaN   \n",
       "2  ₦15,000,000   per year  Ikoyi, Lagos         3      4           NaN   \n",
       "3   ₦6,000,000   per year  Ikoyi, Lagos         2      2           NaN   \n",
       "4  ₦13,000,000   per year  Ikoyi, Lagos         3      4           NaN   \n",
       "\n",
       "          state  \n",
       "0  Ikoyi, Lagos  \n",
       "1  Ikoyi, Lagos  \n",
       "2  Ikoyi, Lagos  \n",
       "3  Ikoyi, Lagos  \n",
       "4  Ikoyi, Lagos  "
      ]
     },
     "execution_count": 71,
     "metadata": {},
     "output_type": "execute_result"
    }
   ],
   "source": [
    "housing_4.head()"
   ]
  },
  {
   "cell_type": "code",
   "execution_count": 72,
   "metadata": {},
   "outputs": [
    {
     "data": {
      "text/plain": [
       "price             0\n",
       "unit              0\n",
       "location          1\n",
       "bedrooms          0\n",
       "baths             0\n",
       "parking_lots    378\n",
       "state             1\n",
       "dtype: int64"
      ]
     },
     "execution_count": 72,
     "metadata": {},
     "output_type": "execute_result"
    }
   ],
   "source": [
    "housing_4.isnull().sum()"
   ]
  },
  {
   "cell_type": "markdown",
   "metadata": {},
   "source": [
    "### Observation:\n",
    "\n",
    "    We have about 377 rows and 7 columns. Except for parking_lots, the dataset contains only 2 missing values but the price, location and state columns require a little bit of cleaning to get them ready for analysis. We first have to remove the parking_lots column though.\n"
   ]
  },
  {
   "cell_type": "code",
   "execution_count": 73,
   "metadata": {
    "collapsed": true
   },
   "outputs": [],
   "source": [
    "housing_4.drop(\"parking_lots\", axis=1, inplace =True)"
   ]
  },
  {
   "cell_type": "markdown",
   "metadata": {},
   "source": [
    "### Price"
   ]
  },
  {
   "cell_type": "markdown",
   "metadata": {},
   "source": [
    "    Removing unwanted characters from the price and converting to float."
   ]
  },
  {
   "cell_type": "code",
   "execution_count": 74,
   "metadata": {},
   "outputs": [
    {
     "data": {
      "text/plain": [
       "0     ₦4,500,000 \n",
       "1    ₦15,000,000 \n",
       "2    ₦15,000,000 \n",
       "3     ₦6,000,000 \n",
       "4    ₦13,000,000 \n",
       "Name: price, dtype: object"
      ]
     },
     "execution_count": 74,
     "metadata": {},
     "output_type": "execute_result"
    }
   ],
   "source": [
    "housing_4[\"price\"].head()"
   ]
  },
  {
   "cell_type": "code",
   "execution_count": 75,
   "metadata": {
    "collapsed": true
   },
   "outputs": [],
   "source": [
    "housing_4[\"price\"] = housing_4[\"price\"].str.replace(\"₦\",\"\").str.replace(\",\",\"\").str.strip().astype(float)"
   ]
  },
  {
   "cell_type": "markdown",
   "metadata": {},
   "source": [
    "###  unit"
   ]
  },
  {
   "cell_type": "code",
   "execution_count": 76,
   "metadata": {},
   "outputs": [
    {
     "data": {
      "text/plain": [
       "per year    368\n",
       "per sqm       7\n",
       "per day       3\n",
       "Name: unit, dtype: int64"
      ]
     },
     "execution_count": 76,
     "metadata": {},
     "output_type": "execute_result"
    }
   ],
   "source": [
    "housing_4[\"unit\"].value_counts()"
   ]
  },
  {
   "cell_type": "markdown",
   "metadata": {},
   "source": [
    "    We have per sqm  occuring 7 times whereas we do not have the size of the property. The best option we have is to drop all rows with this entry since they are few"
   ]
  },
  {
   "cell_type": "code",
   "execution_count": 77,
   "metadata": {
    "collapsed": true
   },
   "outputs": [],
   "source": [
    "# droping rows and reseting index\n",
    "housing_4.drop(housing_4[housing_4[\"unit\"]==\"per sqm\"].index, axis =0, inplace=True)\n",
    "housing_4 =housing_4.reset_index(drop =True)"
   ]
  },
  {
   "cell_type": "markdown",
   "metadata": {},
   "source": [
    "    The price column needs to reflect only yearly price.This means converting daily price to yearly price. Again we call our price_conversion formula to handle it"
   ]
  },
  {
   "cell_type": "code",
   "execution_count": 78,
   "metadata": {
    "collapsed": true
   },
   "outputs": [],
   "source": [
    "housing_4 = price_conversion(housing_4)"
   ]
  },
  {
   "cell_type": "markdown",
   "metadata": {},
   "source": [
    "### Location"
   ]
  },
  {
   "cell_type": "code",
   "execution_count": 79,
   "metadata": {},
   "outputs": [
    {
     "data": {
      "text/plain": [
       "Lekki, Lagos                   262\n",
       "Ikoyi, Lagos                    49\n",
       "Victoria Island (VI), Lagos     44\n",
       "Ajah, Lagos                      7\n",
       "Apapa, Lagos                     2\n",
       "Apo, Abuja                       2\n",
       "Egbe, Lagos                      1\n",
       "Idimu, Lagos                     1\n",
       "Port Harcourt, Rivers            1\n",
       "Durumi, Abuja                    1\n",
       "NaN                              1\n",
       "Name: location, dtype: int64"
      ]
     },
     "execution_count": 79,
     "metadata": {},
     "output_type": "execute_result"
    }
   ],
   "source": [
    "housing_4['location'].value_counts(dropna = False)"
   ]
  },
  {
   "cell_type": "markdown",
   "metadata": {},
   "source": [
    "    We'll find out if we can get the missing location from the corresponding state.  If that is possible, we fill it in with the state else, we drop the row.\n",
    "    Having noticed that the property city location are actually the first string in the location column, we'll do a split to extract them."
   ]
  },
  {
   "cell_type": "code",
   "execution_count": 80,
   "metadata": {},
   "outputs": [
    {
     "data": {
      "text/html": [
       "<div>\n",
       "<style>\n",
       "    .dataframe thead tr:only-child th {\n",
       "        text-align: right;\n",
       "    }\n",
       "\n",
       "    .dataframe thead th {\n",
       "        text-align: left;\n",
       "    }\n",
       "\n",
       "    .dataframe tbody tr th {\n",
       "        vertical-align: top;\n",
       "    }\n",
       "</style>\n",
       "<table border=\"1\" class=\"dataframe\">\n",
       "  <thead>\n",
       "    <tr style=\"text-align: right;\">\n",
       "      <th></th>\n",
       "      <th>price</th>\n",
       "      <th>unit</th>\n",
       "      <th>location</th>\n",
       "      <th>bedrooms</th>\n",
       "      <th>baths</th>\n",
       "      <th>state</th>\n",
       "    </tr>\n",
       "  </thead>\n",
       "  <tbody>\n",
       "    <tr>\n",
       "      <th>120</th>\n",
       "      <td>26400000.0</td>\n",
       "      <td>per year</td>\n",
       "      <td>NaN</td>\n",
       "      <td>3</td>\n",
       "      <td>3</td>\n",
       "      <td>NaN</td>\n",
       "    </tr>\n",
       "  </tbody>\n",
       "</table>\n",
       "</div>"
      ],
      "text/plain": [
       "          price      unit location  bedrooms  baths state\n",
       "120  26400000.0  per year      NaN         3      3   NaN"
      ]
     },
     "execution_count": 80,
     "metadata": {},
     "output_type": "execute_result"
    }
   ],
   "source": [
    "housing_4.loc[housing_4['location'].isnull()]"
   ]
  },
  {
   "cell_type": "markdown",
   "metadata": {},
   "source": [
    "    The corresponding state is also missing. We opt for dropping the row"
   ]
  },
  {
   "cell_type": "code",
   "execution_count": 81,
   "metadata": {
    "collapsed": true
   },
   "outputs": [],
   "source": [
    "housing_4.drop(housing_4.loc[housing_4['location'].isnull()].index, axis=0, inplace=True)\n",
    "housing_4.reset_index(drop=True, inplace=True)"
   ]
  },
  {
   "cell_type": "code",
   "execution_count": 82,
   "metadata": {
    "collapsed": true
   },
   "outputs": [],
   "source": [
    "# extracting the exact location \n",
    "housing_4[\"location\"] = housing_4[\"location\"].str.split(\",\").str[0]"
   ]
  },
  {
   "cell_type": "markdown",
   "metadata": {},
   "source": [
    "### State"
   ]
  },
  {
   "cell_type": "code",
   "execution_count": 83,
   "metadata": {},
   "outputs": [
    {
     "data": {
      "text/plain": [
       "Lekki, Lagos                   262\n",
       "Ikoyi, Lagos                    49\n",
       "Victoria Island (VI), Lagos     44\n",
       "Ajah, Lagos                      7\n",
       "Apapa, Lagos                     2\n",
       "Apo, Abuja                       2\n",
       "Egbe, Lagos                      1\n",
       "Idimu, Lagos                     1\n",
       "Port Harcourt, Rivers            1\n",
       "Durumi, Abuja                    1\n",
       "Name: state, dtype: int64"
      ]
     },
     "execution_count": 83,
     "metadata": {},
     "output_type": "execute_result"
    }
   ],
   "source": [
    "housing_4[\"state\"].value_counts()"
   ]
  },
  {
   "cell_type": "markdown",
   "metadata": {},
   "source": [
    "    The city names are attached to the states here. We extract only the state name"
   ]
  },
  {
   "cell_type": "code",
   "execution_count": 84,
   "metadata": {
    "collapsed": true
   },
   "outputs": [],
   "source": [
    "housing_4[\"state\"] = housing_4[\"state\"].str.split(\",\").str[1]"
   ]
  },
  {
   "cell_type": "code",
   "execution_count": 85,
   "metadata": {
    "collapsed": true
   },
   "outputs": [],
   "source": [
    "# we drop the unit column\n",
    "housing_4.drop('unit', axis =1, inplace=True)"
   ]
  },
  {
   "cell_type": "code",
   "execution_count": 86,
   "metadata": {
    "scrolled": true
   },
   "outputs": [
    {
     "data": {
      "text/plain": [
       "price       0\n",
       "location    0\n",
       "bedrooms    0\n",
       "baths       0\n",
       "state       0\n",
       "dtype: int64"
      ]
     },
     "execution_count": 86,
     "metadata": {},
     "output_type": "execute_result"
    }
   ],
   "source": [
    "housing_4.isnull().sum()"
   ]
  },
  {
   "cell_type": "markdown",
   "metadata": {},
   "source": [
    "# 5th Dataset Exploration and Cleaning"
   ]
  },
  {
   "cell_type": "code",
   "execution_count": 87,
   "metadata": {},
   "outputs": [
    {
     "data": {
      "text/html": [
       "<div>\n",
       "<style>\n",
       "    .dataframe thead tr:only-child th {\n",
       "        text-align: right;\n",
       "    }\n",
       "\n",
       "    .dataframe thead th {\n",
       "        text-align: left;\n",
       "    }\n",
       "\n",
       "    .dataframe tbody tr th {\n",
       "        vertical-align: top;\n",
       "    }\n",
       "</style>\n",
       "<table border=\"1\" class=\"dataframe\">\n",
       "  <thead>\n",
       "    <tr style=\"text-align: right;\">\n",
       "      <th></th>\n",
       "      <th>price</th>\n",
       "      <th>unit</th>\n",
       "      <th>location</th>\n",
       "      <th>bedrooms</th>\n",
       "      <th>baths</th>\n",
       "      <th>state</th>\n",
       "    </tr>\n",
       "  </thead>\n",
       "  <tbody>\n",
       "    <tr>\n",
       "      <th>0</th>\n",
       "      <td>₦ 5,000 / Per Event</td>\n",
       "      <td>₦ 5,000 / Per Event</td>\n",
       "      <td>LAGOS/Ikeja</td>\n",
       "      <td>NaN</td>\n",
       "      <td>NaN</td>\n",
       "      <td>NaN</td>\n",
       "    </tr>\n",
       "    <tr>\n",
       "      <th>1</th>\n",
       "      <td>₦ 45,000 / Yearly</td>\n",
       "      <td>₦ 45,000 / Yearly</td>\n",
       "      <td>ABUJA (FCT)/Dutse Makaranta</td>\n",
       "      <td>1.0</td>\n",
       "      <td>NaN</td>\n",
       "      <td>NaN</td>\n",
       "    </tr>\n",
       "    <tr>\n",
       "      <th>2</th>\n",
       "      <td>₦ 45,000 / Yearly</td>\n",
       "      <td>₦ 45,000 / Yearly</td>\n",
       "      <td>ABUJA (FCT)/Dutse Makaranta</td>\n",
       "      <td>1.0</td>\n",
       "      <td>NaN</td>\n",
       "      <td>NaN</td>\n",
       "    </tr>\n",
       "    <tr>\n",
       "      <th>3</th>\n",
       "      <td>₦ 50,000 / Yearly</td>\n",
       "      <td>₦ 50,000 / Yearly</td>\n",
       "      <td>ABUJA (FCT)/Dutse Sokale</td>\n",
       "      <td>1.0</td>\n",
       "      <td>NaN</td>\n",
       "      <td>NaN</td>\n",
       "    </tr>\n",
       "    <tr>\n",
       "      <th>4</th>\n",
       "      <td>₦ 65,000 / Yearly</td>\n",
       "      <td>₦ 65,000 / Yearly</td>\n",
       "      <td>ABUJA (FCT)/Dutse Alhaji</td>\n",
       "      <td>1.0</td>\n",
       "      <td>NaN</td>\n",
       "      <td>NaN</td>\n",
       "    </tr>\n",
       "  </tbody>\n",
       "</table>\n",
       "</div>"
      ],
      "text/plain": [
       "                 price                 unit                     location  \\\n",
       "0  ₦ 5,000 / Per Event  ₦ 5,000 / Per Event                  LAGOS/Ikeja   \n",
       "1    ₦ 45,000 / Yearly    ₦ 45,000 / Yearly  ABUJA (FCT)/Dutse Makaranta   \n",
       "2    ₦ 45,000 / Yearly    ₦ 45,000 / Yearly  ABUJA (FCT)/Dutse Makaranta   \n",
       "3    ₦ 50,000 / Yearly    ₦ 50,000 / Yearly     ABUJA (FCT)/Dutse Sokale   \n",
       "4    ₦ 65,000 / Yearly    ₦ 65,000 / Yearly     ABUJA (FCT)/Dutse Alhaji   \n",
       "\n",
       "   bedrooms  baths  state  \n",
       "0       NaN    NaN    NaN  \n",
       "1       1.0    NaN    NaN  \n",
       "2       1.0    NaN    NaN  \n",
       "3       1.0    NaN    NaN  \n",
       "4       1.0    NaN    NaN  "
      ]
     },
     "execution_count": 87,
     "metadata": {},
     "output_type": "execute_result"
    }
   ],
   "source": [
    "housing_5.head()"
   ]
  },
  {
   "cell_type": "code",
   "execution_count": 88,
   "metadata": {},
   "outputs": [
    {
     "name": "stdout",
     "output_type": "stream",
     "text": [
      "<class 'pandas.core.frame.DataFrame'>\n",
      "RangeIndex: 247 entries, 0 to 246\n",
      "Data columns (total 6 columns):\n",
      "price       228 non-null object\n",
      "unit        228 non-null object\n",
      "location    228 non-null object\n",
      "bedrooms    223 non-null float64\n",
      "baths       0 non-null float64\n",
      "state       0 non-null float64\n",
      "dtypes: float64(3), object(3)\n",
      "memory usage: 11.7+ KB\n"
     ]
    }
   ],
   "source": [
    "housing_5.info()"
   ]
  },
  {
   "cell_type": "code",
   "execution_count": 89,
   "metadata": {
    "scrolled": true
   },
   "outputs": [
    {
     "data": {
      "text/plain": [
       "price        19\n",
       "unit         19\n",
       "location     19\n",
       "bedrooms     24\n",
       "baths       247\n",
       "state       247\n",
       "dtype: int64"
      ]
     },
     "execution_count": 89,
     "metadata": {},
     "output_type": "execute_result"
    }
   ],
   "source": [
    "housing_5.isnull().sum()"
   ]
  },
  {
   "cell_type": "markdown",
   "metadata": {},
   "source": [
    "### Observation:\n",
    "\n",
    "    There are missing values in all columns with the values in baths and state columns entirely missing. Like what we have have done with other datasets, we need to clean each column and set them to the right data types."
   ]
  },
  {
   "cell_type": "markdown",
   "metadata": {},
   "source": [
    "### Price"
   ]
  },
  {
   "cell_type": "code",
   "execution_count": 90,
   "metadata": {},
   "outputs": [
    {
     "data": {
      "text/plain": [
       "array(['₦ 5,000 / Per Event', '₦ 45,000 / Yearly', '₦ 50,000 / Yearly',\n",
       "       '₦ 65,000 / Yearly', '₦ 80,000 / Yearly', '₦ 100,000 / Yearly',\n",
       "       '₦ 120,000 / Yearly', '₦ 130,000 / Yearly', nan,\n",
       "       '₦ 150,000 / Yearly'], dtype=object)"
      ]
     },
     "execution_count": 90,
     "metadata": {},
     "output_type": "execute_result"
    }
   ],
   "source": [
    "housing_5[\"price\"].unique()[:10]"
   ]
  },
  {
   "cell_type": "markdown",
   "metadata": {},
   "source": [
    "    We extract the price values, remove all special characters and convert to float. Also, we'll check the missing values in price and see if we can get the values from the corresponding units in the unit column."
   ]
  },
  {
   "cell_type": "code",
   "execution_count": 91,
   "metadata": {
    "collapsed": true
   },
   "outputs": [],
   "source": [
    "housing_5[\"price\"] = housing_5[\"price\"].str.split(\"/\").str[0].str.replace(\"₦\",\"\").str.replace(\",\",\"\").str.replace(\" \",\"\").str.strip().astype(float)"
   ]
  },
  {
   "cell_type": "markdown",
   "metadata": {},
   "source": [
    "### Unit"
   ]
  },
  {
   "cell_type": "code",
   "execution_count": 92,
   "metadata": {},
   "outputs": [
    {
     "data": {
      "text/plain": [
       "0    ₦ 5,000 / Per Event\n",
       "1      ₦ 45,000 / Yearly\n",
       "2      ₦ 45,000 / Yearly\n",
       "3      ₦ 50,000 / Yearly\n",
       "4      ₦ 65,000 / Yearly\n",
       "Name: unit, dtype: object"
      ]
     },
     "execution_count": 92,
     "metadata": {},
     "output_type": "execute_result"
    }
   ],
   "source": [
    "housing_5[\"unit\"].head()"
   ]
  },
  {
   "cell_type": "markdown",
   "metadata": {},
   "source": [
    "    We need to take out the actual unit for each row.We also explore more on the 'Per Event' units to check whether we should keep them"
   ]
  },
  {
   "cell_type": "code",
   "execution_count": 93,
   "metadata": {
    "collapsed": true
   },
   "outputs": [],
   "source": [
    "# extracting the units\n",
    "housing_5[\"unit\"] = housing_5[\"unit\"].str.split(\"/\").str[1].str.strip()"
   ]
  },
  {
   "cell_type": "code",
   "execution_count": 94,
   "metadata": {},
   "outputs": [
    {
     "data": {
      "text/html": [
       "<div>\n",
       "<style>\n",
       "    .dataframe thead tr:only-child th {\n",
       "        text-align: right;\n",
       "    }\n",
       "\n",
       "    .dataframe thead th {\n",
       "        text-align: left;\n",
       "    }\n",
       "\n",
       "    .dataframe tbody tr th {\n",
       "        vertical-align: top;\n",
       "    }\n",
       "</style>\n",
       "<table border=\"1\" class=\"dataframe\">\n",
       "  <thead>\n",
       "    <tr style=\"text-align: right;\">\n",
       "      <th></th>\n",
       "      <th>price</th>\n",
       "      <th>unit</th>\n",
       "      <th>location</th>\n",
       "      <th>bedrooms</th>\n",
       "      <th>baths</th>\n",
       "      <th>state</th>\n",
       "    </tr>\n",
       "  </thead>\n",
       "  <tbody>\n",
       "    <tr>\n",
       "      <th>0</th>\n",
       "      <td>5000.0</td>\n",
       "      <td>Per Event</td>\n",
       "      <td>LAGOS/Ikeja</td>\n",
       "      <td>NaN</td>\n",
       "      <td>NaN</td>\n",
       "      <td>NaN</td>\n",
       "    </tr>\n",
       "  </tbody>\n",
       "</table>\n",
       "</div>"
      ],
      "text/plain": [
       "    price       unit     location  bedrooms  baths  state\n",
       "0  5000.0  Per Event  LAGOS/Ikeja       NaN    NaN    NaN"
      ]
     },
     "execution_count": 94,
     "metadata": {},
     "output_type": "execute_result"
    }
   ],
   "source": [
    "housing_5[housing_5[\"unit\"]==\"Per Event\"]"
   ]
  },
  {
   "cell_type": "markdown",
   "metadata": {},
   "source": [
    "    Only one of the units is Labelled Per Event. Since it isn't significant, we drop that row"
   ]
  },
  {
   "cell_type": "code",
   "execution_count": 95,
   "metadata": {
    "collapsed": true
   },
   "outputs": [],
   "source": [
    " housing_5.drop(housing_5[housing_5[\"unit\"]==\"Per Event\"].index, axis =0, inplace = True)"
   ]
  },
  {
   "cell_type": "code",
   "execution_count": 96,
   "metadata": {
    "collapsed": true
   },
   "outputs": [],
   "source": [
    " housing_5 = housing_5.reset_index(drop=True)"
   ]
  },
  {
   "cell_type": "code",
   "execution_count": 97,
   "metadata": {},
   "outputs": [
    {
     "data": {
      "text/plain": [
       "array(['Yearly', nan, 'Monthly', 'Weekly'], dtype=object)"
      ]
     },
     "execution_count": 97,
     "metadata": {},
     "output_type": "execute_result"
    }
   ],
   "source": [
    "housing_5[\"unit\"].unique()"
   ]
  },
  {
   "cell_type": "markdown",
   "metadata": {},
   "source": [
    "    We convert the price values whose units are weekly and monthly to yearly price."
   ]
  },
  {
   "cell_type": "code",
   "execution_count": 98,
   "metadata": {
    "collapsed": true
   },
   "outputs": [],
   "source": [
    "housing_5.drop(housing_5.loc[housing_5['price'].isnull()].index, axis =0, inplace=True)\n",
    "housing_5.reset_index(drop=True, inplace=True)"
   ]
  },
  {
   "cell_type": "code",
   "execution_count": 99,
   "metadata": {
    "collapsed": true
   },
   "outputs": [],
   "source": [
    "housing_5 = price_conversion(housing_5)"
   ]
  },
  {
   "cell_type": "markdown",
   "metadata": {
    "collapsed": true
   },
   "source": [
    "### Location & State"
   ]
  },
  {
   "cell_type": "code",
   "execution_count": 100,
   "metadata": {},
   "outputs": [
    {
     "data": {
      "text/plain": [
       "0    ABUJA (FCT)/Dutse Makaranta\n",
       "1    ABUJA (FCT)/Dutse Makaranta\n",
       "2       ABUJA (FCT)/Dutse Sokale\n",
       "3       ABUJA (FCT)/Dutse Alhaji\n",
       "4                    KANO/taruni\n",
       "5    ABUJA (FCT)/Dutse Makaranta\n",
       "6    ABUJA (FCT)/Dutse Makaranta\n",
       "7       ABUJA (FCT)/Dutse Alhaji\n",
       "8             ABUJA (FCT)/Dawaki\n",
       "9    ABUJA (FCT)/Dutse Makaranta\n",
       "Name: location, dtype: object"
      ]
     },
     "execution_count": 100,
     "metadata": {},
     "output_type": "execute_result"
    }
   ],
   "source": [
    "housing_5[\"location\"].head(10)"
   ]
  },
  {
   "cell_type": "markdown",
   "metadata": {},
   "source": [
    "    We already know that all state names are missing. However, from what we can see, we can get them from the location column as well as the exact city location"
   ]
  },
  {
   "cell_type": "code",
   "execution_count": 101,
   "metadata": {
    "collapsed": true
   },
   "outputs": [],
   "source": [
    "# extracting the states\n",
    "housing_5['state'] = housing_5['location'].apply(find_state)"
   ]
  },
  {
   "cell_type": "code",
   "execution_count": 102,
   "metadata": {},
   "outputs": [
    {
     "data": {
      "text/plain": [
       "abuja       170\n",
       "nasarawa     53\n",
       "kano          3\n",
       "lagos         1\n",
       "Name: state, dtype: int64"
      ]
     },
     "execution_count": 102,
     "metadata": {},
     "output_type": "execute_result"
    }
   ],
   "source": [
    "housing_5['state'].value_counts(dropna=False)"
   ]
  },
  {
   "cell_type": "code",
   "execution_count": 103,
   "metadata": {
    "collapsed": true
   },
   "outputs": [],
   "source": [
    "# extracting exact location\n",
    "housing_5[\"location\"] = housing_5[\"location\"].str.split(\"/\").str[1]"
   ]
  },
  {
   "cell_type": "code",
   "execution_count": 104,
   "metadata": {},
   "outputs": [
    {
     "data": {
      "text/plain": [
       "Kubwa              26\n",
       "Dutse Alhaji       23\n",
       "Dawaki             15\n",
       "Mararaba           13\n",
       "Dutse Sokale       13\n",
       "Ado                12\n",
       "Dutse Makaranta    10\n",
       "Life Camp          10\n",
       "Massaka            10\n",
       "Lokogoma            8\n",
       "Name: location, dtype: int64"
      ]
     },
     "execution_count": 104,
     "metadata": {},
     "output_type": "execute_result"
    }
   ],
   "source": [
    "housing_5[\"location\"].value_counts().head(10)"
   ]
  },
  {
   "cell_type": "markdown",
   "metadata": {},
   "source": [
    "    From domain knowlege, Dutse Alhaji & Dutse Sokale are actually the same location.We reformat these to become one location"
   ]
  },
  {
   "cell_type": "code",
   "execution_count": 105,
   "metadata": {},
   "outputs": [
    {
     "name": "stderr",
     "output_type": "stream",
     "text": [
      "C:\\Users\\Ikeen\\Anaconda3\\lib\\site-packages\\ipykernel_launcher.py:1: UserWarning: This pattern has match groups. To actually get the groups, use str.extract.\n",
      "  \"\"\"Entry point for launching an IPython kernel.\n"
     ]
    }
   ],
   "source": [
    "housing_5.loc[housing_5[\"location\"].str.contains(r'(Dutse)', re.I), 'location'] = \"Dutse\""
   ]
  },
  {
   "cell_type": "code",
   "execution_count": 106,
   "metadata": {
    "scrolled": true
   },
   "outputs": [
    {
     "data": {
      "text/plain": [
       "Dutse        46\n",
       "Kubwa        26\n",
       "Dawaki       15\n",
       "Mararaba     13\n",
       "Ado          12\n",
       "Massaka      10\n",
       "Life Camp    10\n",
       "Lokogoma      8\n",
       "New Karu      7\n",
       "Apo           6\n",
       "Name: location, dtype: int64"
      ]
     },
     "execution_count": 106,
     "metadata": {},
     "output_type": "execute_result"
    }
   ],
   "source": [
    "housing_5[\"location\"].value_counts().head(10)"
   ]
  },
  {
   "cell_type": "code",
   "execution_count": 107,
   "metadata": {
    "collapsed": true
   },
   "outputs": [],
   "source": [
    "# droping unit\n",
    "housing_5.drop('unit', axis =1, inplace=True)"
   ]
  },
  {
   "cell_type": "code",
   "execution_count": 108,
   "metadata": {
    "scrolled": false
   },
   "outputs": [
    {
     "data": {
      "text/plain": [
       "price         0\n",
       "location      0\n",
       "bedrooms      4\n",
       "baths       227\n",
       "state         0\n",
       "dtype: int64"
      ]
     },
     "execution_count": 108,
     "metadata": {},
     "output_type": "execute_result"
    }
   ],
   "source": [
    "housing_5.isnull().sum()"
   ]
  },
  {
   "cell_type": "code",
   "execution_count": 109,
   "metadata": {},
   "outputs": [
    {
     "data": {
      "text/html": [
       "<div>\n",
       "<style>\n",
       "    .dataframe thead tr:only-child th {\n",
       "        text-align: right;\n",
       "    }\n",
       "\n",
       "    .dataframe thead th {\n",
       "        text-align: left;\n",
       "    }\n",
       "\n",
       "    .dataframe tbody tr th {\n",
       "        vertical-align: top;\n",
       "    }\n",
       "</style>\n",
       "<table border=\"1\" class=\"dataframe\">\n",
       "  <thead>\n",
       "    <tr style=\"text-align: right;\">\n",
       "      <th></th>\n",
       "      <th>price</th>\n",
       "      <th>location</th>\n",
       "      <th>bedrooms</th>\n",
       "      <th>baths</th>\n",
       "      <th>state</th>\n",
       "    </tr>\n",
       "  </thead>\n",
       "  <tbody>\n",
       "    <tr>\n",
       "      <th>0</th>\n",
       "      <td>540000.0</td>\n",
       "      <td>Dutse</td>\n",
       "      <td>1.0</td>\n",
       "      <td>NaN</td>\n",
       "      <td>abuja</td>\n",
       "    </tr>\n",
       "    <tr>\n",
       "      <th>1</th>\n",
       "      <td>540000.0</td>\n",
       "      <td>Dutse</td>\n",
       "      <td>1.0</td>\n",
       "      <td>NaN</td>\n",
       "      <td>abuja</td>\n",
       "    </tr>\n",
       "    <tr>\n",
       "      <th>2</th>\n",
       "      <td>600000.0</td>\n",
       "      <td>Dutse</td>\n",
       "      <td>1.0</td>\n",
       "      <td>NaN</td>\n",
       "      <td>abuja</td>\n",
       "    </tr>\n",
       "    <tr>\n",
       "      <th>3</th>\n",
       "      <td>780000.0</td>\n",
       "      <td>Dutse</td>\n",
       "      <td>1.0</td>\n",
       "      <td>NaN</td>\n",
       "      <td>abuja</td>\n",
       "    </tr>\n",
       "    <tr>\n",
       "      <th>4</th>\n",
       "      <td>960000.0</td>\n",
       "      <td>taruni</td>\n",
       "      <td>NaN</td>\n",
       "      <td>NaN</td>\n",
       "      <td>kano</td>\n",
       "    </tr>\n",
       "  </tbody>\n",
       "</table>\n",
       "</div>"
      ],
      "text/plain": [
       "      price location  bedrooms  baths  state\n",
       "0  540000.0    Dutse       1.0    NaN  abuja\n",
       "1  540000.0    Dutse       1.0    NaN  abuja\n",
       "2  600000.0    Dutse       1.0    NaN  abuja\n",
       "3  780000.0    Dutse       1.0    NaN  abuja\n",
       "4  960000.0   taruni       NaN    NaN   kano"
      ]
     },
     "execution_count": 109,
     "metadata": {},
     "output_type": "execute_result"
    }
   ],
   "source": [
    "housing_5.head()"
   ]
  },
  {
   "cell_type": "markdown",
   "metadata": {},
   "source": [
    "# Finally we move  to cleaning the 6th  and Last Dataset!!!"
   ]
  },
  {
   "cell_type": "code",
   "execution_count": 110,
   "metadata": {},
   "outputs": [
    {
     "data": {
      "text/html": [
       "<div>\n",
       "<style>\n",
       "    .dataframe thead tr:only-child th {\n",
       "        text-align: right;\n",
       "    }\n",
       "\n",
       "    .dataframe thead th {\n",
       "        text-align: left;\n",
       "    }\n",
       "\n",
       "    .dataframe tbody tr th {\n",
       "        vertical-align: top;\n",
       "    }\n",
       "</style>\n",
       "<table border=\"1\" class=\"dataframe\">\n",
       "  <thead>\n",
       "    <tr style=\"text-align: right;\">\n",
       "      <th></th>\n",
       "      <th>price</th>\n",
       "      <th>unit</th>\n",
       "      <th>location</th>\n",
       "      <th>bedrooms</th>\n",
       "      <th>baths</th>\n",
       "      <th>state</th>\n",
       "    </tr>\n",
       "  </thead>\n",
       "  <tbody>\n",
       "    <tr>\n",
       "      <th>0</th>\n",
       "      <td>₦450,000</td>\n",
       "      <td>per Year</td>\n",
       "      <td>Ogun, Odeda, Ogun State</td>\n",
       "      <td>2</td>\n",
       "      <td>2</td>\n",
       "      <td>NaN</td>\n",
       "    </tr>\n",
       "    <tr>\n",
       "      <th>1</th>\n",
       "      <td>₦150,000</td>\n",
       "      <td>per Year</td>\n",
       "      <td>Abeokuta, Abeokuta South, Ogun State</td>\n",
       "      <td>1</td>\n",
       "      <td>1</td>\n",
       "      <td>NaN</td>\n",
       "    </tr>\n",
       "    <tr>\n",
       "      <th>2</th>\n",
       "      <td>₦700,000</td>\n",
       "      <td>per Year</td>\n",
       "      <td>Ogun, Odeda, Ogun State</td>\n",
       "      <td>3</td>\n",
       "      <td>3</td>\n",
       "      <td>NaN</td>\n",
       "    </tr>\n",
       "    <tr>\n",
       "      <th>3</th>\n",
       "      <td>₦250,000</td>\n",
       "      <td>per Year</td>\n",
       "      <td>Ifo, Ogun State</td>\n",
       "      <td>2</td>\n",
       "      <td>2</td>\n",
       "      <td>NaN</td>\n",
       "    </tr>\n",
       "    <tr>\n",
       "      <th>4</th>\n",
       "      <td>₦200,000</td>\n",
       "      <td>per Year</td>\n",
       "      <td>Ofada, Obafemi Owode, Ogun State</td>\n",
       "      <td>NaN</td>\n",
       "      <td>NaN</td>\n",
       "      <td>NaN</td>\n",
       "    </tr>\n",
       "  </tbody>\n",
       "</table>\n",
       "</div>"
      ],
      "text/plain": [
       "      price      unit                                location bedrooms baths  \\\n",
       "0  ₦450,000  per Year                Ogun, Odeda, Ogun State         2     2   \n",
       "1  ₦150,000  per Year   Abeokuta, Abeokuta South, Ogun State         1     1   \n",
       "2  ₦700,000  per Year                Ogun, Odeda, Ogun State         3     3   \n",
       "3  ₦250,000  per Year                        Ifo, Ogun State         2     2   \n",
       "4  ₦200,000  per Year       Ofada, Obafemi Owode, Ogun State       NaN   NaN   \n",
       "\n",
       "   state  \n",
       "0    NaN  \n",
       "1    NaN  \n",
       "2    NaN  \n",
       "3    NaN  \n",
       "4    NaN  "
      ]
     },
     "execution_count": 110,
     "metadata": {},
     "output_type": "execute_result"
    }
   ],
   "source": [
    "housing_6.head()"
   ]
  },
  {
   "cell_type": "code",
   "execution_count": 111,
   "metadata": {},
   "outputs": [
    {
     "name": "stdout",
     "output_type": "stream",
     "text": [
      "<class 'pandas.core.frame.DataFrame'>\n",
      "RangeIndex: 6697 entries, 0 to 6696\n",
      "Data columns (total 6 columns):\n",
      "price       6409 non-null object\n",
      "unit        6697 non-null object\n",
      "location    6697 non-null object\n",
      "bedrooms    6268 non-null object\n",
      "baths       6268 non-null object\n",
      "state       0 non-null float64\n",
      "dtypes: float64(1), object(5)\n",
      "memory usage: 314.0+ KB\n"
     ]
    }
   ],
   "source": [
    "housing_6.info()"
   ]
  },
  {
   "cell_type": "code",
   "execution_count": 112,
   "metadata": {},
   "outputs": [
    {
     "data": {
      "text/plain": [
       "price        288\n",
       "unit           0\n",
       "location       0\n",
       "bedrooms     429\n",
       "baths        429\n",
       "state       6697\n",
       "dtype: int64"
      ]
     },
     "execution_count": 112,
     "metadata": {},
     "output_type": "execute_result"
    }
   ],
   "source": [
    "housing_6.isnull().sum()"
   ]
  },
  {
   "cell_type": "markdown",
   "metadata": {},
   "source": [
    "### Observation:\n",
    "\n",
    "    This is by far the largest dataset we are cleaning so far. It has about 6696 rows and 6 columns. We will follow the same procedure as we have been doing to clean each of the columns. \n",
    "    Unit and location have no missing values whereas all the values in state are missing."
   ]
  },
  {
   "cell_type": "markdown",
   "metadata": {},
   "source": [
    "### Price"
   ]
  },
  {
   "cell_type": "code",
   "execution_count": 113,
   "metadata": {},
   "outputs": [
    {
     "data": {
      "text/plain": [
       "array(['₦450,000', '₦150,000', '₦700,000', '₦250,000', '₦200,000',\n",
       "       '₦120,000', '₦650,000', '₦350,000', nan, '₦1,500,000', '₦500,000',\n",
       "       '₦600,000', '₦300,000', '₦430,000', '₦400,000', '₦230,000',\n",
       "       '₦2,000,000', '₦8,000,000', '₦13,000,000', '₦4,000,000',\n",
       "       '₦2,200,000', '₦3,000,000', '₦15,000,000', '₦900,000', '₦2,500,000',\n",
       "       '₦3,600,000', '₦7,500,000', '₦950,000', '₦1,950,000', '₦800,000',\n",
       "       '₦1,200,000', '₦10,000,000', '₦380,000', '₦17,000,000', '₦135,000',\n",
       "       '₦260,000', '₦550,000', '₦1,600,000', '₦18,000,000', '₦3,500,000',\n",
       "       '₦25,000', '₦1,700,000', '₦1,100,000', '₦12,000,000', '₦125,000',\n",
       "       '₦4,500,000', '₦2,700,000', '₦850,000', '₦6,500,000', '₦2,999,999'], dtype=object)"
      ]
     },
     "execution_count": 113,
     "metadata": {},
     "output_type": "execute_result"
    }
   ],
   "source": [
    "housing_6[\"price\"].unique()[:50]"
   ]
  },
  {
   "cell_type": "code",
   "execution_count": 114,
   "metadata": {
    "collapsed": true
   },
   "outputs": [],
   "source": [
    "# we remove currency symbol, comma and convert to numeric\n",
    "housing_6[\"price\"] = housing_6[\"price\"].str.replace(\"₦\",\"\").str.replace(\",\",\"\").str.strip().astype(float)"
   ]
  },
  {
   "cell_type": "markdown",
   "metadata": {},
   "source": [
    "    Some of the price values are missing. We can't get them from unit. so We check what percentage of our dataset is affected in order to ascertain whether to drop the rows or not"
   ]
  },
  {
   "cell_type": "code",
   "execution_count": 115,
   "metadata": {},
   "outputs": [
    {
     "data": {
      "text/plain": [
       "4.3004330297147977"
      ]
     },
     "execution_count": 115,
     "metadata": {},
     "output_type": "execute_result"
    }
   ],
   "source": [
    "(housing_6[\"price\"].isnull()).sum()/housing_6.shape[0] *100"
   ]
  },
  {
   "cell_type": "markdown",
   "metadata": {},
   "source": [
    "    About 4% of the dataset is affeted, so we can safetly delete them"
   ]
  },
  {
   "cell_type": "code",
   "execution_count": 116,
   "metadata": {
    "collapsed": true
   },
   "outputs": [],
   "source": [
    "# dropping null rows and re-indexing\n",
    "housing_6.drop(housing_6[housing_6[\"price\"].isnull()].index, axis =0, inplace= True)\n",
    "housing_6 = housing_6.reset_index(drop=True)"
   ]
  },
  {
   "cell_type": "markdown",
   "metadata": {},
   "source": [
    "### Location and State"
   ]
  },
  {
   "cell_type": "code",
   "execution_count": 117,
   "metadata": {},
   "outputs": [
    {
     "data": {
      "text/plain": [
       "array([' Ogun, Odeda, Ogun State ',\n",
       "       ' Abeokuta, Abeokuta South, Ogun State ', ' Ifo, Ogun State ',\n",
       "       ' Ofada, Obafemi Owode, Ogun State ',\n",
       "       ' Abule Egba, Egbado North, Ogun State ',\n",
       "       ' Ado Odo/Ota, Ogun State ',\n",
       "       ' Abuja, Municipal Area Council, Federal Capital Territory State ',\n",
       "       ' Jahi, Municipal Area Council, Federal Capital Territory State ',\n",
       "       ' Maitama, Municipal Area Council, Federal Capital Territory State ',\n",
       "       ' Kusafe, Municipal Area Council, Federal Capital Territory State '], dtype=object)"
      ]
     },
     "execution_count": 117,
     "metadata": {},
     "output_type": "execute_result"
    }
   ],
   "source": [
    "housing_6[\"location\"].unique()[:10]"
   ]
  },
  {
   "cell_type": "markdown",
   "metadata": {},
   "source": [
    "    We can extract the states from location and also obtain the exact city location."
   ]
  },
  {
   "cell_type": "code",
   "execution_count": 118,
   "metadata": {
    "collapsed": true
   },
   "outputs": [],
   "source": [
    "# extracting the states\n",
    "housing_6[\"state\"] = housing_6[\"location\"].apply(find_state)"
   ]
  },
  {
   "cell_type": "code",
   "execution_count": 119,
   "metadata": {},
   "outputs": [
    {
     "data": {
      "text/plain": [
       "lagos          2559\n",
       "abuja          1407\n",
       "oyo             553\n",
       "ogun            508\n",
       "rivers          440\n",
       "kwara           246\n",
       "kaduna           37\n",
       "edo              25\n",
       "cross river      21\n",
       "enugu            21\n",
       "imo              18\n",
       "ondo             12\n",
       "plateau          12\n",
       "sokoto           12\n",
       "akwa ibom        10\n",
       "osun              9\n",
       "delta             7\n",
       "adamawa           4\n",
       "abia              3\n",
       "bayelsa           2\n",
       "ekiti             1\n",
       "benue             1\n",
       "Name: state, dtype: int64"
      ]
     },
     "execution_count": 119,
     "metadata": {},
     "output_type": "execute_result"
    }
   ],
   "source": [
    "housing_6[\"state\"].value_counts()"
   ]
  },
  {
   "cell_type": "markdown",
   "metadata": {},
   "source": [
    "#### Location:\n",
    "    Let's see what we get if we split location by coma and compare the best position to extract the location."
   ]
  },
  {
   "cell_type": "code",
   "execution_count": 120,
   "metadata": {},
   "outputs": [
    {
     "data": {
      "text/plain": [
       " Abuja            1407\n",
       " Lekki             572\n",
       " Lagos             357\n",
       " Port-Harcourt     329\n",
       " Ibadan            314\n",
       " Maitama           281\n",
       " Yaba              261\n",
       " Ikorodu           254\n",
       " Ogudu             205\n",
       " Ajah              181\n",
       " Abule Egba        124\n",
       " Ogun              108\n",
       " Isheri            106\n",
       " Asokoro            96\n",
       " Obanikoro          94\n",
       " Surulere           86\n",
       " Jahi               84\n",
       " Alimosho           80\n",
       " Oko Oba            69\n",
       " Oshodi/Isolo       66\n",
       "Name: location, dtype: int64"
      ]
     },
     "execution_count": 120,
     "metadata": {},
     "output_type": "execute_result"
    }
   ],
   "source": [
    " housing_6[\"location\"].str.split(\",\").str[0].value_counts(dropna=False)[:20]"
   ]
  },
  {
   "cell_type": "code",
   "execution_count": 121,
   "metadata": {},
   "outputs": [
    {
     "data": {
      "text/plain": [
       " Municipal Area Council    1901\n",
       " Ibeju Lekki                577\n",
       " Lagos State                558\n",
       " Lagos Island               359\n",
       " Rivers State               352\n",
       " Ibadan North West          342\n",
       " Eti Osa                    315\n",
       " Lagos Mainland             298\n",
       " Edu                        205\n",
       " Alimosho                   128\n",
       " Egbado North               124\n",
       " Odeda                      113\n",
       " Ifo                        106\n",
       " Shomolu                    101\n",
       " Mushin                      86\n",
       " Port-Harcourt               80\n",
       " Ogun State                  74\n",
       " Ogbomosho North             69\n",
       " Surulere                    55\n",
       " Obafemi Owode               52\n",
       "Name: location, dtype: int64"
      ]
     },
     "execution_count": 121,
     "metadata": {},
     "output_type": "execute_result"
    }
   ],
   "source": [
    "housing_6[\"location\"].str.split(\",\").str[1].value_counts(dropna = False)[:20]"
   ]
  },
  {
   "cell_type": "markdown",
   "metadata": {},
   "source": [
    "    We find that if we extract the location at index 0 in the list,we are going to loose losts of information about the exact city. Although we will also loose some location data if we use index 1, this seems to be a better trade-off."
   ]
  },
  {
   "cell_type": "code",
   "execution_count": 122,
   "metadata": {
    "collapsed": true
   },
   "outputs": [],
   "source": [
    "# extracting exact city location into a new column\n",
    "housing_6[\"location_1\"] = housing_6[\"location\"].str.split(\",\").str[1]"
   ]
  },
  {
   "cell_type": "code",
   "execution_count": 123,
   "metadata": {},
   "outputs": [
    {
     "data": {
      "text/plain": [
       "12"
      ]
     },
     "execution_count": 123,
     "metadata": {},
     "output_type": "execute_result"
    }
   ],
   "source": [
    "# checking missing values in our new location column\n",
    "housing_6[\"location_1\"].isnull().sum()"
   ]
  },
  {
   "cell_type": "code",
   "execution_count": 124,
   "metadata": {
    "scrolled": true
   },
   "outputs": [
    {
     "data": {
      "text/html": [
       "<div>\n",
       "<style>\n",
       "    .dataframe thead tr:only-child th {\n",
       "        text-align: right;\n",
       "    }\n",
       "\n",
       "    .dataframe thead th {\n",
       "        text-align: left;\n",
       "    }\n",
       "\n",
       "    .dataframe tbody tr th {\n",
       "        vertical-align: top;\n",
       "    }\n",
       "</style>\n",
       "<table border=\"1\" class=\"dataframe\">\n",
       "  <thead>\n",
       "    <tr style=\"text-align: right;\">\n",
       "      <th></th>\n",
       "      <th>price</th>\n",
       "      <th>unit</th>\n",
       "      <th>location</th>\n",
       "      <th>bedrooms</th>\n",
       "      <th>baths</th>\n",
       "      <th>state</th>\n",
       "      <th>location_1</th>\n",
       "    </tr>\n",
       "  </thead>\n",
       "  <tbody>\n",
       "    <tr>\n",
       "      <th>156</th>\n",
       "      <td>200000.0</td>\n",
       "      <td>per Year</td>\n",
       "      <td>Edo State</td>\n",
       "      <td>1</td>\n",
       "      <td>1</td>\n",
       "      <td>edo</td>\n",
       "      <td>NaN</td>\n",
       "    </tr>\n",
       "    <tr>\n",
       "      <th>200</th>\n",
       "      <td>260000.0</td>\n",
       "      <td>per Year</td>\n",
       "      <td>Delta State</td>\n",
       "      <td>1</td>\n",
       "      <td>1</td>\n",
       "      <td>delta</td>\n",
       "      <td>NaN</td>\n",
       "    </tr>\n",
       "    <tr>\n",
       "      <th>232</th>\n",
       "      <td>250000.0</td>\n",
       "      <td>per Year</td>\n",
       "      <td>Bayelsa State</td>\n",
       "      <td>NaN</td>\n",
       "      <td>NaN</td>\n",
       "      <td>bayelsa</td>\n",
       "      <td>NaN</td>\n",
       "    </tr>\n",
       "    <tr>\n",
       "      <th>233</th>\n",
       "      <td>60000.0</td>\n",
       "      <td>per Year</td>\n",
       "      <td>Bayelsa State</td>\n",
       "      <td>NaN</td>\n",
       "      <td>NaN</td>\n",
       "      <td>bayelsa</td>\n",
       "      <td>NaN</td>\n",
       "    </tr>\n",
       "    <tr>\n",
       "      <th>295</th>\n",
       "      <td>500000.0</td>\n",
       "      <td>per Year</td>\n",
       "      <td>Rivers State</td>\n",
       "      <td>3</td>\n",
       "      <td>3</td>\n",
       "      <td>rivers</td>\n",
       "      <td>NaN</td>\n",
       "    </tr>\n",
       "    <tr>\n",
       "      <th>474</th>\n",
       "      <td>1000000.0</td>\n",
       "      <td>per Year</td>\n",
       "      <td>Rivers State</td>\n",
       "      <td>2</td>\n",
       "      <td>2</td>\n",
       "      <td>rivers</td>\n",
       "      <td>NaN</td>\n",
       "    </tr>\n",
       "    <tr>\n",
       "      <th>492</th>\n",
       "      <td>1400000.0</td>\n",
       "      <td>per Year</td>\n",
       "      <td>Rivers State</td>\n",
       "      <td>3</td>\n",
       "      <td>3</td>\n",
       "      <td>rivers</td>\n",
       "      <td>NaN</td>\n",
       "    </tr>\n",
       "    <tr>\n",
       "      <th>561</th>\n",
       "      <td>4000000.0</td>\n",
       "      <td>per Year</td>\n",
       "      <td>Rivers State</td>\n",
       "      <td>4</td>\n",
       "      <td>4</td>\n",
       "      <td>rivers</td>\n",
       "      <td>NaN</td>\n",
       "    </tr>\n",
       "    <tr>\n",
       "      <th>585</th>\n",
       "      <td>1800000.0</td>\n",
       "      <td>per Year</td>\n",
       "      <td>Rivers State</td>\n",
       "      <td>3</td>\n",
       "      <td>3</td>\n",
       "      <td>rivers</td>\n",
       "      <td>NaN</td>\n",
       "    </tr>\n",
       "    <tr>\n",
       "      <th>600</th>\n",
       "      <td>4500000.0</td>\n",
       "      <td>per Year</td>\n",
       "      <td>Rivers State</td>\n",
       "      <td>5</td>\n",
       "      <td>5</td>\n",
       "      <td>rivers</td>\n",
       "      <td>NaN</td>\n",
       "    </tr>\n",
       "    <tr>\n",
       "      <th>623</th>\n",
       "      <td>2500000.0</td>\n",
       "      <td>per Year</td>\n",
       "      <td>Rivers State</td>\n",
       "      <td>3</td>\n",
       "      <td>3</td>\n",
       "      <td>rivers</td>\n",
       "      <td>NaN</td>\n",
       "    </tr>\n",
       "    <tr>\n",
       "      <th>655</th>\n",
       "      <td>1200000.0</td>\n",
       "      <td>per Year</td>\n",
       "      <td>Rivers State</td>\n",
       "      <td>2</td>\n",
       "      <td>2</td>\n",
       "      <td>rivers</td>\n",
       "      <td>NaN</td>\n",
       "    </tr>\n",
       "  </tbody>\n",
       "</table>\n",
       "</div>"
      ],
      "text/plain": [
       "         price      unit         location bedrooms baths    state location_1\n",
       "156   200000.0  per Year       Edo State         1     1      edo        NaN\n",
       "200   260000.0  per Year     Delta State         1     1    delta        NaN\n",
       "232   250000.0  per Year   Bayelsa State       NaN   NaN  bayelsa        NaN\n",
       "233    60000.0  per Year   Bayelsa State       NaN   NaN  bayelsa        NaN\n",
       "295   500000.0  per Year    Rivers State         3     3   rivers        NaN\n",
       "474  1000000.0  per Year    Rivers State         2     2   rivers        NaN\n",
       "492  1400000.0  per Year    Rivers State         3     3   rivers        NaN\n",
       "561  4000000.0  per Year    Rivers State         4     4   rivers        NaN\n",
       "585  1800000.0  per Year    Rivers State         3     3   rivers        NaN\n",
       "600  4500000.0  per Year    Rivers State         5     5   rivers        NaN\n",
       "623  2500000.0  per Year    Rivers State         3     3   rivers        NaN\n",
       "655  1200000.0  per Year    Rivers State         2     2   rivers        NaN"
      ]
     },
     "execution_count": 124,
     "metadata": {},
     "output_type": "execute_result"
    }
   ],
   "source": [
    "housing_6.loc[housing_6[\"location_1\"].isnull()]"
   ]
  },
  {
   "cell_type": "markdown",
   "metadata": {},
   "source": [
    "    From our dataset above we can easily fill in the missing values from the original location. Thereafter, we overwrite the location with location_1"
   ]
  },
  {
   "cell_type": "code",
   "execution_count": 125,
   "metadata": {
    "collapsed": true
   },
   "outputs": [],
   "source": [
    "# filling missing values\n",
    "housing_6.loc[housing_6[\"location_1\"].isnull(),\"location_1\"] = housing_6.loc[housing_6[\"location_1\"].isnull(),\"location\"]"
   ]
  },
  {
   "cell_type": "code",
   "execution_count": 126,
   "metadata": {
    "collapsed": true
   },
   "outputs": [],
   "source": [
    "# overwriting old location with the new one\n",
    "housing_6[\"location\"] = housing_6[\"location_1\"]"
   ]
  },
  {
   "cell_type": "code",
   "execution_count": 127,
   "metadata": {
    "collapsed": true
   },
   "outputs": [],
   "source": [
    "# droping location_1\n",
    "housing_6.drop('location_1', axis = 1, inplace=True)"
   ]
  },
  {
   "cell_type": "code",
   "execution_count": 128,
   "metadata": {},
   "outputs": [
    {
     "data": {
      "text/plain": [
       " Municipal Area Council    1901\n",
       " Ibeju Lekki                577\n",
       " Lagos State                558\n",
       " Rivers State               360\n",
       " Lagos Island               359\n",
       " Ibadan North West          342\n",
       " Eti Osa                    315\n",
       " Lagos Mainland             298\n",
       " Edu                        205\n",
       " Alimosho                   128\n",
       "Name: location, dtype: int64"
      ]
     },
     "execution_count": 128,
     "metadata": {},
     "output_type": "execute_result"
    }
   ],
   "source": [
    "housing_6[\"location\"].value_counts(dropna=False).head(10)"
   ]
  },
  {
   "cell_type": "code",
   "execution_count": 129,
   "metadata": {},
   "outputs": [
    {
     "data": {
      "text/plain": [
       "per Year    6409\n",
       "Name: unit, dtype: int64"
      ]
     },
     "execution_count": 129,
     "metadata": {},
     "output_type": "execute_result"
    }
   ],
   "source": [
    "# checking unit whether it's neccessary to be keep\n",
    "housing_6['unit'].value_counts()"
   ]
  },
  {
   "cell_type": "code",
   "execution_count": 130,
   "metadata": {
    "collapsed": true
   },
   "outputs": [],
   "source": [
    "# we drop the unit since all prices are in years\n",
    "housing_6.drop('unit', axis =1, inplace=True)"
   ]
  },
  {
   "cell_type": "code",
   "execution_count": 131,
   "metadata": {},
   "outputs": [
    {
     "data": {
      "text/plain": [
       "price         0\n",
       "location      0\n",
       "bedrooms    351\n",
       "baths       351\n",
       "state       501\n",
       "dtype: int64"
      ]
     },
     "execution_count": 131,
     "metadata": {},
     "output_type": "execute_result"
    }
   ],
   "source": [
    "housing_6.isnull().sum()"
   ]
  },
  {
   "cell_type": "markdown",
   "metadata": {},
   "source": [
    "It seems our function couldn't extract some states. We check these up by slicing it out of our dataset."
   ]
  },
  {
   "cell_type": "code",
   "execution_count": 132,
   "metadata": {
    "scrolled": true
   },
   "outputs": [
    {
     "data": {
      "text/plain": [
       " Municipal Area Council              494\n",
       " Federal Capital Territory State       7\n",
       "Name: location, dtype: int64"
      ]
     },
     "execution_count": 132,
     "metadata": {},
     "output_type": "execute_result"
    }
   ],
   "source": [
    "housing_6.loc[housing_6['state'].isnull()]['location'].value_counts()"
   ]
  },
  {
   "cell_type": "markdown",
   "metadata": {},
   "source": [
    "Municipal Area Council & Federal Capital Territory are in \"abuja\". So we labell the missing values abuja"
   ]
  },
  {
   "cell_type": "code",
   "execution_count": 133,
   "metadata": {
    "collapsed": true
   },
   "outputs": [],
   "source": [
    "housing_6.loc[housing_6['state'].isnull(),\"state\"]=\"abuja\""
   ]
  },
  {
   "cell_type": "code",
   "execution_count": 134,
   "metadata": {},
   "outputs": [
    {
     "data": {
      "text/plain": [
       "price         0\n",
       "location      0\n",
       "bedrooms    351\n",
       "baths       351\n",
       "state         0\n",
       "dtype: int64"
      ]
     },
     "execution_count": 134,
     "metadata": {},
     "output_type": "execute_result"
    }
   ],
   "source": [
    "housing_6.isnull().sum()"
   ]
  },
  {
   "cell_type": "code",
   "execution_count": 135,
   "metadata": {},
   "outputs": [
    {
     "data": {
      "text/html": [
       "<div>\n",
       "<style>\n",
       "    .dataframe thead tr:only-child th {\n",
       "        text-align: right;\n",
       "    }\n",
       "\n",
       "    .dataframe thead th {\n",
       "        text-align: left;\n",
       "    }\n",
       "\n",
       "    .dataframe tbody tr th {\n",
       "        vertical-align: top;\n",
       "    }\n",
       "</style>\n",
       "<table border=\"1\" class=\"dataframe\">\n",
       "  <thead>\n",
       "    <tr style=\"text-align: right;\">\n",
       "      <th></th>\n",
       "      <th>price</th>\n",
       "      <th>location</th>\n",
       "      <th>bedrooms</th>\n",
       "      <th>baths</th>\n",
       "      <th>state</th>\n",
       "    </tr>\n",
       "  </thead>\n",
       "  <tbody>\n",
       "    <tr>\n",
       "      <th>0</th>\n",
       "      <td>450000.0</td>\n",
       "      <td>Odeda</td>\n",
       "      <td>2</td>\n",
       "      <td>2</td>\n",
       "      <td>ogun</td>\n",
       "    </tr>\n",
       "    <tr>\n",
       "      <th>1</th>\n",
       "      <td>150000.0</td>\n",
       "      <td>Abeokuta South</td>\n",
       "      <td>1</td>\n",
       "      <td>1</td>\n",
       "      <td>ogun</td>\n",
       "    </tr>\n",
       "    <tr>\n",
       "      <th>2</th>\n",
       "      <td>700000.0</td>\n",
       "      <td>Odeda</td>\n",
       "      <td>3</td>\n",
       "      <td>3</td>\n",
       "      <td>ogun</td>\n",
       "    </tr>\n",
       "    <tr>\n",
       "      <th>3</th>\n",
       "      <td>250000.0</td>\n",
       "      <td>Ogun State</td>\n",
       "      <td>2</td>\n",
       "      <td>2</td>\n",
       "      <td>ogun</td>\n",
       "    </tr>\n",
       "    <tr>\n",
       "      <th>4</th>\n",
       "      <td>200000.0</td>\n",
       "      <td>Obafemi Owode</td>\n",
       "      <td>NaN</td>\n",
       "      <td>NaN</td>\n",
       "      <td>ogun</td>\n",
       "    </tr>\n",
       "  </tbody>\n",
       "</table>\n",
       "</div>"
      ],
      "text/plain": [
       "      price         location bedrooms baths state\n",
       "0  450000.0            Odeda        2     2  ogun\n",
       "1  150000.0   Abeokuta South        1     1  ogun\n",
       "2  700000.0            Odeda        3     3  ogun\n",
       "3  250000.0      Ogun State         2     2  ogun\n",
       "4  200000.0    Obafemi Owode      NaN   NaN  ogun"
      ]
     },
     "execution_count": 135,
     "metadata": {},
     "output_type": "execute_result"
    }
   ],
   "source": [
    "housing_6.head()"
   ]
  },
  {
   "cell_type": "markdown",
   "metadata": {},
   "source": [
    "### TIME TO COMBINE ALL OUR CLEANED DATASETS !!!"
   ]
  },
  {
   "cell_type": "code",
   "execution_count": 136,
   "metadata": {
    "collapsed": true
   },
   "outputs": [],
   "source": [
    "combined = pd.concat([housing_1,housing_2,housing_3,housing_4,housing_5,housing_6])"
   ]
  },
  {
   "cell_type": "code",
   "execution_count": 137,
   "metadata": {},
   "outputs": [
    {
     "data": {
      "text/html": [
       "<div>\n",
       "<style>\n",
       "    .dataframe thead tr:only-child th {\n",
       "        text-align: right;\n",
       "    }\n",
       "\n",
       "    .dataframe thead th {\n",
       "        text-align: left;\n",
       "    }\n",
       "\n",
       "    .dataframe tbody tr th {\n",
       "        vertical-align: top;\n",
       "    }\n",
       "</style>\n",
       "<table border=\"1\" class=\"dataframe\">\n",
       "  <thead>\n",
       "    <tr style=\"text-align: right;\">\n",
       "      <th></th>\n",
       "      <th>price</th>\n",
       "      <th>location</th>\n",
       "      <th>bedrooms</th>\n",
       "      <th>baths</th>\n",
       "      <th>state</th>\n",
       "    </tr>\n",
       "  </thead>\n",
       "  <tbody>\n",
       "    <tr>\n",
       "      <th>0</th>\n",
       "      <td>31440000.0</td>\n",
       "      <td>Oba-Akran</td>\n",
       "      <td>NaN</td>\n",
       "      <td>NaN</td>\n",
       "      <td>lagos</td>\n",
       "    </tr>\n",
       "    <tr>\n",
       "      <th>1</th>\n",
       "      <td>30000000.0</td>\n",
       "      <td>Karshi</td>\n",
       "      <td>NaN</td>\n",
       "      <td>NaN</td>\n",
       "      <td>niger</td>\n",
       "    </tr>\n",
       "    <tr>\n",
       "      <th>2</th>\n",
       "      <td>3600000.0</td>\n",
       "      <td>masaka</td>\n",
       "      <td>NaN</td>\n",
       "      <td>NaN</td>\n",
       "      <td>niger</td>\n",
       "    </tr>\n",
       "    <tr>\n",
       "      <th>3</th>\n",
       "      <td>396000000.0</td>\n",
       "      <td>Badagry Express Way</td>\n",
       "      <td>5</td>\n",
       "      <td>5f</td>\n",
       "      <td>lagos</td>\n",
       "    </tr>\n",
       "    <tr>\n",
       "      <th>4</th>\n",
       "      <td>360000000.0</td>\n",
       "      <td>Badagry Express Way</td>\n",
       "      <td>8</td>\n",
       "      <td>7f</td>\n",
       "      <td>lagos</td>\n",
       "    </tr>\n",
       "  </tbody>\n",
       "</table>\n",
       "</div>"
      ],
      "text/plain": [
       "         price              location bedrooms baths  state\n",
       "0   31440000.0             Oba-Akran      NaN   NaN  lagos\n",
       "1   30000000.0                Karshi      NaN   NaN  niger\n",
       "2    3600000.0                masaka      NaN   NaN  niger\n",
       "3  396000000.0   Badagry Express Way        5    5f  lagos\n",
       "4  360000000.0   Badagry Express Way        8    7f  lagos"
      ]
     },
     "execution_count": 137,
     "metadata": {},
     "output_type": "execute_result"
    }
   ],
   "source": [
    "combined.head()"
   ]
  },
  {
   "cell_type": "code",
   "execution_count": 138,
   "metadata": {},
   "outputs": [
    {
     "data": {
      "text/plain": [
       "price         0\n",
       "location      0\n",
       "bedrooms    499\n",
       "baths       904\n",
       "state         0\n",
       "dtype: int64"
      ]
     },
     "execution_count": 138,
     "metadata": {},
     "output_type": "execute_result"
    }
   ],
   "source": [
    "combined.isnull().sum()"
   ]
  },
  {
   "cell_type": "markdown",
   "metadata": {},
   "source": [
    "    It is possible our location has multiple input of same location due to letter case, spaces before location and additional strings attached to the exact locations. So we take a look at the locations of the combined dataset for further cleaning if neccessary."
   ]
  },
  {
   "cell_type": "code",
   "execution_count": 139,
   "metadata": {},
   "outputs": [
    {
     "data": {
      "text/plain": [
       "array([' Oba-Akran', ' Karshi', ' masaka', ' Badagry Express Way', ' Jabi',\n",
       "       ' Nigeria', 'niger', ' Lakowe Lagos.', ' Ikate', ' eleko Lagos',\n",
       "       ' Ipaja Road', ' Ipakodo', ' Gwarinpa', ' Gudu', ' Ogun', '',\n",
       "       ' Ire Akari', ' off Ago Palace Way', ' Egbeda', ' Opebi',\n",
       "       ' Eti-Osa', ' Lagos - Ibadan Expressway', ' Ikeja', ' Alausa',\n",
       "       ' Abuja FCT', ' Lekki', ' Adeniyi Jones', ' Ikorodu', ' Yaba',\n",
       "       ' Lakowe', ' Opposite Lagos Business School', ' Ebute Metta',\n",
       "       ' Anthony', ' Ibadan', ' along Lagos Ibadan express way',\n",
       "       ' Sangotedo', ' Ogba', ' off Amodu Ojikutu', ' Phase 3',\n",
       "       ' Atunrase/Medina/Soluyi', ' VI Extension', ' Gbagada',\n",
       "       ' UPS/Millenium Estate', ' Magodo Phase 1', ' Parkview/Bourdillon',\n",
       "       ' Old Ikoyi', ' Ikeja GRA', ' Kosofe', ' Ifako-Ijaiye',\n",
       "       ' Ring Road', ' Ajah', ' bordering Asokoro & Guzape',\n",
       "       ' Along Akobo-Olorunda Road', ' 1(s) crescent', ' Durumi Garki',\n",
       "       ' DIPLOMATIC ZONE', ' Banana Island', ' 5th & 6th avenue',\n",
       "       ' near Oba Elegushi House', ' Obalende', ' Isolo', ' Mowe',\n",
       "       ' Magboro', ' Oniru', ' Ikota', ' Surulere', ' Warri South',\n",
       "       ' Old Yaba', ' Magodo Phase 2', ' Alpha beach/Lafiaji road',\n",
       "       ' Ikorodu Road', ' Ogudu', ' Palmgroove', ' Alagomeji', ' Alapere',\n",
       "       ' Ikosi GRA', ' Ojota', 'Gbaja', ' Festac', ' Lagos', ' Anifowose',\n",
       "       'Ikoyi', ' Odoguyan', ' Ogidan', ' Lekki Phase 1', ' Abuja',\n",
       "       ' Omole', ' Aguda-Ogba', ' common fence with Cooperative Villa.',\n",
       "       ' adj. Chevron', ' Ikoyi', ' Victoria Island',\n",
       "       ' opposite Excellence Hotel', ' Parkview Estate',\n",
       "       ' Off Adeola Odeku Street', ' Mayfair Gardens', ' Wuse 2',\n",
       "       ' Ado-Badore', ' Agric', ' Aseese-Ibafo', ' Agege', ' Ilogbo',\n",
       "       ' Aguda', ' Alimosho', ' Agidingbi', ' Ado-Odo/Ota', ' Ibeju/Lekki',\n",
       "       ' Ketu', ' Oluwalogbon', ' Ijede', ' NEPA Estate', ' Ogombo road',\n",
       "       ' Lugard Avenue', ' Ewekoro', ' Ojodu', ' Ozumba Mbadiwe',\n",
       "       ' Lekki Expressway', ' Maryland', ' Shomolu', ' Mende', ' Agungi',\n",
       "       ' Mobil Road.', ' Ilaje.', ' Magodo', ' Oregun', ' Iba',\n",
       "       ' 7B Alexander Avenue', ' Allen', ' Apapa', ' Oke -Koto', ' Sango',\n",
       "       ' Adeola Odeku', ' Lagos Island', ' Asokoro', ' Okokonkla',\n",
       "       ' Gwarinpa.', ' Nyanya', ' Balogun', ' Egba satellite',\n",
       "       ' Amuwo-Odofin', ' Abule Egba', ' Kubwa', ' Karu', ' Bwari',\n",
       "       ' Magboro.', ' Kuje Area', ' Kwali', ' Port Harcourt', ' Rivers',\n",
       "       ' Abuja Municipal', ' Off Olufeyisan Street', ' Goodwill Estate',\n",
       "       ' CBD', ' off Prince Alaba Oniru Wa', ' Omole Estate', ' GRA',\n",
       "       ' Bodija', ' Ijesha', ' Badagry', ' Calabar Municipality',\n",
       "       ' Blk 53A Plot 16', ' Mudashiru Owoyele Street', ' Obafemi/owode',\n",
       "       ' Ikotun', ' Obanikoro', ' Saadatu', ' Arepo', ' Abijo',\n",
       "       ' Ibadan North-West', ' Adetokunbo Ademola', ' Abeokuta South',\n",
       "       ' Ibadan South West', ' Sura', ' Off Great Challenge Road',\n",
       "       ' Opp GRA', ' Eleko', ' Ligali Ayorinde', ' Louis Solomo',\n",
       "       ' Oke Ira', ' Makoko', ' 1st Avenue',\n",
       "       ' Federal Govt. housing scheme', ' Oshodi', ' victoria island',\n",
       "       ' Abeokuta', ' off Adeniyi Jones Avenue', ' Aba', ' Tinubu',\n",
       "       ' Lagos-Epe Express way', ' behind Alade market',\n",
       "       ' Randle Crescent ', ' Oba Akran Avenue', ' Ojo-Alaba', ' VI',\n",
       "       ' Adetokunbo Ademola street', ' ilupeju', ' Victoria Island (VI)',\n",
       "       ' Ojo', ' Lagos Island West', ' Ikoyi-obalende', ' Egbe Idimu',\n",
       "       ' Lagos Mainland', 'Ogun', ' Ogun Waterside', ' Abeokuta North',\n",
       "       ' Maitama', ' Katampe', ' Durumi', ' Enugu South', ' Kaduna South',\n",
       "       ' Owerri-municipal', ' Abakaliki', ' Wuse II', ' Guzape', ' Kaura',\n",
       "       ' Utako', 'Lagos', ' Garki I', ' Garki II', ' Igando-ikotun',\n",
       "       ' Nbora', ' Wuse', ' Ibeju', ' Iru-victoria Island',\n",
       "       ' Lagos Island East', 'Lekki', 'Ajah', 'Victoria Island (VI)',\n",
       "       'Idimu', 'Egbe', 'Apo', 'Apapa', 'Port Harcourt', 'Durumi', 'Dutse',\n",
       "       'taruni', 'Dawaki', 'Nyanya', 'Kubwa', 'panisau', 'Mararaba',\n",
       "       'Gwandara Karu', 'Ado', 'Deidei', 'Dei Dei', 'Gwarimpa', 'Jahi',\n",
       "       'Gurku', 'Gbagalape', 'Ggagalape', 'Ggagalape Abuja', 'Karu',\n",
       "       'Massaka', 'Gwandara', 'Jabi', 'Asokoro', 'New Karu', 'Abacha road',\n",
       "       'Gwarinpa', 'Ado Town', 'Lokogoma', 'Dei-Dei', 'Life Camp',\n",
       "       'Life camp', 'Wuse Zone 6', 'Wuse Zone 3', 'Wuye', 'Utako',\n",
       "       'CBD-Abuja', 'Airport junction Jabi', 'Katampe Extension', 'A.Y.A',\n",
       "       'Abuja', 'Gudu', 'Wuse Zone 4', 'Wuse Zone 7', 'Gwarimpa 2',\n",
       "       'Wuse II', 'Lifecamp', ' Odeda', ' Ogun State ', ' Obafemi Owode',\n",
       "       ' Egbado North', ' Municipal Area Council', ' Kaduna State ',\n",
       "       ' Enugu North', ' Kaduna North', ' Enugu State ', ' Zangon Kataf',\n",
       "       ' Enugu East', ' Ilorin East', ' Edu', ' Asa', ' Kwara State ',\n",
       "       ' Ibeju Lekki', ' Eti Osa', ' Lagos State ', ' Mushin',\n",
       "       ' Owerri Municipal', ' Edo State ', ' Oredo', ' Delta State ',\n",
       "       ' Uvwie', ' Ogoja', ' Guma', ' Bayelsa State ', ' Michika',\n",
       "       ' Akwa Ibom State ', ' Rivers State ', ' Umuahia North', ' Gbonyin',\n",
       "       ' Ido', ' Oluyole', ' Oyo State ', ' Oyo West',\n",
       "       ' Ibadan North West', ' Osun State ', ' Ola Oluwa', ' Oshodi/Isolo',\n",
       "       ' Lagelu', ' Port-Harcourt', ' Calabar Municipal',\n",
       "       ' Cross River State ', ' Akure South', ' Ori Ire', ' Shagamu',\n",
       "       ' Sokoto State ', ' Plateau State ', ' Gada', ' Jos South',\n",
       "       ' Ado Odo/Ota', ' Federal Capital Territory State ', ' Ifo',\n",
       "       ' Ogbomosho North', ' Epe'], dtype=object)"
      ]
     },
     "execution_count": 139,
     "metadata": {},
     "output_type": "execute_result"
    }
   ],
   "source": [
    "combined[\"location\"].unique()"
   ]
  },
  {
   "cell_type": "markdown",
   "metadata": {},
   "source": [
    "    We notice errors inlocations in Lekki, Port-Harcourt, Ikoyi and Victoria Island. \n",
    "    To fix these, we change all the locations to lower case and strip trailing spaces.Then we replace wrong locations with   the right ones using regrex"
   ]
  },
  {
   "cell_type": "code",
   "execution_count": 140,
   "metadata": {
    "collapsed": true
   },
   "outputs": [],
   "source": [
    "# changing to lower case and removing spaces\n",
    "combined['location'] = combined['location'].astype(str).str.lower().str.strip()"
   ]
  },
  {
   "cell_type": "code",
   "execution_count": 141,
   "metadata": {},
   "outputs": [
    {
     "name": "stderr",
     "output_type": "stream",
     "text": [
      "C:\\Users\\Ikeen\\Anaconda3\\lib\\site-packages\\ipykernel_launcher.py:1: UserWarning: This pattern has match groups. To actually get the groups, use str.extract.\n",
      "  \"\"\"Entry point for launching an IPython kernel.\n",
      "C:\\Users\\Ikeen\\Anaconda3\\lib\\site-packages\\ipykernel_launcher.py:2: UserWarning: This pattern has match groups. To actually get the groups, use str.extract.\n",
      "  \n",
      "C:\\Users\\Ikeen\\Anaconda3\\lib\\site-packages\\ipykernel_launcher.py:3: UserWarning: This pattern has match groups. To actually get the groups, use str.extract.\n",
      "  This is separate from the ipykernel package so we can avoid doing imports until\n",
      "C:\\Users\\Ikeen\\Anaconda3\\lib\\site-packages\\ipykernel_launcher.py:4: UserWarning: This pattern has match groups. To actually get the groups, use str.extract.\n",
      "  after removing the cwd from sys.path.\n"
     ]
    }
   ],
   "source": [
    "combined.loc[combined['location'].str.contains(r'(lekki)'),'location'] = 'lekki'\n",
    "combined.loc[combined['location'].str.contains(r'(victoria island)'),'location'] = 'victoria island'\n",
    "combined.loc[combined['location'].str.contains(r'(harcourt)'),'location'] = 'port-harcourt'\n",
    "combined.loc[combined['location'].str.contains(r'(ikoyi)'),'location'] = 'ikoyi'"
   ]
  },
  {
   "cell_type": "code",
   "execution_count": 142,
   "metadata": {},
   "outputs": [
    {
     "data": {
      "text/plain": [
       "municipal area council    1901\n",
       "lekki                     1206\n",
       "lagos state                558\n",
       "lagos island               364\n",
       "rivers state               360\n",
       "ibadan north west          342\n",
       "eti osa                    315\n",
       "lagos mainland             314\n",
       "ikoyi                      237\n",
       "edu                        205\n",
       "alimosho                   131\n",
       "egbado north               124\n",
       "odeda                      113\n",
       "ifo                        106\n",
       "shomolu                    102\n",
       "ikeja                       95\n",
       "mushin                      86\n",
       "port-harcourt               83\n",
       "victoria island             79\n",
       "ogun state                  74\n",
       "Name: location, dtype: int64"
      ]
     },
     "execution_count": 142,
     "metadata": {},
     "output_type": "execute_result"
    }
   ],
   "source": [
    "combined['location'].value_counts().head(20)"
   ]
  },
  {
   "cell_type": "markdown",
   "metadata": {},
   "source": [
    "    We do a quick check on states too"
   ]
  },
  {
   "cell_type": "code",
   "execution_count": 143,
   "metadata": {
    "scrolled": true
   },
   "outputs": [
    {
     "data": {
      "text/plain": [
       "lagos          3111\n",
       "abuja          2143\n",
       "oyo             564\n",
       "ogun            523\n",
       "Lagos           487\n",
       "rivers          444\n",
       " Lagos          366\n",
       "kwara           246\n",
       "Abuja           105\n",
       "niger            59\n",
       "nasarawa         53\n",
       "kaduna           37\n",
       "edo              25\n",
       "cross river      22\n",
       "enugu            21\n",
       "imo              18\n",
       "sokoto           12\n",
       "plateau          12\n",
       "ondo             12\n",
       "akwa ibom        10\n",
       "osun              9\n",
       "delta             8\n",
       "Ogun              7\n",
       "abia              5\n",
       "Imo               4\n",
       "adamawa           4\n",
       "Ebonyi            4\n",
       " Abuja            3\n",
       "Kaduna            3\n",
       "kano              3\n",
       "bayelsa           2\n",
       "Enugu             2\n",
       "Rivers            2\n",
       "benue             1\n",
       " Rivers           1\n",
       "ekiti             1\n",
       "Name: state, dtype: int64"
      ]
     },
     "execution_count": 143,
     "metadata": {},
     "output_type": "execute_result"
    }
   ],
   "source": [
    "combined['state'].value_counts()"
   ]
  },
  {
   "cell_type": "markdown",
   "metadata": {},
   "source": [
    "    We see multiple entries for the same states caused by capitalization and spaces. We now fix these as we did for location"
   ]
  },
  {
   "cell_type": "code",
   "execution_count": 144,
   "metadata": {
    "collapsed": true
   },
   "outputs": [],
   "source": [
    "combined['state'] = combined['state'].str.lower().str.strip()"
   ]
  },
  {
   "cell_type": "code",
   "execution_count": 145,
   "metadata": {},
   "outputs": [
    {
     "data": {
      "text/plain": [
       "lagos          3964\n",
       "abuja          2251\n",
       "oyo             564\n",
       "ogun            530\n",
       "rivers          447\n",
       "kwara           246\n",
       "niger            59\n",
       "nasarawa         53\n",
       "kaduna           40\n",
       "edo              25\n",
       "enugu            23\n",
       "cross river      22\n",
       "imo              22\n",
       "sokoto           12\n",
       "ondo             12\n",
       "plateau          12\n",
       "akwa ibom        10\n",
       "osun              9\n",
       "delta             8\n",
       "abia              5\n",
       "adamawa           4\n",
       "ebonyi            4\n",
       "kano              3\n",
       "bayelsa           2\n",
       "benue             1\n",
       "ekiti             1\n",
       "Name: state, dtype: int64"
      ]
     },
     "execution_count": 145,
     "metadata": {},
     "output_type": "execute_result"
    }
   ],
   "source": [
    "combined['state'].value_counts()"
   ]
  },
  {
   "cell_type": "code",
   "execution_count": 146,
   "metadata": {},
   "outputs": [
    {
     "name": "stdout",
     "output_type": "stream",
     "text": [
      "<class 'pandas.core.frame.DataFrame'>\n",
      "Int64Index: 8329 entries, 0 to 6408\n",
      "Data columns (total 5 columns):\n",
      "price       8329 non-null float64\n",
      "location    8329 non-null object\n",
      "bedrooms    7830 non-null object\n",
      "baths       7425 non-null object\n",
      "state       8329 non-null object\n",
      "dtypes: float64(1), object(4)\n",
      "memory usage: 390.4+ KB\n"
     ]
    }
   ],
   "source": [
    "combined.info()"
   ]
  },
  {
   "cell_type": "markdown",
   "metadata": {},
   "source": [
    "### Cleaning the Bedrooms and Baths coloumns"
   ]
  },
  {
   "cell_type": "code",
   "execution_count": 147,
   "metadata": {},
   "outputs": [
    {
     "data": {
      "text/plain": [
       "3        2127\n",
       "2        1515\n",
       "4         929\n",
       "1         919\n",
       "3.0       536\n",
       "NaN       499\n",
       "4.0       407\n",
       "5         362\n",
       "2.0       244\n",
       "0.0       198\n",
       "5.0       189\n",
       "1.0       139\n",
       "6          58\n",
       "1 br       50\n",
       "7          26\n",
       "6.0        25\n",
       "2 br       10\n",
       "7.0         9\n",
       "10          8\n",
       "9           7\n",
       "3 br        7\n",
       "5 br        7\n",
       "4 br        6\n",
       "8.0         5\n",
       "8           5\n",
       "10.0        4\n",
       "7 br        4\n",
       "9.0         3\n",
       "15.0        3\n",
       "12          3\n",
       "8 br        3\n",
       "12.0        3\n",
       "6 br        2\n",
       "11.0        2\n",
       "16.0        2\n",
       "30.0        2\n",
       "11 br       2\n",
       "18          2\n",
       "14.0        1\n",
       "13 br       1\n",
       "10 br       1\n",
       "20 br       1\n",
       "15          1\n",
       "12 br       1\n",
       "14          1\n",
       "Name: bedrooms, dtype: int64"
      ]
     },
     "execution_count": 147,
     "metadata": {},
     "output_type": "execute_result"
    }
   ],
   "source": [
    "combined['bedrooms'].value_counts(dropna=False)"
   ]
  },
  {
   "cell_type": "code",
   "execution_count": 148,
   "metadata": {
    "scrolled": true
   },
   "outputs": [
    {
     "data": {
      "text/plain": [
       "array([nan, 5.0, 8.0, 3.0, 4.0, 0.0, 6.0, 2.0, 1.0, 12.0, 9.0, 7.0, 30.0,\n",
       "       16.0, 11.0, 10.0, 15.0, 14.0, '2', '1', '3', '12', '7', '4',\n",
       "       '10 br', '1 br', '5', '2 br', '6', '5 br', '18', '10', '9', '7 br',\n",
       "       '3 br', '8', '4 br', '6 br', '15', '8 br', '14', '20 br', '11 br',\n",
       "       '13 br', '12 br'], dtype=object)"
      ]
     },
     "execution_count": 148,
     "metadata": {},
     "output_type": "execute_result"
    }
   ],
   "source": [
    "combined['bedrooms'].unique()"
   ]
  },
  {
   "cell_type": "markdown",
   "metadata": {},
   "source": [
    "    We can see we have some strings and some float and integer values that are the same (e.g 3 and 3.0). We first get rid of all the strings and convert the rest to numbers."
   ]
  },
  {
   "cell_type": "code",
   "execution_count": 149,
   "metadata": {
    "collapsed": true
   },
   "outputs": [],
   "source": [
    "# removing unwanted charaters and converting to float\n",
    "combined['bedrooms'] = combined['bedrooms'].astype(str).str.replace('br','').astype(float)"
   ]
  },
  {
   "cell_type": "code",
   "execution_count": 150,
   "metadata": {},
   "outputs": [
    {
     "data": {
      "text/plain": [
       " 3.0     2670\n",
       " 2.0     1769\n",
       " 4.0     1342\n",
       " 1.0     1108\n",
       " 5.0      558\n",
       "NaN       499\n",
       " 0.0      198\n",
       " 6.0       85\n",
       " 7.0       39\n",
       " 10.0      13\n",
       " 8.0       13\n",
       " 9.0       10\n",
       " 12.0       7\n",
       " 11.0       4\n",
       " 15.0       4\n",
       " 16.0       2\n",
       " 18.0       2\n",
       " 14.0       2\n",
       " 30.0       2\n",
       " 20.0       1\n",
       " 13.0       1\n",
       "Name: bedrooms, dtype: int64"
      ]
     },
     "execution_count": 150,
     "metadata": {},
     "output_type": "execute_result"
    }
   ],
   "source": [
    "combined['bedrooms'].value_counts(dropna=False)"
   ]
  },
  {
   "cell_type": "markdown",
   "metadata": {},
   "source": [
    "    We see here that we have close to 500 missing values and 198 houses with no bedrooms. Let's find out the mode and mean number of bedrooms."
   ]
  },
  {
   "cell_type": "code",
   "execution_count": 151,
   "metadata": {},
   "outputs": [
    {
     "name": "stdout",
     "output_type": "stream",
     "text": [
      "3.0\n",
      "0    3.0\n",
      "dtype: float64\n"
     ]
    }
   ],
   "source": [
    "print(round(combined.bedrooms.mean(),0))\n",
    "print(round(combined.bedrooms.mode(),0))"
   ]
  },
  {
   "cell_type": "markdown",
   "metadata": {},
   "source": [
    "    Both the mode and mean are approximately 3. This seems to be a safe estimate. We will fill in the missing values with the mean"
   ]
  },
  {
   "cell_type": "code",
   "execution_count": 152,
   "metadata": {
    "collapsed": true
   },
   "outputs": [],
   "source": [
    "combined.bedrooms.fillna(3, inplace=True)"
   ]
  },
  {
   "cell_type": "markdown",
   "metadata": {},
   "source": [
    "### Baths"
   ]
  },
  {
   "cell_type": "code",
   "execution_count": 153,
   "metadata": {},
   "outputs": [
    {
     "data": {
      "text/plain": [
       "3      2296\n",
       "2      1575\n",
       "4      1119\n",
       "1       932\n",
       "NaN     904\n",
       "5       440\n",
       "0f      283\n",
       "3.0     133\n",
       "4.0      87\n",
       "6        71\n",
       "Name: baths, dtype: int64"
      ]
     },
     "execution_count": 153,
     "metadata": {},
     "output_type": "execute_result"
    }
   ],
   "source": [
    "combined['baths'].value_counts(dropna=False).head(10)"
   ]
  },
  {
   "cell_type": "markdown",
   "metadata": {},
   "source": [
    "    We observe here that it seems that bathroom data were collected for baths.  It's check this."
   ]
  },
  {
   "cell_type": "code",
   "execution_count": 154,
   "metadata": {},
   "outputs": [
    {
     "data": {
      "text/html": [
       "<div>\n",
       "<style>\n",
       "    .dataframe thead tr:only-child th {\n",
       "        text-align: right;\n",
       "    }\n",
       "\n",
       "    .dataframe thead th {\n",
       "        text-align: left;\n",
       "    }\n",
       "\n",
       "    .dataframe tbody tr th {\n",
       "        vertical-align: top;\n",
       "    }\n",
       "</style>\n",
       "<table border=\"1\" class=\"dataframe\">\n",
       "  <thead>\n",
       "    <tr style=\"text-align: right;\">\n",
       "      <th></th>\n",
       "      <th>bedrooms</th>\n",
       "      <th>baths</th>\n",
       "    </tr>\n",
       "  </thead>\n",
       "  <tbody>\n",
       "    <tr>\n",
       "      <th>0</th>\n",
       "      <td>3.0</td>\n",
       "      <td>NaN</td>\n",
       "    </tr>\n",
       "    <tr>\n",
       "      <th>1</th>\n",
       "      <td>3.0</td>\n",
       "      <td>NaN</td>\n",
       "    </tr>\n",
       "    <tr>\n",
       "      <th>2</th>\n",
       "      <td>3.0</td>\n",
       "      <td>NaN</td>\n",
       "    </tr>\n",
       "    <tr>\n",
       "      <th>3</th>\n",
       "      <td>5.0</td>\n",
       "      <td>5f</td>\n",
       "    </tr>\n",
       "    <tr>\n",
       "      <th>4</th>\n",
       "      <td>8.0</td>\n",
       "      <td>7f</td>\n",
       "    </tr>\n",
       "    <tr>\n",
       "      <th>5</th>\n",
       "      <td>3.0</td>\n",
       "      <td>3f</td>\n",
       "    </tr>\n",
       "    <tr>\n",
       "      <th>6</th>\n",
       "      <td>5.0</td>\n",
       "      <td>5f</td>\n",
       "    </tr>\n",
       "    <tr>\n",
       "      <th>7</th>\n",
       "      <td>4.0</td>\n",
       "      <td>4f</td>\n",
       "    </tr>\n",
       "    <tr>\n",
       "      <th>8</th>\n",
       "      <td>4.0</td>\n",
       "      <td>4f</td>\n",
       "    </tr>\n",
       "    <tr>\n",
       "      <th>9</th>\n",
       "      <td>3.0</td>\n",
       "      <td>3f</td>\n",
       "    </tr>\n",
       "    <tr>\n",
       "      <th>10</th>\n",
       "      <td>0.0</td>\n",
       "      <td>NaN</td>\n",
       "    </tr>\n",
       "    <tr>\n",
       "      <th>11</th>\n",
       "      <td>4.0</td>\n",
       "      <td>4f</td>\n",
       "    </tr>\n",
       "    <tr>\n",
       "      <th>12</th>\n",
       "      <td>0.0</td>\n",
       "      <td>NaN</td>\n",
       "    </tr>\n",
       "    <tr>\n",
       "      <th>13</th>\n",
       "      <td>0.0</td>\n",
       "      <td>NaN</td>\n",
       "    </tr>\n",
       "    <tr>\n",
       "      <th>14</th>\n",
       "      <td>3.0</td>\n",
       "      <td>3f</td>\n",
       "    </tr>\n",
       "    <tr>\n",
       "      <th>15</th>\n",
       "      <td>3.0</td>\n",
       "      <td>3f</td>\n",
       "    </tr>\n",
       "    <tr>\n",
       "      <th>16</th>\n",
       "      <td>4.0</td>\n",
       "      <td>4f</td>\n",
       "    </tr>\n",
       "    <tr>\n",
       "      <th>17</th>\n",
       "      <td>6.0</td>\n",
       "      <td>6f</td>\n",
       "    </tr>\n",
       "    <tr>\n",
       "      <th>18</th>\n",
       "      <td>0.0</td>\n",
       "      <td>NaN</td>\n",
       "    </tr>\n",
       "    <tr>\n",
       "      <th>19</th>\n",
       "      <td>5.0</td>\n",
       "      <td>6f</td>\n",
       "    </tr>\n",
       "  </tbody>\n",
       "</table>\n",
       "</div>"
      ],
      "text/plain": [
       "    bedrooms baths\n",
       "0        3.0   NaN\n",
       "1        3.0   NaN\n",
       "2        3.0   NaN\n",
       "3        5.0    5f\n",
       "4        8.0    7f\n",
       "5        3.0    3f\n",
       "6        5.0    5f\n",
       "7        4.0    4f\n",
       "8        4.0    4f\n",
       "9        3.0    3f\n",
       "10       0.0   NaN\n",
       "11       4.0    4f\n",
       "12       0.0   NaN\n",
       "13       0.0   NaN\n",
       "14       3.0    3f\n",
       "15       3.0    3f\n",
       "16       4.0    4f\n",
       "17       6.0    6f\n",
       "18       0.0   NaN\n",
       "19       5.0    6f"
      ]
     },
     "execution_count": 154,
     "metadata": {},
     "output_type": "execute_result"
    }
   ],
   "source": [
    "combined[['bedrooms', 'baths']].head(20)"
   ]
  },
  {
   "cell_type": "markdown",
   "metadata": {},
   "source": [
    "    What we see here agrees with what we know about the number of bedrooms and baths in a house. The available bedrooms determine the number of bathrooms. However, the number bedrooms are always higher or equal to  the number of bathrooms.\n",
    "  \n",
    "    We'll know clean baths just like we did to bathrooms\n",
    "  "
   ]
  },
  {
   "cell_type": "code",
   "execution_count": 155,
   "metadata": {},
   "outputs": [
    {
     "data": {
      "text/plain": [
       "array([nan, '5f', '7f', '3f', '4f', '6f', '2f', '0f', '1f', '10f', '9f',\n",
       "       '3.5f', 6.0, 3.0, 1.0, 2.0, 4.0, '4', '2', '3', '1', '5',\n",
       "       '\\r\\r\\n                    Floor Size', '7', '14', '8',\n",
       "       '\\r\\r\\n                    ', '15', '6', '4,5', '9', '11', '4.5',\n",
       "       '10', '3,5', '3.5', 5, 0, 10, 7, 16, '12', '10 br', '1 br', '2 br',\n",
       "       '5 br', '18', '7 br', '3 br', '4 br', '6 br', '8 br', '20 br',\n",
       "       '11 br', '13 br', '12 br'], dtype=object)"
      ]
     },
     "execution_count": 155,
     "metadata": {},
     "output_type": "execute_result"
    }
   ],
   "source": [
    "combined['baths'].unique()"
   ]
  },
  {
   "cell_type": "code",
   "execution_count": 156,
   "metadata": {
    "collapsed": true
   },
   "outputs": [],
   "source": [
    "# removing strings and unwanted characters\n",
    "combined['baths'] = combined['baths'].astype(str).str.replace(\"br|f|\\r\\r\\n|Floor Size\",\"\").str.replace(\",\",\".\").str.strip()"
   ]
  },
  {
   "cell_type": "code",
   "execution_count": 157,
   "metadata": {},
   "outputs": [
    {
     "data": {
      "text/plain": [
       " 3.0     2478\n",
       " 2.0     1652\n",
       " 4.0     1251\n",
       " 1.0     1007\n",
       "NaN       914\n",
       " 5.0      511\n",
       " 0.0      321\n",
       " 6.0       94\n",
       " 7.0       39\n",
       " 8.0       18\n",
       " 10.0      13\n",
       " 9.0       10\n",
       " 12.0       4\n",
       " 3.5        3\n",
       " 11.0       3\n",
       " 18.0       2\n",
       " 14.0       2\n",
       " 15.0       2\n",
       " 4.5        2\n",
       " 16.0       1\n",
       " 20.0       1\n",
       " 13.0       1\n",
       "Name: baths, dtype: int64"
      ]
     },
     "execution_count": 157,
     "metadata": {},
     "output_type": "execute_result"
    }
   ],
   "source": [
    "combined['baths'] = pd.to_numeric(combined['baths'], errors = \"coerce\")\n",
    "combined['baths'].value_counts(dropna=False)"
   ]
  },
  {
   "cell_type": "markdown",
   "metadata": {},
   "source": [
    "    we still have about 914 missing values for baths. Since the number of bedrooms are approximately the same as number of baths, we can fill in the values of bedrooms where bath is missing."
   ]
  },
  {
   "cell_type": "code",
   "execution_count": 158,
   "metadata": {
    "collapsed": true
   },
   "outputs": [],
   "source": [
    "combined.loc[combined['baths'].isnull(), 'baths'] = combined.loc[combined['baths'].isnull(), 'bedrooms']"
   ]
  },
  {
   "cell_type": "markdown",
   "metadata": {},
   "source": [
    "    We now check the dataset statistics to find out if there's anything more we need to work on."
   ]
  },
  {
   "cell_type": "code",
   "execution_count": 159,
   "metadata": {},
   "outputs": [
    {
     "data": {
      "text/html": [
       "<div>\n",
       "<style>\n",
       "    .dataframe thead tr:only-child th {\n",
       "        text-align: right;\n",
       "    }\n",
       "\n",
       "    .dataframe thead th {\n",
       "        text-align: left;\n",
       "    }\n",
       "\n",
       "    .dataframe tbody tr th {\n",
       "        vertical-align: top;\n",
       "    }\n",
       "</style>\n",
       "<table border=\"1\" class=\"dataframe\">\n",
       "  <thead>\n",
       "    <tr style=\"text-align: right;\">\n",
       "      <th></th>\n",
       "      <th>price</th>\n",
       "      <th>bedrooms</th>\n",
       "      <th>baths</th>\n",
       "    </tr>\n",
       "  </thead>\n",
       "  <tbody>\n",
       "    <tr>\n",
       "      <th>count</th>\n",
       "      <td>8.329000e+03</td>\n",
       "      <td>8329.000000</td>\n",
       "      <td>8329.000000</td>\n",
       "    </tr>\n",
       "    <tr>\n",
       "      <th>mean</th>\n",
       "      <td>8.806046e+08</td>\n",
       "      <td>2.856886</td>\n",
       "      <td>2.740365</td>\n",
       "    </tr>\n",
       "    <tr>\n",
       "      <th>std</th>\n",
       "      <td>5.285691e+10</td>\n",
       "      <td>1.485335</td>\n",
       "      <td>1.538990</td>\n",
       "    </tr>\n",
       "    <tr>\n",
       "      <th>min</th>\n",
       "      <td>1.000000e+01</td>\n",
       "      <td>0.000000</td>\n",
       "      <td>0.000000</td>\n",
       "    </tr>\n",
       "    <tr>\n",
       "      <th>25%</th>\n",
       "      <td>6.000000e+05</td>\n",
       "      <td>2.000000</td>\n",
       "      <td>2.000000</td>\n",
       "    </tr>\n",
       "    <tr>\n",
       "      <th>50%</th>\n",
       "      <td>2.000000e+06</td>\n",
       "      <td>3.000000</td>\n",
       "      <td>3.000000</td>\n",
       "    </tr>\n",
       "    <tr>\n",
       "      <th>75%</th>\n",
       "      <td>8.000000e+06</td>\n",
       "      <td>4.000000</td>\n",
       "      <td>3.000000</td>\n",
       "    </tr>\n",
       "    <tr>\n",
       "      <th>max</th>\n",
       "      <td>4.800000e+12</td>\n",
       "      <td>30.000000</td>\n",
       "      <td>30.000000</td>\n",
       "    </tr>\n",
       "  </tbody>\n",
       "</table>\n",
       "</div>"
      ],
      "text/plain": [
       "              price     bedrooms        baths\n",
       "count  8.329000e+03  8329.000000  8329.000000\n",
       "mean   8.806046e+08     2.856886     2.740365\n",
       "std    5.285691e+10     1.485335     1.538990\n",
       "min    1.000000e+01     0.000000     0.000000\n",
       "25%    6.000000e+05     2.000000     2.000000\n",
       "50%    2.000000e+06     3.000000     3.000000\n",
       "75%    8.000000e+06     4.000000     3.000000\n",
       "max    4.800000e+12    30.000000    30.000000"
      ]
     },
     "execution_count": 159,
     "metadata": {},
     "output_type": "execute_result"
    }
   ],
   "source": [
    "combined.describe()"
   ]
  },
  {
   "cell_type": "markdown",
   "metadata": {},
   "source": [
    "    From the general statistics of our dataset, we see the minimum price is 1 naira per year. It is absurd. We need to remove unreabonable price. Any row with price less than 50,000 naira per year should be droped from our dataset.\n",
    "    But first, we need to check the percentage of rows that falls within this range. "
   ]
  },
  {
   "cell_type": "code",
   "execution_count": 160,
   "metadata": {
    "scrolled": true
   },
   "outputs": [
    {
     "name": "stdout",
     "output_type": "stream",
     "text": [
      "99.0% of our data has a price of 50,000 naira or higher.\n"
     ]
    }
   ],
   "source": [
    "# checking the perntage of our data that isn't affected\n",
    "percent = ((~combined[\"price\"].between(0,50000)).sum()/combined.shape[0] *100)\n",
    "print('{}% of our data has a price of 50,000 naira or higher.'.format(round(percent)))"
   ]
  },
  {
   "cell_type": "code",
   "execution_count": 161,
   "metadata": {
    "collapsed": true
   },
   "outputs": [],
   "source": [
    "# droping rows with price lower than 50,000 and reseting the index\n",
    "combined.drop(combined[combined[\"price\"].between(0,50000)].index,axis =0, inplace =True)\n",
    "combined.reset_index(drop =True, inplace=True)"
   ]
  },
  {
   "cell_type": "code",
   "execution_count": 162,
   "metadata": {
    "scrolled": true
   },
   "outputs": [
    {
     "data": {
      "text/plain": [
       "price       0\n",
       "location    0\n",
       "bedrooms    0\n",
       "baths       0\n",
       "state       0\n",
       "dtype: int64"
      ]
     },
     "execution_count": 162,
     "metadata": {},
     "output_type": "execute_result"
    }
   ],
   "source": [
    "combined.isnull().sum()"
   ]
  },
  {
   "cell_type": "code",
   "execution_count": 163,
   "metadata": {},
   "outputs": [
    {
     "name": "stdout",
     "output_type": "stream",
     "text": [
      "<class 'pandas.core.frame.DataFrame'>\n",
      "RangeIndex: 8225 entries, 0 to 8224\n",
      "Data columns (total 5 columns):\n",
      "price       8225 non-null float64\n",
      "location    8225 non-null object\n",
      "bedrooms    8225 non-null float64\n",
      "baths       8225 non-null float64\n",
      "state       8225 non-null object\n",
      "dtypes: float64(3), object(2)\n",
      "memory usage: 321.4+ KB\n"
     ]
    }
   ],
   "source": [
    "combined.info()"
   ]
  },
  {
   "cell_type": "code",
   "execution_count": 164,
   "metadata": {},
   "outputs": [
    {
     "data": {
      "text/html": [
       "<div>\n",
       "<style>\n",
       "    .dataframe thead tr:only-child th {\n",
       "        text-align: right;\n",
       "    }\n",
       "\n",
       "    .dataframe thead th {\n",
       "        text-align: left;\n",
       "    }\n",
       "\n",
       "    .dataframe tbody tr th {\n",
       "        vertical-align: top;\n",
       "    }\n",
       "</style>\n",
       "<table border=\"1\" class=\"dataframe\">\n",
       "  <thead>\n",
       "    <tr style=\"text-align: right;\">\n",
       "      <th></th>\n",
       "      <th>price</th>\n",
       "      <th>location</th>\n",
       "      <th>bedrooms</th>\n",
       "      <th>baths</th>\n",
       "      <th>state</th>\n",
       "    </tr>\n",
       "  </thead>\n",
       "  <tbody>\n",
       "    <tr>\n",
       "      <th>0</th>\n",
       "      <td>3.144000e+07</td>\n",
       "      <td>oba-akran</td>\n",
       "      <td>3.0</td>\n",
       "      <td>3.0</td>\n",
       "      <td>lagos</td>\n",
       "    </tr>\n",
       "    <tr>\n",
       "      <th>1</th>\n",
       "      <td>3.000000e+07</td>\n",
       "      <td>karshi</td>\n",
       "      <td>3.0</td>\n",
       "      <td>3.0</td>\n",
       "      <td>niger</td>\n",
       "    </tr>\n",
       "    <tr>\n",
       "      <th>2</th>\n",
       "      <td>3.600000e+06</td>\n",
       "      <td>masaka</td>\n",
       "      <td>3.0</td>\n",
       "      <td>3.0</td>\n",
       "      <td>niger</td>\n",
       "    </tr>\n",
       "    <tr>\n",
       "      <th>3</th>\n",
       "      <td>3.960000e+08</td>\n",
       "      <td>badagry express way</td>\n",
       "      <td>5.0</td>\n",
       "      <td>5.0</td>\n",
       "      <td>lagos</td>\n",
       "    </tr>\n",
       "    <tr>\n",
       "      <th>4</th>\n",
       "      <td>3.600000e+08</td>\n",
       "      <td>badagry express way</td>\n",
       "      <td>8.0</td>\n",
       "      <td>7.0</td>\n",
       "      <td>lagos</td>\n",
       "    </tr>\n",
       "    <tr>\n",
       "      <th>5</th>\n",
       "      <td>4.500000e+07</td>\n",
       "      <td>jabi</td>\n",
       "      <td>3.0</td>\n",
       "      <td>3.0</td>\n",
       "      <td>abuja</td>\n",
       "    </tr>\n",
       "    <tr>\n",
       "      <th>6</th>\n",
       "      <td>4.800000e+08</td>\n",
       "      <td>badagry express way</td>\n",
       "      <td>5.0</td>\n",
       "      <td>5.0</td>\n",
       "      <td>lagos</td>\n",
       "    </tr>\n",
       "    <tr>\n",
       "      <th>7</th>\n",
       "      <td>6.600000e+07</td>\n",
       "      <td>nigeria</td>\n",
       "      <td>4.0</td>\n",
       "      <td>4.0</td>\n",
       "      <td>niger</td>\n",
       "    </tr>\n",
       "    <tr>\n",
       "      <th>8</th>\n",
       "      <td>5.760000e+08</td>\n",
       "      <td>niger</td>\n",
       "      <td>3.0</td>\n",
       "      <td>3.0</td>\n",
       "      <td>niger</td>\n",
       "    </tr>\n",
       "    <tr>\n",
       "      <th>9</th>\n",
       "      <td>7.920000e+08</td>\n",
       "      <td>ikate</td>\n",
       "      <td>4.0</td>\n",
       "      <td>4.0</td>\n",
       "      <td>lagos</td>\n",
       "    </tr>\n",
       "    <tr>\n",
       "      <th>10</th>\n",
       "      <td>3.240000e+07</td>\n",
       "      <td>eleko lagos</td>\n",
       "      <td>0.0</td>\n",
       "      <td>0.0</td>\n",
       "      <td>lagos</td>\n",
       "    </tr>\n",
       "    <tr>\n",
       "      <th>11</th>\n",
       "      <td>1.200000e+08</td>\n",
       "      <td>ipaja road</td>\n",
       "      <td>0.0</td>\n",
       "      <td>0.0</td>\n",
       "      <td>lagos</td>\n",
       "    </tr>\n",
       "    <tr>\n",
       "      <th>12</th>\n",
       "      <td>4.200000e+06</td>\n",
       "      <td>ipakodo</td>\n",
       "      <td>3.0</td>\n",
       "      <td>3.0</td>\n",
       "      <td>lagos</td>\n",
       "    </tr>\n",
       "    <tr>\n",
       "      <th>13</th>\n",
       "      <td>4.800000e+05</td>\n",
       "      <td>ipakodo</td>\n",
       "      <td>3.0</td>\n",
       "      <td>3.0</td>\n",
       "      <td>lagos</td>\n",
       "    </tr>\n",
       "    <tr>\n",
       "      <th>14</th>\n",
       "      <td>6.600000e+08</td>\n",
       "      <td>niger</td>\n",
       "      <td>4.0</td>\n",
       "      <td>4.0</td>\n",
       "      <td>niger</td>\n",
       "    </tr>\n",
       "    <tr>\n",
       "      <th>15</th>\n",
       "      <td>1.992000e+08</td>\n",
       "      <td>gudu</td>\n",
       "      <td>0.0</td>\n",
       "      <td>0.0</td>\n",
       "      <td>abuja</td>\n",
       "    </tr>\n",
       "    <tr>\n",
       "      <th>16</th>\n",
       "      <td>1.020000e+09</td>\n",
       "      <td>gwarinpa</td>\n",
       "      <td>5.0</td>\n",
       "      <td>6.0</td>\n",
       "      <td>abuja</td>\n",
       "    </tr>\n",
       "    <tr>\n",
       "      <th>17</th>\n",
       "      <td>6.000000e+08</td>\n",
       "      <td>niger</td>\n",
       "      <td>4.0</td>\n",
       "      <td>4.0</td>\n",
       "      <td>niger</td>\n",
       "    </tr>\n",
       "    <tr>\n",
       "      <th>18</th>\n",
       "      <td>1.020000e+08</td>\n",
       "      <td>ogun</td>\n",
       "      <td>2.0</td>\n",
       "      <td>2.0</td>\n",
       "      <td>ogun</td>\n",
       "    </tr>\n",
       "    <tr>\n",
       "      <th>19</th>\n",
       "      <td>4.680000e+08</td>\n",
       "      <td>nigeria</td>\n",
       "      <td>4.0</td>\n",
       "      <td>4.0</td>\n",
       "      <td>niger</td>\n",
       "    </tr>\n",
       "    <tr>\n",
       "      <th>20</th>\n",
       "      <td>4.200000e+08</td>\n",
       "      <td></td>\n",
       "      <td>3.0</td>\n",
       "      <td>3.0</td>\n",
       "      <td>lagos</td>\n",
       "    </tr>\n",
       "    <tr>\n",
       "      <th>21</th>\n",
       "      <td>3.600000e+09</td>\n",
       "      <td>ire akari</td>\n",
       "      <td>4.0</td>\n",
       "      <td>3.0</td>\n",
       "      <td>lagos</td>\n",
       "    </tr>\n",
       "    <tr>\n",
       "      <th>22</th>\n",
       "      <td>1.800000e+09</td>\n",
       "      <td>off ago palace way</td>\n",
       "      <td>4.0</td>\n",
       "      <td>4.0</td>\n",
       "      <td>lagos</td>\n",
       "    </tr>\n",
       "    <tr>\n",
       "      <th>23</th>\n",
       "      <td>4.200000e+08</td>\n",
       "      <td>egbeda</td>\n",
       "      <td>0.0</td>\n",
       "      <td>0.0</td>\n",
       "      <td>lagos</td>\n",
       "    </tr>\n",
       "    <tr>\n",
       "      <th>24</th>\n",
       "      <td>9.000000e+08</td>\n",
       "      <td>opebi</td>\n",
       "      <td>3.0</td>\n",
       "      <td>3.0</td>\n",
       "      <td>lagos</td>\n",
       "    </tr>\n",
       "    <tr>\n",
       "      <th>25</th>\n",
       "      <td>1.020000e+07</td>\n",
       "      <td>niger</td>\n",
       "      <td>0.0</td>\n",
       "      <td>0.0</td>\n",
       "      <td>niger</td>\n",
       "    </tr>\n",
       "    <tr>\n",
       "      <th>26</th>\n",
       "      <td>3.600000e+08</td>\n",
       "      <td>eti-osa</td>\n",
       "      <td>3.0</td>\n",
       "      <td>0.0</td>\n",
       "      <td>lagos</td>\n",
       "    </tr>\n",
       "    <tr>\n",
       "      <th>27</th>\n",
       "      <td>2.160000e+08</td>\n",
       "      <td>lagos - ibadan expressway</td>\n",
       "      <td>3.0</td>\n",
       "      <td>3.0</td>\n",
       "      <td>lagos</td>\n",
       "    </tr>\n",
       "    <tr>\n",
       "      <th>28</th>\n",
       "      <td>1.440000e+08</td>\n",
       "      <td>lagos - ibadan expressway</td>\n",
       "      <td>2.0</td>\n",
       "      <td>2.0</td>\n",
       "      <td>lagos</td>\n",
       "    </tr>\n",
       "    <tr>\n",
       "      <th>29</th>\n",
       "      <td>3.600000e+07</td>\n",
       "      <td>ikeja</td>\n",
       "      <td>3.0</td>\n",
       "      <td>3.0</td>\n",
       "      <td>lagos</td>\n",
       "    </tr>\n",
       "    <tr>\n",
       "      <th>30</th>\n",
       "      <td>4.800000e+06</td>\n",
       "      <td>egbeda</td>\n",
       "      <td>3.0</td>\n",
       "      <td>2.0</td>\n",
       "      <td>lagos</td>\n",
       "    </tr>\n",
       "    <tr>\n",
       "      <th>31</th>\n",
       "      <td>3.600000e+07</td>\n",
       "      <td>alausa</td>\n",
       "      <td>4.0</td>\n",
       "      <td>3.0</td>\n",
       "      <td>lagos</td>\n",
       "    </tr>\n",
       "    <tr>\n",
       "      <th>32</th>\n",
       "      <td>1.530000e+07</td>\n",
       "      <td>abuja fct</td>\n",
       "      <td>0.0</td>\n",
       "      <td>0.0</td>\n",
       "      <td>abuja</td>\n",
       "    </tr>\n",
       "    <tr>\n",
       "      <th>33</th>\n",
       "      <td>1.020000e+07</td>\n",
       "      <td>lagos - ibadan expressway</td>\n",
       "      <td>0.0</td>\n",
       "      <td>0.0</td>\n",
       "      <td>lagos</td>\n",
       "    </tr>\n",
       "    <tr>\n",
       "      <th>34</th>\n",
       "      <td>3.360000e+08</td>\n",
       "      <td>niger</td>\n",
       "      <td>0.0</td>\n",
       "      <td>0.0</td>\n",
       "      <td>niger</td>\n",
       "    </tr>\n",
       "    <tr>\n",
       "      <th>35</th>\n",
       "      <td>6.600000e+07</td>\n",
       "      <td>niger</td>\n",
       "      <td>4.0</td>\n",
       "      <td>4.0</td>\n",
       "      <td>niger</td>\n",
       "    </tr>\n",
       "    <tr>\n",
       "      <th>36</th>\n",
       "      <td>3.120000e+08</td>\n",
       "      <td>abuja fct</td>\n",
       "      <td>3.0</td>\n",
       "      <td>3.0</td>\n",
       "      <td>abuja</td>\n",
       "    </tr>\n",
       "    <tr>\n",
       "      <th>37</th>\n",
       "      <td>4.020000e+08</td>\n",
       "      <td>lekki</td>\n",
       "      <td>4.0</td>\n",
       "      <td>4.0</td>\n",
       "      <td>lagos</td>\n",
       "    </tr>\n",
       "    <tr>\n",
       "      <th>38</th>\n",
       "      <td>1.920000e+08</td>\n",
       "      <td>abuja fct</td>\n",
       "      <td>3.0</td>\n",
       "      <td>3.0</td>\n",
       "      <td>abuja</td>\n",
       "    </tr>\n",
       "    <tr>\n",
       "      <th>39</th>\n",
       "      <td>2.040000e+07</td>\n",
       "      <td>adeniyi jones</td>\n",
       "      <td>3.0</td>\n",
       "      <td>3.0</td>\n",
       "      <td>lagos</td>\n",
       "    </tr>\n",
       "    <tr>\n",
       "      <th>40</th>\n",
       "      <td>6.000000e+09</td>\n",
       "      <td>niger</td>\n",
       "      <td>0.0</td>\n",
       "      <td>0.0</td>\n",
       "      <td>niger</td>\n",
       "    </tr>\n",
       "    <tr>\n",
       "      <th>41</th>\n",
       "      <td>6.600000e+09</td>\n",
       "      <td>niger</td>\n",
       "      <td>0.0</td>\n",
       "      <td>0.0</td>\n",
       "      <td>niger</td>\n",
       "    </tr>\n",
       "    <tr>\n",
       "      <th>42</th>\n",
       "      <td>6.240000e+09</td>\n",
       "      <td>niger</td>\n",
       "      <td>0.0</td>\n",
       "      <td>0.0</td>\n",
       "      <td>niger</td>\n",
       "    </tr>\n",
       "    <tr>\n",
       "      <th>43</th>\n",
       "      <td>7.200000e+07</td>\n",
       "      <td>ikorodu</td>\n",
       "      <td>0.0</td>\n",
       "      <td>0.0</td>\n",
       "      <td>lagos</td>\n",
       "    </tr>\n",
       "    <tr>\n",
       "      <th>44</th>\n",
       "      <td>1.200000e+07</td>\n",
       "      <td>yaba</td>\n",
       "      <td>3.0</td>\n",
       "      <td>3.0</td>\n",
       "      <td>lagos</td>\n",
       "    </tr>\n",
       "    <tr>\n",
       "      <th>45</th>\n",
       "      <td>1.800000e+08</td>\n",
       "      <td>lakowe</td>\n",
       "      <td>0.0</td>\n",
       "      <td>0.0</td>\n",
       "      <td>lagos</td>\n",
       "    </tr>\n",
       "    <tr>\n",
       "      <th>46</th>\n",
       "      <td>4.800000e+07</td>\n",
       "      <td>opposite lagos business school</td>\n",
       "      <td>0.0</td>\n",
       "      <td>0.0</td>\n",
       "      <td>lagos</td>\n",
       "    </tr>\n",
       "    <tr>\n",
       "      <th>47</th>\n",
       "      <td>4.200000e+06</td>\n",
       "      <td>niger</td>\n",
       "      <td>1.0</td>\n",
       "      <td>1.0</td>\n",
       "      <td>niger</td>\n",
       "    </tr>\n",
       "    <tr>\n",
       "      <th>48</th>\n",
       "      <td>3.000000e+07</td>\n",
       "      <td>alausa</td>\n",
       "      <td>4.0</td>\n",
       "      <td>4.0</td>\n",
       "      <td>lagos</td>\n",
       "    </tr>\n",
       "    <tr>\n",
       "      <th>49</th>\n",
       "      <td>1.200000e+07</td>\n",
       "      <td></td>\n",
       "      <td>3.0</td>\n",
       "      <td>3.0</td>\n",
       "      <td>lagos</td>\n",
       "    </tr>\n",
       "  </tbody>\n",
       "</table>\n",
       "</div>"
      ],
      "text/plain": [
       "           price                        location  bedrooms  baths  state\n",
       "0   3.144000e+07                       oba-akran       3.0    3.0  lagos\n",
       "1   3.000000e+07                          karshi       3.0    3.0  niger\n",
       "2   3.600000e+06                          masaka       3.0    3.0  niger\n",
       "3   3.960000e+08             badagry express way       5.0    5.0  lagos\n",
       "4   3.600000e+08             badagry express way       8.0    7.0  lagos\n",
       "5   4.500000e+07                            jabi       3.0    3.0  abuja\n",
       "6   4.800000e+08             badagry express way       5.0    5.0  lagos\n",
       "7   6.600000e+07                         nigeria       4.0    4.0  niger\n",
       "8   5.760000e+08                           niger       3.0    3.0  niger\n",
       "9   7.920000e+08                           ikate       4.0    4.0  lagos\n",
       "10  3.240000e+07                     eleko lagos       0.0    0.0  lagos\n",
       "11  1.200000e+08                      ipaja road       0.0    0.0  lagos\n",
       "12  4.200000e+06                         ipakodo       3.0    3.0  lagos\n",
       "13  4.800000e+05                         ipakodo       3.0    3.0  lagos\n",
       "14  6.600000e+08                           niger       4.0    4.0  niger\n",
       "15  1.992000e+08                            gudu       0.0    0.0  abuja\n",
       "16  1.020000e+09                        gwarinpa       5.0    6.0  abuja\n",
       "17  6.000000e+08                           niger       4.0    4.0  niger\n",
       "18  1.020000e+08                            ogun       2.0    2.0   ogun\n",
       "19  4.680000e+08                         nigeria       4.0    4.0  niger\n",
       "20  4.200000e+08                                       3.0    3.0  lagos\n",
       "21  3.600000e+09                       ire akari       4.0    3.0  lagos\n",
       "22  1.800000e+09              off ago palace way       4.0    4.0  lagos\n",
       "23  4.200000e+08                          egbeda       0.0    0.0  lagos\n",
       "24  9.000000e+08                           opebi       3.0    3.0  lagos\n",
       "25  1.020000e+07                           niger       0.0    0.0  niger\n",
       "26  3.600000e+08                         eti-osa       3.0    0.0  lagos\n",
       "27  2.160000e+08       lagos - ibadan expressway       3.0    3.0  lagos\n",
       "28  1.440000e+08       lagos - ibadan expressway       2.0    2.0  lagos\n",
       "29  3.600000e+07                           ikeja       3.0    3.0  lagos\n",
       "30  4.800000e+06                          egbeda       3.0    2.0  lagos\n",
       "31  3.600000e+07                          alausa       4.0    3.0  lagos\n",
       "32  1.530000e+07                       abuja fct       0.0    0.0  abuja\n",
       "33  1.020000e+07       lagos - ibadan expressway       0.0    0.0  lagos\n",
       "34  3.360000e+08                           niger       0.0    0.0  niger\n",
       "35  6.600000e+07                           niger       4.0    4.0  niger\n",
       "36  3.120000e+08                       abuja fct       3.0    3.0  abuja\n",
       "37  4.020000e+08                           lekki       4.0    4.0  lagos\n",
       "38  1.920000e+08                       abuja fct       3.0    3.0  abuja\n",
       "39  2.040000e+07                   adeniyi jones       3.0    3.0  lagos\n",
       "40  6.000000e+09                           niger       0.0    0.0  niger\n",
       "41  6.600000e+09                           niger       0.0    0.0  niger\n",
       "42  6.240000e+09                           niger       0.0    0.0  niger\n",
       "43  7.200000e+07                         ikorodu       0.0    0.0  lagos\n",
       "44  1.200000e+07                            yaba       3.0    3.0  lagos\n",
       "45  1.800000e+08                          lakowe       0.0    0.0  lagos\n",
       "46  4.800000e+07  opposite lagos business school       0.0    0.0  lagos\n",
       "47  4.200000e+06                           niger       1.0    1.0  niger\n",
       "48  3.000000e+07                          alausa       4.0    4.0  lagos\n",
       "49  1.200000e+07                                       3.0    3.0  lagos"
      ]
     },
     "execution_count": 164,
     "metadata": {},
     "output_type": "execute_result"
    }
   ],
   "source": [
    "combined.head(50)"
   ]
  },
  {
   "cell_type": "markdown",
   "metadata": {},
   "source": [
    "#### Saving our dataset in csv format"
   ]
  },
  {
   "cell_type": "code",
   "execution_count": 165,
   "metadata": {
    "collapsed": true
   },
   "outputs": [],
   "source": [
    "combined.to_csv(\"combined_cleaned.csv\")"
   ]
  },
  {
   "cell_type": "markdown",
   "metadata": {},
   "source": [
    "## CONCLUSION:\n",
    "    The cleaning project was indeed a rigorous one but the effort paid off. We now have a cleaned dataset of 5 columns and more than 8,000 rows."
   ]
  }
 ],
 "metadata": {
  "kernelspec": {
   "display_name": "Python 3",
   "language": "python",
   "name": "python3"
  },
  "language_info": {
   "codemirror_mode": {
    "name": "ipython",
    "version": 3
   },
   "file_extension": ".py",
   "mimetype": "text/x-python",
   "name": "python",
   "nbconvert_exporter": "python",
   "pygments_lexer": "ipython3",
   "version": "3.6.3"
  }
 },
 "nbformat": 4,
 "nbformat_minor": 2
}
