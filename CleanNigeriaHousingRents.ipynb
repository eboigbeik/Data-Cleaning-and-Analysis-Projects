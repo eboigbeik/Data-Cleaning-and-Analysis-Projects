{
 "cells": [
  {
   "cell_type": "markdown",
   "metadata": {},
   "source": [
    "This is a cleaning project carried out by Eboigbe Endurance Ikponmwosa.  \n",
    "\n",
    "Seven datasets of house rents is various states in Nigeria were downloaded ([Here](https://www.kaggle.com/duoarc/rent-listings-in-nigeria/version/1#prop24.csv)) from kaggle.com and cleaned for analysis.\n"
   ]
  },
  {
   "cell_type": "markdown",
   "metadata": {},
   "source": [
    "importing required libraries and reading data from cvs files"
   ]
  },
  {
   "cell_type": "code",
   "execution_count": 1,
   "metadata": {
    "collapsed": true
   },
   "outputs": [],
   "source": [
    "import pandas as pd\n",
    "import numpy as np\n",
    "import matplotlib.pyplot as plt\n",
    "import seaborn as sns\n",
    "%matplotlib inline"
   ]
  },
  {
   "cell_type": "code",
   "execution_count": 2,
   "metadata": {
    "collapsed": true
   },
   "outputs": [],
   "source": [
    "housing_2 = pd.read_csv(\"naijapropfind.csv\")\n",
    "housing_3 = pd.read_csv(\"naijaprop.csv\")\n",
    "housing_4 = pd.read_csv(\"prop24.csv\")\n",
    "housing_5 = pd.read_csv(\"propexp.csv\")\n",
    "housing_6 = pd.read_csv(\"renting.csv\")\n",
    "housing_7 = pd.read_csv(\"trovit.csv\")\n",
    "housing_1 = pd.read_csv(\"findnigprop.csv\")"
   ]
  },
  {
   "cell_type": "markdown",
   "metadata": {},
   "source": [
    "## Inspecting the Datasets"
   ]
  },
  {
   "cell_type": "code",
   "execution_count": 3,
   "metadata": {
    "scrolled": true
   },
   "outputs": [
    {
     "data": {
      "text/html": [
       "<div>\n",
       "<style>\n",
       "    .dataframe thead tr:only-child th {\n",
       "        text-align: right;\n",
       "    }\n",
       "\n",
       "    .dataframe thead th {\n",
       "        text-align: left;\n",
       "    }\n",
       "\n",
       "    .dataframe tbody tr th {\n",
       "        vertical-align: top;\n",
       "    }\n",
       "</style>\n",
       "<table border=\"1\" class=\"dataframe\">\n",
       "  <thead>\n",
       "    <tr style=\"text-align: right;\">\n",
       "      <th></th>\n",
       "      <th>price</th>\n",
       "      <th>unit</th>\n",
       "      <th>location</th>\n",
       "      <th>bedrooms</th>\n",
       "      <th>baths</th>\n",
       "      <th>state</th>\n",
       "    </tr>\n",
       "  </thead>\n",
       "  <tbody>\n",
       "    <tr>\n",
       "      <th>0</th>\n",
       "      <td>₦2,620,000.00 Per Year</td>\n",
       "      <td>₦2,620,000.00 Per Year</td>\n",
       "      <td>, 7 obasa street, Oba-Akran, Ikeja, Lagos, Nig...</td>\n",
       "      <td>NaN</td>\n",
       "      <td>NaN</td>\n",
       "      <td>NaN</td>\n",
       "    </tr>\n",
       "    <tr>\n",
       "      <th>1</th>\n",
       "      <td>₦2,500,000.00</td>\n",
       "      <td>₦2,500,000.00</td>\n",
       "      <td>, Tudu wada, Karshi,, Karu, Nasaruwa, Nigeria</td>\n",
       "      <td>NaN</td>\n",
       "      <td>NaN</td>\n",
       "      <td>NaN</td>\n",
       "    </tr>\n",
       "    <tr>\n",
       "      <th>2</th>\n",
       "      <td>₦300,000.00</td>\n",
       "      <td>₦300,000.00</td>\n",
       "      <td>, ukeh, masaka, mararba, Karu, Nasaruwa, Nigeria</td>\n",
       "      <td>NaN</td>\n",
       "      <td>NaN</td>\n",
       "      <td>NaN</td>\n",
       "    </tr>\n",
       "    <tr>\n",
       "      <th>3</th>\n",
       "      <td>per month</td>\n",
       "      <td>per month</td>\n",
       "      <td>, World Trade Center Commercial Tower, Plot 11...</td>\n",
       "      <td>NaN</td>\n",
       "      <td>NaN</td>\n",
       "      <td>NaN</td>\n",
       "    </tr>\n",
       "    <tr>\n",
       "      <th>4</th>\n",
       "      <td></td>\n",
       "      <td></td>\n",
       "      <td>, World Trade Center, Plot 1113, Constitution ...</td>\n",
       "      <td>2.0</td>\n",
       "      <td>NaN</td>\n",
       "      <td>NaN</td>\n",
       "    </tr>\n",
       "  </tbody>\n",
       "</table>\n",
       "</div>"
      ],
      "text/plain": [
       "                    price                    unit  \\\n",
       "0  ₦2,620,000.00 Per Year  ₦2,620,000.00 Per Year   \n",
       "1          ₦2,500,000.00           ₦2,500,000.00    \n",
       "2            ₦300,000.00             ₦300,000.00    \n",
       "3               per month               per month   \n",
       "4                                                   \n",
       "\n",
       "                                            location  bedrooms baths  state  \n",
       "0  , 7 obasa street, Oba-Akran, Ikeja, Lagos, Nig...       NaN   NaN    NaN  \n",
       "1      , Tudu wada, Karshi,, Karu, Nasaruwa, Nigeria       NaN   NaN    NaN  \n",
       "2   , ukeh, masaka, mararba, Karu, Nasaruwa, Nigeria       NaN   NaN    NaN  \n",
       "3  , World Trade Center Commercial Tower, Plot 11...       NaN   NaN    NaN  \n",
       "4  , World Trade Center, Plot 1113, Constitution ...       2.0   NaN    NaN  "
      ]
     },
     "execution_count": 3,
     "metadata": {},
     "output_type": "execute_result"
    }
   ],
   "source": [
    "housing_1.head()"
   ]
  },
  {
   "cell_type": "code",
   "execution_count": 4,
   "metadata": {
    "collapsed": true
   },
   "outputs": [],
   "source": [
    "housing_1 = pd.read_csv(\"findnigprop.csv\")"
   ]
  },
  {
   "cell_type": "code",
   "execution_count": 5,
   "metadata": {},
   "outputs": [
    {
     "data": {
      "text/html": [
       "<div>\n",
       "<style>\n",
       "    .dataframe thead tr:only-child th {\n",
       "        text-align: right;\n",
       "    }\n",
       "\n",
       "    .dataframe thead th {\n",
       "        text-align: left;\n",
       "    }\n",
       "\n",
       "    .dataframe tbody tr th {\n",
       "        vertical-align: top;\n",
       "    }\n",
       "</style>\n",
       "<table border=\"1\" class=\"dataframe\">\n",
       "  <thead>\n",
       "    <tr style=\"text-align: right;\">\n",
       "      <th></th>\n",
       "      <th>price</th>\n",
       "      <th>unit</th>\n",
       "      <th>location</th>\n",
       "      <th>bedrooms</th>\n",
       "      <th>baths</th>\n",
       "      <th>state</th>\n",
       "    </tr>\n",
       "  </thead>\n",
       "  <tbody>\n",
       "    <tr>\n",
       "      <th>0</th>\n",
       "      <td>₦2,620,000.00 Per Year</td>\n",
       "      <td>₦2,620,000.00 Per Year</td>\n",
       "      <td>, 7 obasa street, Oba-Akran, Ikeja, Lagos, Nig...</td>\n",
       "      <td>NaN</td>\n",
       "      <td>NaN</td>\n",
       "      <td>NaN</td>\n",
       "    </tr>\n",
       "    <tr>\n",
       "      <th>1</th>\n",
       "      <td>₦2,500,000.00</td>\n",
       "      <td>₦2,500,000.00</td>\n",
       "      <td>, Tudu wada, Karshi,, Karu, Nasaruwa, Nigeria</td>\n",
       "      <td>NaN</td>\n",
       "      <td>NaN</td>\n",
       "      <td>NaN</td>\n",
       "    </tr>\n",
       "    <tr>\n",
       "      <th>2</th>\n",
       "      <td>₦300,000.00</td>\n",
       "      <td>₦300,000.00</td>\n",
       "      <td>, ukeh, masaka, mararba, Karu, Nasaruwa, Nigeria</td>\n",
       "      <td>NaN</td>\n",
       "      <td>NaN</td>\n",
       "      <td>NaN</td>\n",
       "    </tr>\n",
       "    <tr>\n",
       "      <th>3</th>\n",
       "      <td>per month</td>\n",
       "      <td>per month</td>\n",
       "      <td>, World Trade Center Commercial Tower, Plot 11...</td>\n",
       "      <td>NaN</td>\n",
       "      <td>NaN</td>\n",
       "      <td>NaN</td>\n",
       "    </tr>\n",
       "    <tr>\n",
       "      <th>4</th>\n",
       "      <td></td>\n",
       "      <td></td>\n",
       "      <td>, World Trade Center, Plot 1113, Constitution ...</td>\n",
       "      <td>2.0</td>\n",
       "      <td>NaN</td>\n",
       "      <td>NaN</td>\n",
       "    </tr>\n",
       "  </tbody>\n",
       "</table>\n",
       "</div>"
      ],
      "text/plain": [
       "                    price                    unit  \\\n",
       "0  ₦2,620,000.00 Per Year  ₦2,620,000.00 Per Year   \n",
       "1          ₦2,500,000.00           ₦2,500,000.00    \n",
       "2            ₦300,000.00             ₦300,000.00    \n",
       "3               per month               per month   \n",
       "4                                                   \n",
       "\n",
       "                                            location  bedrooms baths  state  \n",
       "0  , 7 obasa street, Oba-Akran, Ikeja, Lagos, Nig...       NaN   NaN    NaN  \n",
       "1      , Tudu wada, Karshi,, Karu, Nasaruwa, Nigeria       NaN   NaN    NaN  \n",
       "2   , ukeh, masaka, mararba, Karu, Nasaruwa, Nigeria       NaN   NaN    NaN  \n",
       "3  , World Trade Center Commercial Tower, Plot 11...       NaN   NaN    NaN  \n",
       "4  , World Trade Center, Plot 1113, Constitution ...       2.0   NaN    NaN  "
      ]
     },
     "execution_count": 5,
     "metadata": {},
     "output_type": "execute_result"
    }
   ],
   "source": [
    "housing_1.head()"
   ]
  },
  {
   "cell_type": "code",
   "execution_count": 6,
   "metadata": {},
   "outputs": [
    {
     "data": {
      "text/html": [
       "<div>\n",
       "<style>\n",
       "    .dataframe thead tr:only-child th {\n",
       "        text-align: right;\n",
       "    }\n",
       "\n",
       "    .dataframe thead th {\n",
       "        text-align: left;\n",
       "    }\n",
       "\n",
       "    .dataframe tbody tr th {\n",
       "        vertical-align: top;\n",
       "    }\n",
       "</style>\n",
       "<table border=\"1\" class=\"dataframe\">\n",
       "  <thead>\n",
       "    <tr style=\"text-align: right;\">\n",
       "      <th></th>\n",
       "      <th>price</th>\n",
       "      <th>unit</th>\n",
       "      <th>location</th>\n",
       "      <th>bedrooms</th>\n",
       "      <th>baths</th>\n",
       "      <th>state</th>\n",
       "    </tr>\n",
       "  </thead>\n",
       "  <tbody>\n",
       "    <tr>\n",
       "      <th>0</th>\n",
       "      <td>₦1,200,000</td>\n",
       "      <td>per Year</td>\n",
       "      <td>Enugu,Enugu North,NIGERIA</td>\n",
       "      <td>3</td>\n",
       "      <td>4</td>\n",
       "      <td>NaN</td>\n",
       "    </tr>\n",
       "    <tr>\n",
       "      <th>1</th>\n",
       "      <td>₦600,000</td>\n",
       "      <td>per Year</td>\n",
       "      <td>Enugu,Enugu East,NIGERIA</td>\n",
       "      <td>2</td>\n",
       "      <td>2</td>\n",
       "      <td>NaN</td>\n",
       "    </tr>\n",
       "    <tr>\n",
       "      <th>2</th>\n",
       "      <td>₦500,000</td>\n",
       "      <td>per Year</td>\n",
       "      <td>Enugu,Enugu North,NIGERIA</td>\n",
       "      <td>3</td>\n",
       "      <td>3</td>\n",
       "      <td>NaN</td>\n",
       "    </tr>\n",
       "    <tr>\n",
       "      <th>3</th>\n",
       "      <td>₦400,000</td>\n",
       "      <td>per Year</td>\n",
       "      <td>Enugu,Enugu North,NIGERIA</td>\n",
       "      <td>2</td>\n",
       "      <td>2</td>\n",
       "      <td>NaN</td>\n",
       "    </tr>\n",
       "    <tr>\n",
       "      <th>4</th>\n",
       "      <td>₦800,000</td>\n",
       "      <td>per Year</td>\n",
       "      <td>Enugu,Enugu East,NIGERIA</td>\n",
       "      <td>3</td>\n",
       "      <td>3</td>\n",
       "      <td>NaN</td>\n",
       "    </tr>\n",
       "  </tbody>\n",
       "</table>\n",
       "</div>"
      ],
      "text/plain": [
       "        price      unit                   location  bedrooms  baths  state\n",
       "0  ₦1,200,000  per Year  Enugu,Enugu North,NIGERIA         3      4    NaN\n",
       "1    ₦600,000  per Year   Enugu,Enugu East,NIGERIA         2      2    NaN\n",
       "2    ₦500,000  per Year  Enugu,Enugu North,NIGERIA         3      3    NaN\n",
       "3    ₦400,000  per Year  Enugu,Enugu North,NIGERIA         2      2    NaN\n",
       "4    ₦800,000  per Year   Enugu,Enugu East,NIGERIA         3      3    NaN"
      ]
     },
     "execution_count": 6,
     "metadata": {},
     "output_type": "execute_result"
    }
   ],
   "source": [
    "housing_2.head()"
   ]
  },
  {
   "cell_type": "code",
   "execution_count": 7,
   "metadata": {},
   "outputs": [
    {
     "data": {
      "text/html": [
       "<div>\n",
       "<style>\n",
       "    .dataframe thead tr:only-child th {\n",
       "        text-align: right;\n",
       "    }\n",
       "\n",
       "    .dataframe thead th {\n",
       "        text-align: left;\n",
       "    }\n",
       "\n",
       "    .dataframe tbody tr th {\n",
       "        vertical-align: top;\n",
       "    }\n",
       "</style>\n",
       "<table border=\"1\" class=\"dataframe\">\n",
       "  <thead>\n",
       "    <tr style=\"text-align: right;\">\n",
       "      <th></th>\n",
       "      <th>price</th>\n",
       "      <th>unit</th>\n",
       "      <th>location</th>\n",
       "      <th>bedrooms</th>\n",
       "      <th>baths</th>\n",
       "      <th>state</th>\n",
       "    </tr>\n",
       "  </thead>\n",
       "  <tbody>\n",
       "    <tr>\n",
       "      <th>0</th>\n",
       "      <td>1,000,000</td>\n",
       "      <td>per Year</td>\n",
       "      <td>15 - 17 Bolaji Balogun Street, Ayonusi Estate,...</td>\n",
       "      <td>5.0</td>\n",
       "      <td>6.0</td>\n",
       "      <td>Lagos</td>\n",
       "    </tr>\n",
       "    <tr>\n",
       "      <th>1</th>\n",
       "      <td>600,000</td>\n",
       "      <td>per Year</td>\n",
       "      <td>15 - 17 Bolaji Balogun Street, Ayonusi Estate,...</td>\n",
       "      <td>3.0</td>\n",
       "      <td>3.0</td>\n",
       "      <td>Lagos</td>\n",
       "    </tr>\n",
       "    <tr>\n",
       "      <th>2</th>\n",
       "      <td>250,000</td>\n",
       "      <td>per Year</td>\n",
       "      <td>badore,owode and addo roads,</td>\n",
       "      <td>1.0</td>\n",
       "      <td>1.0</td>\n",
       "      <td>Lagos</td>\n",
       "    </tr>\n",
       "    <tr>\n",
       "      <th>3</th>\n",
       "      <td>1,000,000</td>\n",
       "      <td>per Year</td>\n",
       "      <td>ilupeju,</td>\n",
       "      <td>3.0</td>\n",
       "      <td>2.0</td>\n",
       "      <td>Lagos</td>\n",
       "    </tr>\n",
       "    <tr>\n",
       "      <th>4</th>\n",
       "      <td>600,000</td>\n",
       "      <td>per Year</td>\n",
       "      <td>badore road,</td>\n",
       "      <td>NaN</td>\n",
       "      <td>NaN</td>\n",
       "      <td>Lagos</td>\n",
       "    </tr>\n",
       "  </tbody>\n",
       "</table>\n",
       "</div>"
      ],
      "text/plain": [
       "       price      unit                                           location  \\\n",
       "0  1,000,000  per Year  15 - 17 Bolaji Balogun Street, Ayonusi Estate,...   \n",
       "1    600,000  per Year  15 - 17 Bolaji Balogun Street, Ayonusi Estate,...   \n",
       "2    250,000  per Year                       badore,owode and addo roads,   \n",
       "3  1,000,000  per Year                                           ilupeju,   \n",
       "4    600,000  per Year                                       badore road,   \n",
       "\n",
       "   bedrooms  baths  state  \n",
       "0       5.0    6.0  Lagos  \n",
       "1       3.0    3.0  Lagos  \n",
       "2       1.0    1.0  Lagos  \n",
       "3       3.0    2.0  Lagos  \n",
       "4       NaN    NaN  Lagos  "
      ]
     },
     "execution_count": 7,
     "metadata": {},
     "output_type": "execute_result"
    }
   ],
   "source": [
    "housing_3.head()"
   ]
  },
  {
   "cell_type": "code",
   "execution_count": 8,
   "metadata": {},
   "outputs": [
    {
     "data": {
      "text/html": [
       "<div>\n",
       "<style>\n",
       "    .dataframe thead tr:only-child th {\n",
       "        text-align: right;\n",
       "    }\n",
       "\n",
       "    .dataframe thead th {\n",
       "        text-align: left;\n",
       "    }\n",
       "\n",
       "    .dataframe tbody tr th {\n",
       "        vertical-align: top;\n",
       "    }\n",
       "</style>\n",
       "<table border=\"1\" class=\"dataframe\">\n",
       "  <thead>\n",
       "    <tr style=\"text-align: right;\">\n",
       "      <th></th>\n",
       "      <th>price</th>\n",
       "      <th>unit</th>\n",
       "      <th>location</th>\n",
       "      <th>bedrooms</th>\n",
       "      <th>baths</th>\n",
       "      <th>parking_lots</th>\n",
       "      <th>state</th>\n",
       "    </tr>\n",
       "  </thead>\n",
       "  <tbody>\n",
       "    <tr>\n",
       "      <th>0</th>\n",
       "      <td>\\r\\r\\n                    ₦ 8 000 000\\r\\r\\n   ...</td>\n",
       "      <td>\\r\\r\\n                        Per Year\\r\\r\\n  ...</td>\n",
       "      <td>1c Fatai Durosinmi-Etiti Cres, Lagos Island We...</td>\n",
       "      <td>5.0</td>\n",
       "      <td>4</td>\n",
       "      <td>1</td>\n",
       "      <td>Lagos</td>\n",
       "    </tr>\n",
       "    <tr>\n",
       "      <th>1</th>\n",
       "      <td>\\r\\r\\n                    ₦ 3 200 000\\r\\r\\n   ...</td>\n",
       "      <td>\\r\\r\\n                        Per Year\\r\\r\\n  ...</td>\n",
       "      <td>IKOTA, Lekki, Lekki</td>\n",
       "      <td>4.0</td>\n",
       "      <td>4</td>\n",
       "      <td>NaN</td>\n",
       "      <td>Lagos</td>\n",
       "    </tr>\n",
       "    <tr>\n",
       "      <th>2</th>\n",
       "      <td>\\r\\r\\n                    ₦ 2 000 000\\r\\r\\n   ...</td>\n",
       "      <td>\\r\\r\\n                        Per Year\\r\\r\\n  ...</td>\n",
       "      <td>IKATE, Lekki, Lekki</td>\n",
       "      <td>2.0</td>\n",
       "      <td>2</td>\n",
       "      <td>NaN</td>\n",
       "      <td>Lagos</td>\n",
       "    </tr>\n",
       "    <tr>\n",
       "      <th>3</th>\n",
       "      <td>\\r\\r\\n                    ₦ 2 500 000\\r\\r\\n   ...</td>\n",
       "      <td>\\r\\r\\n                        Per Year\\r\\r\\n  ...</td>\n",
       "      <td>ONIRU, Victoria Island, Lekki</td>\n",
       "      <td>3.0</td>\n",
       "      <td>3</td>\n",
       "      <td>NaN</td>\n",
       "      <td>Lagos</td>\n",
       "    </tr>\n",
       "    <tr>\n",
       "      <th>4</th>\n",
       "      <td>\\r\\r\\n                    ₦ 18 000 000\\r\\r\\n  ...</td>\n",
       "      <td>\\r\\r\\n                        Per Year\\r\\r\\n  ...</td>\n",
       "      <td>BANANA ISLAND ESTATE, Ikoyi-obalende, Ikoyi-ob...</td>\n",
       "      <td>3.0</td>\n",
       "      <td>3</td>\n",
       "      <td>NaN</td>\n",
       "      <td>Lagos</td>\n",
       "    </tr>\n",
       "  </tbody>\n",
       "</table>\n",
       "</div>"
      ],
      "text/plain": [
       "                                               price  \\\n",
       "0  \\r\\r\\n                    ₦ 8 000 000\\r\\r\\n   ...   \n",
       "1  \\r\\r\\n                    ₦ 3 200 000\\r\\r\\n   ...   \n",
       "2  \\r\\r\\n                    ₦ 2 000 000\\r\\r\\n   ...   \n",
       "3  \\r\\r\\n                    ₦ 2 500 000\\r\\r\\n   ...   \n",
       "4  \\r\\r\\n                    ₦ 18 000 000\\r\\r\\n  ...   \n",
       "\n",
       "                                                unit  \\\n",
       "0  \\r\\r\\n                        Per Year\\r\\r\\n  ...   \n",
       "1  \\r\\r\\n                        Per Year\\r\\r\\n  ...   \n",
       "2  \\r\\r\\n                        Per Year\\r\\r\\n  ...   \n",
       "3  \\r\\r\\n                        Per Year\\r\\r\\n  ...   \n",
       "4  \\r\\r\\n                        Per Year\\r\\r\\n  ...   \n",
       "\n",
       "                                            location  bedrooms baths  \\\n",
       "0  1c Fatai Durosinmi-Etiti Cres, Lagos Island We...       5.0     4   \n",
       "1                                IKOTA, Lekki, Lekki       4.0     4   \n",
       "2                                IKATE, Lekki, Lekki       2.0     2   \n",
       "3                      ONIRU, Victoria Island, Lekki       3.0     3   \n",
       "4  BANANA ISLAND ESTATE, Ikoyi-obalende, Ikoyi-ob...       3.0     3   \n",
       "\n",
       "  parking_lots  state  \n",
       "0            1  Lagos  \n",
       "1          NaN  Lagos  \n",
       "2          NaN  Lagos  \n",
       "3          NaN  Lagos  \n",
       "4          NaN  Lagos  "
      ]
     },
     "execution_count": 8,
     "metadata": {},
     "output_type": "execute_result"
    }
   ],
   "source": [
    "housing_4.head()"
   ]
  },
  {
   "cell_type": "code",
   "execution_count": 9,
   "metadata": {},
   "outputs": [
    {
     "data": {
      "text/html": [
       "<div>\n",
       "<style>\n",
       "    .dataframe thead tr:only-child th {\n",
       "        text-align: right;\n",
       "    }\n",
       "\n",
       "    .dataframe thead th {\n",
       "        text-align: left;\n",
       "    }\n",
       "\n",
       "    .dataframe tbody tr th {\n",
       "        vertical-align: top;\n",
       "    }\n",
       "</style>\n",
       "<table border=\"1\" class=\"dataframe\">\n",
       "  <thead>\n",
       "    <tr style=\"text-align: right;\">\n",
       "      <th></th>\n",
       "      <th>price</th>\n",
       "      <th>unit</th>\n",
       "      <th>location</th>\n",
       "      <th>bedrooms</th>\n",
       "      <th>baths</th>\n",
       "      <th>parking_lots</th>\n",
       "      <th>state</th>\n",
       "    </tr>\n",
       "  </thead>\n",
       "  <tbody>\n",
       "    <tr>\n",
       "      <th>0</th>\n",
       "      <td>₦4,500,000</td>\n",
       "      <td>per year</td>\n",
       "      <td>Ikoyi, Lagos</td>\n",
       "      <td>2</td>\n",
       "      <td>2</td>\n",
       "      <td>NaN</td>\n",
       "      <td>Ikoyi, Lagos</td>\n",
       "    </tr>\n",
       "    <tr>\n",
       "      <th>1</th>\n",
       "      <td>₦15,000,000</td>\n",
       "      <td>per year</td>\n",
       "      <td>Ikoyi, Lagos</td>\n",
       "      <td>4</td>\n",
       "      <td>4</td>\n",
       "      <td>NaN</td>\n",
       "      <td>Ikoyi, Lagos</td>\n",
       "    </tr>\n",
       "    <tr>\n",
       "      <th>2</th>\n",
       "      <td>₦15,000,000</td>\n",
       "      <td>per year</td>\n",
       "      <td>Ikoyi, Lagos</td>\n",
       "      <td>3</td>\n",
       "      <td>4</td>\n",
       "      <td>NaN</td>\n",
       "      <td>Ikoyi, Lagos</td>\n",
       "    </tr>\n",
       "    <tr>\n",
       "      <th>3</th>\n",
       "      <td>₦6,000,000</td>\n",
       "      <td>per year</td>\n",
       "      <td>Ikoyi, Lagos</td>\n",
       "      <td>2</td>\n",
       "      <td>2</td>\n",
       "      <td>NaN</td>\n",
       "      <td>Ikoyi, Lagos</td>\n",
       "    </tr>\n",
       "    <tr>\n",
       "      <th>4</th>\n",
       "      <td>₦13,000,000</td>\n",
       "      <td>per year</td>\n",
       "      <td>Ikoyi, Lagos</td>\n",
       "      <td>3</td>\n",
       "      <td>4</td>\n",
       "      <td>NaN</td>\n",
       "      <td>Ikoyi, Lagos</td>\n",
       "    </tr>\n",
       "  </tbody>\n",
       "</table>\n",
       "</div>"
      ],
      "text/plain": [
       "          price      unit      location  bedrooms  baths  parking_lots  \\\n",
       "0   ₦4,500,000   per year  Ikoyi, Lagos         2      2           NaN   \n",
       "1  ₦15,000,000   per year  Ikoyi, Lagos         4      4           NaN   \n",
       "2  ₦15,000,000   per year  Ikoyi, Lagos         3      4           NaN   \n",
       "3   ₦6,000,000   per year  Ikoyi, Lagos         2      2           NaN   \n",
       "4  ₦13,000,000   per year  Ikoyi, Lagos         3      4           NaN   \n",
       "\n",
       "          state  \n",
       "0  Ikoyi, Lagos  \n",
       "1  Ikoyi, Lagos  \n",
       "2  Ikoyi, Lagos  \n",
       "3  Ikoyi, Lagos  \n",
       "4  Ikoyi, Lagos  "
      ]
     },
     "execution_count": 9,
     "metadata": {},
     "output_type": "execute_result"
    }
   ],
   "source": [
    "housing_5.head()"
   ]
  },
  {
   "cell_type": "code",
   "execution_count": 10,
   "metadata": {},
   "outputs": [
    {
     "data": {
      "text/html": [
       "<div>\n",
       "<style>\n",
       "    .dataframe thead tr:only-child th {\n",
       "        text-align: right;\n",
       "    }\n",
       "\n",
       "    .dataframe thead th {\n",
       "        text-align: left;\n",
       "    }\n",
       "\n",
       "    .dataframe tbody tr th {\n",
       "        vertical-align: top;\n",
       "    }\n",
       "</style>\n",
       "<table border=\"1\" class=\"dataframe\">\n",
       "  <thead>\n",
       "    <tr style=\"text-align: right;\">\n",
       "      <th></th>\n",
       "      <th>price</th>\n",
       "      <th>unit</th>\n",
       "      <th>location</th>\n",
       "      <th>bedrooms</th>\n",
       "      <th>baths</th>\n",
       "      <th>state</th>\n",
       "    </tr>\n",
       "  </thead>\n",
       "  <tbody>\n",
       "    <tr>\n",
       "      <th>0</th>\n",
       "      <td>₦ 5,000 / Per Event</td>\n",
       "      <td>₦ 5,000 / Per Event</td>\n",
       "      <td>LAGOS/Ikeja</td>\n",
       "      <td>NaN</td>\n",
       "      <td>NaN</td>\n",
       "      <td>NaN</td>\n",
       "    </tr>\n",
       "    <tr>\n",
       "      <th>1</th>\n",
       "      <td>₦ 45,000 / Yearly</td>\n",
       "      <td>₦ 45,000 / Yearly</td>\n",
       "      <td>ABUJA (FCT)/Dutse Makaranta</td>\n",
       "      <td>1.0</td>\n",
       "      <td>NaN</td>\n",
       "      <td>NaN</td>\n",
       "    </tr>\n",
       "    <tr>\n",
       "      <th>2</th>\n",
       "      <td>₦ 45,000 / Yearly</td>\n",
       "      <td>₦ 45,000 / Yearly</td>\n",
       "      <td>ABUJA (FCT)/Dutse Makaranta</td>\n",
       "      <td>1.0</td>\n",
       "      <td>NaN</td>\n",
       "      <td>NaN</td>\n",
       "    </tr>\n",
       "    <tr>\n",
       "      <th>3</th>\n",
       "      <td>₦ 50,000 / Yearly</td>\n",
       "      <td>₦ 50,000 / Yearly</td>\n",
       "      <td>ABUJA (FCT)/Dutse Sokale</td>\n",
       "      <td>1.0</td>\n",
       "      <td>NaN</td>\n",
       "      <td>NaN</td>\n",
       "    </tr>\n",
       "    <tr>\n",
       "      <th>4</th>\n",
       "      <td>₦ 65,000 / Yearly</td>\n",
       "      <td>₦ 65,000 / Yearly</td>\n",
       "      <td>ABUJA (FCT)/Dutse Alhaji</td>\n",
       "      <td>1.0</td>\n",
       "      <td>NaN</td>\n",
       "      <td>NaN</td>\n",
       "    </tr>\n",
       "  </tbody>\n",
       "</table>\n",
       "</div>"
      ],
      "text/plain": [
       "                 price                 unit                     location  \\\n",
       "0  ₦ 5,000 / Per Event  ₦ 5,000 / Per Event                  LAGOS/Ikeja   \n",
       "1    ₦ 45,000 / Yearly    ₦ 45,000 / Yearly  ABUJA (FCT)/Dutse Makaranta   \n",
       "2    ₦ 45,000 / Yearly    ₦ 45,000 / Yearly  ABUJA (FCT)/Dutse Makaranta   \n",
       "3    ₦ 50,000 / Yearly    ₦ 50,000 / Yearly     ABUJA (FCT)/Dutse Sokale   \n",
       "4    ₦ 65,000 / Yearly    ₦ 65,000 / Yearly     ABUJA (FCT)/Dutse Alhaji   \n",
       "\n",
       "   bedrooms  baths  state  \n",
       "0       NaN    NaN    NaN  \n",
       "1       1.0    NaN    NaN  \n",
       "2       1.0    NaN    NaN  \n",
       "3       1.0    NaN    NaN  \n",
       "4       1.0    NaN    NaN  "
      ]
     },
     "execution_count": 10,
     "metadata": {},
     "output_type": "execute_result"
    }
   ],
   "source": [
    "housing_6.head()"
   ]
  },
  {
   "cell_type": "code",
   "execution_count": 11,
   "metadata": {},
   "outputs": [
    {
     "data": {
      "text/html": [
       "<div>\n",
       "<style>\n",
       "    .dataframe thead tr:only-child th {\n",
       "        text-align: right;\n",
       "    }\n",
       "\n",
       "    .dataframe thead th {\n",
       "        text-align: left;\n",
       "    }\n",
       "\n",
       "    .dataframe tbody tr th {\n",
       "        vertical-align: top;\n",
       "    }\n",
       "</style>\n",
       "<table border=\"1\" class=\"dataframe\">\n",
       "  <thead>\n",
       "    <tr style=\"text-align: right;\">\n",
       "      <th></th>\n",
       "      <th>price</th>\n",
       "      <th>unit</th>\n",
       "      <th>location</th>\n",
       "      <th>bedrooms</th>\n",
       "      <th>baths</th>\n",
       "      <th>state</th>\n",
       "    </tr>\n",
       "  </thead>\n",
       "  <tbody>\n",
       "    <tr>\n",
       "      <th>0</th>\n",
       "      <td>₦450,000</td>\n",
       "      <td>per Year</td>\n",
       "      <td>Ogun, Odeda, Ogun State</td>\n",
       "      <td>2</td>\n",
       "      <td>2</td>\n",
       "      <td>NaN</td>\n",
       "    </tr>\n",
       "    <tr>\n",
       "      <th>1</th>\n",
       "      <td>₦150,000</td>\n",
       "      <td>per Year</td>\n",
       "      <td>Abeokuta, Abeokuta South, Ogun State</td>\n",
       "      <td>1</td>\n",
       "      <td>1</td>\n",
       "      <td>NaN</td>\n",
       "    </tr>\n",
       "    <tr>\n",
       "      <th>2</th>\n",
       "      <td>₦700,000</td>\n",
       "      <td>per Year</td>\n",
       "      <td>Ogun, Odeda, Ogun State</td>\n",
       "      <td>3</td>\n",
       "      <td>3</td>\n",
       "      <td>NaN</td>\n",
       "    </tr>\n",
       "    <tr>\n",
       "      <th>3</th>\n",
       "      <td>₦250,000</td>\n",
       "      <td>per Year</td>\n",
       "      <td>Ifo, Ogun State</td>\n",
       "      <td>2</td>\n",
       "      <td>2</td>\n",
       "      <td>NaN</td>\n",
       "    </tr>\n",
       "    <tr>\n",
       "      <th>4</th>\n",
       "      <td>₦200,000</td>\n",
       "      <td>per Year</td>\n",
       "      <td>Ofada, Obafemi Owode, Ogun State</td>\n",
       "      <td>NaN</td>\n",
       "      <td>NaN</td>\n",
       "      <td>NaN</td>\n",
       "    </tr>\n",
       "  </tbody>\n",
       "</table>\n",
       "</div>"
      ],
      "text/plain": [
       "      price      unit                                location bedrooms baths  \\\n",
       "0  ₦450,000  per Year                Ogun, Odeda, Ogun State         2     2   \n",
       "1  ₦150,000  per Year   Abeokuta, Abeokuta South, Ogun State         1     1   \n",
       "2  ₦700,000  per Year                Ogun, Odeda, Ogun State         3     3   \n",
       "3  ₦250,000  per Year                        Ifo, Ogun State         2     2   \n",
       "4  ₦200,000  per Year       Ofada, Obafemi Owode, Ogun State       NaN   NaN   \n",
       "\n",
       "   state  \n",
       "0    NaN  \n",
       "1    NaN  \n",
       "2    NaN  \n",
       "3    NaN  \n",
       "4    NaN  "
      ]
     },
     "execution_count": 11,
     "metadata": {},
     "output_type": "execute_result"
    }
   ],
   "source": [
    "housing_7.head()"
   ]
  },
  {
   "cell_type": "markdown",
   "metadata": {},
   "source": [
    " # Looking into the 1st Dataset more closely and cleaning"
   ]
  },
  {
   "cell_type": "code",
   "execution_count": 12,
   "metadata": {
    "scrolled": false
   },
   "outputs": [
    {
     "name": "stdout",
     "output_type": "stream",
     "text": [
      "<class 'pandas.core.frame.DataFrame'>\n",
      "RangeIndex: 752 entries, 0 to 751\n",
      "Data columns (total 6 columns):\n",
      "price       752 non-null object\n",
      "unit        752 non-null object\n",
      "location    752 non-null object\n",
      "bedrooms    620 non-null float64\n",
      "baths       437 non-null object\n",
      "state       0 non-null float64\n",
      "dtypes: float64(2), object(4)\n",
      "memory usage: 35.3+ KB\n"
     ]
    }
   ],
   "source": [
    "housing_1.info()"
   ]
  },
  {
   "cell_type": "markdown",
   "metadata": {},
   "source": [
    "3 columns (bedrooms, baths and states) have missing values. Visualization of the data set using seaborn heatmap is done"
   ]
  },
  {
   "cell_type": "code",
   "execution_count": 13,
   "metadata": {
    "scrolled": true
   },
   "outputs": [
    {
     "data": {
      "image/png": "[encoded data removed]",
      "text/plain": [
       "<matplotlib.figure.Figure at 0x238f7473ba8>"
      ]
     },
     "metadata": {},
     "output_type": "display_data"
    }
   ],
   "source": [
    "fig,ax = plt.subplots(figsize =(20,12))\n",
    "ax = sns.heatmap(housing_1.isnull(), cbar=False)\n",
    "ax.set_yticks([])\n",
    "ax.set_title(\"Data Presence in Housing_1\", fontsize=14)\n",
    "plt.show()"
   ]
  },
  {
   "cell_type": "markdown",
   "metadata": {},
   "source": [
    "There are lots of missing values in the bedroom and baths columns while state values are all missing"
   ]
  },
  {
   "cell_type": "markdown",
   "metadata": {},
   "source": [
    "First, closer look at the price column is required to escertain whether cleaning should be done"
   ]
  },
  {
   "cell_type": "code",
   "execution_count": 14,
   "metadata": {
    "scrolled": false
   },
   "outputs": [
    {
     "data": {
      "text/plain": [
       "                    36\n",
       "₦35,000,000.00      19\n",
       "₦65,000,000.00      13\n",
       "₦150,000,000.00     13\n",
       "₦45,000,000.00      12\n",
       "Name: price, dtype: int64"
      ]
     },
     "execution_count": 14,
     "metadata": {},
     "output_type": "execute_result"
    }
   ],
   "source": [
    "housing_1[\"price\"].value_counts().head()"
   ]
  },
  {
   "cell_type": "markdown",
   "metadata": {},
   "source": [
    "The price column needs to be cleaned. The strategy to use is:\n",
    "1. remove rows where prices are wholely strings\n",
    "2. remove special charaters in price and where there are no price values, make the price 0.\n",
    "3. convert all prices to floats\n",
    "4. convert non-naira prices to naira by multiplying them with the current exchange rate\n",
    "4. convert all the prices rendered as payment in months or days to price in years"
   ]
  },
  {
   "cell_type": "markdown",
   "metadata": {},
   "source": [
    "The only string in the price column is \"Per Month\""
   ]
  },
  {
   "cell_type": "code",
   "execution_count": 15,
   "metadata": {
    "collapsed": true,
    "scrolled": false
   },
   "outputs": [],
   "source": [
    "housing_1.drop(housing_1[housing_1[\"price\"] == \" per month\"].index, inplace =True)"
   ]
  },
  {
   "cell_type": "code",
   "execution_count": 16,
   "metadata": {
    "collapsed": true
   },
   "outputs": [],
   "source": [
    "housing_1 =housing_1.reset_index(drop =True)"
   ]
  },
  {
   "cell_type": "code",
   "execution_count": 17,
   "metadata": {
    "collapsed": true
   },
   "outputs": [],
   "source": [
    "housing_1[\"price\"] = housing_1[\"price\"].str.replace(\"₦\", \"\").str.replace(\"$\", \"\").str.replace(\",\", \"\").str.replace(\"Per Year\", \"\").str.replace(\"per month\", \"\").str.replace(\"Per day\", \"\").str.replace(\" \", \"0\").str.strip()"
   ]
  },
  {
   "cell_type": "code",
   "execution_count": 18,
   "metadata": {
    "collapsed": true,
    "scrolled": false
   },
   "outputs": [],
   "source": [
    "housing_1[\"price\"] = housing_1[\"price\"].astype(float)"
   ]
  },
  {
   "cell_type": "code",
   "execution_count": 19,
   "metadata": {},
   "outputs": [
    {
     "data": {
      "text/html": [
       "<div>\n",
       "<style>\n",
       "    .dataframe thead tr:only-child th {\n",
       "        text-align: right;\n",
       "    }\n",
       "\n",
       "    .dataframe thead th {\n",
       "        text-align: left;\n",
       "    }\n",
       "\n",
       "    .dataframe tbody tr th {\n",
       "        vertical-align: top;\n",
       "    }\n",
       "</style>\n",
       "<table border=\"1\" class=\"dataframe\">\n",
       "  <thead>\n",
       "    <tr style=\"text-align: right;\">\n",
       "      <th></th>\n",
       "      <th>price</th>\n",
       "      <th>unit</th>\n",
       "      <th>location</th>\n",
       "      <th>bedrooms</th>\n",
       "      <th>baths</th>\n",
       "      <th>state</th>\n",
       "    </tr>\n",
       "  </thead>\n",
       "  <tbody>\n",
       "    <tr>\n",
       "      <th>0</th>\n",
       "      <td>2620000.0</td>\n",
       "      <td>₦2,620,000.00 Per Year</td>\n",
       "      <td>, 7 obasa street, Oba-Akran, Ikeja, Lagos, Nig...</td>\n",
       "      <td>NaN</td>\n",
       "      <td>NaN</td>\n",
       "      <td>NaN</td>\n",
       "    </tr>\n",
       "    <tr>\n",
       "      <th>1</th>\n",
       "      <td>2500000.0</td>\n",
       "      <td>₦2,500,000.00</td>\n",
       "      <td>, Tudu wada, Karshi,, Karu, Nasaruwa, Nigeria</td>\n",
       "      <td>NaN</td>\n",
       "      <td>NaN</td>\n",
       "      <td>NaN</td>\n",
       "    </tr>\n",
       "    <tr>\n",
       "      <th>2</th>\n",
       "      <td>300000.0</td>\n",
       "      <td>₦300,000.00</td>\n",
       "      <td>, ukeh, masaka, mararba, Karu, Nasaruwa, Nigeria</td>\n",
       "      <td>NaN</td>\n",
       "      <td>NaN</td>\n",
       "      <td>NaN</td>\n",
       "    </tr>\n",
       "    <tr>\n",
       "      <th>3</th>\n",
       "      <td>0.0</td>\n",
       "      <td></td>\n",
       "      <td>, World Trade Center, Plot 1113, Constitution ...</td>\n",
       "      <td>2.0</td>\n",
       "      <td>NaN</td>\n",
       "      <td>NaN</td>\n",
       "    </tr>\n",
       "    <tr>\n",
       "      <th>4</th>\n",
       "      <td>0.0</td>\n",
       "      <td></td>\n",
       "      <td>, World Trade Center, Plot 1113, Constitution ...</td>\n",
       "      <td>1.0</td>\n",
       "      <td>NaN</td>\n",
       "      <td>NaN</td>\n",
       "    </tr>\n",
       "  </tbody>\n",
       "</table>\n",
       "</div>"
      ],
      "text/plain": [
       "       price                    unit  \\\n",
       "0  2620000.0  ₦2,620,000.00 Per Year   \n",
       "1  2500000.0          ₦2,500,000.00    \n",
       "2   300000.0            ₦300,000.00    \n",
       "3        0.0                           \n",
       "4        0.0                           \n",
       "\n",
       "                                            location  bedrooms baths  state  \n",
       "0  , 7 obasa street, Oba-Akran, Ikeja, Lagos, Nig...       NaN   NaN    NaN  \n",
       "1      , Tudu wada, Karshi,, Karu, Nasaruwa, Nigeria       NaN   NaN    NaN  \n",
       "2   , ukeh, masaka, mararba, Karu, Nasaruwa, Nigeria       NaN   NaN    NaN  \n",
       "3  , World Trade Center, Plot 1113, Constitution ...       2.0   NaN    NaN  \n",
       "4  , World Trade Center, Plot 1113, Constitution ...       1.0   NaN    NaN  "
      ]
     },
     "execution_count": 19,
     "metadata": {},
     "output_type": "execute_result"
    }
   ],
   "source": [
    "housing_1.head()"
   ]
  },
  {
   "cell_type": "markdown",
   "metadata": {},
   "source": [
    "For price in US dollars, we convert to Naira using an exchange rate of 1USD = # 360"
   ]
  },
  {
   "cell_type": "code",
   "execution_count": 20,
   "metadata": {
    "collapsed": true
   },
   "outputs": [],
   "source": [
    "housing_1.loc[housing_1['unit'].str.contains(r'[$]'),'price'] = housing_1.loc[housing_1['unit'].str.contains(r'[$]'),'price']*360"
   ]
  },
  {
   "cell_type": "markdown",
   "metadata": {},
   "source": [
    "The corresponding entries in the unit column is used to convert price labeled per day and per month to yearly price but first, all other strings from the unit column needs to be removed so that we are either left with \"year\", \"month\" or \"day\""
   ]
  },
  {
   "cell_type": "code",
   "execution_count": 21,
   "metadata": {
    "collapsed": true
   },
   "outputs": [],
   "source": [
    "housing_1[\"unit\"] = housing_1[\"unit\"].str.split(\" \").str[-1]"
   ]
  },
  {
   "cell_type": "code",
   "execution_count": 22,
   "metadata": {
    "scrolled": true
   },
   "outputs": [
    {
     "data": {
      "text/plain": [
       "         503\n",
       "Year     226\n",
       "day       12\n",
       "month     10\n",
       "Name: unit, dtype: int64"
      ]
     },
     "execution_count": 22,
     "metadata": {},
     "output_type": "execute_result"
    }
   ],
   "source": [
    "housing_1[\"unit\"].value_counts(dropna = False)"
   ]
  },
  {
   "cell_type": "code",
   "execution_count": 23,
   "metadata": {
    "scrolled": true
   },
   "outputs": [
    {
     "data": {
      "text/html": [
       "<div>\n",
       "<style>\n",
       "    .dataframe thead tr:only-child th {\n",
       "        text-align: right;\n",
       "    }\n",
       "\n",
       "    .dataframe thead th {\n",
       "        text-align: left;\n",
       "    }\n",
       "\n",
       "    .dataframe tbody tr th {\n",
       "        vertical-align: top;\n",
       "    }\n",
       "</style>\n",
       "<table border=\"1\" class=\"dataframe\">\n",
       "  <thead>\n",
       "    <tr style=\"text-align: right;\">\n",
       "      <th></th>\n",
       "      <th>price</th>\n",
       "      <th>unit</th>\n",
       "    </tr>\n",
       "  </thead>\n",
       "  <tbody>\n",
       "    <tr>\n",
       "      <th>0</th>\n",
       "      <td>2620000.0</td>\n",
       "      <td>Year</td>\n",
       "    </tr>\n",
       "    <tr>\n",
       "      <th>1</th>\n",
       "      <td>2500000.0</td>\n",
       "      <td></td>\n",
       "    </tr>\n",
       "    <tr>\n",
       "      <th>2</th>\n",
       "      <td>300000.0</td>\n",
       "      <td></td>\n",
       "    </tr>\n",
       "    <tr>\n",
       "      <th>3</th>\n",
       "      <td>0.0</td>\n",
       "      <td></td>\n",
       "    </tr>\n",
       "    <tr>\n",
       "      <th>4</th>\n",
       "      <td>0.0</td>\n",
       "      <td></td>\n",
       "    </tr>\n",
       "    <tr>\n",
       "      <th>5</th>\n",
       "      <td>0.0</td>\n",
       "      <td></td>\n",
       "    </tr>\n",
       "    <tr>\n",
       "      <th>6</th>\n",
       "      <td>0.0</td>\n",
       "      <td></td>\n",
       "    </tr>\n",
       "    <tr>\n",
       "      <th>7</th>\n",
       "      <td>33000000.0</td>\n",
       "      <td></td>\n",
       "    </tr>\n",
       "    <tr>\n",
       "      <th>8</th>\n",
       "      <td>30000000.0</td>\n",
       "      <td></td>\n",
       "    </tr>\n",
       "    <tr>\n",
       "      <th>9</th>\n",
       "      <td>3750000.0</td>\n",
       "      <td>Year</td>\n",
       "    </tr>\n",
       "  </tbody>\n",
       "</table>\n",
       "</div>"
      ],
      "text/plain": [
       "        price  unit\n",
       "0   2620000.0  Year\n",
       "1   2500000.0      \n",
       "2    300000.0      \n",
       "3         0.0      \n",
       "4         0.0      \n",
       "5         0.0      \n",
       "6         0.0      \n",
       "7  33000000.0      \n",
       "8  30000000.0      \n",
       "9   3750000.0  Year"
      ]
     },
     "execution_count": 23,
     "metadata": {},
     "output_type": "execute_result"
    }
   ],
   "source": [
    "housing_1[[\"price\",\"unit\"]].head(10)"
   ]
  },
  {
   "cell_type": "markdown",
   "metadata": {},
   "source": [
    "It is obvious that some of the prices do not have a corresponding entry in the unit column. \n",
    "\n",
    "A function is created to handle the conversion. The values generated from the function are wrtiten into a new column called multiplier and then the multiplier column is used to multiply the price column. "
   ]
  },
  {
   "cell_type": "code",
   "execution_count": 24,
   "metadata": {
    "collapsed": true
   },
   "outputs": [],
   "source": [
    "def convert(string):\n",
    "    if string == \"month\":\n",
    "        return 12\n",
    "    elif string == \"day\":\n",
    "        return 365\n",
    "    elif string == \"Year\":\n",
    "        return 1\n",
    "    else:\n",
    "        return 1"
   ]
  },
  {
   "cell_type": "code",
   "execution_count": 25,
   "metadata": {
    "collapsed": true
   },
   "outputs": [],
   "source": [
    "housing_1[\"multiplier\"] = housing_1[\"unit\"].apply(convert)"
   ]
  },
  {
   "cell_type": "code",
   "execution_count": 26,
   "metadata": {
    "collapsed": true
   },
   "outputs": [],
   "source": [
    "housing_1[\"price\"] = housing_1[\"multiplier\"] * housing_1[\"price\"]"
   ]
  },
  {
   "cell_type": "code",
   "execution_count": 27,
   "metadata": {},
   "outputs": [
    {
     "data": {
      "text/html": [
       "<div>\n",
       "<style>\n",
       "    .dataframe thead tr:only-child th {\n",
       "        text-align: right;\n",
       "    }\n",
       "\n",
       "    .dataframe thead th {\n",
       "        text-align: left;\n",
       "    }\n",
       "\n",
       "    .dataframe tbody tr th {\n",
       "        vertical-align: top;\n",
       "    }\n",
       "</style>\n",
       "<table border=\"1\" class=\"dataframe\">\n",
       "  <thead>\n",
       "    <tr style=\"text-align: right;\">\n",
       "      <th></th>\n",
       "      <th>price</th>\n",
       "      <th>unit</th>\n",
       "      <th>location</th>\n",
       "      <th>bedrooms</th>\n",
       "      <th>baths</th>\n",
       "      <th>state</th>\n",
       "      <th>multiplier</th>\n",
       "    </tr>\n",
       "  </thead>\n",
       "  <tbody>\n",
       "    <tr>\n",
       "      <th>0</th>\n",
       "      <td>2620000.0</td>\n",
       "      <td>Year</td>\n",
       "      <td>, 7 obasa street, Oba-Akran, Ikeja, Lagos, Nig...</td>\n",
       "      <td>NaN</td>\n",
       "      <td>NaN</td>\n",
       "      <td>NaN</td>\n",
       "      <td>1</td>\n",
       "    </tr>\n",
       "    <tr>\n",
       "      <th>1</th>\n",
       "      <td>2500000.0</td>\n",
       "      <td></td>\n",
       "      <td>, Tudu wada, Karshi,, Karu, Nasaruwa, Nigeria</td>\n",
       "      <td>NaN</td>\n",
       "      <td>NaN</td>\n",
       "      <td>NaN</td>\n",
       "      <td>1</td>\n",
       "    </tr>\n",
       "    <tr>\n",
       "      <th>2</th>\n",
       "      <td>300000.0</td>\n",
       "      <td></td>\n",
       "      <td>, ukeh, masaka, mararba, Karu, Nasaruwa, Nigeria</td>\n",
       "      <td>NaN</td>\n",
       "      <td>NaN</td>\n",
       "      <td>NaN</td>\n",
       "      <td>1</td>\n",
       "    </tr>\n",
       "    <tr>\n",
       "      <th>3</th>\n",
       "      <td>0.0</td>\n",
       "      <td></td>\n",
       "      <td>, World Trade Center, Plot 1113, Constitution ...</td>\n",
       "      <td>2.0</td>\n",
       "      <td>NaN</td>\n",
       "      <td>NaN</td>\n",
       "      <td>1</td>\n",
       "    </tr>\n",
       "    <tr>\n",
       "      <th>4</th>\n",
       "      <td>0.0</td>\n",
       "      <td></td>\n",
       "      <td>, World Trade Center, Plot 1113, Constitution ...</td>\n",
       "      <td>1.0</td>\n",
       "      <td>NaN</td>\n",
       "      <td>NaN</td>\n",
       "      <td>1</td>\n",
       "    </tr>\n",
       "    <tr>\n",
       "      <th>5</th>\n",
       "      <td>0.0</td>\n",
       "      <td></td>\n",
       "      <td>, World Trade Center, Plot 1113, Constitution ...</td>\n",
       "      <td>3.0</td>\n",
       "      <td>NaN</td>\n",
       "      <td>NaN</td>\n",
       "      <td>1</td>\n",
       "    </tr>\n",
       "    <tr>\n",
       "      <th>6</th>\n",
       "      <td>0.0</td>\n",
       "      <td></td>\n",
       "      <td>, 474, A0, Cadastral zone, Constitution Avenue...</td>\n",
       "      <td>NaN</td>\n",
       "      <td>NaN</td>\n",
       "      <td>NaN</td>\n",
       "      <td>1</td>\n",
       "    </tr>\n",
       "    <tr>\n",
       "      <th>7</th>\n",
       "      <td>33000000.0</td>\n",
       "      <td></td>\n",
       "      <td>, Alafia Bus stop, Badagry Express Way, Lagos,...</td>\n",
       "      <td>5.0</td>\n",
       "      <td>5f</td>\n",
       "      <td>NaN</td>\n",
       "      <td>1</td>\n",
       "    </tr>\n",
       "    <tr>\n",
       "      <th>8</th>\n",
       "      <td>30000000.0</td>\n",
       "      <td></td>\n",
       "      <td>, Alafia Bus stop, Badagry Express Way, Lagos,...</td>\n",
       "      <td>8.0</td>\n",
       "      <td>7f</td>\n",
       "      <td>NaN</td>\n",
       "      <td>1</td>\n",
       "    </tr>\n",
       "    <tr>\n",
       "      <th>9</th>\n",
       "      <td>3750000.0</td>\n",
       "      <td>Year</td>\n",
       "      <td>, jabi by eco bank, Jabi, Abuja FCT, Nigeria</td>\n",
       "      <td>3.0</td>\n",
       "      <td>3f</td>\n",
       "      <td>NaN</td>\n",
       "      <td>1</td>\n",
       "    </tr>\n",
       "  </tbody>\n",
       "</table>\n",
       "</div>"
      ],
      "text/plain": [
       "        price  unit                                           location  \\\n",
       "0   2620000.0  Year  , 7 obasa street, Oba-Akran, Ikeja, Lagos, Nig...   \n",
       "1   2500000.0            , Tudu wada, Karshi,, Karu, Nasaruwa, Nigeria   \n",
       "2    300000.0         , ukeh, masaka, mararba, Karu, Nasaruwa, Nigeria   \n",
       "3         0.0        , World Trade Center, Plot 1113, Constitution ...   \n",
       "4         0.0        , World Trade Center, Plot 1113, Constitution ...   \n",
       "5         0.0        , World Trade Center, Plot 1113, Constitution ...   \n",
       "6         0.0        , 474, A0, Cadastral zone, Constitution Avenue...   \n",
       "7  33000000.0        , Alafia Bus stop, Badagry Express Way, Lagos,...   \n",
       "8  30000000.0        , Alafia Bus stop, Badagry Express Way, Lagos,...   \n",
       "9   3750000.0  Year       , jabi by eco bank, Jabi, Abuja FCT, Nigeria   \n",
       "\n",
       "   bedrooms baths  state  multiplier  \n",
       "0       NaN   NaN    NaN           1  \n",
       "1       NaN   NaN    NaN           1  \n",
       "2       NaN   NaN    NaN           1  \n",
       "3       2.0   NaN    NaN           1  \n",
       "4       1.0   NaN    NaN           1  \n",
       "5       3.0   NaN    NaN           1  \n",
       "6       NaN   NaN    NaN           1  \n",
       "7       5.0    5f    NaN           1  \n",
       "8       8.0    7f    NaN           1  \n",
       "9       3.0    3f    NaN           1  "
      ]
     },
     "execution_count": 27,
     "metadata": {},
     "output_type": "execute_result"
    }
   ],
   "source": [
    "housing_1.head(10)"
   ]
  },
  {
   "cell_type": "markdown",
   "metadata": {},
   "source": [
    "There are rows were prices have been set to 0. A check of how much of our data in percent is affected by a 0 price is done to see whether they can be dropped."
   ]
  },
  {
   "cell_type": "code",
   "execution_count": 28,
   "metadata": {},
   "outputs": [
    {
     "data": {
      "text/plain": [
       "0.055925432756324903"
      ]
     },
     "execution_count": 28,
     "metadata": {},
     "output_type": "execute_result"
    }
   ],
   "source": [
    "(housing_1[\"price\"]== 0).sum()/housing_1.shape[0]"
   ]
  },
  {
   "cell_type": "markdown",
   "metadata": {},
   "source": [
    "Since only about 6% of data is affected, rows where price = 0 is dropped"
   ]
  },
  {
   "cell_type": "code",
   "execution_count": 29,
   "metadata": {
    "collapsed": true
   },
   "outputs": [],
   "source": [
    "housing_1.drop(housing_1[housing_1[\"price\"] == 0.0].index, axis =0, inplace = True)"
   ]
  },
  {
   "cell_type": "code",
   "execution_count": 30,
   "metadata": {
    "collapsed": true
   },
   "outputs": [],
   "source": [
    "housing_1 = housing_1.reset_index(drop =True)"
   ]
  },
  {
   "cell_type": "code",
   "execution_count": 31,
   "metadata": {},
   "outputs": [
    {
     "data": {
      "text/plain": [
       "709"
      ]
     },
     "execution_count": 31,
     "metadata": {},
     "output_type": "execute_result"
    }
   ],
   "source": [
    "housing_1.shape[0]"
   ]
  },
  {
   "cell_type": "markdown",
   "metadata": {},
   "source": [
    "Done using the multiplier column and so it is dropped."
   ]
  },
  {
   "cell_type": "code",
   "execution_count": 32,
   "metadata": {
    "collapsed": true
   },
   "outputs": [],
   "source": [
    "housing_1.drop([\"multiplier\"], axis=1, inplace = True)"
   ]
  },
  {
   "cell_type": "code",
   "execution_count": 33,
   "metadata": {},
   "outputs": [
    {
     "data": {
      "text/html": [
       "<div>\n",
       "<style>\n",
       "    .dataframe thead tr:only-child th {\n",
       "        text-align: right;\n",
       "    }\n",
       "\n",
       "    .dataframe thead th {\n",
       "        text-align: left;\n",
       "    }\n",
       "\n",
       "    .dataframe tbody tr th {\n",
       "        vertical-align: top;\n",
       "    }\n",
       "</style>\n",
       "<table border=\"1\" class=\"dataframe\">\n",
       "  <thead>\n",
       "    <tr style=\"text-align: right;\">\n",
       "      <th></th>\n",
       "      <th>price</th>\n",
       "      <th>unit</th>\n",
       "      <th>location</th>\n",
       "      <th>bedrooms</th>\n",
       "      <th>baths</th>\n",
       "      <th>state</th>\n",
       "    </tr>\n",
       "  </thead>\n",
       "  <tbody>\n",
       "    <tr>\n",
       "      <th>0</th>\n",
       "      <td>2620000.0</td>\n",
       "      <td>Year</td>\n",
       "      <td>, 7 obasa street, Oba-Akran, Ikeja, Lagos, Nig...</td>\n",
       "      <td>NaN</td>\n",
       "      <td>NaN</td>\n",
       "      <td>NaN</td>\n",
       "    </tr>\n",
       "    <tr>\n",
       "      <th>1</th>\n",
       "      <td>2500000.0</td>\n",
       "      <td></td>\n",
       "      <td>, Tudu wada, Karshi,, Karu, Nasaruwa, Nigeria</td>\n",
       "      <td>NaN</td>\n",
       "      <td>NaN</td>\n",
       "      <td>NaN</td>\n",
       "    </tr>\n",
       "    <tr>\n",
       "      <th>2</th>\n",
       "      <td>300000.0</td>\n",
       "      <td></td>\n",
       "      <td>, ukeh, masaka, mararba, Karu, Nasaruwa, Nigeria</td>\n",
       "      <td>NaN</td>\n",
       "      <td>NaN</td>\n",
       "      <td>NaN</td>\n",
       "    </tr>\n",
       "    <tr>\n",
       "      <th>3</th>\n",
       "      <td>33000000.0</td>\n",
       "      <td></td>\n",
       "      <td>, Alafia Bus stop, Badagry Express Way, Lagos,...</td>\n",
       "      <td>5.0</td>\n",
       "      <td>5f</td>\n",
       "      <td>NaN</td>\n",
       "    </tr>\n",
       "    <tr>\n",
       "      <th>4</th>\n",
       "      <td>30000000.0</td>\n",
       "      <td></td>\n",
       "      <td>, Alafia Bus stop, Badagry Express Way, Lagos,...</td>\n",
       "      <td>8.0</td>\n",
       "      <td>7f</td>\n",
       "      <td>NaN</td>\n",
       "    </tr>\n",
       "  </tbody>\n",
       "</table>\n",
       "</div>"
      ],
      "text/plain": [
       "        price  unit                                           location  \\\n",
       "0   2620000.0  Year  , 7 obasa street, Oba-Akran, Ikeja, Lagos, Nig...   \n",
       "1   2500000.0            , Tudu wada, Karshi,, Karu, Nasaruwa, Nigeria   \n",
       "2    300000.0         , ukeh, masaka, mararba, Karu, Nasaruwa, Nigeria   \n",
       "3  33000000.0        , Alafia Bus stop, Badagry Express Way, Lagos,...   \n",
       "4  30000000.0        , Alafia Bus stop, Badagry Express Way, Lagos,...   \n",
       "\n",
       "   bedrooms baths  state  \n",
       "0       NaN   NaN    NaN  \n",
       "1       NaN   NaN    NaN  \n",
       "2       NaN   NaN    NaN  \n",
       "3       5.0    5f    NaN  \n",
       "4       8.0    7f    NaN  "
      ]
     },
     "execution_count": 33,
     "metadata": {},
     "output_type": "execute_result"
    }
   ],
   "source": [
    "housing_1.head()"
   ]
  },
  {
   "cell_type": "markdown",
   "metadata": {},
   "source": [
    "### Extration of states from the Location column"
   ]
  },
  {
   "cell_type": "markdown",
   "metadata": {},
   "source": [
    "A function is defined to handle this job. It will be applied to the location column and the output will be saved in the state column."
   ]
  },
  {
   "cell_type": "code",
   "execution_count": 34,
   "metadata": {
    "collapsed": true
   },
   "outputs": [],
   "source": [
    "def find_state(string):\n",
    "    list =[\"Lagos\", \"Abuja\", \"Rivers\", \"Cross River\", \"Ogun\", \"Oyo\", \"Delta\"]\n",
    "    for a in list:\n",
    "        if a in string:\n",
    "            return a\n",
    "        elif \"Nasaruwa\" in string:\n",
    "            return \"Nasarawa\"\n",
    "        elif \"Port Harcourt\" in string:\n",
    "            return \"Rivers\"\n",
    "        elif \"Kuje\" in string:\n",
    "            return \"Abuja\"\n",
    "        else:\n",
    "            pass"
   ]
  },
  {
   "cell_type": "code",
   "execution_count": 35,
   "metadata": {
    "collapsed": true
   },
   "outputs": [],
   "source": [
    "housing_1[\"state\"] = housing_1[\"location\"].apply(find_state)"
   ]
  },
  {
   "cell_type": "code",
   "execution_count": 36,
   "metadata": {},
   "outputs": [
    {
     "data": {
      "text/html": [
       "<div>\n",
       "<style>\n",
       "    .dataframe thead tr:only-child th {\n",
       "        text-align: right;\n",
       "    }\n",
       "\n",
       "    .dataframe thead th {\n",
       "        text-align: left;\n",
       "    }\n",
       "\n",
       "    .dataframe tbody tr th {\n",
       "        vertical-align: top;\n",
       "    }\n",
       "</style>\n",
       "<table border=\"1\" class=\"dataframe\">\n",
       "  <thead>\n",
       "    <tr style=\"text-align: right;\">\n",
       "      <th></th>\n",
       "      <th>price</th>\n",
       "      <th>unit</th>\n",
       "      <th>location</th>\n",
       "      <th>bedrooms</th>\n",
       "      <th>baths</th>\n",
       "      <th>state</th>\n",
       "    </tr>\n",
       "  </thead>\n",
       "  <tbody>\n",
       "    <tr>\n",
       "      <th>7</th>\n",
       "      <td>150000000.0</td>\n",
       "      <td></td>\n",
       "      <td>, Oduduwa Crescent, Nigeria</td>\n",
       "      <td>4.0</td>\n",
       "      <td>4f</td>\n",
       "      <td>None</td>\n",
       "    </tr>\n",
       "    <tr>\n",
       "      <th>8</th>\n",
       "      <td>5500000.0</td>\n",
       "      <td>Year</td>\n",
       "      <td>, Oduduwa Crescent, Nigeria</td>\n",
       "      <td>4.0</td>\n",
       "      <td>4f</td>\n",
       "      <td>None</td>\n",
       "    </tr>\n",
       "    <tr>\n",
       "      <th>9</th>\n",
       "      <td>48000000.0</td>\n",
       "      <td></td>\n",
       "      <td>, Nigeria</td>\n",
       "      <td>3.0</td>\n",
       "      <td>3f</td>\n",
       "      <td>None</td>\n",
       "    </tr>\n",
       "    <tr>\n",
       "      <th>16</th>\n",
       "      <td>55000000.0</td>\n",
       "      <td></td>\n",
       "      <td>, Nigeria</td>\n",
       "      <td>4.0</td>\n",
       "      <td>4f</td>\n",
       "      <td>None</td>\n",
       "    </tr>\n",
       "    <tr>\n",
       "      <th>20</th>\n",
       "      <td>50000000.0</td>\n",
       "      <td></td>\n",
       "      <td>, Nigeria</td>\n",
       "      <td>4.0</td>\n",
       "      <td>4f</td>\n",
       "      <td>None</td>\n",
       "    </tr>\n",
       "  </tbody>\n",
       "</table>\n",
       "</div>"
      ],
      "text/plain": [
       "          price  unit                     location  bedrooms baths state\n",
       "7   150000000.0        , Oduduwa Crescent, Nigeria       4.0    4f  None\n",
       "8     5500000.0  Year  , Oduduwa Crescent, Nigeria       4.0    4f  None\n",
       "9    48000000.0                          , Nigeria       3.0    3f  None\n",
       "16   55000000.0                          , Nigeria       4.0    4f  None\n",
       "20   50000000.0                          , Nigeria       4.0    4f  None"
      ]
     },
     "execution_count": 36,
     "metadata": {},
     "output_type": "execute_result"
    }
   ],
   "source": [
    "housing_1.loc[housing_1[\"state\"].isnull()].head()"
   ]
  },
  {
   "cell_type": "markdown",
   "metadata": {},
   "source": [
    "A few states still have missing values. For these, researching the addresses showed they all belong to Lagos. So Lagos is filled in"
   ]
  },
  {
   "cell_type": "code",
   "execution_count": 37,
   "metadata": {
    "collapsed": true
   },
   "outputs": [],
   "source": [
    "housing_1.loc[housing_1[\"state\"].isnull(),\"state\"] =\"Lagos\""
   ]
  },
  {
   "cell_type": "code",
   "execution_count": 38,
   "metadata": {},
   "outputs": [
    {
     "data": {
      "text/plain": [
       "Lagos          609\n",
       "Abuja           66\n",
       "Ogun            15\n",
       "Oyo             11\n",
       "Rivers           4\n",
       "Nasarawa         2\n",
       "Delta            1\n",
       "Cross River      1\n",
       "Name: state, dtype: int64"
      ]
     },
     "execution_count": 38,
     "metadata": {},
     "output_type": "execute_result"
    }
   ],
   "source": [
    "housing_1[\"state\"].value_counts(dropna =False)"
   ]
  },
  {
   "cell_type": "markdown",
   "metadata": {},
   "source": [
    "### Cleaning location and unit columns"
   ]
  },
  {
   "cell_type": "code",
   "execution_count": 39,
   "metadata": {
    "scrolled": true
   },
   "outputs": [
    {
     "data": {
      "text/plain": [
       "0    , 7 obasa street, Oba-Akran, Ikeja, Lagos, Nig...\n",
       "1        , Tudu wada, Karshi,, Karu, Nasaruwa, Nigeria\n",
       "2     , ukeh, masaka, mararba, Karu, Nasaruwa, Nigeria\n",
       "3    , Alafia Bus stop, Badagry Express Way, Lagos,...\n",
       "4    , Alafia Bus stop, Badagry Express Way, Lagos,...\n",
       "Name: location, dtype: object"
      ]
     },
     "execution_count": 39,
     "metadata": {},
     "output_type": "execute_result"
    }
   ],
   "source": [
    "housing_1[\"location\"].head()"
   ]
  },
  {
   "cell_type": "code",
   "execution_count": 40,
   "metadata": {},
   "outputs": [
    {
     "data": {
      "text/plain": [
       "         467\n",
       "Year     220\n",
       "day       12\n",
       "month     10\n",
       "Name: unit, dtype: int64"
      ]
     },
     "execution_count": 40,
     "metadata": {},
     "output_type": "execute_result"
    }
   ],
   "source": [
    "housing_1[\"unit\"].value_counts().head()"
   ]
  },
  {
   "cell_type": "markdown",
   "metadata": {},
   "source": [
    "For the location column, we require just the city. We do a split and extract the city where possible.\n",
    "\n",
    "Since all prices are now in years, the unit columns should have only \"Per Year\""
   ]
  },
  {
   "cell_type": "code",
   "execution_count": 41,
   "metadata": {
    "collapsed": true
   },
   "outputs": [],
   "source": [
    "housing_1[\"location\"] = housing_1[\"location\"].str.split(\",\").str[2]"
   ]
  },
  {
   "cell_type": "code",
   "execution_count": 42,
   "metadata": {
    "collapsed": true
   },
   "outputs": [],
   "source": [
    "housing_1[\"unit\"] =\"Per Year\""
   ]
  },
  {
   "cell_type": "code",
   "execution_count": 43,
   "metadata": {},
   "outputs": [
    {
     "data": {
      "text/html": [
       "<div>\n",
       "<style>\n",
       "    .dataframe thead tr:only-child th {\n",
       "        text-align: right;\n",
       "    }\n",
       "\n",
       "    .dataframe thead th {\n",
       "        text-align: left;\n",
       "    }\n",
       "\n",
       "    .dataframe tbody tr th {\n",
       "        vertical-align: top;\n",
       "    }\n",
       "</style>\n",
       "<table border=\"1\" class=\"dataframe\">\n",
       "  <thead>\n",
       "    <tr style=\"text-align: right;\">\n",
       "      <th></th>\n",
       "      <th>price</th>\n",
       "      <th>unit</th>\n",
       "      <th>location</th>\n",
       "      <th>bedrooms</th>\n",
       "      <th>baths</th>\n",
       "      <th>state</th>\n",
       "    </tr>\n",
       "  </thead>\n",
       "  <tbody>\n",
       "    <tr>\n",
       "      <th>9</th>\n",
       "      <td>48000000.0</td>\n",
       "      <td>Per Year</td>\n",
       "      <td>NaN</td>\n",
       "      <td>3.0</td>\n",
       "      <td>3f</td>\n",
       "      <td>Lagos</td>\n",
       "    </tr>\n",
       "    <tr>\n",
       "      <th>16</th>\n",
       "      <td>55000000.0</td>\n",
       "      <td>Per Year</td>\n",
       "      <td>NaN</td>\n",
       "      <td>4.0</td>\n",
       "      <td>4f</td>\n",
       "      <td>Lagos</td>\n",
       "    </tr>\n",
       "    <tr>\n",
       "      <th>20</th>\n",
       "      <td>50000000.0</td>\n",
       "      <td>Per Year</td>\n",
       "      <td>NaN</td>\n",
       "      <td>4.0</td>\n",
       "      <td>4f</td>\n",
       "      <td>Lagos</td>\n",
       "    </tr>\n",
       "    <tr>\n",
       "      <th>28</th>\n",
       "      <td>850000.0</td>\n",
       "      <td>Per Year</td>\n",
       "      <td>NaN</td>\n",
       "      <td>0.0</td>\n",
       "      <td>NaN</td>\n",
       "      <td>Lagos</td>\n",
       "    </tr>\n",
       "    <tr>\n",
       "      <th>37</th>\n",
       "      <td>28000000.0</td>\n",
       "      <td>Per Year</td>\n",
       "      <td>NaN</td>\n",
       "      <td>0.0</td>\n",
       "      <td>NaN</td>\n",
       "      <td>Lagos</td>\n",
       "    </tr>\n",
       "  </tbody>\n",
       "</table>\n",
       "</div>"
      ],
      "text/plain": [
       "         price      unit location  bedrooms baths  state\n",
       "9   48000000.0  Per Year      NaN       3.0    3f  Lagos\n",
       "16  55000000.0  Per Year      NaN       4.0    4f  Lagos\n",
       "20  50000000.0  Per Year      NaN       4.0    4f  Lagos\n",
       "28    850000.0  Per Year      NaN       0.0   NaN  Lagos\n",
       "37  28000000.0  Per Year      NaN       0.0   NaN  Lagos"
      ]
     },
     "execution_count": 43,
     "metadata": {},
     "output_type": "execute_result"
    }
   ],
   "source": [
    "housing_1.loc[housing_1[\"location\"].isnull()].head()"
   ]
  },
  {
   "cell_type": "code",
   "execution_count": 44,
   "metadata": {},
   "outputs": [
    {
     "data": {
      "text/plain": [
       "9      Lagos\n",
       "16     Lagos\n",
       "20     Lagos\n",
       "28     Lagos\n",
       "37     Lagos\n",
       "38     Lagos\n",
       "43     Lagos\n",
       "44     Lagos\n",
       "45     Lagos\n",
       "50     Lagos\n",
       "138    Lagos\n",
       "430    Lagos\n",
       "474    Lagos\n",
       "635    Lagos\n",
       "Name: state, dtype: object"
      ]
     },
     "execution_count": 44,
     "metadata": {},
     "output_type": "execute_result"
    }
   ],
   "source": [
    "housing_1.loc[housing_1[\"location\"].isnull(),\"state\"]"
   ]
  },
  {
   "cell_type": "markdown",
   "metadata": {},
   "source": [
    "We still have missing locations but it all corresponds with Lagos state. So we fill in lagos for them."
   ]
  },
  {
   "cell_type": "code",
   "execution_count": 45,
   "metadata": {
    "collapsed": true
   },
   "outputs": [],
   "source": [
    "housing_1[\"location\"].fillna(\"Lagos\", inplace= True)"
   ]
  },
  {
   "cell_type": "markdown",
   "metadata": {},
   "source": [
    "The columns are renamed to make them descriptive and final file is saved with a different name."
   ]
  },
  {
   "cell_type": "code",
   "execution_count": 46,
   "metadata": {
    "collapsed": true
   },
   "outputs": [],
   "source": [
    "housing_1.rename(columns={\"price\": \"price_naira\", \"location\" :\"city_location\"},inplace =  True)"
   ]
  },
  {
   "cell_type": "code",
   "execution_count": 47,
   "metadata": {
    "collapsed": true
   },
   "outputs": [],
   "source": [
    "housing_1_cleaned = housing_1"
   ]
  },
  {
   "cell_type": "markdown",
   "metadata": {},
   "source": [
    "The cleaned version of the dataset is inspected to ensure being on the right track."
   ]
  },
  {
   "cell_type": "code",
   "execution_count": 48,
   "metadata": {
    "scrolled": true
   },
   "outputs": [
    {
     "data": {
      "text/html": [
       "<div>\n",
       "<style>\n",
       "    .dataframe thead tr:only-child th {\n",
       "        text-align: right;\n",
       "    }\n",
       "\n",
       "    .dataframe thead th {\n",
       "        text-align: left;\n",
       "    }\n",
       "\n",
       "    .dataframe tbody tr th {\n",
       "        vertical-align: top;\n",
       "    }\n",
       "</style>\n",
       "<table border=\"1\" class=\"dataframe\">\n",
       "  <thead>\n",
       "    <tr style=\"text-align: right;\">\n",
       "      <th></th>\n",
       "      <th>price_naira</th>\n",
       "      <th>unit</th>\n",
       "      <th>city_location</th>\n",
       "      <th>bedrooms</th>\n",
       "      <th>baths</th>\n",
       "      <th>state</th>\n",
       "    </tr>\n",
       "  </thead>\n",
       "  <tbody>\n",
       "    <tr>\n",
       "      <th>0</th>\n",
       "      <td>2620000.0</td>\n",
       "      <td>Per Year</td>\n",
       "      <td>Oba-Akran</td>\n",
       "      <td>NaN</td>\n",
       "      <td>NaN</td>\n",
       "      <td>Lagos</td>\n",
       "    </tr>\n",
       "    <tr>\n",
       "      <th>1</th>\n",
       "      <td>2500000.0</td>\n",
       "      <td>Per Year</td>\n",
       "      <td>Karshi</td>\n",
       "      <td>NaN</td>\n",
       "      <td>NaN</td>\n",
       "      <td>Nasarawa</td>\n",
       "    </tr>\n",
       "    <tr>\n",
       "      <th>2</th>\n",
       "      <td>300000.0</td>\n",
       "      <td>Per Year</td>\n",
       "      <td>masaka</td>\n",
       "      <td>NaN</td>\n",
       "      <td>NaN</td>\n",
       "      <td>Nasarawa</td>\n",
       "    </tr>\n",
       "    <tr>\n",
       "      <th>3</th>\n",
       "      <td>33000000.0</td>\n",
       "      <td>Per Year</td>\n",
       "      <td>Badagry Express Way</td>\n",
       "      <td>5.0</td>\n",
       "      <td>5f</td>\n",
       "      <td>Lagos</td>\n",
       "    </tr>\n",
       "    <tr>\n",
       "      <th>4</th>\n",
       "      <td>30000000.0</td>\n",
       "      <td>Per Year</td>\n",
       "      <td>Badagry Express Way</td>\n",
       "      <td>8.0</td>\n",
       "      <td>7f</td>\n",
       "      <td>Lagos</td>\n",
       "    </tr>\n",
       "  </tbody>\n",
       "</table>\n",
       "</div>"
      ],
      "text/plain": [
       "   price_naira      unit         city_location  bedrooms baths     state\n",
       "0    2620000.0  Per Year             Oba-Akran       NaN   NaN     Lagos\n",
       "1    2500000.0  Per Year                Karshi       NaN   NaN  Nasarawa\n",
       "2     300000.0  Per Year                masaka       NaN   NaN  Nasarawa\n",
       "3   33000000.0  Per Year   Badagry Express Way       5.0    5f     Lagos\n",
       "4   30000000.0  Per Year   Badagry Express Way       8.0    7f     Lagos"
      ]
     },
     "execution_count": 48,
     "metadata": {},
     "output_type": "execute_result"
    }
   ],
   "source": [
    "housing_1_cleaned.head()"
   ]
  },
  {
   "cell_type": "code",
   "execution_count": 49,
   "metadata": {},
   "outputs": [
    {
     "data": {
      "text/plain": [
       "price_naira        0\n",
       "unit               0\n",
       "city_location      0\n",
       "bedrooms         114\n",
       "baths            287\n",
       "state              0\n",
       "dtype: int64"
      ]
     },
     "execution_count": 49,
     "metadata": {},
     "output_type": "execute_result"
    }
   ],
   "source": [
    "housing_1_cleaned.isnull().sum()"
   ]
  },
  {
   "cell_type": "markdown",
   "metadata": {},
   "source": [
    "# Exploring the 2nd Dataset"
   ]
  },
  {
   "cell_type": "code",
   "execution_count": 50,
   "metadata": {},
   "outputs": [
    {
     "data": {
      "text/html": [
       "<div>\n",
       "<style>\n",
       "    .dataframe thead tr:only-child th {\n",
       "        text-align: right;\n",
       "    }\n",
       "\n",
       "    .dataframe thead th {\n",
       "        text-align: left;\n",
       "    }\n",
       "\n",
       "    .dataframe tbody tr th {\n",
       "        vertical-align: top;\n",
       "    }\n",
       "</style>\n",
       "<table border=\"1\" class=\"dataframe\">\n",
       "  <thead>\n",
       "    <tr style=\"text-align: right;\">\n",
       "      <th></th>\n",
       "      <th>price</th>\n",
       "      <th>unit</th>\n",
       "      <th>location</th>\n",
       "      <th>bedrooms</th>\n",
       "      <th>baths</th>\n",
       "      <th>state</th>\n",
       "    </tr>\n",
       "  </thead>\n",
       "  <tbody>\n",
       "    <tr>\n",
       "      <th>0</th>\n",
       "      <td>₦1,200,000</td>\n",
       "      <td>per Year</td>\n",
       "      <td>Enugu,Enugu North,NIGERIA</td>\n",
       "      <td>3</td>\n",
       "      <td>4</td>\n",
       "      <td>NaN</td>\n",
       "    </tr>\n",
       "    <tr>\n",
       "      <th>1</th>\n",
       "      <td>₦600,000</td>\n",
       "      <td>per Year</td>\n",
       "      <td>Enugu,Enugu East,NIGERIA</td>\n",
       "      <td>2</td>\n",
       "      <td>2</td>\n",
       "      <td>NaN</td>\n",
       "    </tr>\n",
       "    <tr>\n",
       "      <th>2</th>\n",
       "      <td>₦500,000</td>\n",
       "      <td>per Year</td>\n",
       "      <td>Enugu,Enugu North,NIGERIA</td>\n",
       "      <td>3</td>\n",
       "      <td>3</td>\n",
       "      <td>NaN</td>\n",
       "    </tr>\n",
       "    <tr>\n",
       "      <th>3</th>\n",
       "      <td>₦400,000</td>\n",
       "      <td>per Year</td>\n",
       "      <td>Enugu,Enugu North,NIGERIA</td>\n",
       "      <td>2</td>\n",
       "      <td>2</td>\n",
       "      <td>NaN</td>\n",
       "    </tr>\n",
       "    <tr>\n",
       "      <th>4</th>\n",
       "      <td>₦800,000</td>\n",
       "      <td>per Year</td>\n",
       "      <td>Enugu,Enugu East,NIGERIA</td>\n",
       "      <td>3</td>\n",
       "      <td>3</td>\n",
       "      <td>NaN</td>\n",
       "    </tr>\n",
       "  </tbody>\n",
       "</table>\n",
       "</div>"
      ],
      "text/plain": [
       "        price      unit                   location  bedrooms  baths  state\n",
       "0  ₦1,200,000  per Year  Enugu,Enugu North,NIGERIA         3      4    NaN\n",
       "1    ₦600,000  per Year   Enugu,Enugu East,NIGERIA         2      2    NaN\n",
       "2    ₦500,000  per Year  Enugu,Enugu North,NIGERIA         3      3    NaN\n",
       "3    ₦400,000  per Year  Enugu,Enugu North,NIGERIA         2      2    NaN\n",
       "4    ₦800,000  per Year   Enugu,Enugu East,NIGERIA         3      3    NaN"
      ]
     },
     "execution_count": 50,
     "metadata": {},
     "output_type": "execute_result"
    }
   ],
   "source": [
    "housing_2.head()"
   ]
  },
  {
   "cell_type": "markdown",
   "metadata": {},
   "source": [
    "renaming some columns and checking for :\n",
    "1. missing values\n",
    "2. columns were cleaning are needed"
   ]
  },
  {
   "cell_type": "code",
   "execution_count": 51,
   "metadata": {
    "collapsed": true
   },
   "outputs": [],
   "source": [
    "housing_2.rename(columns={\"price\": \"price_naira\", \"location\" :\"city_location\"},inplace =  True)"
   ]
  },
  {
   "cell_type": "code",
   "execution_count": 52,
   "metadata": {},
   "outputs": [
    {
     "data": {
      "text/plain": [
       "price_naira      0\n",
       "unit             0\n",
       "city_location    0\n",
       "bedrooms         0\n",
       "baths            0\n",
       "state            7\n",
       "dtype: int64"
      ]
     },
     "execution_count": 52,
     "metadata": {},
     "output_type": "execute_result"
    }
   ],
   "source": [
    "housing_2.isnull().sum()"
   ]
  },
  {
   "cell_type": "code",
   "execution_count": 53,
   "metadata": {},
   "outputs": [
    {
     "data": {
      "text/plain": [
       "array(['₦1,200,000', '₦600,000', '₦500,000', '₦400,000', '₦800,000', '₦0',\n",
       "       '₦300,000'], dtype=object)"
      ]
     },
     "execution_count": 53,
     "metadata": {},
     "output_type": "execute_result"
    }
   ],
   "source": [
    "housing_2[\"price_naira\"].unique()"
   ]
  },
  {
   "cell_type": "code",
   "execution_count": 54,
   "metadata": {},
   "outputs": [
    {
     "data": {
      "text/plain": [
       "array(['per Year'], dtype=object)"
      ]
     },
     "execution_count": 54,
     "metadata": {},
     "output_type": "execute_result"
    }
   ],
   "source": [
    "housing_2[\"unit\"].unique()"
   ]
  },
  {
   "cell_type": "markdown",
   "metadata": {},
   "source": [
    "The following steps are taken:\n",
    "1. Remove special characters from price and converting to float\n",
    "2. populate the state columns with values extracted from location\n",
    "3. extract of cities from location and overwritting the original location columns with extracted values\n",
    "4. check for null values in the dataset and if dataset is cleaned, save it with a new name"
   ]
  },
  {
   "cell_type": "code",
   "execution_count": 55,
   "metadata": {
    "collapsed": true
   },
   "outputs": [],
   "source": [
    "housing_2[\"price_naira\"] = housing_2[\"price_naira\"].str.replace(\"₦\", \"\").str.replace(\",\", \"\").astype(float)"
   ]
  },
  {
   "cell_type": "code",
   "execution_count": 56,
   "metadata": {
    "collapsed": true
   },
   "outputs": [],
   "source": [
    "housing_2[\"state\"] = housing_2[\"city_location\"].str.split(\",\").str[0]"
   ]
  },
  {
   "cell_type": "code",
   "execution_count": 57,
   "metadata": {
    "collapsed": true
   },
   "outputs": [],
   "source": [
    "housing_2[\"city_location\"] = housing_2[\"city_location\"].str.split(\",\").str[1]"
   ]
  },
  {
   "cell_type": "code",
   "execution_count": 58,
   "metadata": {},
   "outputs": [
    {
     "data": {
      "text/plain": [
       "price_naira      0\n",
       "unit             0\n",
       "city_location    0\n",
       "bedrooms         0\n",
       "baths            0\n",
       "state            0\n",
       "dtype: int64"
      ]
     },
     "execution_count": 58,
     "metadata": {},
     "output_type": "execute_result"
    }
   ],
   "source": [
    "housing_2.isnull().sum()"
   ]
  },
  {
   "cell_type": "code",
   "execution_count": 59,
   "metadata": {
    "collapsed": true
   },
   "outputs": [],
   "source": [
    "housing_2_cleaned = housing_2"
   ]
  },
  {
   "cell_type": "markdown",
   "metadata": {},
   "source": [
    "# Exploring and cleaning Dataset 3"
   ]
  },
  {
   "cell_type": "code",
   "execution_count": 60,
   "metadata": {},
   "outputs": [
    {
     "data": {
      "text/html": [
       "<div>\n",
       "<style>\n",
       "    .dataframe thead tr:only-child th {\n",
       "        text-align: right;\n",
       "    }\n",
       "\n",
       "    .dataframe thead th {\n",
       "        text-align: left;\n",
       "    }\n",
       "\n",
       "    .dataframe tbody tr th {\n",
       "        vertical-align: top;\n",
       "    }\n",
       "</style>\n",
       "<table border=\"1\" class=\"dataframe\">\n",
       "  <thead>\n",
       "    <tr style=\"text-align: right;\">\n",
       "      <th></th>\n",
       "      <th>price</th>\n",
       "      <th>unit</th>\n",
       "      <th>location</th>\n",
       "      <th>bedrooms</th>\n",
       "      <th>baths</th>\n",
       "      <th>state</th>\n",
       "    </tr>\n",
       "  </thead>\n",
       "  <tbody>\n",
       "    <tr>\n",
       "      <th>0</th>\n",
       "      <td>1,000,000</td>\n",
       "      <td>per Year</td>\n",
       "      <td>15 - 17 Bolaji Balogun Street, Ayonusi Estate,...</td>\n",
       "      <td>5.0</td>\n",
       "      <td>6.0</td>\n",
       "      <td>Lagos</td>\n",
       "    </tr>\n",
       "    <tr>\n",
       "      <th>1</th>\n",
       "      <td>600,000</td>\n",
       "      <td>per Year</td>\n",
       "      <td>15 - 17 Bolaji Balogun Street, Ayonusi Estate,...</td>\n",
       "      <td>3.0</td>\n",
       "      <td>3.0</td>\n",
       "      <td>Lagos</td>\n",
       "    </tr>\n",
       "    <tr>\n",
       "      <th>2</th>\n",
       "      <td>250,000</td>\n",
       "      <td>per Year</td>\n",
       "      <td>badore,owode and addo roads,</td>\n",
       "      <td>1.0</td>\n",
       "      <td>1.0</td>\n",
       "      <td>Lagos</td>\n",
       "    </tr>\n",
       "    <tr>\n",
       "      <th>3</th>\n",
       "      <td>1,000,000</td>\n",
       "      <td>per Year</td>\n",
       "      <td>ilupeju,</td>\n",
       "      <td>3.0</td>\n",
       "      <td>2.0</td>\n",
       "      <td>Lagos</td>\n",
       "    </tr>\n",
       "    <tr>\n",
       "      <th>4</th>\n",
       "      <td>600,000</td>\n",
       "      <td>per Year</td>\n",
       "      <td>badore road,</td>\n",
       "      <td>NaN</td>\n",
       "      <td>NaN</td>\n",
       "      <td>Lagos</td>\n",
       "    </tr>\n",
       "  </tbody>\n",
       "</table>\n",
       "</div>"
      ],
      "text/plain": [
       "       price      unit                                           location  \\\n",
       "0  1,000,000  per Year  15 - 17 Bolaji Balogun Street, Ayonusi Estate,...   \n",
       "1    600,000  per Year  15 - 17 Bolaji Balogun Street, Ayonusi Estate,...   \n",
       "2    250,000  per Year                       badore,owode and addo roads,   \n",
       "3  1,000,000  per Year                                           ilupeju,   \n",
       "4    600,000  per Year                                       badore road,   \n",
       "\n",
       "   bedrooms  baths  state  \n",
       "0       5.0    6.0  Lagos  \n",
       "1       3.0    3.0  Lagos  \n",
       "2       1.0    1.0  Lagos  \n",
       "3       3.0    2.0  Lagos  \n",
       "4       NaN    NaN  Lagos  "
      ]
     },
     "execution_count": 60,
     "metadata": {},
     "output_type": "execute_result"
    }
   ],
   "source": [
    "housing_3.head()"
   ]
  },
  {
   "cell_type": "markdown",
   "metadata": {},
   "source": [
    "check for null values and columns to clean in the dataset. "
   ]
  },
  {
   "cell_type": "code",
   "execution_count": 61,
   "metadata": {},
   "outputs": [
    {
     "data": {
      "text/plain": [
       "price       0\n",
       "unit        0\n",
       "location    0\n",
       "bedrooms    2\n",
       "baths       3\n",
       "state       0\n",
       "dtype: int64"
      ]
     },
     "execution_count": 61,
     "metadata": {},
     "output_type": "execute_result"
    }
   ],
   "source": [
    "housing_3.isnull().sum()"
   ]
  },
  {
   "cell_type": "code",
   "execution_count": 62,
   "metadata": {},
   "outputs": [
    {
     "data": {
      "text/plain": [
       "array(['1,000,000', '600,000', '250,000', '400,000', '3,700,000', '100',\n",
       "       '12,500,000', '1,500,000', '15', '15,000,000', '1,700,000',\n",
       "       '85,000', '2,500,000', '360,000', '10', '2,200,000', '3,300,000'], dtype=object)"
      ]
     },
     "execution_count": 62,
     "metadata": {},
     "output_type": "execute_result"
    }
   ],
   "source": [
    "housing_3[\"price\"].unique()"
   ]
  },
  {
   "cell_type": "code",
   "execution_count": 63,
   "metadata": {},
   "outputs": [
    {
     "data": {
      "text/plain": [
       "array(['Lagos', 'Rivers', 'Ogun'], dtype=object)"
      ]
     },
     "execution_count": 63,
     "metadata": {},
     "output_type": "execute_result"
    }
   ],
   "source": [
    "housing_3[\"state\"].unique()"
   ]
  },
  {
   "cell_type": "markdown",
   "metadata": {},
   "source": [
    "Renaming columns and cleaning the price_naira and city _ location columns"
   ]
  },
  {
   "cell_type": "code",
   "execution_count": 64,
   "metadata": {
    "collapsed": true
   },
   "outputs": [],
   "source": [
    "housing_3.rename(columns={\"price\": \"price_naira\", \"location\" :\"city_location\"},inplace =  True)"
   ]
  },
  {
   "cell_type": "code",
   "execution_count": 65,
   "metadata": {
    "collapsed": true
   },
   "outputs": [],
   "source": [
    "housing_3[\"price_naira\"] = housing_3[\"price_naira\"].str.replace(\",\", \"\").astype(float)"
   ]
  },
  {
   "cell_type": "code",
   "execution_count": 66,
   "metadata": {
    "collapsed": true
   },
   "outputs": [],
   "source": [
    "housing_3[\"city_location\"] = housing_3[\"city_location\"].str.split(\",\").str[-2]"
   ]
  },
  {
   "cell_type": "code",
   "execution_count": 67,
   "metadata": {},
   "outputs": [
    {
     "data": {
      "text/html": [
       "<div>\n",
       "<style>\n",
       "    .dataframe thead tr:only-child th {\n",
       "        text-align: right;\n",
       "    }\n",
       "\n",
       "    .dataframe thead th {\n",
       "        text-align: left;\n",
       "    }\n",
       "\n",
       "    .dataframe tbody tr th {\n",
       "        vertical-align: top;\n",
       "    }\n",
       "</style>\n",
       "<table border=\"1\" class=\"dataframe\">\n",
       "  <thead>\n",
       "    <tr style=\"text-align: right;\">\n",
       "      <th></th>\n",
       "      <th>price_naira</th>\n",
       "      <th>unit</th>\n",
       "      <th>city_location</th>\n",
       "      <th>bedrooms</th>\n",
       "      <th>baths</th>\n",
       "      <th>state</th>\n",
       "    </tr>\n",
       "  </thead>\n",
       "  <tbody>\n",
       "    <tr>\n",
       "      <th>0</th>\n",
       "      <td>1000000.0</td>\n",
       "      <td>per Year</td>\n",
       "      <td>Old Shagamu Road</td>\n",
       "      <td>5.0</td>\n",
       "      <td>6.0</td>\n",
       "      <td>Lagos</td>\n",
       "    </tr>\n",
       "    <tr>\n",
       "      <th>1</th>\n",
       "      <td>600000.0</td>\n",
       "      <td>per Year</td>\n",
       "      <td>Lagos</td>\n",
       "      <td>3.0</td>\n",
       "      <td>3.0</td>\n",
       "      <td>Lagos</td>\n",
       "    </tr>\n",
       "    <tr>\n",
       "      <th>2</th>\n",
       "      <td>250000.0</td>\n",
       "      <td>per Year</td>\n",
       "      <td>owode and addo roads</td>\n",
       "      <td>1.0</td>\n",
       "      <td>1.0</td>\n",
       "      <td>Lagos</td>\n",
       "    </tr>\n",
       "    <tr>\n",
       "      <th>3</th>\n",
       "      <td>1000000.0</td>\n",
       "      <td>per Year</td>\n",
       "      <td>ilupeju</td>\n",
       "      <td>3.0</td>\n",
       "      <td>2.0</td>\n",
       "      <td>Lagos</td>\n",
       "    </tr>\n",
       "    <tr>\n",
       "      <th>4</th>\n",
       "      <td>600000.0</td>\n",
       "      <td>per Year</td>\n",
       "      <td>badore road</td>\n",
       "      <td>NaN</td>\n",
       "      <td>NaN</td>\n",
       "      <td>Lagos</td>\n",
       "    </tr>\n",
       "  </tbody>\n",
       "</table>\n",
       "</div>"
      ],
      "text/plain": [
       "   price_naira      unit         city_location  bedrooms  baths  state\n",
       "0    1000000.0  per Year      Old Shagamu Road       5.0    6.0  Lagos\n",
       "1     600000.0  per Year                 Lagos       3.0    3.0  Lagos\n",
       "2     250000.0  per Year  owode and addo roads       1.0    1.0  Lagos\n",
       "3    1000000.0  per Year               ilupeju       3.0    2.0  Lagos\n",
       "4     600000.0  per Year           badore road       NaN    NaN  Lagos"
      ]
     },
     "execution_count": 67,
     "metadata": {},
     "output_type": "execute_result"
    }
   ],
   "source": [
    "housing_3.head()"
   ]
  },
  {
   "cell_type": "markdown",
   "metadata": {},
   "source": [
    "There are no missing values except in the bedroom column. This will be handled later after the dataset are combined"
   ]
  },
  {
   "cell_type": "code",
   "execution_count": 68,
   "metadata": {
    "collapsed": true
   },
   "outputs": [],
   "source": [
    "housing_3_cleaned = housing_3"
   ]
  },
  {
   "cell_type": "markdown",
   "metadata": {},
   "source": [
    "# Cleaning Dataset 4"
   ]
  },
  {
   "cell_type": "code",
   "execution_count": 69,
   "metadata": {
    "scrolled": true
   },
   "outputs": [
    {
     "data": {
      "text/html": [
       "<div>\n",
       "<style>\n",
       "    .dataframe thead tr:only-child th {\n",
       "        text-align: right;\n",
       "    }\n",
       "\n",
       "    .dataframe thead th {\n",
       "        text-align: left;\n",
       "    }\n",
       "\n",
       "    .dataframe tbody tr th {\n",
       "        vertical-align: top;\n",
       "    }\n",
       "</style>\n",
       "<table border=\"1\" class=\"dataframe\">\n",
       "  <thead>\n",
       "    <tr style=\"text-align: right;\">\n",
       "      <th></th>\n",
       "      <th>price</th>\n",
       "      <th>unit</th>\n",
       "      <th>location</th>\n",
       "      <th>bedrooms</th>\n",
       "      <th>baths</th>\n",
       "      <th>parking_lots</th>\n",
       "      <th>state</th>\n",
       "    </tr>\n",
       "  </thead>\n",
       "  <tbody>\n",
       "    <tr>\n",
       "      <th>0</th>\n",
       "      <td>\\r\\r\\n                    ₦ 8 000 000\\r\\r\\n   ...</td>\n",
       "      <td>\\r\\r\\n                        Per Year\\r\\r\\n  ...</td>\n",
       "      <td>1c Fatai Durosinmi-Etiti Cres, Lagos Island We...</td>\n",
       "      <td>5.0</td>\n",
       "      <td>4</td>\n",
       "      <td>1</td>\n",
       "      <td>Lagos</td>\n",
       "    </tr>\n",
       "    <tr>\n",
       "      <th>1</th>\n",
       "      <td>\\r\\r\\n                    ₦ 3 200 000\\r\\r\\n   ...</td>\n",
       "      <td>\\r\\r\\n                        Per Year\\r\\r\\n  ...</td>\n",
       "      <td>IKOTA, Lekki, Lekki</td>\n",
       "      <td>4.0</td>\n",
       "      <td>4</td>\n",
       "      <td>NaN</td>\n",
       "      <td>Lagos</td>\n",
       "    </tr>\n",
       "    <tr>\n",
       "      <th>2</th>\n",
       "      <td>\\r\\r\\n                    ₦ 2 000 000\\r\\r\\n   ...</td>\n",
       "      <td>\\r\\r\\n                        Per Year\\r\\r\\n  ...</td>\n",
       "      <td>IKATE, Lekki, Lekki</td>\n",
       "      <td>2.0</td>\n",
       "      <td>2</td>\n",
       "      <td>NaN</td>\n",
       "      <td>Lagos</td>\n",
       "    </tr>\n",
       "    <tr>\n",
       "      <th>3</th>\n",
       "      <td>\\r\\r\\n                    ₦ 2 500 000\\r\\r\\n   ...</td>\n",
       "      <td>\\r\\r\\n                        Per Year\\r\\r\\n  ...</td>\n",
       "      <td>ONIRU, Victoria Island, Lekki</td>\n",
       "      <td>3.0</td>\n",
       "      <td>3</td>\n",
       "      <td>NaN</td>\n",
       "      <td>Lagos</td>\n",
       "    </tr>\n",
       "    <tr>\n",
       "      <th>4</th>\n",
       "      <td>\\r\\r\\n                    ₦ 18 000 000\\r\\r\\n  ...</td>\n",
       "      <td>\\r\\r\\n                        Per Year\\r\\r\\n  ...</td>\n",
       "      <td>BANANA ISLAND ESTATE, Ikoyi-obalende, Ikoyi-ob...</td>\n",
       "      <td>3.0</td>\n",
       "      <td>3</td>\n",
       "      <td>NaN</td>\n",
       "      <td>Lagos</td>\n",
       "    </tr>\n",
       "  </tbody>\n",
       "</table>\n",
       "</div>"
      ],
      "text/plain": [
       "                                               price  \\\n",
       "0  \\r\\r\\n                    ₦ 8 000 000\\r\\r\\n   ...   \n",
       "1  \\r\\r\\n                    ₦ 3 200 000\\r\\r\\n   ...   \n",
       "2  \\r\\r\\n                    ₦ 2 000 000\\r\\r\\n   ...   \n",
       "3  \\r\\r\\n                    ₦ 2 500 000\\r\\r\\n   ...   \n",
       "4  \\r\\r\\n                    ₦ 18 000 000\\r\\r\\n  ...   \n",
       "\n",
       "                                                unit  \\\n",
       "0  \\r\\r\\n                        Per Year\\r\\r\\n  ...   \n",
       "1  \\r\\r\\n                        Per Year\\r\\r\\n  ...   \n",
       "2  \\r\\r\\n                        Per Year\\r\\r\\n  ...   \n",
       "3  \\r\\r\\n                        Per Year\\r\\r\\n  ...   \n",
       "4  \\r\\r\\n                        Per Year\\r\\r\\n  ...   \n",
       "\n",
       "                                            location  bedrooms baths  \\\n",
       "0  1c Fatai Durosinmi-Etiti Cres, Lagos Island We...       5.0     4   \n",
       "1                                IKOTA, Lekki, Lekki       4.0     4   \n",
       "2                                IKATE, Lekki, Lekki       2.0     2   \n",
       "3                      ONIRU, Victoria Island, Lekki       3.0     3   \n",
       "4  BANANA ISLAND ESTATE, Ikoyi-obalende, Ikoyi-ob...       3.0     3   \n",
       "\n",
       "  parking_lots  state  \n",
       "0            1  Lagos  \n",
       "1          NaN  Lagos  \n",
       "2          NaN  Lagos  \n",
       "3          NaN  Lagos  \n",
       "4          NaN  Lagos  "
      ]
     },
     "execution_count": 69,
     "metadata": {},
     "output_type": "execute_result"
    }
   ],
   "source": [
    "housing_4.head()"
   ]
  },
  {
   "cell_type": "code",
   "execution_count": 70,
   "metadata": {},
   "outputs": [
    {
     "data": {
      "text/plain": [
       "price             0\n",
       "unit              2\n",
       "location          5\n",
       "bedrooms         42\n",
       "baths            50\n",
       "parking_lots    321\n",
       "state             0\n",
       "dtype: int64"
      ]
     },
     "execution_count": 70,
     "metadata": {},
     "output_type": "execute_result"
    }
   ],
   "source": [
    "housing_4.isnull().sum()"
   ]
  },
  {
   "cell_type": "markdown",
   "metadata": {},
   "source": [
    "### I do some cleaning on this dataset by:\n",
    "1. droping the parking lots column since we don't need it for our analysis\n",
    "2. renaming the price and locations columns\n",
    "3. cleaning price and convert to float numbers\n",
    "3. removing null values from city_location and units"
   ]
  },
  {
   "cell_type": "code",
   "execution_count": 71,
   "metadata": {
    "collapsed": true
   },
   "outputs": [],
   "source": [
    "housing_4.drop(\"parking_lots\", axis =1, inplace = True)"
   ]
  },
  {
   "cell_type": "code",
   "execution_count": 72,
   "metadata": {
    "collapsed": true
   },
   "outputs": [],
   "source": [
    "housing_4.rename(columns={\"price\": \"price_naira\", \"location\" :\"city_location\"},inplace =  True)"
   ]
  },
  {
   "cell_type": "code",
   "execution_count": 73,
   "metadata": {
    "collapsed": true
   },
   "outputs": [],
   "source": [
    "housing_4[\"price_naira\"] = housing_4[\"price_naira\"].str.split(\"\\r\\r\\n\").str[1].str.replace(\"₦\",\"\").str.replace(r\"[\\s+]\",\"\").str.strip()"
   ]
  },
  {
   "cell_type": "code",
   "execution_count": 74,
   "metadata": {
    "collapsed": true
   },
   "outputs": [],
   "source": [
    "housing_4[\"price_naira\"] =housing_4[\"price_naira\"].astype(float)"
   ]
  },
  {
   "cell_type": "code",
   "execution_count": 75,
   "metadata": {},
   "outputs": [
    {
     "data": {
      "text/html": [
       "<div>\n",
       "<style>\n",
       "    .dataframe thead tr:only-child th {\n",
       "        text-align: right;\n",
       "    }\n",
       "\n",
       "    .dataframe thead th {\n",
       "        text-align: left;\n",
       "    }\n",
       "\n",
       "    .dataframe tbody tr th {\n",
       "        vertical-align: top;\n",
       "    }\n",
       "</style>\n",
       "<table border=\"1\" class=\"dataframe\">\n",
       "  <thead>\n",
       "    <tr style=\"text-align: right;\">\n",
       "      <th></th>\n",
       "      <th>price_naira</th>\n",
       "      <th>unit</th>\n",
       "      <th>city_location</th>\n",
       "      <th>bedrooms</th>\n",
       "      <th>baths</th>\n",
       "      <th>state</th>\n",
       "    </tr>\n",
       "  </thead>\n",
       "  <tbody>\n",
       "    <tr>\n",
       "      <th>0</th>\n",
       "      <td>8000000.0</td>\n",
       "      <td>\\r\\r\\n                        Per Year\\r\\r\\n  ...</td>\n",
       "      <td>1c Fatai Durosinmi-Etiti Cres, Lagos Island We...</td>\n",
       "      <td>5.0</td>\n",
       "      <td>4</td>\n",
       "      <td>Lagos</td>\n",
       "    </tr>\n",
       "    <tr>\n",
       "      <th>1</th>\n",
       "      <td>3200000.0</td>\n",
       "      <td>\\r\\r\\n                        Per Year\\r\\r\\n  ...</td>\n",
       "      <td>IKOTA, Lekki, Lekki</td>\n",
       "      <td>4.0</td>\n",
       "      <td>4</td>\n",
       "      <td>Lagos</td>\n",
       "    </tr>\n",
       "    <tr>\n",
       "      <th>2</th>\n",
       "      <td>2000000.0</td>\n",
       "      <td>\\r\\r\\n                        Per Year\\r\\r\\n  ...</td>\n",
       "      <td>IKATE, Lekki, Lekki</td>\n",
       "      <td>2.0</td>\n",
       "      <td>2</td>\n",
       "      <td>Lagos</td>\n",
       "    </tr>\n",
       "    <tr>\n",
       "      <th>3</th>\n",
       "      <td>2500000.0</td>\n",
       "      <td>\\r\\r\\n                        Per Year\\r\\r\\n  ...</td>\n",
       "      <td>ONIRU, Victoria Island, Lekki</td>\n",
       "      <td>3.0</td>\n",
       "      <td>3</td>\n",
       "      <td>Lagos</td>\n",
       "    </tr>\n",
       "    <tr>\n",
       "      <th>4</th>\n",
       "      <td>18000000.0</td>\n",
       "      <td>\\r\\r\\n                        Per Year\\r\\r\\n  ...</td>\n",
       "      <td>BANANA ISLAND ESTATE, Ikoyi-obalende, Ikoyi-ob...</td>\n",
       "      <td>3.0</td>\n",
       "      <td>3</td>\n",
       "      <td>Lagos</td>\n",
       "    </tr>\n",
       "  </tbody>\n",
       "</table>\n",
       "</div>"
      ],
      "text/plain": [
       "   price_naira                                               unit  \\\n",
       "0    8000000.0  \\r\\r\\n                        Per Year\\r\\r\\n  ...   \n",
       "1    3200000.0  \\r\\r\\n                        Per Year\\r\\r\\n  ...   \n",
       "2    2000000.0  \\r\\r\\n                        Per Year\\r\\r\\n  ...   \n",
       "3    2500000.0  \\r\\r\\n                        Per Year\\r\\r\\n  ...   \n",
       "4   18000000.0  \\r\\r\\n                        Per Year\\r\\r\\n  ...   \n",
       "\n",
       "                                       city_location  bedrooms baths  state  \n",
       "0  1c Fatai Durosinmi-Etiti Cres, Lagos Island We...       5.0     4  Lagos  \n",
       "1                                IKOTA, Lekki, Lekki       4.0     4  Lagos  \n",
       "2                                IKATE, Lekki, Lekki       2.0     2  Lagos  \n",
       "3                      ONIRU, Victoria Island, Lekki       3.0     3  Lagos  \n",
       "4  BANANA ISLAND ESTATE, Ikoyi-obalende, Ikoyi-ob...       3.0     3  Lagos  "
      ]
     },
     "execution_count": 75,
     "metadata": {},
     "output_type": "execute_result"
    }
   ],
   "source": [
    "housing_4.head()"
   ]
  },
  {
   "cell_type": "markdown",
   "metadata": {},
   "source": [
    "The unit column obviously require cleaning. I extract the neccessary words form each entry and check the unique values in the column to check adnormalities"
   ]
  },
  {
   "cell_type": "code",
   "execution_count": 76,
   "metadata": {
    "collapsed": true
   },
   "outputs": [],
   "source": [
    "housing_4[\"unit\"] = housing_4[\"unit\"].str.split(\"\\r\\r\\n\").str[1].str.strip()"
   ]
  },
  {
   "cell_type": "code",
   "execution_count": 77,
   "metadata": {},
   "outputs": [
    {
     "data": {
      "text/plain": [
       "array(['Per Year', 'Per m²', 'Per Month', nan, 'Per Day'], dtype=object)"
      ]
     },
     "execution_count": 77,
     "metadata": {},
     "output_type": "execute_result"
    }
   ],
   "source": [
    "housing_4[\"unit\"].unique()"
   ]
  },
  {
   "cell_type": "code",
   "execution_count": 78,
   "metadata": {},
   "outputs": [
    {
     "data": {
      "text/plain": [
       "0.029411764705882353"
      ]
     },
     "execution_count": 78,
     "metadata": {},
     "output_type": "execute_result"
    }
   ],
   "source": [
    "(housing_4[\"unit\"]==\"Per m²\").sum()/housing_4.shape[0]"
   ]
  },
  {
   "cell_type": "markdown",
   "metadata": {},
   "source": [
    "Rows whose units are in Per squared meters needs to be dropped since the size of the property is not given. only about 2% of our data fall in this category so it is safe to drop them."
   ]
  },
  {
   "cell_type": "code",
   "execution_count": 79,
   "metadata": {
    "collapsed": true
   },
   "outputs": [],
   "source": [
    "housing_4.drop(housing_4[housing_4[\"unit\"]==\"Per m²\"].index, axis =0, inplace =True)"
   ]
  },
  {
   "cell_type": "code",
   "execution_count": 80,
   "metadata": {
    "collapsed": true
   },
   "outputs": [],
   "source": [
    "housing_4 =housing_4.reset_index(drop =True)"
   ]
  },
  {
   "cell_type": "code",
   "execution_count": 81,
   "metadata": {
    "scrolled": true
   },
   "outputs": [
    {
     "data": {
      "text/plain": [
       "array(['Per Year', 'Per Month', nan, 'Per Day'], dtype=object)"
      ]
     },
     "execution_count": 81,
     "metadata": {},
     "output_type": "execute_result"
    }
   ],
   "source": [
    "housing_4[\"unit\"].unique()"
   ]
  },
  {
   "cell_type": "markdown",
   "metadata": {},
   "source": [
    "All prices should be yearly so the prices needs to be converted using the unit column."
   ]
  },
  {
   "cell_type": "code",
   "execution_count": 82,
   "metadata": {
    "collapsed": true
   },
   "outputs": [],
   "source": [
    "housing_4.loc[housing_4['unit'] ==\"Per Month\",\"price_naira\"] = housing_4.loc[housing_4['unit'] ==\"Per Month\",\"price_naira\"]*12"
   ]
  },
  {
   "cell_type": "code",
   "execution_count": 83,
   "metadata": {
    "collapsed": true
   },
   "outputs": [],
   "source": [
    "housing_4.loc[housing_4['unit'] ==\"Per Day\",\"price_naira\"] = housing_4.loc[housing_4['unit'] ==\"Per Day\",\"price_naira\"]*365"
   ]
  },
  {
   "cell_type": "code",
   "execution_count": 84,
   "metadata": {},
   "outputs": [
    {
     "data": {
      "text/html": [
       "<div>\n",
       "<style>\n",
       "    .dataframe thead tr:only-child th {\n",
       "        text-align: right;\n",
       "    }\n",
       "\n",
       "    .dataframe thead th {\n",
       "        text-align: left;\n",
       "    }\n",
       "\n",
       "    .dataframe tbody tr th {\n",
       "        vertical-align: top;\n",
       "    }\n",
       "</style>\n",
       "<table border=\"1\" class=\"dataframe\">\n",
       "  <thead>\n",
       "    <tr style=\"text-align: right;\">\n",
       "      <th></th>\n",
       "      <th>price_naira</th>\n",
       "      <th>unit</th>\n",
       "      <th>city_location</th>\n",
       "      <th>bedrooms</th>\n",
       "      <th>baths</th>\n",
       "      <th>state</th>\n",
       "    </tr>\n",
       "  </thead>\n",
       "  <tbody>\n",
       "    <tr>\n",
       "      <th>78</th>\n",
       "      <td>20000000.0</td>\n",
       "      <td>NaN</td>\n",
       "      <td>Asokoro, Asokoro</td>\n",
       "      <td>6.0</td>\n",
       "      <td>8</td>\n",
       "      <td>Abuja</td>\n",
       "    </tr>\n",
       "    <tr>\n",
       "      <th>121</th>\n",
       "      <td>500000000.0</td>\n",
       "      <td>NaN</td>\n",
       "      <td>Maitama, Maitama</td>\n",
       "      <td>6.0</td>\n",
       "      <td>8</td>\n",
       "      <td>Abuja</td>\n",
       "    </tr>\n",
       "  </tbody>\n",
       "</table>\n",
       "</div>"
      ],
      "text/plain": [
       "     price_naira unit     city_location  bedrooms baths  state\n",
       "78    20000000.0  NaN  Asokoro, Asokoro       6.0     8  Abuja\n",
       "121  500000000.0  NaN  Maitama, Maitama       6.0     8  Abuja"
      ]
     },
     "execution_count": 84,
     "metadata": {},
     "output_type": "execute_result"
    }
   ],
   "source": [
    "housing_4.loc[housing_4['unit'].isnull()]"
   ]
  },
  {
   "cell_type": "markdown",
   "metadata": {},
   "source": [
    "There are 2 null values in the unit column corresponding to Abuja. I get the mode of the units for Abuja and use it to fill it in and then change all unit values to Per Year"
   ]
  },
  {
   "cell_type": "code",
   "execution_count": 85,
   "metadata": {},
   "outputs": [
    {
     "data": {
      "text/plain": [
       "0    Per Year\n",
       "dtype: object"
      ]
     },
     "execution_count": 85,
     "metadata": {},
     "output_type": "execute_result"
    }
   ],
   "source": [
    "housing_4.loc[housing_4['state']==\"Abuja\",\"unit\"].mode()"
   ]
  },
  {
   "cell_type": "code",
   "execution_count": 86,
   "metadata": {
    "collapsed": true
   },
   "outputs": [],
   "source": [
    "housing_4.loc[housing_4['unit'].isnull(),\"unit\"]=\"Per Year\""
   ]
  },
  {
   "cell_type": "code",
   "execution_count": 87,
   "metadata": {
    "collapsed": true
   },
   "outputs": [],
   "source": [
    "housing_4['unit']=\"Per Year\""
   ]
  },
  {
   "cell_type": "code",
   "execution_count": 88,
   "metadata": {},
   "outputs": [
    {
     "data": {
      "text/plain": [
       "price_naira       0\n",
       "unit              0\n",
       "city_location     5\n",
       "bedrooms         28\n",
       "baths            36\n",
       "state             0\n",
       "dtype: int64"
      ]
     },
     "execution_count": 88,
     "metadata": {},
     "output_type": "execute_result"
    }
   ],
   "source": [
    "housing_4.isnull().sum()"
   ]
  },
  {
   "cell_type": "markdown",
   "metadata": {},
   "source": [
    "I find were the city_location is missing in the dataset and fill it in with the corresponding states. Also I extract cities from location and overwrite location with the extracted city names."
   ]
  },
  {
   "cell_type": "code",
   "execution_count": 89,
   "metadata": {
    "collapsed": true
   },
   "outputs": [],
   "source": [
    "housing_4.loc[housing_4['city_location'].isnull(),\"city_location\"] = housing_4.loc[housing_4['city_location'].isnull(),\"state\"]"
   ]
  },
  {
   "cell_type": "code",
   "execution_count": 90,
   "metadata": {
    "collapsed": true
   },
   "outputs": [],
   "source": [
    "housing_4['city_location'] = housing_4['city_location'].str.split(\",\").str[-1]"
   ]
  },
  {
   "cell_type": "code",
   "execution_count": 91,
   "metadata": {
    "scrolled": false
   },
   "outputs": [
    {
     "data": {
      "text/plain": [
       "Lagos     471\n",
       "Abuja     105\n",
       "Ogun        5\n",
       "Imo         4\n",
       "Ebonyi      4\n",
       "Kaduna      3\n",
       "Enugu       2\n",
       "Name: state, dtype: int64"
      ]
     },
     "execution_count": 91,
     "metadata": {},
     "output_type": "execute_result"
    }
   ],
   "source": [
    "housing_4[\"state\"].value_counts()"
   ]
  },
  {
   "cell_type": "code",
   "execution_count": 92,
   "metadata": {},
   "outputs": [
    {
     "data": {
      "text/plain": [
       "price_naira       0\n",
       "unit              0\n",
       "city_location     0\n",
       "bedrooms         28\n",
       "baths            36\n",
       "state             0\n",
       "dtype: int64"
      ]
     },
     "execution_count": 92,
     "metadata": {},
     "output_type": "execute_result"
    }
   ],
   "source": [
    "housing_4.isnull().sum()"
   ]
  },
  {
   "cell_type": "code",
   "execution_count": 93,
   "metadata": {
    "collapsed": true
   },
   "outputs": [],
   "source": [
    "housing_4_cleaned = housing_4"
   ]
  },
  {
   "cell_type": "markdown",
   "metadata": {},
   "source": [
    "# Cleaning the 5th Dataset"
   ]
  },
  {
   "cell_type": "code",
   "execution_count": 94,
   "metadata": {},
   "outputs": [
    {
     "data": {
      "text/html": [
       "<div>\n",
       "<style>\n",
       "    .dataframe thead tr:only-child th {\n",
       "        text-align: right;\n",
       "    }\n",
       "\n",
       "    .dataframe thead th {\n",
       "        text-align: left;\n",
       "    }\n",
       "\n",
       "    .dataframe tbody tr th {\n",
       "        vertical-align: top;\n",
       "    }\n",
       "</style>\n",
       "<table border=\"1\" class=\"dataframe\">\n",
       "  <thead>\n",
       "    <tr style=\"text-align: right;\">\n",
       "      <th></th>\n",
       "      <th>price</th>\n",
       "      <th>unit</th>\n",
       "      <th>location</th>\n",
       "      <th>bedrooms</th>\n",
       "      <th>baths</th>\n",
       "      <th>parking_lots</th>\n",
       "      <th>state</th>\n",
       "    </tr>\n",
       "  </thead>\n",
       "  <tbody>\n",
       "    <tr>\n",
       "      <th>0</th>\n",
       "      <td>₦4,500,000</td>\n",
       "      <td>per year</td>\n",
       "      <td>Ikoyi, Lagos</td>\n",
       "      <td>2</td>\n",
       "      <td>2</td>\n",
       "      <td>NaN</td>\n",
       "      <td>Ikoyi, Lagos</td>\n",
       "    </tr>\n",
       "    <tr>\n",
       "      <th>1</th>\n",
       "      <td>₦15,000,000</td>\n",
       "      <td>per year</td>\n",
       "      <td>Ikoyi, Lagos</td>\n",
       "      <td>4</td>\n",
       "      <td>4</td>\n",
       "      <td>NaN</td>\n",
       "      <td>Ikoyi, Lagos</td>\n",
       "    </tr>\n",
       "    <tr>\n",
       "      <th>2</th>\n",
       "      <td>₦15,000,000</td>\n",
       "      <td>per year</td>\n",
       "      <td>Ikoyi, Lagos</td>\n",
       "      <td>3</td>\n",
       "      <td>4</td>\n",
       "      <td>NaN</td>\n",
       "      <td>Ikoyi, Lagos</td>\n",
       "    </tr>\n",
       "    <tr>\n",
       "      <th>3</th>\n",
       "      <td>₦6,000,000</td>\n",
       "      <td>per year</td>\n",
       "      <td>Ikoyi, Lagos</td>\n",
       "      <td>2</td>\n",
       "      <td>2</td>\n",
       "      <td>NaN</td>\n",
       "      <td>Ikoyi, Lagos</td>\n",
       "    </tr>\n",
       "    <tr>\n",
       "      <th>4</th>\n",
       "      <td>₦13,000,000</td>\n",
       "      <td>per year</td>\n",
       "      <td>Ikoyi, Lagos</td>\n",
       "      <td>3</td>\n",
       "      <td>4</td>\n",
       "      <td>NaN</td>\n",
       "      <td>Ikoyi, Lagos</td>\n",
       "    </tr>\n",
       "  </tbody>\n",
       "</table>\n",
       "</div>"
      ],
      "text/plain": [
       "          price      unit      location  bedrooms  baths  parking_lots  \\\n",
       "0   ₦4,500,000   per year  Ikoyi, Lagos         2      2           NaN   \n",
       "1  ₦15,000,000   per year  Ikoyi, Lagos         4      4           NaN   \n",
       "2  ₦15,000,000   per year  Ikoyi, Lagos         3      4           NaN   \n",
       "3   ₦6,000,000   per year  Ikoyi, Lagos         2      2           NaN   \n",
       "4  ₦13,000,000   per year  Ikoyi, Lagos         3      4           NaN   \n",
       "\n",
       "          state  \n",
       "0  Ikoyi, Lagos  \n",
       "1  Ikoyi, Lagos  \n",
       "2  Ikoyi, Lagos  \n",
       "3  Ikoyi, Lagos  \n",
       "4  Ikoyi, Lagos  "
      ]
     },
     "execution_count": 94,
     "metadata": {},
     "output_type": "execute_result"
    }
   ],
   "source": [
    "housing_5.head()"
   ]
  },
  {
   "cell_type": "code",
   "execution_count": 95,
   "metadata": {},
   "outputs": [
    {
     "data": {
      "text/plain": [
       "price             0\n",
       "unit              0\n",
       "location          1\n",
       "bedrooms          0\n",
       "baths             0\n",
       "parking_lots    378\n",
       "state             1\n",
       "dtype: int64"
      ]
     },
     "execution_count": 95,
     "metadata": {},
     "output_type": "execute_result"
    }
   ],
   "source": [
    "housing_5.isnull().sum()"
   ]
  },
  {
   "cell_type": "markdown",
   "metadata": {},
   "source": [
    "Parking_lot column needs to be drop since I don't need it. \n",
    "\n",
    "I make column names more descriptive by renaming and check columns to ascertain whether cleaning is required"
   ]
  },
  {
   "cell_type": "code",
   "execution_count": 96,
   "metadata": {
    "collapsed": true
   },
   "outputs": [],
   "source": [
    "housing_5.drop(\"parking_lots\", axis=1, inplace =True)"
   ]
  },
  {
   "cell_type": "code",
   "execution_count": 97,
   "metadata": {
    "collapsed": true
   },
   "outputs": [],
   "source": [
    "housing_5.rename(columns={\"price\": \"price_naira\", \"location\" :\"city_location\"},inplace =  True)"
   ]
  },
  {
   "cell_type": "code",
   "execution_count": 98,
   "metadata": {},
   "outputs": [
    {
     "data": {
      "text/plain": [
       "0     ₦4,500,000 \n",
       "1    ₦15,000,000 \n",
       "2    ₦15,000,000 \n",
       "3     ₦6,000,000 \n",
       "4    ₦13,000,000 \n",
       "Name: price_naira, dtype: object"
      ]
     },
     "execution_count": 98,
     "metadata": {},
     "output_type": "execute_result"
    }
   ],
   "source": [
    "housing_5[\"price_naira\"].head()"
   ]
  },
  {
   "cell_type": "markdown",
   "metadata": {},
   "source": [
    "Removing characters from the price and converting to float."
   ]
  },
  {
   "cell_type": "code",
   "execution_count": 99,
   "metadata": {
    "collapsed": true
   },
   "outputs": [],
   "source": [
    "housing_5[\"price_naira\"] = housing_5[\"price_naira\"].str.replace(\"₦\",\"\").str.replace(\",\",\"\").str.strip().astype(float)"
   ]
  },
  {
   "cell_type": "markdown",
   "metadata": {},
   "source": [
    "Above, it is seen that our city_location has one null value. We look at this more closely."
   ]
  },
  {
   "cell_type": "code",
   "execution_count": 100,
   "metadata": {
    "scrolled": true
   },
   "outputs": [
    {
     "data": {
      "text/html": [
       "<div>\n",
       "<style>\n",
       "    .dataframe thead tr:only-child th {\n",
       "        text-align: right;\n",
       "    }\n",
       "\n",
       "    .dataframe thead th {\n",
       "        text-align: left;\n",
       "    }\n",
       "\n",
       "    .dataframe tbody tr th {\n",
       "        vertical-align: top;\n",
       "    }\n",
       "</style>\n",
       "<table border=\"1\" class=\"dataframe\">\n",
       "  <thead>\n",
       "    <tr style=\"text-align: right;\">\n",
       "      <th></th>\n",
       "      <th>price_naira</th>\n",
       "      <th>unit</th>\n",
       "      <th>city_location</th>\n",
       "      <th>bedrooms</th>\n",
       "      <th>baths</th>\n",
       "      <th>state</th>\n",
       "    </tr>\n",
       "  </thead>\n",
       "  <tbody>\n",
       "    <tr>\n",
       "      <th>122</th>\n",
       "      <td>2200000.0</td>\n",
       "      <td>per year</td>\n",
       "      <td>NaN</td>\n",
       "      <td>3</td>\n",
       "      <td>3</td>\n",
       "      <td>NaN</td>\n",
       "    </tr>\n",
       "  </tbody>\n",
       "</table>\n",
       "</div>"
      ],
      "text/plain": [
       "     price_naira      unit city_location  bedrooms  baths state\n",
       "122    2200000.0  per year           NaN         3      3   NaN"
      ]
     },
     "execution_count": 100,
     "metadata": {},
     "output_type": "execute_result"
    }
   ],
   "source": [
    "housing_5[housing_5[\"city_location\"].isnull()]"
   ]
  },
  {
   "cell_type": "markdown",
   "metadata": {},
   "source": [
    "since we don't have the corresponding state for this city, I'll drop the row"
   ]
  },
  {
   "cell_type": "code",
   "execution_count": 101,
   "metadata": {
    "collapsed": true
   },
   "outputs": [],
   "source": [
    "housing_5.drop(housing_5[housing_5[\"city_location\"].isnull()].index, axis =0, inplace =True)"
   ]
  },
  {
   "cell_type": "code",
   "execution_count": 102,
   "metadata": {
    "collapsed": true
   },
   "outputs": [],
   "source": [
    "housing_5 =housing_5.reset_index(drop =True)"
   ]
  },
  {
   "cell_type": "markdown",
   "metadata": {},
   "source": [
    "checking the state column"
   ]
  },
  {
   "cell_type": "code",
   "execution_count": 103,
   "metadata": {},
   "outputs": [
    {
     "data": {
      "text/plain": [
       "Lekki, Lagos                   268\n",
       "Ikoyi, Lagos                    49\n",
       "Victoria Island (VI), Lagos     45\n",
       "Ajah, Lagos                      7\n",
       "Apo, Abuja                       2\n",
       "Apapa, Lagos                     2\n",
       "Port Harcourt, Rivers            1\n",
       "Egbe, Lagos                      1\n",
       "Durumi, Abuja                    1\n",
       "Idimu, Lagos                     1\n",
       "Name: state, dtype: int64"
      ]
     },
     "execution_count": 103,
     "metadata": {},
     "output_type": "execute_result"
    }
   ],
   "source": [
    "housing_5[\"state\"].value_counts()"
   ]
  },
  {
   "cell_type": "markdown",
   "metadata": {},
   "source": [
    "In a few rows, have other strings in combination with state name. I clean this up to leave just the state name."
   ]
  },
  {
   "cell_type": "code",
   "execution_count": 104,
   "metadata": {
    "collapsed": true
   },
   "outputs": [],
   "source": [
    "housing_5[\"state\"] = housing_5[\"state\"].str.split(\",\").str[1]"
   ]
  },
  {
   "cell_type": "code",
   "execution_count": 105,
   "metadata": {
    "scrolled": true
   },
   "outputs": [
    {
     "data": {
      "text/plain": [
       " Lagos     373\n",
       " Abuja       3\n",
       " Rivers      1\n",
       "Name: state, dtype: int64"
      ]
     },
     "execution_count": 105,
     "metadata": {},
     "output_type": "execute_result"
    }
   ],
   "source": [
    "housing_5[\"state\"].value_counts()"
   ]
  },
  {
   "cell_type": "code",
   "execution_count": 106,
   "metadata": {
    "scrolled": true
   },
   "outputs": [
    {
     "data": {
      "text/plain": [
       "array(['per year', 'per sqm', 'per day'], dtype=object)"
      ]
     },
     "execution_count": 106,
     "metadata": {},
     "output_type": "execute_result"
    }
   ],
   "source": [
    "housing_5[\"unit\"].unique()"
   ]
  },
  {
   "cell_type": "markdown",
   "metadata": {},
   "source": [
    "I have to remove rows with price calculated per sqr metre but first, I find out how many percent our data has this issue"
   ]
  },
  {
   "cell_type": "code",
   "execution_count": 107,
   "metadata": {
    "scrolled": true
   },
   "outputs": [
    {
     "data": {
      "text/plain": [
       "0.018567639257294429"
      ]
     },
     "execution_count": 107,
     "metadata": {},
     "output_type": "execute_result"
    }
   ],
   "source": [
    "(housing_5[\"unit\"]==\"per sqm\").sum()/housing_5.shape[0]"
   ]
  },
  {
   "cell_type": "markdown",
   "metadata": {},
   "source": [
    "only about 2% is affected so I go ahead and drop the rows"
   ]
  },
  {
   "cell_type": "code",
   "execution_count": 108,
   "metadata": {
    "collapsed": true
   },
   "outputs": [],
   "source": [
    "housing_5.drop(housing_5[housing_5[\"unit\"]==\"per sqm\"].index, axis =0, inplace=True)"
   ]
  },
  {
   "cell_type": "code",
   "execution_count": 109,
   "metadata": {
    "collapsed": true
   },
   "outputs": [],
   "source": [
    "housing_5 =housing_5.reset_index(drop =True)"
   ]
  },
  {
   "cell_type": "markdown",
   "metadata": {},
   "source": [
    "The price column needs to reflect only yearly price. This means converting daily price to yearly price. secondly, the unit column will have to be \"Per Year\" all through."
   ]
  },
  {
   "cell_type": "code",
   "execution_count": 110,
   "metadata": {
    "collapsed": true
   },
   "outputs": [],
   "source": [
    "housing_5.loc[housing_5['unit'] ==\"per day\",\"price_naira\"] = (housing_5.loc[housing_5['unit'] ==\"per day\",\"price_naira\"] *365)"
   ]
  },
  {
   "cell_type": "code",
   "execution_count": 111,
   "metadata": {
    "collapsed": true
   },
   "outputs": [],
   "source": [
    "housing_5['unit'] =\"Per Year\""
   ]
  },
  {
   "cell_type": "markdown",
   "metadata": {},
   "source": [
    "Finally, I extract cities from the location column, check if there are still any null values and save the dataset with another name."
   ]
  },
  {
   "cell_type": "code",
   "execution_count": 112,
   "metadata": {
    "collapsed": true
   },
   "outputs": [],
   "source": [
    "housing_5[\"city_location\"] = housing_5[\"city_location\"].str.split(\",\").str[0]"
   ]
  },
  {
   "cell_type": "code",
   "execution_count": 113,
   "metadata": {},
   "outputs": [
    {
     "data": {
      "text/plain": [
       "Lekki                   262\n",
       "Ikoyi                    49\n",
       "Victoria Island (VI)     44\n",
       "Ajah                      7\n",
       "Apo                       2\n",
       "Apapa                     2\n",
       "Port Harcourt             1\n",
       "Durumi                    1\n",
       "Egbe                      1\n",
       "Idimu                     1\n",
       "Name: city_location, dtype: int64"
      ]
     },
     "execution_count": 113,
     "metadata": {},
     "output_type": "execute_result"
    }
   ],
   "source": [
    "housing_5[\"city_location\"].value_counts()"
   ]
  },
  {
   "cell_type": "code",
   "execution_count": 114,
   "metadata": {
    "scrolled": true
   },
   "outputs": [
    {
     "data": {
      "text/plain": [
       "price_naira      0\n",
       "unit             0\n",
       "city_location    0\n",
       "bedrooms         0\n",
       "baths            0\n",
       "state            0\n",
       "dtype: int64"
      ]
     },
     "execution_count": 114,
     "metadata": {},
     "output_type": "execute_result"
    }
   ],
   "source": [
    "housing_5.isnull().sum()"
   ]
  },
  {
   "cell_type": "code",
   "execution_count": 115,
   "metadata": {
    "collapsed": true
   },
   "outputs": [],
   "source": [
    "housing_5_cleaned = housing_5"
   ]
  },
  {
   "cell_type": "markdown",
   "metadata": {},
   "source": [
    "# 6th Dataset Exploration and Cleaning"
   ]
  },
  {
   "cell_type": "code",
   "execution_count": 116,
   "metadata": {},
   "outputs": [
    {
     "data": {
      "text/html": [
       "<div>\n",
       "<style>\n",
       "    .dataframe thead tr:only-child th {\n",
       "        text-align: right;\n",
       "    }\n",
       "\n",
       "    .dataframe thead th {\n",
       "        text-align: left;\n",
       "    }\n",
       "\n",
       "    .dataframe tbody tr th {\n",
       "        vertical-align: top;\n",
       "    }\n",
       "</style>\n",
       "<table border=\"1\" class=\"dataframe\">\n",
       "  <thead>\n",
       "    <tr style=\"text-align: right;\">\n",
       "      <th></th>\n",
       "      <th>price</th>\n",
       "      <th>unit</th>\n",
       "      <th>location</th>\n",
       "      <th>bedrooms</th>\n",
       "      <th>baths</th>\n",
       "      <th>state</th>\n",
       "    </tr>\n",
       "  </thead>\n",
       "  <tbody>\n",
       "    <tr>\n",
       "      <th>0</th>\n",
       "      <td>₦ 5,000 / Per Event</td>\n",
       "      <td>₦ 5,000 / Per Event</td>\n",
       "      <td>LAGOS/Ikeja</td>\n",
       "      <td>NaN</td>\n",
       "      <td>NaN</td>\n",
       "      <td>NaN</td>\n",
       "    </tr>\n",
       "    <tr>\n",
       "      <th>1</th>\n",
       "      <td>₦ 45,000 / Yearly</td>\n",
       "      <td>₦ 45,000 / Yearly</td>\n",
       "      <td>ABUJA (FCT)/Dutse Makaranta</td>\n",
       "      <td>1.0</td>\n",
       "      <td>NaN</td>\n",
       "      <td>NaN</td>\n",
       "    </tr>\n",
       "    <tr>\n",
       "      <th>2</th>\n",
       "      <td>₦ 45,000 / Yearly</td>\n",
       "      <td>₦ 45,000 / Yearly</td>\n",
       "      <td>ABUJA (FCT)/Dutse Makaranta</td>\n",
       "      <td>1.0</td>\n",
       "      <td>NaN</td>\n",
       "      <td>NaN</td>\n",
       "    </tr>\n",
       "    <tr>\n",
       "      <th>3</th>\n",
       "      <td>₦ 50,000 / Yearly</td>\n",
       "      <td>₦ 50,000 / Yearly</td>\n",
       "      <td>ABUJA (FCT)/Dutse Sokale</td>\n",
       "      <td>1.0</td>\n",
       "      <td>NaN</td>\n",
       "      <td>NaN</td>\n",
       "    </tr>\n",
       "    <tr>\n",
       "      <th>4</th>\n",
       "      <td>₦ 65,000 / Yearly</td>\n",
       "      <td>₦ 65,000 / Yearly</td>\n",
       "      <td>ABUJA (FCT)/Dutse Alhaji</td>\n",
       "      <td>1.0</td>\n",
       "      <td>NaN</td>\n",
       "      <td>NaN</td>\n",
       "    </tr>\n",
       "  </tbody>\n",
       "</table>\n",
       "</div>"
      ],
      "text/plain": [
       "                 price                 unit                     location  \\\n",
       "0  ₦ 5,000 / Per Event  ₦ 5,000 / Per Event                  LAGOS/Ikeja   \n",
       "1    ₦ 45,000 / Yearly    ₦ 45,000 / Yearly  ABUJA (FCT)/Dutse Makaranta   \n",
       "2    ₦ 45,000 / Yearly    ₦ 45,000 / Yearly  ABUJA (FCT)/Dutse Makaranta   \n",
       "3    ₦ 50,000 / Yearly    ₦ 50,000 / Yearly     ABUJA (FCT)/Dutse Sokale   \n",
       "4    ₦ 65,000 / Yearly    ₦ 65,000 / Yearly     ABUJA (FCT)/Dutse Alhaji   \n",
       "\n",
       "   bedrooms  baths  state  \n",
       "0       NaN    NaN    NaN  \n",
       "1       1.0    NaN    NaN  \n",
       "2       1.0    NaN    NaN  \n",
       "3       1.0    NaN    NaN  \n",
       "4       1.0    NaN    NaN  "
      ]
     },
     "execution_count": 116,
     "metadata": {},
     "output_type": "execute_result"
    }
   ],
   "source": [
    "housing_6.head()"
   ]
  },
  {
   "cell_type": "code",
   "execution_count": 117,
   "metadata": {},
   "outputs": [
    {
     "name": "stdout",
     "output_type": "stream",
     "text": [
      "<class 'pandas.core.frame.DataFrame'>\n",
      "RangeIndex: 247 entries, 0 to 246\n",
      "Data columns (total 6 columns):\n",
      "price       228 non-null object\n",
      "unit        228 non-null object\n",
      "location    228 non-null object\n",
      "bedrooms    223 non-null float64\n",
      "baths       0 non-null float64\n",
      "state       0 non-null float64\n",
      "dtypes: float64(3), object(3)\n",
      "memory usage: 11.7+ KB\n"
     ]
    }
   ],
   "source": [
    "housing_6.info()"
   ]
  },
  {
   "cell_type": "code",
   "execution_count": 118,
   "metadata": {
    "scrolled": true
   },
   "outputs": [
    {
     "data": {
      "text/plain": [
       "price        19\n",
       "unit         19\n",
       "location     19\n",
       "bedrooms     24\n",
       "baths       247\n",
       "state       247\n",
       "dtype: int64"
      ]
     },
     "execution_count": 118,
     "metadata": {},
     "output_type": "execute_result"
    }
   ],
   "source": [
    "housing_6.isnull().sum()"
   ]
  },
  {
   "cell_type": "markdown",
   "metadata": {},
   "source": [
    "There are missing values in all columns but first I start with renaming the columns and cleaning the prices."
   ]
  },
  {
   "cell_type": "code",
   "execution_count": 119,
   "metadata": {
    "collapsed": true
   },
   "outputs": [],
   "source": [
    "housing_6.rename(columns={\"price\":\"price_naira\",\"location\":\"city_location\"},inplace = True)"
   ]
  },
  {
   "cell_type": "code",
   "execution_count": 120,
   "metadata": {},
   "outputs": [
    {
     "data": {
      "text/plain": [
       "array(['₦ 5,000 / Per Event', '₦ 45,000 / Yearly', '₦ 50,000 / Yearly',\n",
       "       '₦ 65,000 / Yearly', '₦ 80,000 / Yearly', '₦ 100,000 / Yearly',\n",
       "       '₦ 120,000 / Yearly', '₦ 130,000 / Yearly', nan,\n",
       "       '₦ 150,000 / Yearly'], dtype=object)"
      ]
     },
     "execution_count": 120,
     "metadata": {},
     "output_type": "execute_result"
    }
   ],
   "source": [
    "housing_6[\"price_naira\"].unique()[:10]"
   ]
  },
  {
   "cell_type": "markdown",
   "metadata": {},
   "source": [
    "I remove all special characters and convert to float. Also, I check the missing values in price and see if we can get the values from the corresponding units in the unit column"
   ]
  },
  {
   "cell_type": "code",
   "execution_count": 121,
   "metadata": {
    "collapsed": true
   },
   "outputs": [],
   "source": [
    "housing_6[\"price_naira\"] = housing_6[\"price_naira\"].str.split(\"/\").str[0].str.replace(\"₦\",\"\").str.replace(\",\",\"\").str.replace(\" \",\"\").str.strip().astype(float)"
   ]
  },
  {
   "cell_type": "code",
   "execution_count": 122,
   "metadata": {},
   "outputs": [
    {
     "data": {
      "text/plain": [
       "12     NaN\n",
       "25     NaN\n",
       "38     NaN\n",
       "51     NaN\n",
       "64     NaN\n",
       "77     NaN\n",
       "90     NaN\n",
       "103    NaN\n",
       "116    NaN\n",
       "129    NaN\n",
       "142    NaN\n",
       "155    NaN\n",
       "168    NaN\n",
       "181    NaN\n",
       "194    NaN\n",
       "207    NaN\n",
       "220    NaN\n",
       "233    NaN\n",
       "246    NaN\n",
       "Name: unit, dtype: object"
      ]
     },
     "execution_count": 122,
     "metadata": {},
     "output_type": "execute_result"
    }
   ],
   "source": [
    "housing_6.loc[housing_6[\"price_naira\"].isnull(),\"unit\"]"
   ]
  },
  {
   "cell_type": "markdown",
   "metadata": {},
   "source": [
    "Since the units are also missing, drop the rows where price is missing and reset the index."
   ]
  },
  {
   "cell_type": "code",
   "execution_count": 123,
   "metadata": {
    "collapsed": true
   },
   "outputs": [],
   "source": [
    "housing_6.drop(housing_6[housing_6[\"price_naira\"].isnull()].index, axis = 0, inplace = True)"
   ]
  },
  {
   "cell_type": "code",
   "execution_count": 124,
   "metadata": {
    "collapsed": true
   },
   "outputs": [],
   "source": [
    "housing_6.reset_index(drop=True, inplace=True)"
   ]
  },
  {
   "cell_type": "markdown",
   "metadata": {},
   "source": [
    "Inspecting the unit column."
   ]
  },
  {
   "cell_type": "code",
   "execution_count": 125,
   "metadata": {},
   "outputs": [
    {
     "data": {
      "text/plain": [
       "0    ₦ 5,000 / Per Event\n",
       "1      ₦ 45,000 / Yearly\n",
       "2      ₦ 45,000 / Yearly\n",
       "3      ₦ 50,000 / Yearly\n",
       "4      ₦ 65,000 / Yearly\n",
       "Name: unit, dtype: object"
      ]
     },
     "execution_count": 125,
     "metadata": {},
     "output_type": "execute_result"
    }
   ],
   "source": [
    "housing_6[\"unit\"].head()"
   ]
  },
  {
   "cell_type": "code",
   "execution_count": 126,
   "metadata": {
    "collapsed": true
   },
   "outputs": [],
   "source": [
    "housing_6[\"unit\"] = housing_6[\"unit\"].str.split(\"/\").str[1].str.strip()"
   ]
  },
  {
   "cell_type": "code",
   "execution_count": 127,
   "metadata": {},
   "outputs": [
    {
     "data": {
      "text/html": [
       "<div>\n",
       "<style>\n",
       "    .dataframe thead tr:only-child th {\n",
       "        text-align: right;\n",
       "    }\n",
       "\n",
       "    .dataframe thead th {\n",
       "        text-align: left;\n",
       "    }\n",
       "\n",
       "    .dataframe tbody tr th {\n",
       "        vertical-align: top;\n",
       "    }\n",
       "</style>\n",
       "<table border=\"1\" class=\"dataframe\">\n",
       "  <thead>\n",
       "    <tr style=\"text-align: right;\">\n",
       "      <th></th>\n",
       "      <th>price_naira</th>\n",
       "      <th>unit</th>\n",
       "      <th>city_location</th>\n",
       "      <th>bedrooms</th>\n",
       "      <th>baths</th>\n",
       "      <th>state</th>\n",
       "    </tr>\n",
       "  </thead>\n",
       "  <tbody>\n",
       "    <tr>\n",
       "      <th>0</th>\n",
       "      <td>5000.0</td>\n",
       "      <td>Per Event</td>\n",
       "      <td>LAGOS/Ikeja</td>\n",
       "      <td>NaN</td>\n",
       "      <td>NaN</td>\n",
       "      <td>NaN</td>\n",
       "    </tr>\n",
       "  </tbody>\n",
       "</table>\n",
       "</div>"
      ],
      "text/plain": [
       "   price_naira       unit city_location  bedrooms  baths  state\n",
       "0       5000.0  Per Event   LAGOS/Ikeja       NaN    NaN    NaN"
      ]
     },
     "execution_count": 127,
     "metadata": {},
     "output_type": "execute_result"
    }
   ],
   "source": [
    "housing_6[housing_6[\"unit\"]==\"Per Event\"]"
   ]
  },
  {
   "cell_type": "markdown",
   "metadata": {},
   "source": [
    "Only one of the units is Labelled Per Event. Since it isn't significant, we drop that row"
   ]
  },
  {
   "cell_type": "code",
   "execution_count": 128,
   "metadata": {
    "collapsed": true
   },
   "outputs": [],
   "source": [
    " housing_6.drop(housing_6[housing_6[\"unit\"]==\"Per Event\"].index, axis =0, inplace = True)"
   ]
  },
  {
   "cell_type": "code",
   "execution_count": 129,
   "metadata": {
    "collapsed": true
   },
   "outputs": [],
   "source": [
    " housing_6 = housing_6.reset_index(drop=True)"
   ]
  },
  {
   "cell_type": "code",
   "execution_count": 130,
   "metadata": {},
   "outputs": [
    {
     "data": {
      "text/plain": [
       "array(['Yearly', 'Monthly', 'Weekly'], dtype=object)"
      ]
     },
     "execution_count": 130,
     "metadata": {},
     "output_type": "execute_result"
    }
   ],
   "source": [
    "housing_6[\"unit\"].unique()"
   ]
  },
  {
   "cell_type": "markdown",
   "metadata": {},
   "source": [
    "We convert the price values whose units are weekly and monthly to yearly price and then change all values to \"Per Year\""
   ]
  },
  {
   "cell_type": "code",
   "execution_count": 131,
   "metadata": {
    "collapsed": true
   },
   "outputs": [],
   "source": [
    "housing_6.loc[housing_6[\"unit\"]==\"Monthly\",\"price_naira\"] = housing_6.loc[housing_6[\"unit\"]==\"Monthly\",\"price_naira\"]*12"
   ]
  },
  {
   "cell_type": "code",
   "execution_count": 132,
   "metadata": {
    "collapsed": true
   },
   "outputs": [],
   "source": [
    "housing_6.loc[housing_6[\"unit\"]==\"Weekly\",\"price_naira\"] = housing_6.loc[housing_6[\"unit\"]==\"Weekly\",\"price_naira\"]*52"
   ]
  },
  {
   "cell_type": "code",
   "execution_count": 133,
   "metadata": {
    "collapsed": true
   },
   "outputs": [],
   "source": [
    "housing_6[\"unit\"] =\"Per Year\""
   ]
  },
  {
   "cell_type": "code",
   "execution_count": 134,
   "metadata": {},
   "outputs": [
    {
     "data": {
      "text/html": [
       "<div>\n",
       "<style>\n",
       "    .dataframe thead tr:only-child th {\n",
       "        text-align: right;\n",
       "    }\n",
       "\n",
       "    .dataframe thead th {\n",
       "        text-align: left;\n",
       "    }\n",
       "\n",
       "    .dataframe tbody tr th {\n",
       "        vertical-align: top;\n",
       "    }\n",
       "</style>\n",
       "<table border=\"1\" class=\"dataframe\">\n",
       "  <thead>\n",
       "    <tr style=\"text-align: right;\">\n",
       "      <th></th>\n",
       "      <th>price_naira</th>\n",
       "      <th>unit</th>\n",
       "      <th>city_location</th>\n",
       "      <th>bedrooms</th>\n",
       "      <th>baths</th>\n",
       "      <th>state</th>\n",
       "    </tr>\n",
       "  </thead>\n",
       "  <tbody>\n",
       "    <tr>\n",
       "      <th>0</th>\n",
       "      <td>45000.0</td>\n",
       "      <td>Per Year</td>\n",
       "      <td>ABUJA (FCT)/Dutse Makaranta</td>\n",
       "      <td>1.0</td>\n",
       "      <td>NaN</td>\n",
       "      <td>NaN</td>\n",
       "    </tr>\n",
       "    <tr>\n",
       "      <th>1</th>\n",
       "      <td>45000.0</td>\n",
       "      <td>Per Year</td>\n",
       "      <td>ABUJA (FCT)/Dutse Makaranta</td>\n",
       "      <td>1.0</td>\n",
       "      <td>NaN</td>\n",
       "      <td>NaN</td>\n",
       "    </tr>\n",
       "    <tr>\n",
       "      <th>2</th>\n",
       "      <td>50000.0</td>\n",
       "      <td>Per Year</td>\n",
       "      <td>ABUJA (FCT)/Dutse Sokale</td>\n",
       "      <td>1.0</td>\n",
       "      <td>NaN</td>\n",
       "      <td>NaN</td>\n",
       "    </tr>\n",
       "    <tr>\n",
       "      <th>3</th>\n",
       "      <td>65000.0</td>\n",
       "      <td>Per Year</td>\n",
       "      <td>ABUJA (FCT)/Dutse Alhaji</td>\n",
       "      <td>1.0</td>\n",
       "      <td>NaN</td>\n",
       "      <td>NaN</td>\n",
       "    </tr>\n",
       "    <tr>\n",
       "      <th>4</th>\n",
       "      <td>80000.0</td>\n",
       "      <td>Per Year</td>\n",
       "      <td>KANO/taruni</td>\n",
       "      <td>NaN</td>\n",
       "      <td>NaN</td>\n",
       "      <td>NaN</td>\n",
       "    </tr>\n",
       "  </tbody>\n",
       "</table>\n",
       "</div>"
      ],
      "text/plain": [
       "   price_naira      unit                city_location  bedrooms  baths  state\n",
       "0      45000.0  Per Year  ABUJA (FCT)/Dutse Makaranta       1.0    NaN    NaN\n",
       "1      45000.0  Per Year  ABUJA (FCT)/Dutse Makaranta       1.0    NaN    NaN\n",
       "2      50000.0  Per Year     ABUJA (FCT)/Dutse Sokale       1.0    NaN    NaN\n",
       "3      65000.0  Per Year     ABUJA (FCT)/Dutse Alhaji       1.0    NaN    NaN\n",
       "4      80000.0  Per Year                  KANO/taruni       NaN    NaN    NaN"
      ]
     },
     "execution_count": 134,
     "metadata": {},
     "output_type": "execute_result"
    }
   ],
   "source": [
    "housing_6.head()"
   ]
  },
  {
   "cell_type": "markdown",
   "metadata": {},
   "source": [
    "The state need to be extracted from city_location data and filled into the state column."
   ]
  },
  {
   "cell_type": "code",
   "execution_count": 135,
   "metadata": {
    "collapsed": true
   },
   "outputs": [],
   "source": [
    "housing_6[\"state\"] = housing_6[\"city_location\"].str.split(\"/\").str[0].str.split(\" \").str[0]"
   ]
  },
  {
   "cell_type": "code",
   "execution_count": 136,
   "metadata": {
    "collapsed": true
   },
   "outputs": [],
   "source": [
    "housing_6[\"city_location\"] = housing_6[\"city_location\"].str.split(\"/\").str[1]"
   ]
  },
  {
   "cell_type": "code",
   "execution_count": 137,
   "metadata": {},
   "outputs": [
    {
     "data": {
      "text/plain": [
       "Kubwa           26\n",
       "Dutse Alhaji    23\n",
       "Dawaki          15\n",
       "Dutse Sokale    13\n",
       "Mararaba        13\n",
       "Name: city_location, dtype: int64"
      ]
     },
     "execution_count": 137,
     "metadata": {},
     "output_type": "execute_result"
    }
   ],
   "source": [
    "housing_6[\"city_location\"].value_counts().head()"
   ]
  },
  {
   "cell_type": "code",
   "execution_count": 138,
   "metadata": {},
   "outputs": [
    {
     "data": {
      "text/plain": [
       "price_naira        0\n",
       "unit               0\n",
       "city_location      0\n",
       "bedrooms           4\n",
       "baths            227\n",
       "state              0\n",
       "dtype: int64"
      ]
     },
     "execution_count": 138,
     "metadata": {},
     "output_type": "execute_result"
    }
   ],
   "source": [
    "housing_6.isnull().sum()"
   ]
  },
  {
   "cell_type": "code",
   "execution_count": 139,
   "metadata": {
    "collapsed": true
   },
   "outputs": [],
   "source": [
    "housing_6_cleaned = housing_6"
   ]
  },
  {
   "cell_type": "markdown",
   "metadata": {},
   "source": [
    "# We now move to cleaning the 7th Dataset"
   ]
  },
  {
   "cell_type": "code",
   "execution_count": 140,
   "metadata": {},
   "outputs": [
    {
     "data": {
      "text/html": [
       "<div>\n",
       "<style>\n",
       "    .dataframe thead tr:only-child th {\n",
       "        text-align: right;\n",
       "    }\n",
       "\n",
       "    .dataframe thead th {\n",
       "        text-align: left;\n",
       "    }\n",
       "\n",
       "    .dataframe tbody tr th {\n",
       "        vertical-align: top;\n",
       "    }\n",
       "</style>\n",
       "<table border=\"1\" class=\"dataframe\">\n",
       "  <thead>\n",
       "    <tr style=\"text-align: right;\">\n",
       "      <th></th>\n",
       "      <th>price</th>\n",
       "      <th>unit</th>\n",
       "      <th>location</th>\n",
       "      <th>bedrooms</th>\n",
       "      <th>baths</th>\n",
       "      <th>state</th>\n",
       "    </tr>\n",
       "  </thead>\n",
       "  <tbody>\n",
       "    <tr>\n",
       "      <th>0</th>\n",
       "      <td>₦450,000</td>\n",
       "      <td>per Year</td>\n",
       "      <td>Ogun, Odeda, Ogun State</td>\n",
       "      <td>2</td>\n",
       "      <td>2</td>\n",
       "      <td>NaN</td>\n",
       "    </tr>\n",
       "    <tr>\n",
       "      <th>1</th>\n",
       "      <td>₦150,000</td>\n",
       "      <td>per Year</td>\n",
       "      <td>Abeokuta, Abeokuta South, Ogun State</td>\n",
       "      <td>1</td>\n",
       "      <td>1</td>\n",
       "      <td>NaN</td>\n",
       "    </tr>\n",
       "    <tr>\n",
       "      <th>2</th>\n",
       "      <td>₦700,000</td>\n",
       "      <td>per Year</td>\n",
       "      <td>Ogun, Odeda, Ogun State</td>\n",
       "      <td>3</td>\n",
       "      <td>3</td>\n",
       "      <td>NaN</td>\n",
       "    </tr>\n",
       "    <tr>\n",
       "      <th>3</th>\n",
       "      <td>₦250,000</td>\n",
       "      <td>per Year</td>\n",
       "      <td>Ifo, Ogun State</td>\n",
       "      <td>2</td>\n",
       "      <td>2</td>\n",
       "      <td>NaN</td>\n",
       "    </tr>\n",
       "    <tr>\n",
       "      <th>4</th>\n",
       "      <td>₦200,000</td>\n",
       "      <td>per Year</td>\n",
       "      <td>Ofada, Obafemi Owode, Ogun State</td>\n",
       "      <td>NaN</td>\n",
       "      <td>NaN</td>\n",
       "      <td>NaN</td>\n",
       "    </tr>\n",
       "  </tbody>\n",
       "</table>\n",
       "</div>"
      ],
      "text/plain": [
       "      price      unit                                location bedrooms baths  \\\n",
       "0  ₦450,000  per Year                Ogun, Odeda, Ogun State         2     2   \n",
       "1  ₦150,000  per Year   Abeokuta, Abeokuta South, Ogun State         1     1   \n",
       "2  ₦700,000  per Year                Ogun, Odeda, Ogun State         3     3   \n",
       "3  ₦250,000  per Year                        Ifo, Ogun State         2     2   \n",
       "4  ₦200,000  per Year       Ofada, Obafemi Owode, Ogun State       NaN   NaN   \n",
       "\n",
       "   state  \n",
       "0    NaN  \n",
       "1    NaN  \n",
       "2    NaN  \n",
       "3    NaN  \n",
       "4    NaN  "
      ]
     },
     "execution_count": 140,
     "metadata": {},
     "output_type": "execute_result"
    }
   ],
   "source": [
    "housing_7.head()"
   ]
  },
  {
   "cell_type": "code",
   "execution_count": 141,
   "metadata": {},
   "outputs": [
    {
     "data": {
      "text/plain": [
       "price        288\n",
       "unit           0\n",
       "location       0\n",
       "bedrooms     429\n",
       "baths        429\n",
       "state       6697\n",
       "dtype: int64"
      ]
     },
     "execution_count": 141,
     "metadata": {},
     "output_type": "execute_result"
    }
   ],
   "source": [
    "housing_7.isnull().sum()"
   ]
  },
  {
   "cell_type": "markdown",
   "metadata": {},
   "source": [
    "We have missing values in all columns except bedrooms and baths. However, I rename the column names first and then move into cleaning the prices."
   ]
  },
  {
   "cell_type": "code",
   "execution_count": 142,
   "metadata": {
    "collapsed": true
   },
   "outputs": [],
   "source": [
    "housing_7.rename(columns={\"price\":\"price_naira\",\"location\":\"city_location\"},inplace = True)"
   ]
  },
  {
   "cell_type": "code",
   "execution_count": 143,
   "metadata": {},
   "outputs": [
    {
     "data": {
      "text/plain": [
       "₦2,000,000    300\n",
       "₦1,500,000    270\n",
       "₦500,000      245\n",
       "₦2,500,000    243\n",
       "₦3,000,000    242\n",
       "Name: price_naira, dtype: int64"
      ]
     },
     "execution_count": 143,
     "metadata": {},
     "output_type": "execute_result"
    }
   ],
   "source": [
    "housing_7[\"price_naira\"].value_counts().head()"
   ]
  },
  {
   "cell_type": "code",
   "execution_count": 144,
   "metadata": {
    "collapsed": true
   },
   "outputs": [],
   "source": [
    "housing_7[\"price_naira\"] = housing_7[\"price_naira\"].str.replace(\"₦\",\"\").str.replace(\",\",\"\").str.strip().astype(float)"
   ]
  },
  {
   "cell_type": "markdown",
   "metadata": {},
   "source": [
    "Some of the price values are missing. We check what percentage of our dataset is affected in order to ascertain whether to drop the rows or not"
   ]
  },
  {
   "cell_type": "code",
   "execution_count": 145,
   "metadata": {},
   "outputs": [
    {
     "data": {
      "text/plain": [
       "0.04300433029714798"
      ]
     },
     "execution_count": 145,
     "metadata": {},
     "output_type": "execute_result"
    }
   ],
   "source": [
    "(housing_7[\"price_naira\"].isnull()).sum()/housing_7.shape[0]"
   ]
  },
  {
   "cell_type": "markdown",
   "metadata": {},
   "source": [
    "4% of the dataset is affeted, so we can safetly delete them"
   ]
  },
  {
   "cell_type": "code",
   "execution_count": 146,
   "metadata": {
    "collapsed": true
   },
   "outputs": [],
   "source": [
    "housing_7.drop(housing_7[housing_7[\"price_naira\"].isnull()].index, axis =0, inplace= True)"
   ]
  },
  {
   "cell_type": "code",
   "execution_count": 147,
   "metadata": {
    "collapsed": true
   },
   "outputs": [],
   "source": [
    "housing_7 = housing_7.reset_index(drop=True)"
   ]
  },
  {
   "cell_type": "markdown",
   "metadata": {},
   "source": [
    "Next, we extract the states from the city_location values"
   ]
  },
  {
   "cell_type": "code",
   "execution_count": 148,
   "metadata": {
    "collapsed": true
   },
   "outputs": [],
   "source": [
    "housing_7[\"state\"] = housing_7[\"city_location\"].str.split(\" \").str[-3]"
   ]
  },
  {
   "cell_type": "code",
   "execution_count": 149,
   "metadata": {},
   "outputs": [
    {
     "data": {
      "text/plain": [
       "array(['Ogun', 'Territory', 'Kaduna', 'Enugu', 'Kwara', 'Lagos', 'Imo',\n",
       "       'Edo', 'Delta', 'River', 'Benue', 'Bayelsa', 'Adamawa', 'Ibom',\n",
       "       'Rivers', 'Abia', 'Ekiti', 'Oyo', 'Osun', 'Ondo', 'Sokoto',\n",
       "       'Plateau'], dtype=object)"
      ]
     },
     "execution_count": 149,
     "metadata": {},
     "output_type": "execute_result"
    }
   ],
   "source": [
    "housing_7[\"state\"].unique()"
   ]
  },
  {
   "cell_type": "markdown",
   "metadata": {
    "collapsed": true
   },
   "source": [
    "We need to rename a few of the states to correspond with what we have in the other datasets"
   ]
  },
  {
   "cell_type": "code",
   "execution_count": 150,
   "metadata": {
    "collapsed": true
   },
   "outputs": [],
   "source": [
    "housing_7.loc[housing_7[\"state\"]==\"Territory\",\"state\"] = \"Abuja\""
   ]
  },
  {
   "cell_type": "code",
   "execution_count": 151,
   "metadata": {
    "collapsed": true
   },
   "outputs": [],
   "source": [
    "housing_7.loc[housing_7[\"state\"]==\"River\",\"state\"] = \"Cross River\""
   ]
  },
  {
   "cell_type": "code",
   "execution_count": 152,
   "metadata": {
    "collapsed": true
   },
   "outputs": [],
   "source": [
    "housing_7.loc[housing_7[\"state\"]==\"Ibom\",\"state\"] = \"Akwa Ibom\""
   ]
  },
  {
   "cell_type": "code",
   "execution_count": 153,
   "metadata": {
    "collapsed": true
   },
   "outputs": [],
   "source": [
    "housing_7[\"city_location\"] = housing_7[\"city_location\"].str.split(\",\").str[0]"
   ]
  },
  {
   "cell_type": "code",
   "execution_count": 154,
   "metadata": {},
   "outputs": [
    {
     "data": {
      "text/plain": [
       "price_naira        0\n",
       "unit               0\n",
       "city_location      0\n",
       "bedrooms         351\n",
       "baths            351\n",
       "state              0\n",
       "dtype: int64"
      ]
     },
     "execution_count": 154,
     "metadata": {},
     "output_type": "execute_result"
    }
   ],
   "source": [
    "housing_7.isnull().sum()"
   ]
  },
  {
   "cell_type": "code",
   "execution_count": 155,
   "metadata": {
    "collapsed": true
   },
   "outputs": [],
   "source": [
    "housing_7_cleaned = housing_7"
   ]
  },
  {
   "cell_type": "code",
   "execution_count": 156,
   "metadata": {
    "collapsed": true
   },
   "outputs": [],
   "source": [
    "combined = pd.concat([housing_1_cleaned,housing_2_cleaned,housing_3_cleaned,housing_4_cleaned,housing_5_cleaned,housing_6_cleaned,housing_7_cleaned])"
   ]
  },
  {
   "cell_type": "code",
   "execution_count": 157,
   "metadata": {},
   "outputs": [
    {
     "data": {
      "text/html": [
       "<div>\n",
       "<style>\n",
       "    .dataframe thead tr:only-child th {\n",
       "        text-align: right;\n",
       "    }\n",
       "\n",
       "    .dataframe thead th {\n",
       "        text-align: left;\n",
       "    }\n",
       "\n",
       "    .dataframe tbody tr th {\n",
       "        vertical-align: top;\n",
       "    }\n",
       "</style>\n",
       "<table border=\"1\" class=\"dataframe\">\n",
       "  <thead>\n",
       "    <tr style=\"text-align: right;\">\n",
       "      <th></th>\n",
       "      <th>price_naira</th>\n",
       "    </tr>\n",
       "  </thead>\n",
       "  <tbody>\n",
       "    <tr>\n",
       "      <th>count</th>\n",
       "      <td>8.336000e+03</td>\n",
       "    </tr>\n",
       "    <tr>\n",
       "      <th>mean</th>\n",
       "      <td>7.845938e+07</td>\n",
       "    </tr>\n",
       "    <tr>\n",
       "      <th>std</th>\n",
       "      <td>4.404334e+09</td>\n",
       "    </tr>\n",
       "    <tr>\n",
       "      <th>min</th>\n",
       "      <td>0.000000e+00</td>\n",
       "    </tr>\n",
       "    <tr>\n",
       "      <th>25%</th>\n",
       "      <td>5.500000e+05</td>\n",
       "    </tr>\n",
       "    <tr>\n",
       "      <th>50%</th>\n",
       "      <td>1.500000e+06</td>\n",
       "    </tr>\n",
       "    <tr>\n",
       "      <th>75%</th>\n",
       "      <td>4.000000e+06</td>\n",
       "    </tr>\n",
       "    <tr>\n",
       "      <th>max</th>\n",
       "      <td>4.000000e+11</td>\n",
       "    </tr>\n",
       "  </tbody>\n",
       "</table>\n",
       "</div>"
      ],
      "text/plain": [
       "        price_naira\n",
       "count  8.336000e+03\n",
       "mean   7.845938e+07\n",
       "std    4.404334e+09\n",
       "min    0.000000e+00\n",
       "25%    5.500000e+05\n",
       "50%    1.500000e+06\n",
       "75%    4.000000e+06\n",
       "max    4.000000e+11"
      ]
     },
     "execution_count": 157,
     "metadata": {},
     "output_type": "execute_result"
    }
   ],
   "source": [
    "combined.describe()"
   ]
  },
  {
   "cell_type": "code",
   "execution_count": 158,
   "metadata": {
    "scrolled": true
   },
   "outputs": [
    {
     "data": {
      "text/plain": [
       "0.991242802303263"
      ]
     },
     "execution_count": 158,
     "metadata": {},
     "output_type": "execute_result"
    }
   ],
   "source": [
    "(~combined[\"price_naira\"].between(0,50000)).sum()/combined.shape[0]"
   ]
  },
  {
   "cell_type": "markdown",
   "metadata": {},
   "source": [
    "A price between 0 and less than 50,000 per year, isn't reasonable. We can drop the AFFECTED rows price_naira and still preserve 99% of our data"
   ]
  },
  {
   "cell_type": "code",
   "execution_count": 159,
   "metadata": {
    "collapsed": true
   },
   "outputs": [],
   "source": [
    "combined.drop(combined[combined[\"price_naira\"].between(0,50000)].index,axis =0, inplace =True)"
   ]
  },
  {
   "cell_type": "code",
   "execution_count": 160,
   "metadata": {
    "collapsed": true
   },
   "outputs": [],
   "source": [
    "combined = combined.reset_index(drop =True)"
   ]
  },
  {
   "cell_type": "code",
   "execution_count": 161,
   "metadata": {},
   "outputs": [
    {
     "data": {
      "text/html": [
       "<div>\n",
       "<style>\n",
       "    .dataframe thead tr:only-child th {\n",
       "        text-align: right;\n",
       "    }\n",
       "\n",
       "    .dataframe thead th {\n",
       "        text-align: left;\n",
       "    }\n",
       "\n",
       "    .dataframe tbody tr th {\n",
       "        vertical-align: top;\n",
       "    }\n",
       "</style>\n",
       "<table border=\"1\" class=\"dataframe\">\n",
       "  <thead>\n",
       "    <tr style=\"text-align: right;\">\n",
       "      <th></th>\n",
       "      <th>price_naira</th>\n",
       "    </tr>\n",
       "  </thead>\n",
       "  <tbody>\n",
       "    <tr>\n",
       "      <th>count</th>\n",
       "      <td>8.179000e+03</td>\n",
       "    </tr>\n",
       "    <tr>\n",
       "      <th>mean</th>\n",
       "      <td>7.910593e+07</td>\n",
       "    </tr>\n",
       "    <tr>\n",
       "      <th>std</th>\n",
       "      <td>4.445914e+09</td>\n",
       "    </tr>\n",
       "    <tr>\n",
       "      <th>min</th>\n",
       "      <td>5.500000e+04</td>\n",
       "    </tr>\n",
       "    <tr>\n",
       "      <th>25%</th>\n",
       "      <td>5.900000e+05</td>\n",
       "    </tr>\n",
       "    <tr>\n",
       "      <th>50%</th>\n",
       "      <td>1.600000e+06</td>\n",
       "    </tr>\n",
       "    <tr>\n",
       "      <th>75%</th>\n",
       "      <td>4.000000e+06</td>\n",
       "    </tr>\n",
       "    <tr>\n",
       "      <th>max</th>\n",
       "      <td>4.000000e+11</td>\n",
       "    </tr>\n",
       "  </tbody>\n",
       "</table>\n",
       "</div>"
      ],
      "text/plain": [
       "        price_naira\n",
       "count  8.179000e+03\n",
       "mean   7.910593e+07\n",
       "std    4.445914e+09\n",
       "min    5.500000e+04\n",
       "25%    5.900000e+05\n",
       "50%    1.600000e+06\n",
       "75%    4.000000e+06\n",
       "max    4.000000e+11"
      ]
     },
     "execution_count": 161,
     "metadata": {},
     "output_type": "execute_result"
    }
   ],
   "source": [
    "combined.describe()"
   ]
  },
  {
   "cell_type": "code",
   "execution_count": 162,
   "metadata": {},
   "outputs": [
    {
     "name": "stdout",
     "output_type": "stream",
     "text": [
      "<class 'pandas.core.frame.DataFrame'>\n",
      "RangeIndex: 8179 entries, 0 to 8178\n",
      "Data columns (total 6 columns):\n",
      "price_naira      8179 non-null float64\n",
      "unit             8179 non-null object\n",
      "city_location    8179 non-null object\n",
      "bedrooms         7724 non-null object\n",
      "baths            7337 non-null object\n",
      "state            8179 non-null object\n",
      "dtypes: float64(1), object(5)\n",
      "memory usage: 383.5+ KB\n"
     ]
    }
   ],
   "source": [
    "combined.info()"
   ]
  },
  {
   "cell_type": "markdown",
   "metadata": {
    "scrolled": true
   },
   "source": [
    "There are still missing values in the bedrooms and baths columns"
   ]
  },
  {
   "cell_type": "code",
   "execution_count": 163,
   "metadata": {},
   "outputs": [
    {
     "data": {
      "text/plain": [
       "455"
      ]
     },
     "execution_count": 163,
     "metadata": {},
     "output_type": "execute_result"
    }
   ],
   "source": [
    "combined[combined[\"bedrooms\"].isnull()].shape[0]"
   ]
  },
  {
   "cell_type": "code",
   "execution_count": 164,
   "metadata": {},
   "outputs": [
    {
     "data": {
      "text/plain": [
       "array([5.0, 8.0, 4.0, 3.0, 0.0, 2.0, 1.0, nan, 12.0, 9.0, 6.0, 7.0, 30.0,\n",
       "       16.0, 11.0, 10.0, 15.0, 14.0, '2', '3', '1', '12', '7', '4',\n",
       "       '10 br', '1 br', '5', '2 br', '6', '5 br', '18', '10', '9', '7 br',\n",
       "       '3 br', '8', '4 br', '6 br', '15', '8 br', '14', '20 br', '11 br',\n",
       "       '13 br'], dtype=object)"
      ]
     },
     "execution_count": 164,
     "metadata": {},
     "output_type": "execute_result"
    }
   ],
   "source": [
    "combined[\"bedrooms\"].unique()"
   ]
  },
  {
   "cell_type": "code",
   "execution_count": 165,
   "metadata": {
    "collapsed": true
   },
   "outputs": [],
   "source": [
    "combined[\"bedrooms\"] = combined[\"bedrooms\"].str.split(\" \").str[0]"
   ]
  },
  {
   "cell_type": "code",
   "execution_count": 166,
   "metadata": {},
   "outputs": [
    {
     "data": {
      "text/plain": [
       "NaN    2163\n",
       "3      2122\n",
       "2      1521\n",
       "1       947\n",
       "4       932\n",
       "5       369\n",
       "6        60\n",
       "7        30\n",
       "10        9\n",
       "8         8\n",
       "9         7\n",
       "12        3\n",
       "11        2\n",
       "18        2\n",
       "20        1\n",
       "14        1\n",
       "13        1\n",
       "15        1\n",
       "Name: bedrooms, dtype: int64"
      ]
     },
     "execution_count": 166,
     "metadata": {},
     "output_type": "execute_result"
    }
   ],
   "source": [
    "combined[\"bedrooms\"].value_counts(dropna=False)"
   ]
  },
  {
   "cell_type": "code",
   "execution_count": 167,
   "metadata": {
    "collapsed": true
   },
   "outputs": [],
   "source": [
    "combined[\"bedrooms\"].fillna(\"Unknown\", inplace =True)"
   ]
  },
  {
   "cell_type": "code",
   "execution_count": 168,
   "metadata": {},
   "outputs": [
    {
     "data": {
      "text/plain": [
       "Unknown    2163\n",
       "3          2122\n",
       "2          1521\n",
       "1           947\n",
       "4           932\n",
       "5           369\n",
       "6            60\n",
       "7            30\n",
       "10            9\n",
       "8             8\n",
       "9             7\n",
       "12            3\n",
       "11            2\n",
       "18            2\n",
       "15            1\n",
       "20            1\n",
       "13            1\n",
       "14            1\n",
       "Name: bedrooms, dtype: int64"
      ]
     },
     "execution_count": 168,
     "metadata": {},
     "output_type": "execute_result"
    }
   ],
   "source": [
    "combined[\"bedrooms\"].value_counts()"
   ]
  },
  {
   "cell_type": "markdown",
   "metadata": {},
   "source": [
    "We move to the baths column"
   ]
  },
  {
   "cell_type": "code",
   "execution_count": 169,
   "metadata": {
    "scrolled": true
   },
   "outputs": [
    {
     "data": {
      "text/plain": [
       "array(['5f', '7f', '4f', '3f', nan, '6f', '2f', '0f', '1f', '10f', '9f',\n",
       "       '3.5f', 2, 3, 1.0, 4.0, 6.0, '3', '1', '2', '5', '4',\n",
       "       '\\r\\r\\n                    Floor Size', '7', '14', '8',\n",
       "       '\\r\\r\\n                    ', '15', '6', '4,5', '9', '11', '4.5',\n",
       "       '10', '3,5', '3.5', 5, 0, 10, 7, 16, '12', '10 br', '1 br', '2 br',\n",
       "       '5 br', '18', '7 br', '3 br', '4 br', '6 br', '8 br', '20 br',\n",
       "       '11 br', '13 br'], dtype=object)"
      ]
     },
     "execution_count": 169,
     "metadata": {},
     "output_type": "execute_result"
    }
   ],
   "source": [
    "combined[\"baths\"].unique()"
   ]
  },
  {
   "cell_type": "markdown",
   "metadata": {},
   "source": [
    "We extract only the integers"
   ]
  },
  {
   "cell_type": "code",
   "execution_count": 170,
   "metadata": {
    "collapsed": true
   },
   "outputs": [],
   "source": [
    "combined[\"baths\"] = combined[\"baths\"].str.extract(r'([\\d+]*)',expand=False)"
   ]
  },
  {
   "cell_type": "code",
   "execution_count": 171,
   "metadata": {},
   "outputs": [
    {
     "data": {
      "text/plain": [
       "1210"
      ]
     },
     "execution_count": 171,
     "metadata": {},
     "output_type": "execute_result"
    }
   ],
   "source": [
    "combined[\"baths\"].isnull().sum()"
   ]
  },
  {
   "cell_type": "markdown",
   "metadata": {},
   "source": [
    "We convert all missing and non-integer values to \"Unknown\""
   ]
  },
  {
   "cell_type": "code",
   "execution_count": 172,
   "metadata": {
    "collapsed": true
   },
   "outputs": [],
   "source": [
    "combined[\"baths\"].fillna(\"Unknown\", inplace=True)"
   ]
  },
  {
   "cell_type": "code",
   "execution_count": 173,
   "metadata": {
    "scrolled": false
   },
   "outputs": [
    {
     "data": {
      "text/plain": [
       "price_naira      0\n",
       "unit             0\n",
       "city_location    0\n",
       "bedrooms         0\n",
       "baths            0\n",
       "state            0\n",
       "dtype: int64"
      ]
     },
     "execution_count": 173,
     "metadata": {},
     "output_type": "execute_result"
    }
   ],
   "source": [
    "combined.isnull().sum()"
   ]
  },
  {
   "cell_type": "code",
   "execution_count": 174,
   "metadata": {},
   "outputs": [
    {
     "data": {
      "text/plain": [
       "array([' Badagry Express Way', ' Nigeria', 'Lagos', ' Ikate',\n",
       "       ' eleko Lagos', ' Ipaja Road', ' Ipakodo', ' Gudu', ' Gwarinpa',\n",
       "       ' Ogun', '', ' Ire Akari', ' off Ago Palace Way', ' Egbeda',\n",
       "       ' Opebi', ' Eti-Osa', ' Lagos - Ibadan Expressway', ' Ikeja',\n",
       "       ' Alausa', ' Abuja FCT', ' Lekki', ' Adeniyi Jones', ' Ikorodu',\n",
       "       ' Yaba', ' Lakowe', ' Opposite Lagos Business School',\n",
       "       ' Ebute Metta', ' Anthony', ' Ibadan',\n",
       "       ' along Lagos Ibadan express way', ' Sangotedo', ' Ogba',\n",
       "       ' off Amodu Ojikutu', ' Phase 3', ' Atunrase/Medina/Soluyi',\n",
       "       ' VI Extension', ' Gbagada', ' UPS/Millenium Estate',\n",
       "       ' Magodo Phase 1', ' Parkview/Bourdillon', ' Old Ikoyi',\n",
       "       ' Ikeja GRA', ' Kosofe', ' Ifako-Ijaiye', ' Ajah', ' Oba-Akran',\n",
       "       ' bordering Asokoro & Guzape', ' Along Akobo-Olorunda Road',\n",
       "       ' 1(s) crescent', ' Durumi Garki', ' DIPLOMATIC ZONE',\n",
       "       ' Banana Island', ' 5th & 6th avenue', ' near Oba Elegushi House',\n",
       "       ' Obalende', ' Isolo', ' Mowe', ' Magboro', ' Oniru', ' Ikota',\n",
       "       ' Surulere', ' Warri South', ' Old Yaba', ' Magodo Phase 2',\n",
       "       ' Alpha beach/Lafiaji road', ' Ikorodu Road', ' Ogudu',\n",
       "       ' Palmgroove', ' Alagomeji', ' Alapere', ' Ikosi GRA', ' Ojota',\n",
       "       'Gbaja', ' Festac', ' Lagos', ' Anifowose', 'Ikoyi', ' Odoguyan',\n",
       "       ' Ogidan', ' Lekki Phase 1', ' Abuja', ' Omole', ' Aguda-Ogba',\n",
       "       ' common fence with Cooperative Villa.', ' adj. Chevron', ' Ikoyi',\n",
       "       ' Victoria Island', ' opposite Excellence Hotel',\n",
       "       ' Parkview Estate', ' Off Adeola Odeku Street', ' Mayfair Gardens',\n",
       "       ' Wuse 2', ' Ado-Badore', ' Agric', ' Aseese-Ibafo', ' Agege',\n",
       "       ' Ilogbo', ' Aguda', ' Alimosho', ' Agidingbi', ' Ado-Odo/Ota',\n",
       "       ' Ibeju/Lekki', ' Ketu', ' Oluwalogbon', ' Ijede', ' NEPA Estate',\n",
       "       ' Ogombo road', ' Lugard Avenue', ' Ewekoro', ' Ojodu',\n",
       "       ' Ozumba Mbadiwe', ' Lekki Expressway', ' Maryland', ' Shomolu',\n",
       "       ' Mende', ' Agungi', ' Mobil Road.', ' Ilaje.', ' Magodo',\n",
       "       ' Oregun', ' Iba', ' 7B Alexander Avenue', ' Allen', ' Apapa',\n",
       "       ' Oke -Koto', ' Sango', ' Adeola Odeku', ' Lagos Island',\n",
       "       ' Asokoro', ' Okokonkla', ' Gwarinpa.', ' Nyanya', ' Balogun',\n",
       "       ' Egba satellite', ' Amuwo-Odofin', ' Abule Egba', ' Kubwa',\n",
       "       ' Karu', ' Bwari', ' Magboro.', ' Kuje Area', ' Kwali',\n",
       "       ' Port Harcourt', ' Rivers', ' Abuja Municipal',\n",
       "       ' Off Olufeyisan Street', ' Goodwill Estate', ' CBD', ' Jabi',\n",
       "       ' off Prince Alaba Oniru Wa', ' Omole Estate', ' GRA', ' Bodija',\n",
       "       ' Ijesha', ' Badagry', ' Calabar Municipality', ' Blk 53A Plot 16',\n",
       "       ' Mudashiru Owoyele Street', ' Obafemi/owode', ' Ikotun',\n",
       "       ' Obanikoro', ' Saadatu', ' Arepo', ' Abijo', ' Ibadan North-West',\n",
       "       ' Adetokunbo Ademola', ' Abeokuta South', ' Ibadan South West',\n",
       "       ' Sura', ' Off Great Challenge Road', ' Opp GRA', ' Eleko',\n",
       "       ' Ligali Ayorinde', ' Louis Solomo', ' Oke Ira', ' Makoko',\n",
       "       ' 1st Avenue', ' Federal Govt. housing scheme', ' Oshodi',\n",
       "       ' victoria island', ' Abeokuta', ' off Adeniyi Jones Avenue',\n",
       "       ' Aba', ' Tinubu', ' behind Alade market', ' Randle Crescent ',\n",
       "       ' Oba Akran Avenue', ' Ojo-Alaba', ' VI',\n",
       "       ' Adetokunbo Ademola street', ' ilupeju', ' Victoria Island (VI)',\n",
       "       ' Ojo', 'Enugu North', 'Enugu East', 'Enugu', 'ilupeju',\n",
       "       'badore road', ' Ph.', 'alapere', 'Gerard Road',\n",
       "       'Maryland Crescent', ' off Obafemi Awolowo Way', ' ikota',\n",
       "       'Meiran Road', ' Ikoyi-obalende', ' Egbe Idimu', ' Lagos Mainland',\n",
       "       'Ogun', ' Ogun Waterside', ' Abeokuta North', ' Maitama',\n",
       "       ' Katampe', ' Durumi', ' Enugu South', ' Kaduna South',\n",
       "       ' Owerri-municipal', ' Abakaliki', ' Wuse II', ' Guzape', ' Kaura',\n",
       "       ' Utako', ' Garki I', ' Garki II', ' Igando-ikotun', ' Nbora',\n",
       "       ' Wuse', ' Ibeju', ' Iru-victoria Island', ' Lagos Island West',\n",
       "       ' Lagos Island East', 'Lekki', 'Ajah', 'Victoria Island (VI)',\n",
       "       'Idimu', 'Egbe', 'Apo', 'Apapa', 'Port Harcourt', 'Durumi',\n",
       "       'Dutse Alhaji', 'taruni', 'Dutse Makaranta', 'Dawaki',\n",
       "       'Dutse Sokale', 'Nyanya', 'Kubwa', 'panisau', 'Mararaba',\n",
       "       'Gwandara Karu', 'Ado', 'Deidei', 'Dei Dei', 'Gwarimpa', 'Jahi',\n",
       "       'Gurku', 'Gbagalape', 'Ggagalape', 'Ggagalape Abuja', 'Karu',\n",
       "       'Massaka', 'Gwandara', 'Jabi', 'Asokoro', 'New Karu', 'Abacha road',\n",
       "       'Gwarinpa', 'Ado Town', 'Lokogoma', 'Dei-Dei', 'Life Camp',\n",
       "       'Life camp', 'Wuse Zone 6', 'Wuse Zone 3', 'Wuye', 'Utako',\n",
       "       'CBD-Abuja', 'Airport junction Jabi', 'Katampe Extension', 'A.Y.A',\n",
       "       'Abuja', 'Gudu', 'Wuse Zone 4', 'Wuse Zone 7', 'Gwarimpa 2',\n",
       "       'Wuse II', 'Lifecamp', ' Ifo', ' Ofada', ' Ado Odo/Ota', ' Jahi',\n",
       "       ' Kusafe', ' Chikun', ' Enugu', ' Kaduna', ' Mabushi', ' Emene',\n",
       "       ' Ilorin', ' Onikoyi', ' Ilorin East', ' Ilorin West', ' Ipaja',\n",
       "       ' Oshodi/Isolo', ' Owerri', ' Uhunmwonde', ' Oredo', ' Benin City',\n",
       "       ' Edo State ', ' Egbe', ' Warri', ' Delta State ', ' Ughelli North',\n",
       "       ' Ethiope East', ' Effurun', \" It's located in Asaba\",\n",
       "       \" It's located in Oshodi/Isolo\", \" It's located in Maitama\",\n",
       "       \" It's located in Camp\", \" It's located in Lekki\",\n",
       "       \" It's located in Ibeju Lekki\", \" It's located in Lagos\",\n",
       "       \" It's located in Ikeja\", \" It's located in Ikorodu\",\n",
       "       \" It's located in Obanikoro\", ' Bayelsa State ', ' Gra', ' Uyo',\n",
       "       ' Eket', ' Bonny', ' Port-Harcourt', ' Obio/Akpor',\n",
       "       ' Rivers State ', ' Umuahia', \" It's located in Banana Island\",\n",
       "       \" It's located in Onikoyi\", \" It's located in Ilupeju\", ' Oyo',\n",
       "       ' Idi Ayunre', ' Lagelu', ' Jericho', ' Ede South', ' Ife Central',\n",
       "       ' Olorunda', ' Irewole', \" It's located in Ejigbo\",\n",
       "       \" It's located in Osun\", ' Obafemi Owode', ' Amadi', ' Calabar',\n",
       "       ' Akpabuyo', ' Asaba', ' Akure', \" It's located in Ijebu Ode\",\n",
       "       \" It's located in Ebute-Metta\", ' Ibafo', ' Idi Araba', ' Sagamu',\n",
       "       ' Onigbongbo', ' Woji', ' New Bodija', ' Oluyole', ' Abuloma',\n",
       "       ' Jos North', ' Kafe', ' Rayfield', ' Ijebu Ode', ' Mokoloki',\n",
       "       ' Idiroko', ' Osun', ' Agbara', ' Samonda', ' Onike', ' Gwagwalada',\n",
       "       ' Isheri', ' Kuje', ' Old Bodija', ' Ilorin South',\n",
       "       ' University of Ibadan', ' Idimu', ' Amuwo Odofin', ' Ayobo',\n",
       "       ' Ibeju Lekki', ' Akinyele', ' Oko Oba', ' Ori Oke', ' Ijegun',\n",
       "       ' Ifako/Ijaye', ' Oroworokwo', ' Garki', ' Ebute-Metta', ' Itire',\n",
       "       ' Shangisha', ' Iponri', ' Ibeshe', ' Abule Ijesha', ' Mpape',\n",
       "       ' Kurudu', ' Coker', ' Falomo', ' Mushin'], dtype=object)"
      ]
     },
     "execution_count": 174,
     "metadata": {},
     "output_type": "execute_result"
    }
   ],
   "source": [
    "combined[\"city_location\"].unique()"
   ]
  },
  {
   "cell_type": "markdown",
   "metadata": {},
   "source": [
    "A close look at the values in the city_location column shows that some of the values are long and the cities are preceeded by the term - \"it's located in\". The clean dataset should contain just the cities in the city_location so we remove the preceeding strings"
   ]
  },
  {
   "cell_type": "code",
   "execution_count": 175,
   "metadata": {},
   "outputs": [],
   "source": [
    "long_cities = combined[combined[\"city_location\"].str.contains(r\"located\",regex=True)]"
   ]
  },
  {
   "cell_type": "code",
   "execution_count": 176,
   "metadata": {},
   "outputs": [],
   "source": [
    "combined.loc[combined[\"city_location\"].str.contains(r\"located\",regex=True),\"city_location\"]=long_cities[\"city_location\"].str.split(\" \").str[-1]"
   ]
  },
  {
   "cell_type": "code",
   "execution_count": 177,
   "metadata": {},
   "outputs": [
    {
     "data": {
      "text/plain": [
       "array([' Badagry Express Way', ' Nigeria', 'Lagos', ' Ikate',\n",
       "       ' eleko Lagos', ' Ipaja Road', ' Ipakodo', ' Gudu', ' Gwarinpa',\n",
       "       ' Ogun', '', ' Ire Akari', ' off Ago Palace Way', ' Egbeda',\n",
       "       ' Opebi', ' Eti-Osa', ' Lagos - Ibadan Expressway', ' Ikeja',\n",
       "       ' Alausa', ' Abuja FCT', ' Lekki', ' Adeniyi Jones', ' Ikorodu',\n",
       "       ' Yaba', ' Lakowe', ' Opposite Lagos Business School',\n",
       "       ' Ebute Metta', ' Anthony', ' Ibadan',\n",
       "       ' along Lagos Ibadan express way', ' Sangotedo', ' Ogba',\n",
       "       ' off Amodu Ojikutu', ' Phase 3', ' Atunrase/Medina/Soluyi',\n",
       "       ' VI Extension', ' Gbagada', ' UPS/Millenium Estate',\n",
       "       ' Magodo Phase 1', ' Parkview/Bourdillon', ' Old Ikoyi',\n",
       "       ' Ikeja GRA', ' Kosofe', ' Ifako-Ijaiye', ' Ajah', ' Oba-Akran',\n",
       "       ' bordering Asokoro & Guzape', ' Along Akobo-Olorunda Road',\n",
       "       ' 1(s) crescent', ' Durumi Garki', ' DIPLOMATIC ZONE',\n",
       "       ' Banana Island', ' 5th & 6th avenue', ' near Oba Elegushi House',\n",
       "       ' Obalende', ' Isolo', ' Mowe', ' Magboro', ' Oniru', ' Ikota',\n",
       "       ' Surulere', ' Warri South', ' Old Yaba', ' Magodo Phase 2',\n",
       "       ' Alpha beach/Lafiaji road', ' Ikorodu Road', ' Ogudu',\n",
       "       ' Palmgroove', ' Alagomeji', ' Alapere', ' Ikosi GRA', ' Ojota',\n",
       "       'Gbaja', ' Festac', ' Lagos', ' Anifowose', 'Ikoyi', ' Odoguyan',\n",
       "       ' Ogidan', ' Lekki Phase 1', ' Abuja', ' Omole', ' Aguda-Ogba',\n",
       "       ' common fence with Cooperative Villa.', ' adj. Chevron', ' Ikoyi',\n",
       "       ' Victoria Island', ' opposite Excellence Hotel',\n",
       "       ' Parkview Estate', ' Off Adeola Odeku Street', ' Mayfair Gardens',\n",
       "       ' Wuse 2', ' Ado-Badore', ' Agric', ' Aseese-Ibafo', ' Agege',\n",
       "       ' Ilogbo', ' Aguda', ' Alimosho', ' Agidingbi', ' Ado-Odo/Ota',\n",
       "       ' Ibeju/Lekki', ' Ketu', ' Oluwalogbon', ' Ijede', ' NEPA Estate',\n",
       "       ' Ogombo road', ' Lugard Avenue', ' Ewekoro', ' Ojodu',\n",
       "       ' Ozumba Mbadiwe', ' Lekki Expressway', ' Maryland', ' Shomolu',\n",
       "       ' Mende', ' Agungi', ' Mobil Road.', ' Ilaje.', ' Magodo',\n",
       "       ' Oregun', ' Iba', ' 7B Alexander Avenue', ' Allen', ' Apapa',\n",
       "       ' Oke -Koto', ' Sango', ' Adeola Odeku', ' Lagos Island',\n",
       "       ' Asokoro', ' Okokonkla', ' Gwarinpa.', ' Nyanya', ' Balogun',\n",
       "       ' Egba satellite', ' Amuwo-Odofin', ' Abule Egba', ' Kubwa',\n",
       "       ' Karu', ' Bwari', ' Magboro.', ' Kuje Area', ' Kwali',\n",
       "       ' Port Harcourt', ' Rivers', ' Abuja Municipal',\n",
       "       ' Off Olufeyisan Street', ' Goodwill Estate', ' CBD', ' Jabi',\n",
       "       ' off Prince Alaba Oniru Wa', ' Omole Estate', ' GRA', ' Bodija',\n",
       "       ' Ijesha', ' Badagry', ' Calabar Municipality', ' Blk 53A Plot 16',\n",
       "       ' Mudashiru Owoyele Street', ' Obafemi/owode', ' Ikotun',\n",
       "       ' Obanikoro', ' Saadatu', ' Arepo', ' Abijo', ' Ibadan North-West',\n",
       "       ' Adetokunbo Ademola', ' Abeokuta South', ' Ibadan South West',\n",
       "       ' Sura', ' Off Great Challenge Road', ' Opp GRA', ' Eleko',\n",
       "       ' Ligali Ayorinde', ' Louis Solomo', ' Oke Ira', ' Makoko',\n",
       "       ' 1st Avenue', ' Federal Govt. housing scheme', ' Oshodi',\n",
       "       ' victoria island', ' Abeokuta', ' off Adeniyi Jones Avenue',\n",
       "       ' Aba', ' Tinubu', ' behind Alade market', ' Randle Crescent ',\n",
       "       ' Oba Akran Avenue', ' Ojo-Alaba', ' VI',\n",
       "       ' Adetokunbo Ademola street', ' ilupeju', ' Victoria Island (VI)',\n",
       "       ' Ojo', 'Enugu North', 'Enugu East', 'Enugu', 'ilupeju',\n",
       "       'badore road', ' Ph.', 'alapere', 'Gerard Road',\n",
       "       'Maryland Crescent', ' off Obafemi Awolowo Way', ' ikota',\n",
       "       'Meiran Road', ' Ikoyi-obalende', ' Egbe Idimu', ' Lagos Mainland',\n",
       "       'Ogun', ' Ogun Waterside', ' Abeokuta North', ' Maitama',\n",
       "       ' Katampe', ' Durumi', ' Enugu South', ' Kaduna South',\n",
       "       ' Owerri-municipal', ' Abakaliki', ' Wuse II', ' Guzape', ' Kaura',\n",
       "       ' Utako', ' Garki I', ' Garki II', ' Igando-ikotun', ' Nbora',\n",
       "       ' Wuse', ' Ibeju', ' Iru-victoria Island', ' Lagos Island West',\n",
       "       ' Lagos Island East', 'Lekki', 'Ajah', 'Victoria Island (VI)',\n",
       "       'Idimu', 'Egbe', 'Apo', 'Apapa', 'Port Harcourt', 'Durumi',\n",
       "       'Dutse Alhaji', 'taruni', 'Dutse Makaranta', 'Dawaki',\n",
       "       'Dutse Sokale', 'Nyanya', 'Kubwa', 'panisau', 'Mararaba',\n",
       "       'Gwandara Karu', 'Ado', 'Deidei', 'Dei Dei', 'Gwarimpa', 'Jahi',\n",
       "       'Gurku', 'Gbagalape', 'Ggagalape', 'Ggagalape Abuja', 'Karu',\n",
       "       'Massaka', 'Gwandara', 'Jabi', 'Asokoro', 'New Karu', 'Abacha road',\n",
       "       'Gwarinpa', 'Ado Town', 'Lokogoma', 'Dei-Dei', 'Life Camp',\n",
       "       'Life camp', 'Wuse Zone 6', 'Wuse Zone 3', 'Wuye', 'Utako',\n",
       "       'CBD-Abuja', 'Airport junction Jabi', 'Katampe Extension', 'A.Y.A',\n",
       "       'Abuja', 'Gudu', 'Wuse Zone 4', 'Wuse Zone 7', 'Gwarimpa 2',\n",
       "       'Wuse II', 'Lifecamp', ' Ifo', ' Ofada', ' Ado Odo/Ota', ' Jahi',\n",
       "       ' Kusafe', ' Chikun', ' Enugu', ' Kaduna', ' Mabushi', ' Emene',\n",
       "       ' Ilorin', ' Onikoyi', ' Ilorin East', ' Ilorin West', ' Ipaja',\n",
       "       ' Oshodi/Isolo', ' Owerri', ' Uhunmwonde', ' Oredo', ' Benin City',\n",
       "       ' Edo State ', ' Egbe', ' Warri', ' Delta State ', ' Ughelli North',\n",
       "       ' Ethiope East', ' Effurun', 'Asaba', 'Oshodi/Isolo', 'Maitama',\n",
       "       'Camp', 'Ikeja', 'Ikorodu', 'Obanikoro', ' Bayelsa State ', ' Gra',\n",
       "       ' Uyo', ' Eket', ' Bonny', ' Port-Harcourt', ' Obio/Akpor',\n",
       "       ' Rivers State ', ' Umuahia', 'Island', 'Onikoyi', 'Ilupeju',\n",
       "       ' Oyo', ' Idi Ayunre', ' Lagelu', ' Jericho', ' Ede South',\n",
       "       ' Ife Central', ' Olorunda', ' Irewole', 'Ejigbo', 'Osun',\n",
       "       ' Obafemi Owode', ' Amadi', ' Calabar', ' Akpabuyo', ' Asaba',\n",
       "       ' Akure', 'Ode', 'Ebute-Metta', ' Ibafo', ' Idi Araba', ' Sagamu',\n",
       "       ' Onigbongbo', ' Woji', ' New Bodija', ' Oluyole', ' Abuloma',\n",
       "       ' Jos North', ' Kafe', ' Rayfield', ' Ijebu Ode', ' Mokoloki',\n",
       "       ' Idiroko', ' Osun', ' Agbara', ' Samonda', ' Onike', ' Gwagwalada',\n",
       "       ' Isheri', ' Kuje', ' Old Bodija', ' Ilorin South',\n",
       "       ' University of Ibadan', ' Idimu', ' Amuwo Odofin', ' Ayobo',\n",
       "       ' Ibeju Lekki', ' Akinyele', ' Oko Oba', ' Ori Oke', ' Ijegun',\n",
       "       ' Ifako/Ijaye', ' Oroworokwo', ' Garki', ' Ebute-Metta', ' Itire',\n",
       "       ' Shangisha', ' Iponri', ' Ibeshe', ' Abule Ijesha', ' Mpape',\n",
       "       ' Kurudu', ' Coker', ' Falomo', ' Mushin'], dtype=object)"
      ]
     },
     "execution_count": 177,
     "metadata": {},
     "output_type": "execute_result"
    }
   ],
   "source": [
    "combined[\"city_location\"].unique()"
   ]
  },
  {
   "cell_type": "code",
   "execution_count": 178,
   "metadata": {
    "scrolled": true
   },
   "outputs": [
    {
     "data": {
      "text/plain": [
       "2038    Cross River\n",
       "2039    Cross River\n",
       "2041    Cross River\n",
       "2045    Cross River\n",
       "2046    Cross River\n",
       "Name: state, dtype: object"
      ]
     },
     "execution_count": 178,
     "metadata": {},
     "output_type": "execute_result"
    }
   ],
   "source": [
    "combined.loc[combined[\"city_location\"]==\"Asaba\",\"state\"]"
   ]
  },
  {
   "cell_type": "markdown",
   "metadata": {},
   "source": [
    "It is also noticed that Cross River was entered for the city of Asaba. This is wrong. So I replace the state with the correct option, Delta"
   ]
  },
  {
   "cell_type": "code",
   "execution_count": 179,
   "metadata": {
    "collapsed": true
   },
   "outputs": [],
   "source": [
    "combined.loc[combined[\"city_location\"]==\"Asaba\",\"state\"]=\"Delta\""
   ]
  },
  {
   "cell_type": "markdown",
   "metadata": {},
   "source": [
    "To maintain consistency, we make all the cities take lowercase"
   ]
  },
  {
   "cell_type": "code",
   "execution_count": 180,
   "metadata": {
    "collapsed": true
   },
   "outputs": [],
   "source": [
    "combined[\"city_location\"] = combined[\"city_location\"].str.lower().str.strip()"
   ]
  },
  {
   "cell_type": "code",
   "execution_count": 181,
   "metadata": {
    "scrolled": true
   },
   "outputs": [
    {
     "data": {
      "text/plain": [
       "array(['Lagos', 'Abuja', 'Ogun', 'Oyo', 'Delta', 'Rivers', 'Cross River',\n",
       "       'Enugu', 'Kaduna', 'Imo', 'Ebonyi', ' Lagos', ' Abuja', ' Rivers',\n",
       "       'ABUJA', 'KANO', 'NASARAWA', 'LAGOS', 'Kwara', 'Edo', 'Benue',\n",
       "       'Bayelsa', 'Adamawa', 'Akwa Ibom', 'Abia', 'Ekiti', 'Osun', 'Ondo',\n",
       "       'Sokoto', 'Plateau'], dtype=object)"
      ]
     },
     "execution_count": 181,
     "metadata": {},
     "output_type": "execute_result"
    }
   ],
   "source": [
    "combined[\"state\"].unique()"
   ]
  },
  {
   "cell_type": "markdown",
   "metadata": {},
   "source": [
    "I observe the some states are rendered in lowercase while others are in upper case and we have 3 variations of Lagos state. I handle these with the folllowing lines of code"
   ]
  },
  {
   "cell_type": "code",
   "execution_count": 182,
   "metadata": {},
   "outputs": [],
   "source": [
    "combined[\"state\"] = combined[\"state\"].str.lower().str.strip()"
   ]
  },
  {
   "cell_type": "code",
   "execution_count": 183,
   "metadata": {
    "scrolled": true
   },
   "outputs": [
    {
     "data": {
      "text/plain": [
       "array(['lagos', 'abuja', 'ogun', 'oyo', 'delta', 'rivers', 'cross river',\n",
       "       'enugu', 'kaduna', 'imo', 'ebonyi', 'kano', 'nasarawa', 'kwara',\n",
       "       'edo', 'benue', 'bayelsa', 'adamawa', 'akwa ibom', 'abia', 'ekiti',\n",
       "       'osun', 'ondo', 'sokoto', 'plateau'], dtype=object)"
      ]
     },
     "execution_count": 183,
     "metadata": {},
     "output_type": "execute_result"
    }
   ],
   "source": [
    "combined[\"state\"].unique()"
   ]
  },
  {
   "cell_type": "code",
   "execution_count": 193,
   "metadata": {},
   "outputs": [
    {
     "data": {
      "text/html": [
       "<div>\n",
       "<style>\n",
       "    .dataframe thead tr:only-child th {\n",
       "        text-align: right;\n",
       "    }\n",
       "\n",
       "    .dataframe thead th {\n",
       "        text-align: left;\n",
       "    }\n",
       "\n",
       "    .dataframe tbody tr th {\n",
       "        vertical-align: top;\n",
       "    }\n",
       "</style>\n",
       "<table border=\"1\" class=\"dataframe\">\n",
       "  <thead>\n",
       "    <tr style=\"text-align: right;\">\n",
       "      <th></th>\n",
       "      <th>price_naira</th>\n",
       "      <th>unit</th>\n",
       "      <th>city_location</th>\n",
       "      <th>bedrooms</th>\n",
       "      <th>baths</th>\n",
       "      <th>state</th>\n",
       "    </tr>\n",
       "  </thead>\n",
       "  <tbody>\n",
       "    <tr>\n",
       "      <th>15</th>\n",
       "      <td>35000000.0</td>\n",
       "      <td>Per Year</td>\n",
       "      <td></td>\n",
       "      <td>Unknown</td>\n",
       "      <td>3</td>\n",
       "      <td>lagos</td>\n",
       "    </tr>\n",
       "    <tr>\n",
       "      <th>44</th>\n",
       "      <td>1000000.0</td>\n",
       "      <td>Per Year</td>\n",
       "      <td></td>\n",
       "      <td>Unknown</td>\n",
       "      <td>3</td>\n",
       "      <td>lagos</td>\n",
       "    </tr>\n",
       "    <tr>\n",
       "      <th>45</th>\n",
       "      <td>5500000.0</td>\n",
       "      <td>Per Year</td>\n",
       "      <td></td>\n",
       "      <td>Unknown</td>\n",
       "      <td>Unknown</td>\n",
       "      <td>lagos</td>\n",
       "    </tr>\n",
       "    <tr>\n",
       "      <th>145</th>\n",
       "      <td>10000000.0</td>\n",
       "      <td>Per Year</td>\n",
       "      <td></td>\n",
       "      <td>Unknown</td>\n",
       "      <td>0</td>\n",
       "      <td>lagos</td>\n",
       "    </tr>\n",
       "    <tr>\n",
       "      <th>148</th>\n",
       "      <td>100000000.0</td>\n",
       "      <td>Per Year</td>\n",
       "      <td></td>\n",
       "      <td>Unknown</td>\n",
       "      <td>0</td>\n",
       "      <td>lagos</td>\n",
       "    </tr>\n",
       "    <tr>\n",
       "      <th>165</th>\n",
       "      <td>550000000.0</td>\n",
       "      <td>Per Year</td>\n",
       "      <td></td>\n",
       "      <td>Unknown</td>\n",
       "      <td>0</td>\n",
       "      <td>lagos</td>\n",
       "    </tr>\n",
       "    <tr>\n",
       "      <th>168</th>\n",
       "      <td>880000000.0</td>\n",
       "      <td>Per Year</td>\n",
       "      <td></td>\n",
       "      <td>Unknown</td>\n",
       "      <td>0</td>\n",
       "      <td>lagos</td>\n",
       "    </tr>\n",
       "    <tr>\n",
       "      <th>169</th>\n",
       "      <td>760000000.0</td>\n",
       "      <td>Per Year</td>\n",
       "      <td></td>\n",
       "      <td>Unknown</td>\n",
       "      <td>0</td>\n",
       "      <td>lagos</td>\n",
       "    </tr>\n",
       "    <tr>\n",
       "      <th>170</th>\n",
       "      <td>330000000.0</td>\n",
       "      <td>Per Year</td>\n",
       "      <td></td>\n",
       "      <td>Unknown</td>\n",
       "      <td>0</td>\n",
       "      <td>lagos</td>\n",
       "    </tr>\n",
       "    <tr>\n",
       "      <th>173</th>\n",
       "      <td>700000000.0</td>\n",
       "      <td>Per Year</td>\n",
       "      <td></td>\n",
       "      <td>Unknown</td>\n",
       "      <td>Unknown</td>\n",
       "      <td>lagos</td>\n",
       "    </tr>\n",
       "    <tr>\n",
       "      <th>406</th>\n",
       "      <td>11000000.0</td>\n",
       "      <td>Per Year</td>\n",
       "      <td></td>\n",
       "      <td>Unknown</td>\n",
       "      <td>10</td>\n",
       "      <td>lagos</td>\n",
       "    </tr>\n",
       "    <tr>\n",
       "      <th>697</th>\n",
       "      <td>3300000.0</td>\n",
       "      <td>per Year</td>\n",
       "      <td></td>\n",
       "      <td>Unknown</td>\n",
       "      <td>Unknown</td>\n",
       "      <td>lagos</td>\n",
       "    </tr>\n",
       "    <tr>\n",
       "      <th>1800</th>\n",
       "      <td>1200000.0</td>\n",
       "      <td>Per Year</td>\n",
       "      <td></td>\n",
       "      <td>Unknown</td>\n",
       "      <td>Unknown</td>\n",
       "      <td>abuja</td>\n",
       "    </tr>\n",
       "    <tr>\n",
       "      <th>1804</th>\n",
       "      <td>1300000.0</td>\n",
       "      <td>Per Year</td>\n",
       "      <td></td>\n",
       "      <td>Unknown</td>\n",
       "      <td>Unknown</td>\n",
       "      <td>abuja</td>\n",
       "    </tr>\n",
       "  </tbody>\n",
       "</table>\n",
       "</div>"
      ],
      "text/plain": [
       "      price_naira      unit city_location bedrooms    baths  state\n",
       "15     35000000.0  Per Year                Unknown        3  lagos\n",
       "44      1000000.0  Per Year                Unknown        3  lagos\n",
       "45      5500000.0  Per Year                Unknown  Unknown  lagos\n",
       "145    10000000.0  Per Year                Unknown        0  lagos\n",
       "148   100000000.0  Per Year                Unknown        0  lagos\n",
       "165   550000000.0  Per Year                Unknown        0  lagos\n",
       "168   880000000.0  Per Year                Unknown        0  lagos\n",
       "169   760000000.0  Per Year                Unknown        0  lagos\n",
       "170   330000000.0  Per Year                Unknown        0  lagos\n",
       "173   700000000.0  Per Year                Unknown  Unknown  lagos\n",
       "406    11000000.0  Per Year                Unknown       10  lagos\n",
       "697     3300000.0  per Year                Unknown  Unknown  lagos\n",
       "1800    1200000.0  Per Year                Unknown  Unknown  abuja\n",
       "1804    1300000.0  Per Year                Unknown  Unknown  abuja"
      ]
     },
     "execution_count": 193,
     "metadata": {},
     "output_type": "execute_result"
    }
   ],
   "source": [
    "combined[combined[\"city_location\"]==\"\"]"
   ]
  },
  {
   "cell_type": "markdown",
   "metadata": {},
   "source": [
    "Some places in the city_location have empty values. I fill these in with the corresponding states"
   ]
  },
  {
   "cell_type": "code",
   "execution_count": 196,
   "metadata": {},
   "outputs": [],
   "source": [
    "combined.loc[combined[\"city_location\"]==\"\",\"city_location\"]=combined.loc[combined[\"city_location\"]==\"\",\"state\"]"
   ]
  },
  {
   "cell_type": "code",
   "execution_count": 197,
   "metadata": {
    "collapsed": true
   },
   "outputs": [],
   "source": [
    "combined_housing_cleaned = combined"
   ]
  },
  {
   "cell_type": "code",
   "execution_count": 198,
   "metadata": {},
   "outputs": [
    {
     "data": {
      "text/html": [
       "<div>\n",
       "<style>\n",
       "    .dataframe thead tr:only-child th {\n",
       "        text-align: right;\n",
       "    }\n",
       "\n",
       "    .dataframe thead th {\n",
       "        text-align: left;\n",
       "    }\n",
       "\n",
       "    .dataframe tbody tr th {\n",
       "        vertical-align: top;\n",
       "    }\n",
       "</style>\n",
       "<table border=\"1\" class=\"dataframe\">\n",
       "  <thead>\n",
       "    <tr style=\"text-align: right;\">\n",
       "      <th></th>\n",
       "      <th>price_naira</th>\n",
       "      <th>unit</th>\n",
       "      <th>city_location</th>\n",
       "      <th>bedrooms</th>\n",
       "      <th>baths</th>\n",
       "      <th>state</th>\n",
       "    </tr>\n",
       "  </thead>\n",
       "  <tbody>\n",
       "    <tr>\n",
       "      <th>0</th>\n",
       "      <td>33000000.0</td>\n",
       "      <td>Per Year</td>\n",
       "      <td>badagry express way</td>\n",
       "      <td>Unknown</td>\n",
       "      <td>5</td>\n",
       "      <td>lagos</td>\n",
       "    </tr>\n",
       "    <tr>\n",
       "      <th>1</th>\n",
       "      <td>30000000.0</td>\n",
       "      <td>Per Year</td>\n",
       "      <td>badagry express way</td>\n",
       "      <td>Unknown</td>\n",
       "      <td>7</td>\n",
       "      <td>lagos</td>\n",
       "    </tr>\n",
       "    <tr>\n",
       "      <th>2</th>\n",
       "      <td>40000000.0</td>\n",
       "      <td>Per Year</td>\n",
       "      <td>badagry express way</td>\n",
       "      <td>Unknown</td>\n",
       "      <td>5</td>\n",
       "      <td>lagos</td>\n",
       "    </tr>\n",
       "    <tr>\n",
       "      <th>3</th>\n",
       "      <td>5500000.0</td>\n",
       "      <td>Per Year</td>\n",
       "      <td>nigeria</td>\n",
       "      <td>Unknown</td>\n",
       "      <td>4</td>\n",
       "      <td>lagos</td>\n",
       "    </tr>\n",
       "    <tr>\n",
       "      <th>4</th>\n",
       "      <td>48000000.0</td>\n",
       "      <td>Per Year</td>\n",
       "      <td>lagos</td>\n",
       "      <td>Unknown</td>\n",
       "      <td>3</td>\n",
       "      <td>lagos</td>\n",
       "    </tr>\n",
       "    <tr>\n",
       "      <th>5</th>\n",
       "      <td>66000000.0</td>\n",
       "      <td>Per Year</td>\n",
       "      <td>ikate</td>\n",
       "      <td>Unknown</td>\n",
       "      <td>4</td>\n",
       "      <td>lagos</td>\n",
       "    </tr>\n",
       "    <tr>\n",
       "      <th>6</th>\n",
       "      <td>2700000.0</td>\n",
       "      <td>Per Year</td>\n",
       "      <td>eleko lagos</td>\n",
       "      <td>Unknown</td>\n",
       "      <td>Unknown</td>\n",
       "      <td>lagos</td>\n",
       "    </tr>\n",
       "    <tr>\n",
       "      <th>7</th>\n",
       "      <td>10000000.0</td>\n",
       "      <td>Per Year</td>\n",
       "      <td>ipaja road</td>\n",
       "      <td>Unknown</td>\n",
       "      <td>Unknown</td>\n",
       "      <td>lagos</td>\n",
       "    </tr>\n",
       "    <tr>\n",
       "      <th>8</th>\n",
       "      <td>350000.0</td>\n",
       "      <td>Per Year</td>\n",
       "      <td>ipakodo</td>\n",
       "      <td>Unknown</td>\n",
       "      <td>3</td>\n",
       "      <td>lagos</td>\n",
       "    </tr>\n",
       "    <tr>\n",
       "      <th>9</th>\n",
       "      <td>55000000.0</td>\n",
       "      <td>Per Year</td>\n",
       "      <td>lagos</td>\n",
       "      <td>Unknown</td>\n",
       "      <td>4</td>\n",
       "      <td>lagos</td>\n",
       "    </tr>\n",
       "  </tbody>\n",
       "</table>\n",
       "</div>"
      ],
      "text/plain": [
       "   price_naira      unit        city_location bedrooms    baths  state\n",
       "0   33000000.0  Per Year  badagry express way  Unknown        5  lagos\n",
       "1   30000000.0  Per Year  badagry express way  Unknown        7  lagos\n",
       "2   40000000.0  Per Year  badagry express way  Unknown        5  lagos\n",
       "3    5500000.0  Per Year              nigeria  Unknown        4  lagos\n",
       "4   48000000.0  Per Year                lagos  Unknown        3  lagos\n",
       "5   66000000.0  Per Year                ikate  Unknown        4  lagos\n",
       "6    2700000.0  Per Year          eleko lagos  Unknown  Unknown  lagos\n",
       "7   10000000.0  Per Year           ipaja road  Unknown  Unknown  lagos\n",
       "8     350000.0  Per Year              ipakodo  Unknown        3  lagos\n",
       "9   55000000.0  Per Year                lagos  Unknown        4  lagos"
      ]
     },
     "execution_count": 198,
     "metadata": {},
     "output_type": "execute_result"
    }
   ],
   "source": [
    "combined_housing_cleaned.head(10)"
   ]
  },
  {
   "cell_type": "code",
   "execution_count": 199,
   "metadata": {},
   "outputs": [],
   "source": [
    "combined_housing_cleaned.to_excel(\"combined_housing_cleaned.xlsx\")"
   ]
  }
 ],
 "metadata": {
  "kernelspec": {
   "display_name": "Python 3",
   "language": "python",
   "name": "python3"
  },
  "language_info": {
   "codemirror_mode": {
    "name": "ipython",
    "version": 3
   },
   "file_extension": ".py",
   "mimetype": "text/x-python",
   "name": "python",
   "nbconvert_exporter": "python",
   "pygments_lexer": "ipython3",
   "version": "3.6.3"
  }
 },
 "nbformat": 4,
 "nbformat_minor": 2
}
