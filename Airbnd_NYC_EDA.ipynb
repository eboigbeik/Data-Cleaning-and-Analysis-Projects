{
 "cells": [
  {
   "cell_type": "markdown",
   "metadata": {},
   "source": [
    "Since 2008, guests and hosts have used Airbnb to expand on traveling possibilities and present more unique, personalized way of experiencing the world. This dataset describes the listing activity and metrics in NYC, NY for 2019.\n",
    "\n",
    "This data provide a rich source of information which we can analyse to get insights. This makes business decisions regarding customer and host behaviour, security, implementing innovative solutions and general business performance easier, more targeted and much more effective."
   ]
  },
  {
   "cell_type": "markdown",
   "metadata": {},
   "source": [
    "## Source of Data\n",
    "The data was collected from kaggle but you can find the original source in this [website](http://insideairbnb.com/)"
   ]
  },
  {
   "cell_type": "markdown",
   "metadata": {},
   "source": [
    "## Data Dictionary\n",
    "\n",
    "name : name of the listing\n",
    "\n",
    "host_id : host ID\n",
    "\n",
    "host_name : name of the host\n",
    "\n",
    "neighbourhood_group : location\n",
    "neighbourhood area\n",
    "\n",
    "latitude : latitude coordinates\n",
    "\n",
    "longitude: longitude coordinates\n",
    "\n",
    "room_type : listing space type\n",
    "\n",
    "price :price in dollars\n",
    "\n",
    "minimum_nights : amount of nights minimum\n",
    "\n",
    "number_of_reviews : number of reviews\n",
    "\n",
    "last_review : latest review\n",
    "\n",
    "reviews_per_month : number of reviews per month\n",
    "\n",
    "calculated_host_listings_count : amount of listing per host\n",
    "\n",
    "availability_365 : number of days when listing is available for booking\n"
   ]
  },
  {
   "cell_type": "code",
   "execution_count": 1,
   "metadata": {
    "collapsed": true
   },
   "outputs": [],
   "source": [
    "# importing the necessary libraries\n",
    "import pandas as pd\n",
    "import numpy as np\n",
    "import seaborn as sns\n",
    "import matplotlib.pyplot as plt\n",
    "%matplotlib inline"
   ]
  },
  {
   "cell_type": "code",
   "execution_count": 2,
   "metadata": {},
   "outputs": [],
   "source": [
    "# reading the csv file and rendering as a pandas Dataframe\n",
    "airbnb = pd.read_csv(\"AB_NYC_2019.csv\")"
   ]
  },
  {
   "cell_type": "markdown",
   "metadata": {},
   "source": [
    "## Inspecting the Dataset"
   ]
  },
  {
   "cell_type": "code",
   "execution_count": 3,
   "metadata": {
    "scrolled": true
   },
   "outputs": [
    {
     "data": {
      "text/html": [
       "<div>\n",
       "<style>\n",
       "    .dataframe thead tr:only-child th {\n",
       "        text-align: right;\n",
       "    }\n",
       "\n",
       "    .dataframe thead th {\n",
       "        text-align: left;\n",
       "    }\n",
       "\n",
       "    .dataframe tbody tr th {\n",
       "        vertical-align: top;\n",
       "    }\n",
       "</style>\n",
       "<table border=\"1\" class=\"dataframe\">\n",
       "  <thead>\n",
       "    <tr style=\"text-align: right;\">\n",
       "      <th></th>\n",
       "      <th>id</th>\n",
       "      <th>name</th>\n",
       "      <th>host_id</th>\n",
       "      <th>host_name</th>\n",
       "      <th>neighbourhood_group</th>\n",
       "      <th>neighbourhood</th>\n",
       "      <th>latitude</th>\n",
       "      <th>longitude</th>\n",
       "      <th>room_type</th>\n",
       "      <th>price</th>\n",
       "      <th>minimum_nights</th>\n",
       "      <th>number_of_reviews</th>\n",
       "      <th>last_review</th>\n",
       "      <th>reviews_per_month</th>\n",
       "      <th>calculated_host_listings_count</th>\n",
       "      <th>availability_365</th>\n",
       "    </tr>\n",
       "  </thead>\n",
       "  <tbody>\n",
       "    <tr>\n",
       "      <th>0</th>\n",
       "      <td>2539</td>\n",
       "      <td>Clean &amp; quiet apt home by the park</td>\n",
       "      <td>2787</td>\n",
       "      <td>John</td>\n",
       "      <td>Brooklyn</td>\n",
       "      <td>Kensington</td>\n",
       "      <td>40.64749</td>\n",
       "      <td>-73.97237</td>\n",
       "      <td>Private room</td>\n",
       "      <td>149</td>\n",
       "      <td>1</td>\n",
       "      <td>9</td>\n",
       "      <td>2018-10-19</td>\n",
       "      <td>0.21</td>\n",
       "      <td>6</td>\n",
       "      <td>365</td>\n",
       "    </tr>\n",
       "    <tr>\n",
       "      <th>1</th>\n",
       "      <td>2595</td>\n",
       "      <td>Skylit Midtown Castle</td>\n",
       "      <td>2845</td>\n",
       "      <td>Jennifer</td>\n",
       "      <td>Manhattan</td>\n",
       "      <td>Midtown</td>\n",
       "      <td>40.75362</td>\n",
       "      <td>-73.98377</td>\n",
       "      <td>Entire home/apt</td>\n",
       "      <td>225</td>\n",
       "      <td>1</td>\n",
       "      <td>45</td>\n",
       "      <td>2019-05-21</td>\n",
       "      <td>0.38</td>\n",
       "      <td>2</td>\n",
       "      <td>355</td>\n",
       "    </tr>\n",
       "    <tr>\n",
       "      <th>2</th>\n",
       "      <td>3647</td>\n",
       "      <td>THE VILLAGE OF HARLEM....NEW YORK !</td>\n",
       "      <td>4632</td>\n",
       "      <td>Elisabeth</td>\n",
       "      <td>Manhattan</td>\n",
       "      <td>Harlem</td>\n",
       "      <td>40.80902</td>\n",
       "      <td>-73.94190</td>\n",
       "      <td>Private room</td>\n",
       "      <td>150</td>\n",
       "      <td>3</td>\n",
       "      <td>0</td>\n",
       "      <td>NaN</td>\n",
       "      <td>NaN</td>\n",
       "      <td>1</td>\n",
       "      <td>365</td>\n",
       "    </tr>\n",
       "    <tr>\n",
       "      <th>3</th>\n",
       "      <td>3831</td>\n",
       "      <td>Cozy Entire Floor of Brownstone</td>\n",
       "      <td>4869</td>\n",
       "      <td>LisaRoxanne</td>\n",
       "      <td>Brooklyn</td>\n",
       "      <td>Clinton Hill</td>\n",
       "      <td>40.68514</td>\n",
       "      <td>-73.95976</td>\n",
       "      <td>Entire home/apt</td>\n",
       "      <td>89</td>\n",
       "      <td>1</td>\n",
       "      <td>270</td>\n",
       "      <td>2019-07-05</td>\n",
       "      <td>4.64</td>\n",
       "      <td>1</td>\n",
       "      <td>194</td>\n",
       "    </tr>\n",
       "    <tr>\n",
       "      <th>4</th>\n",
       "      <td>5022</td>\n",
       "      <td>Entire Apt: Spacious Studio/Loft by central park</td>\n",
       "      <td>7192</td>\n",
       "      <td>Laura</td>\n",
       "      <td>Manhattan</td>\n",
       "      <td>East Harlem</td>\n",
       "      <td>40.79851</td>\n",
       "      <td>-73.94399</td>\n",
       "      <td>Entire home/apt</td>\n",
       "      <td>80</td>\n",
       "      <td>10</td>\n",
       "      <td>9</td>\n",
       "      <td>2018-11-19</td>\n",
       "      <td>0.10</td>\n",
       "      <td>1</td>\n",
       "      <td>0</td>\n",
       "    </tr>\n",
       "  </tbody>\n",
       "</table>\n",
       "</div>"
      ],
      "text/plain": [
       "     id                                              name  host_id  \\\n",
       "0  2539                Clean & quiet apt home by the park     2787   \n",
       "1  2595                             Skylit Midtown Castle     2845   \n",
       "2  3647               THE VILLAGE OF HARLEM....NEW YORK !     4632   \n",
       "3  3831                   Cozy Entire Floor of Brownstone     4869   \n",
       "4  5022  Entire Apt: Spacious Studio/Loft by central park     7192   \n",
       "\n",
       "     host_name neighbourhood_group neighbourhood  latitude  longitude  \\\n",
       "0         John            Brooklyn    Kensington  40.64749  -73.97237   \n",
       "1     Jennifer           Manhattan       Midtown  40.75362  -73.98377   \n",
       "2    Elisabeth           Manhattan        Harlem  40.80902  -73.94190   \n",
       "3  LisaRoxanne            Brooklyn  Clinton Hill  40.68514  -73.95976   \n",
       "4        Laura           Manhattan   East Harlem  40.79851  -73.94399   \n",
       "\n",
       "         room_type  price  minimum_nights  number_of_reviews last_review  \\\n",
       "0     Private room    149               1                  9  2018-10-19   \n",
       "1  Entire home/apt    225               1                 45  2019-05-21   \n",
       "2     Private room    150               3                  0         NaN   \n",
       "3  Entire home/apt     89               1                270  2019-07-05   \n",
       "4  Entire home/apt     80              10                  9  2018-11-19   \n",
       "\n",
       "   reviews_per_month  calculated_host_listings_count  availability_365  \n",
       "0               0.21                               6               365  \n",
       "1               0.38                               2               355  \n",
       "2                NaN                               1               365  \n",
       "3               4.64                               1               194  \n",
       "4               0.10                               1                 0  "
      ]
     },
     "execution_count": 3,
     "metadata": {},
     "output_type": "execute_result"
    }
   ],
   "source": [
    "airbnb.head()"
   ]
  },
  {
   "cell_type": "code",
   "execution_count": 4,
   "metadata": {
    "scrolled": true
   },
   "outputs": [
    {
     "name": "stdout",
     "output_type": "stream",
     "text": [
      "<class 'pandas.core.frame.DataFrame'>\n",
      "RangeIndex: 48895 entries, 0 to 48894\n",
      "Data columns (total 16 columns):\n",
      "id                                48895 non-null int64\n",
      "name                              48879 non-null object\n",
      "host_id                           48895 non-null int64\n",
      "host_name                         48874 non-null object\n",
      "neighbourhood_group               48895 non-null object\n",
      "neighbourhood                     48895 non-null object\n",
      "latitude                          48895 non-null float64\n",
      "longitude                         48895 non-null float64\n",
      "room_type                         48895 non-null object\n",
      "price                             48895 non-null int64\n",
      "minimum_nights                    48895 non-null int64\n",
      "number_of_reviews                 48895 non-null int64\n",
      "last_review                       38843 non-null object\n",
      "reviews_per_month                 38843 non-null float64\n",
      "calculated_host_listings_count    48895 non-null int64\n",
      "availability_365                  48895 non-null int64\n",
      "dtypes: float64(3), int64(7), object(6)\n",
      "memory usage: 6.0+ MB\n"
     ]
    }
   ],
   "source": [
    "airbnb.info()"
   ]
  },
  {
   "cell_type": "code",
   "execution_count": 5,
   "metadata": {},
   "outputs": [
    {
     "data": {
      "text/plain": [
       "(48895, 16)"
      ]
     },
     "execution_count": 5,
     "metadata": {},
     "output_type": "execute_result"
    }
   ],
   "source": [
    "airbnb.shape"
   ]
  },
  {
   "cell_type": "code",
   "execution_count": 6,
   "metadata": {},
   "outputs": [
    {
     "data": {
      "text/plain": [
       "False    48895\n",
       "dtype: int64"
      ]
     },
     "execution_count": 6,
     "metadata": {},
     "output_type": "execute_result"
    }
   ],
   "source": [
    "airbnb.duplicated().value_counts()"
   ]
  },
  {
   "cell_type": "markdown",
   "metadata": {},
   "source": [
    "From what we can see here, we have about 16 columns and 48,895 rows in the dataset. This provides extensive detail of the data we have. Also we don't have any duplicate rows or columns but it is obvious we have some missing values. We now check through the columns to find how many we have."
   ]
  },
  {
   "cell_type": "code",
   "execution_count": 7,
   "metadata": {
    "scrolled": true
   },
   "outputs": [
    {
     "data": {
      "text/plain": [
       "id                                    0\n",
       "name                                 16\n",
       "host_id                               0\n",
       "host_name                            21\n",
       "neighbourhood_group                   0\n",
       "neighbourhood                         0\n",
       "latitude                              0\n",
       "longitude                             0\n",
       "room_type                             0\n",
       "price                                 0\n",
       "minimum_nights                        0\n",
       "number_of_reviews                     0\n",
       "last_review                       10052\n",
       "reviews_per_month                 10052\n",
       "calculated_host_listings_count        0\n",
       "availability_365                      0\n",
       "dtype: int64"
      ]
     },
     "execution_count": 7,
     "metadata": {},
     "output_type": "execute_result"
    }
   ],
   "source": [
    "airbnb.isnull().sum()"
   ]
  },
  {
   "cell_type": "markdown",
   "metadata": {},
   "source": [
    "### Visulalizing missing values in the dataset"
   ]
  },
  {
   "cell_type": "code",
   "execution_count": 8,
   "metadata": {},
   "outputs": [
    {
     "data": {
      "image/png": "[encoded data removed]",
      "text/plain": [
       "<matplotlib.figure.Figure at 0x1e75cb8f1d0>"
      ]
     },
     "metadata": {},
     "output_type": "display_data"
    }
   ],
   "source": [
    "fig, ax = plt.subplots(figsize=(15,8))\n",
    "ax = sns.heatmap(airbnb.isnull(), cbar=False)\n",
    "ax.set_yticks([])\n",
    "ax.set_title(\"Data in airbnd\", fontsize =\"xx-large\").set_position([0.5, 1.05])\n",
    "plt.show()"
   ]
  },
  {
   "cell_type": "markdown",
   "metadata": {},
   "source": [
    "A few of the columns have null values. We have a few in the host_name column while most of the values in the last_review and reviews_per_month are missing. In most rows, both values are missing."
   ]
  },
  {
   "cell_type": "markdown",
   "metadata": {
    "scrolled": true
   },
   "source": [
    "We will have to drop the host_name column for ethical reasons. It contains the real names of people and we don't really need it for our analysis. The last_review column is supposed to be the date when a customer last reviewed a listing while the reviews_per_month is a counts of all reviews per month. We need to investigate further why these columns have null values. "
   ]
  },
  {
   "cell_type": "code",
   "execution_count": 9,
   "metadata": {
    "scrolled": true
   },
   "outputs": [
    {
     "data": {
      "text/html": [
       "<div>\n",
       "<style>\n",
       "    .dataframe thead tr:only-child th {\n",
       "        text-align: right;\n",
       "    }\n",
       "\n",
       "    .dataframe thead th {\n",
       "        text-align: left;\n",
       "    }\n",
       "\n",
       "    .dataframe tbody tr th {\n",
       "        vertical-align: top;\n",
       "    }\n",
       "</style>\n",
       "<table border=\"1\" class=\"dataframe\">\n",
       "  <thead>\n",
       "    <tr style=\"text-align: right;\">\n",
       "      <th></th>\n",
       "      <th>id</th>\n",
       "      <th>name</th>\n",
       "      <th>host_id</th>\n",
       "      <th>host_name</th>\n",
       "      <th>neighbourhood_group</th>\n",
       "      <th>neighbourhood</th>\n",
       "      <th>latitude</th>\n",
       "      <th>longitude</th>\n",
       "      <th>room_type</th>\n",
       "      <th>price</th>\n",
       "      <th>minimum_nights</th>\n",
       "      <th>number_of_reviews</th>\n",
       "      <th>last_review</th>\n",
       "      <th>reviews_per_month</th>\n",
       "      <th>calculated_host_listings_count</th>\n",
       "      <th>availability_365</th>\n",
       "    </tr>\n",
       "  </thead>\n",
       "  <tbody>\n",
       "    <tr>\n",
       "      <th>2</th>\n",
       "      <td>3647</td>\n",
       "      <td>THE VILLAGE OF HARLEM....NEW YORK !</td>\n",
       "      <td>4632</td>\n",
       "      <td>Elisabeth</td>\n",
       "      <td>Manhattan</td>\n",
       "      <td>Harlem</td>\n",
       "      <td>40.80902</td>\n",
       "      <td>-73.94190</td>\n",
       "      <td>Private room</td>\n",
       "      <td>150</td>\n",
       "      <td>3</td>\n",
       "      <td>0</td>\n",
       "      <td>NaN</td>\n",
       "      <td>NaN</td>\n",
       "      <td>1</td>\n",
       "      <td>365</td>\n",
       "    </tr>\n",
       "    <tr>\n",
       "      <th>19</th>\n",
       "      <td>7750</td>\n",
       "      <td>Huge 2 BR Upper East  Cental Park</td>\n",
       "      <td>17985</td>\n",
       "      <td>Sing</td>\n",
       "      <td>Manhattan</td>\n",
       "      <td>East Harlem</td>\n",
       "      <td>40.79685</td>\n",
       "      <td>-73.94872</td>\n",
       "      <td>Entire home/apt</td>\n",
       "      <td>190</td>\n",
       "      <td>7</td>\n",
       "      <td>0</td>\n",
       "      <td>NaN</td>\n",
       "      <td>NaN</td>\n",
       "      <td>2</td>\n",
       "      <td>249</td>\n",
       "    </tr>\n",
       "    <tr>\n",
       "      <th>26</th>\n",
       "      <td>8700</td>\n",
       "      <td>Magnifique Suite au N de Manhattan - vue Cloitres</td>\n",
       "      <td>26394</td>\n",
       "      <td>Claude &amp; Sophie</td>\n",
       "      <td>Manhattan</td>\n",
       "      <td>Inwood</td>\n",
       "      <td>40.86754</td>\n",
       "      <td>-73.92639</td>\n",
       "      <td>Private room</td>\n",
       "      <td>80</td>\n",
       "      <td>4</td>\n",
       "      <td>0</td>\n",
       "      <td>NaN</td>\n",
       "      <td>NaN</td>\n",
       "      <td>1</td>\n",
       "      <td>0</td>\n",
       "    </tr>\n",
       "    <tr>\n",
       "      <th>36</th>\n",
       "      <td>11452</td>\n",
       "      <td>Clean and Quiet in Brooklyn</td>\n",
       "      <td>7355</td>\n",
       "      <td>Vt</td>\n",
       "      <td>Brooklyn</td>\n",
       "      <td>Bedford-Stuyvesant</td>\n",
       "      <td>40.68876</td>\n",
       "      <td>-73.94312</td>\n",
       "      <td>Private room</td>\n",
       "      <td>35</td>\n",
       "      <td>60</td>\n",
       "      <td>0</td>\n",
       "      <td>NaN</td>\n",
       "      <td>NaN</td>\n",
       "      <td>1</td>\n",
       "      <td>365</td>\n",
       "    </tr>\n",
       "    <tr>\n",
       "      <th>38</th>\n",
       "      <td>11943</td>\n",
       "      <td>Country space in the city</td>\n",
       "      <td>45445</td>\n",
       "      <td>Harriet</td>\n",
       "      <td>Brooklyn</td>\n",
       "      <td>Flatbush</td>\n",
       "      <td>40.63702</td>\n",
       "      <td>-73.96327</td>\n",
       "      <td>Private room</td>\n",
       "      <td>150</td>\n",
       "      <td>1</td>\n",
       "      <td>0</td>\n",
       "      <td>NaN</td>\n",
       "      <td>NaN</td>\n",
       "      <td>1</td>\n",
       "      <td>365</td>\n",
       "    </tr>\n",
       "  </tbody>\n",
       "</table>\n",
       "</div>"
      ],
      "text/plain": [
       "       id                                               name  host_id  \\\n",
       "2    3647                THE VILLAGE OF HARLEM....NEW YORK !     4632   \n",
       "19   7750                  Huge 2 BR Upper East  Cental Park    17985   \n",
       "26   8700  Magnifique Suite au N de Manhattan - vue Cloitres    26394   \n",
       "36  11452                        Clean and Quiet in Brooklyn     7355   \n",
       "38  11943                          Country space in the city    45445   \n",
       "\n",
       "          host_name neighbourhood_group       neighbourhood  latitude  \\\n",
       "2         Elisabeth           Manhattan              Harlem  40.80902   \n",
       "19             Sing           Manhattan         East Harlem  40.79685   \n",
       "26  Claude & Sophie           Manhattan              Inwood  40.86754   \n",
       "36               Vt            Brooklyn  Bedford-Stuyvesant  40.68876   \n",
       "38          Harriet            Brooklyn            Flatbush  40.63702   \n",
       "\n",
       "    longitude        room_type  price  minimum_nights  number_of_reviews  \\\n",
       "2   -73.94190     Private room    150               3                  0   \n",
       "19  -73.94872  Entire home/apt    190               7                  0   \n",
       "26  -73.92639     Private room     80               4                  0   \n",
       "36  -73.94312     Private room     35              60                  0   \n",
       "38  -73.96327     Private room    150               1                  0   \n",
       "\n",
       "   last_review  reviews_per_month  calculated_host_listings_count  \\\n",
       "2          NaN                NaN                               1   \n",
       "19         NaN                NaN                               2   \n",
       "26         NaN                NaN                               1   \n",
       "36         NaN                NaN                               1   \n",
       "38         NaN                NaN                               1   \n",
       "\n",
       "    availability_365  \n",
       "2                365  \n",
       "19               249  \n",
       "26                 0  \n",
       "36               365  \n",
       "38               365  "
      ]
     },
     "execution_count": 9,
     "metadata": {},
     "output_type": "execute_result"
    }
   ],
   "source": [
    "airbnb[airbnb[\"last_review\"].isnull()].head()"
   ]
  },
  {
   "cell_type": "markdown",
   "metadata": {},
   "source": [
    "From what we can see, when the last_review column is NaN, the number_of_reviews is zero. This is because no customer has reviewed the listing and thus a date for last review is not available. We will need to drop this column too. As for the reviews_per_month column, will have to fill in the NaN values with the number of reviews gotten and in this case zero(0). "
   ]
  },
  {
   "cell_type": "code",
   "execution_count": 10,
   "metadata": {
    "collapsed": true
   },
   "outputs": [],
   "source": [
    "airbnb.drop([\"host_name\", \"last_review\"], axis =1, inplace =True)"
   ]
  },
  {
   "cell_type": "code",
   "execution_count": 11,
   "metadata": {
    "collapsed": true
   },
   "outputs": [],
   "source": [
    "airbnb[\"reviews_per_month\"].fillna(0, inplace=True)"
   ]
  },
  {
   "cell_type": "markdown",
   "metadata": {},
   "source": [
    "We now check on the name column. We  have 16 NaN values, so we investigate further ."
   ]
  },
  {
   "cell_type": "markdown",
   "metadata": {},
   "source": [
    "The name column is a listing description written by the hosts. Since there are no description for these apartments, will fill it in with \"Not Described\""
   ]
  },
  {
   "cell_type": "code",
   "execution_count": 12,
   "metadata": {
    "collapsed": true
   },
   "outputs": [],
   "source": [
    "airbnb[\"name\"]=airbnb[\"name\"].fillna(\"Not Described\")"
   ]
  },
  {
   "cell_type": "code",
   "execution_count": 13,
   "metadata": {},
   "outputs": [
    {
     "data": {
      "text/plain": [
       "id                                0\n",
       "name                              0\n",
       "host_id                           0\n",
       "neighbourhood_group               0\n",
       "neighbourhood                     0\n",
       "latitude                          0\n",
       "longitude                         0\n",
       "room_type                         0\n",
       "price                             0\n",
       "minimum_nights                    0\n",
       "number_of_reviews                 0\n",
       "reviews_per_month                 0\n",
       "calculated_host_listings_count    0\n",
       "availability_365                  0\n",
       "dtype: int64"
      ]
     },
     "execution_count": 13,
     "metadata": {},
     "output_type": "execute_result"
    }
   ],
   "source": [
    "airbnb.isnull().sum()"
   ]
  },
  {
   "cell_type": "markdown",
   "metadata": {
    "collapsed": true
   },
   "source": [
    "# Exploratory Data Analysis and Visualization.\n",
    "We are interested in answering several questions here.\n",
    "\n",
    "1. who are the busiest host?\n",
    "2. Which neighbourhood have more traffic and which are least?\n",
    "3. Is there any relationship between price and number of reviews, location and availabilty?\n",
    "4. Is Airbnb really a sharing economy , distrupting the hotel business as they claim or are full homes listed throughout the year making it just like hotels?"
   ]
  },
  {
   "cell_type": "markdown",
   "metadata": {},
   "source": [
    "## The busiest Hosts"
   ]
  },
  {
   "cell_type": "code",
   "execution_count": 14,
   "metadata": {},
   "outputs": [
    {
     "data": {
      "text/plain": [
       "219517861    327\n",
       "107434423    232\n",
       "30283594     121\n",
       "137358866    103\n",
       "12243051      96\n",
       "16098958      96\n",
       "61391963      91\n",
       "22541573      87\n",
       "200380610     65\n",
       "7503643       52\n",
       "Name: host_id, dtype: int64"
      ]
     },
     "execution_count": 14,
     "metadata": {},
     "output_type": "execute_result"
    }
   ],
   "source": [
    "# we do a value count on the host_id column because it contains the unique identity of each host.\n",
    "airbnb[\"host_id\"].value_counts().head(10)"
   ]
  },
  {
   "cell_type": "code",
   "execution_count": 15,
   "metadata": {},
   "outputs": [
    {
     "data": {
      "text/plain": [
       "327"
      ]
     },
     "execution_count": 15,
     "metadata": {},
     "output_type": "execute_result"
    }
   ],
   "source": [
    "# we confirm the maximum number of listing with the calculated_host_listings_count column. \n",
    "airbnb[\"calculated_host_listings_count\"].max()"
   ]
  },
  {
   "cell_type": "markdown",
   "metadata": {},
   "source": [
    "What we see here is the the highest almost of listings is 327. This host seems the busiest. We visualize this using a simple bar plot"
   ]
  },
  {
   "cell_type": "code",
   "execution_count": 16,
   "metadata": {
    "collapsed": true
   },
   "outputs": [],
   "source": [
    "#  taking the 10 busiest hosts.\n",
    "top_10_listing = airbnb[\"host_id\"].value_counts().head(10)"
   ]
  },
  {
   "cell_type": "code",
   "execution_count": 17,
   "metadata": {
    "collapsed": true
   },
   "outputs": [],
   "source": [
    "#setting figure size and style for future visualizations\n",
    "sns.set(rc={'figure.figsize':(10,8)})\n",
    "sns.set_style(style = \"white\")"
   ]
  },
  {
   "cell_type": "code",
   "execution_count": 18,
   "metadata": {},
   "outputs": [
    {
     "data": {
      "image/png": "[encoded data removed]",
      "text/plain": [
       "<matplotlib.figure.Figure at 0x1e75cda51d0>"
      ]
     },
     "metadata": {},
     "output_type": "display_data"
    }
   ],
   "source": [
    "ax = top_10_listing.plot(kind = \"bar\" , figsize = (10,6))\n",
    "ax.set_xlabel(\"Host ID\", fontsize=\"x-large\")\n",
    "ax.set_ylabel(\"Number of Listing\", fontsize=\"x-large\")\n",
    "ax.set_title(\"Host with the Highest Airbnb Listing in NYC\", fontsize=\"xx-large\")\n",
    "ax.tick_params(bottom =False, left= False)\n",
    "ax.set_xticklabels(ax.get_xticklabels(), rotation =45)\n",
    "plt.show();"
   ]
  },
  {
   "cell_type": "markdown",
   "metadata": {},
   "source": [
    "## Which areas are more traffic and which are the least?"
   ]
  },
  {
   "cell_type": "markdown",
   "metadata": {},
   "source": [
    "We do a value_counts of neighorhood and get to find the top 5 most traffic areas. We would like to incoporate this analysis with the room types for a richer visualization."
   ]
  },
  {
   "cell_type": "code",
   "execution_count": 19,
   "metadata": {
    "scrolled": false
   },
   "outputs": [
    {
     "data": {
      "text/plain": [
       "Williamsburg          3920\n",
       "Bedford-Stuyvesant    3714\n",
       "Harlem                2658\n",
       "Bushwick              2465\n",
       "Upper West Side       1971\n",
       "Hell's Kitchen        1958\n",
       "East Village          1853\n",
       "Upper East Side       1798\n",
       "Crown Heights         1564\n",
       "Midtown               1545\n",
       "Name: neighbourhood, dtype: int64"
      ]
     },
     "execution_count": 19,
     "metadata": {},
     "output_type": "execute_result"
    }
   ],
   "source": [
    "airbnb[\"neighbourhood\"].value_counts().head(10)"
   ]
  },
  {
   "cell_type": "code",
   "execution_count": 20,
   "metadata": {
    "collapsed": true
   },
   "outputs": [],
   "source": [
    "# we create a new dataset of just the top ten neighbourhoods using groupby \n",
    "# and filtering with the value count of the tenth neighbourhood\n",
    "top_neig = airbnb.groupby(\"neighbourhood\").filter(lambda x: len(x)>=1545)"
   ]
  },
  {
   "cell_type": "code",
   "execution_count": 21,
   "metadata": {
    "collapsed": true
   },
   "outputs": [],
   "source": [
    "top_10 = top_neig.pivot_table(index=\"neighbourhood\", columns= \"room_type\", values=\"neighbourhood_group\", aggfunc=\"count\").reset_index().set_index(\"neighbourhood\")"
   ]
  },
  {
   "cell_type": "code",
   "execution_count": 22,
   "metadata": {},
   "outputs": [
    {
     "data": {
      "text/html": [
       "<div>\n",
       "<style>\n",
       "    .dataframe thead tr:only-child th {\n",
       "        text-align: right;\n",
       "    }\n",
       "\n",
       "    .dataframe thead th {\n",
       "        text-align: left;\n",
       "    }\n",
       "\n",
       "    .dataframe tbody tr th {\n",
       "        vertical-align: top;\n",
       "    }\n",
       "</style>\n",
       "<table border=\"1\" class=\"dataframe\">\n",
       "  <thead>\n",
       "    <tr style=\"text-align: right;\">\n",
       "      <th>room_type</th>\n",
       "      <th>Entire home/apt</th>\n",
       "      <th>Private room</th>\n",
       "      <th>Shared room</th>\n",
       "    </tr>\n",
       "    <tr>\n",
       "      <th>neighbourhood</th>\n",
       "      <th></th>\n",
       "      <th></th>\n",
       "      <th></th>\n",
       "    </tr>\n",
       "  </thead>\n",
       "  <tbody>\n",
       "    <tr>\n",
       "      <th>Bedford-Stuyvesant</th>\n",
       "      <td>1591</td>\n",
       "      <td>2038</td>\n",
       "      <td>85</td>\n",
       "    </tr>\n",
       "    <tr>\n",
       "      <th>Bushwick</th>\n",
       "      <td>678</td>\n",
       "      <td>1719</td>\n",
       "      <td>68</td>\n",
       "    </tr>\n",
       "    <tr>\n",
       "      <th>Crown Heights</th>\n",
       "      <td>759</td>\n",
       "      <td>780</td>\n",
       "      <td>25</td>\n",
       "    </tr>\n",
       "    <tr>\n",
       "      <th>East Village</th>\n",
       "      <td>1170</td>\n",
       "      <td>660</td>\n",
       "      <td>23</td>\n",
       "    </tr>\n",
       "    <tr>\n",
       "      <th>Harlem</th>\n",
       "      <td>1036</td>\n",
       "      <td>1573</td>\n",
       "      <td>49</td>\n",
       "    </tr>\n",
       "    <tr>\n",
       "      <th>Hell's Kitchen</th>\n",
       "      <td>1187</td>\n",
       "      <td>672</td>\n",
       "      <td>99</td>\n",
       "    </tr>\n",
       "    <tr>\n",
       "      <th>Midtown</th>\n",
       "      <td>1100</td>\n",
       "      <td>422</td>\n",
       "      <td>23</td>\n",
       "    </tr>\n",
       "    <tr>\n",
       "      <th>Upper East Side</th>\n",
       "      <td>1310</td>\n",
       "      <td>441</td>\n",
       "      <td>47</td>\n",
       "    </tr>\n",
       "    <tr>\n",
       "      <th>Upper West Side</th>\n",
       "      <td>1256</td>\n",
       "      <td>675</td>\n",
       "      <td>40</td>\n",
       "    </tr>\n",
       "    <tr>\n",
       "      <th>Williamsburg</th>\n",
       "      <td>1891</td>\n",
       "      <td>1997</td>\n",
       "      <td>32</td>\n",
       "    </tr>\n",
       "  </tbody>\n",
       "</table>\n",
       "</div>"
      ],
      "text/plain": [
       "room_type           Entire home/apt  Private room  Shared room\n",
       "neighbourhood                                                 \n",
       "Bedford-Stuyvesant             1591          2038           85\n",
       "Bushwick                        678          1719           68\n",
       "Crown Heights                   759           780           25\n",
       "East Village                   1170           660           23\n",
       "Harlem                         1036          1573           49\n",
       "Hell's Kitchen                 1187           672           99\n",
       "Midtown                        1100           422           23\n",
       "Upper East Side                1310           441           47\n",
       "Upper West Side                1256           675           40\n",
       "Williamsburg                   1891          1997           32"
      ]
     },
     "execution_count": 22,
     "metadata": {},
     "output_type": "execute_result"
    }
   ],
   "source": [
    "top_10"
   ]
  },
  {
   "cell_type": "code",
   "execution_count": 23,
   "metadata": {},
   "outputs": [
    {
     "data": {
      "image/png": "[encoded data removed]",
      "text/plain": [
       "<matplotlib.figure.Figure at 0x1e75ce85630>"
      ]
     },
     "metadata": {},
     "output_type": "display_data"
    }
   ],
   "source": [
    "ax= top_10.plot(kind=\"bar\", figsize= (12,7))\n",
    "ax.legend(loc=\"upper center\")\n",
    "ax.set_xlabel(\"Neighbourhoods\", fontsize=\"x-large\")\n",
    "ax.set_ylabel(\"Numbers of Listing\", fontsize=\"x-large\")\n",
    "ax.set_title(\"Listings in Top Ten Neighbourhoods of NYC\",fontsize=\"xx-large\")\n",
    "plt.show();"
   ]
  },
  {
   "cell_type": "markdown",
   "metadata": {},
   "source": [
    "From the visuals, it obvious that Williamsburg has the highest listing for Entire Home and apartment, Bedford-Stuyvesant shows the highest for private rooms and also for shared rooms. These two cities are in Brokyln. It is known that Brokyln is a highly traficked area in NYC so this result is expected.\n",
    "\n",
    "Bushwick has the lowest number of entire home/apartment listing while this is also true for Midtown in the private rooms and shared rooms listing. Bushwick is in Brokyln while Midtown is a neighbourhood in Manhattan."
   ]
  },
  {
   "cell_type": "markdown",
   "metadata": {},
   "source": [
    "### The Impact of price on neighbourhoods and neighbourhood_groups."
   ]
  },
  {
   "cell_type": "markdown",
   "metadata": {},
   "source": [
    "Let's see the price distribution in the neighbourhoods_groups and our top_10 neighbourhoods. But first, let's look at the statistics of price column of the dataset and visualize the data with a scatter plot."
   ]
  },
  {
   "cell_type": "code",
   "execution_count": null,
   "metadata": {
    "scrolled": true
   },
   "outputs": [
    {
     "data": {
      "text/plain": [
       "mean      152.720687\n",
       "std       240.154170\n",
       "min         0.000000\n",
       "25%        69.000000\n",
       "50%       106.000000\n",
       "75%       175.000000\n",
       "90%       269.000000\n",
       "max     10000.000000\n",
       "Name: price, dtype: float64"
      ]
     },
     "execution_count": 24,
     "metadata": {},
     "output_type": "execute_result"
    }
   ],
   "source": [
    "airbnb.describe(percentiles=[.25,.50, .75,.90])[\"price\"][1:]"
   ]
  },
  {
   "cell_type": "code",
   "execution_count": null,
   "metadata": {},
   "outputs": [],
   "source": [
    "fig,ax=plt.subplots(figsize=(10,4))\n",
    "ax.scatter(x=airbnb[\"neighbourhood_group\"], y = airbnb[\"price\"])\n",
    "ax.tick_params(bottom = False, left = False, right = False, top =False)\n",
    "ax.set_xticks(airbnb[\"neighbourhood_group\"])\n",
    "ax.set_xticklabels(airbnb[\"neighbourhood_group\"], rotation=90,fontweight=\"light\")\n",
    "ax.spines['right'].set_visible(False)\n",
    "ax.spines['top'].set_visible(False)\n",
    "plt.show();"
   ]
  },
  {
   "cell_type": "markdown",
   "metadata": {},
   "source": [
    "With the mean price around 150 dollars, a maximum price of 10,000 dollars seems to be an outlier and unrealistic. However, when we checked listings of NYC on airbnb, it bacame obvious that these extreme values were actually not a mistake. But for a better visualization, we decide to use part of the dataset whose price is less than or equal to 1000 dollars. But first, we have to find out the percentage of data that falls outside this range. This will help us decide whether to go ahead or not."
   ]
  },
  {
   "cell_type": "code",
   "execution_count": null,
   "metadata": {},
   "outputs": [],
   "source": [
    "(airbnb[\"price\"]>1000).sum()/airbnb.shape[0]"
   ]
  },
  {
   "cell_type": "markdown",
   "metadata": {},
   "source": [
    "Only about 5% of our data will be dropped so we can go ahead"
   ]
  },
  {
   "cell_type": "code",
   "execution_count": null,
   "metadata": {
    "collapsed": true
   },
   "outputs": [],
   "source": [
    "sub_df = airbnb[airbnb[\"price\"]<=1000]"
   ]
  },
  {
   "cell_type": "code",
   "execution_count": null,
   "metadata": {
    "scrolled": true
   },
   "outputs": [],
   "source": [
    "ax = sns.violinplot(data = sub_df, x =\"neighbourhood_group\", y =\"price\")\n",
    "ax.set_title(\"Price spread in NYC Neighbourhood_groups\", fontsize =\"xx-large\")\n",
    "ax.set_xlabel(\"Neighbourhood_groups\", fontsize =\"x-large\")\n",
    "ax.set_ylabel(\"Price\", fontsize =\"x-large\")\n",
    "plt.show();"
   ]
  },
  {
   "cell_type": "markdown",
   "metadata": {},
   "source": [
    "The violin plot shows the price spread accross different neighbourhood groups in NYC. It is noticeable from the plot that Manhattan has the highest spread followed by Brokyln. This is expected because it is known by most people that the cost of living is higher in those cities. Queens and Staten Island shows a similar spread while Bronx has the least. "
   ]
  },
  {
   "cell_type": "markdown",
   "metadata": {},
   "source": [
    "## Are there any relationships between Price, Reviews and Availability?"
   ]
  },
  {
   "cell_type": "markdown",
   "metadata": {},
   "source": [
    "We use correction to find out the relationships between the columns in the dataset and we visualize it using a seaborn heatmap"
   ]
  },
  {
   "cell_type": "code",
   "execution_count": null,
   "metadata": {},
   "outputs": [],
   "source": [
    "sns.heatmap(airbnb.corr(), annot = True, fmt=' .1g', cmap = \"cubehelix\")"
   ]
  },
  {
   "cell_type": "markdown",
   "metadata": {
    "collapsed": true
   },
   "source": [
    "There is a -0.05 correlation coefficient between price and reviews. This correlation is very weak and so cannot be considered relevant. Being negative means that when price increases with a reduction in the number of reviews.\n",
    "\n",
    "A correlation coefficient of 0.06 exists between price and availability count. While the value being positive means that price increases with increase in availability, This value is insignificant."
   ]
  },
  {
   "cell_type": "markdown",
   "metadata": {},
   "source": [
    "## Is Airbnb really a sharing economy , distrupting the hotel business as they claim or are full homes listed throughout the year making it just like hotels?"
   ]
  },
  {
   "cell_type": "markdown",
   "metadata": {},
   "source": [
    "To answer this question we create a pivot table showing room_type and avarage availability using a dataset where availability is 365 days."
   ]
  },
  {
   "cell_type": "code",
   "execution_count": null,
   "metadata": {},
   "outputs": [],
   "source": [
    "avail_365 = airbnb[airbnb[\"availability_365\"]==365].pivot_table(index = \"room_type\", values= \"availability_365\", aggfunc=\"count\").reset_index().set_index(\"room_type\")"
   ]
  },
  {
   "cell_type": "code",
   "execution_count": null,
   "metadata": {},
   "outputs": [],
   "source": [
    "avail_365"
   ]
  },
  {
   "cell_type": "code",
   "execution_count": null,
   "metadata": {},
   "outputs": [],
   "source": [
    "fig,ax= plt.subplots(figsize = (10,5))\n",
    "ax.pie(avail_365, labels = [\"Entire home/apt\", \"Private room\",\"Shared room\"],explode=(0.04,0.04,0.04),autopct='%1.1f%%', textprops={'fontsize': 15})\n",
    "ax.axis(\"equal\")\n",
    "ax.set_title(\"Room_types listed throughout the year in NYC\", fontsize=\"xx-large\").set_position([.5, 1.05])\n",
    "plt.show();"
   ]
  },
  {
   "cell_type": "markdown",
   "metadata": {},
   "source": [
    "The pivot table and accompanied pie chart reveals that more private room are listed throughout the year than entire homes or apartments thus we cannot conclude that Airbnb actually runs as the convetional hotel business system. The insights suggests that the company supports a sharing economy."
   ]
  }
 ],
 "metadata": {
  "kernelspec": {
   "display_name": "Python 3",
   "language": "python",
   "name": "python3"
  },
  "language_info": {
   "codemirror_mode": {
    "name": "ipython",
    "version": 3
   },
   "file_extension": ".py",
   "mimetype": "text/x-python",
   "name": "python",
   "nbconvert_exporter": "python",
   "pygments_lexer": "ipython3",
   "version": "3.6.3"
  }
 },
 "nbformat": 4,
 "nbformat_minor": 2
}
