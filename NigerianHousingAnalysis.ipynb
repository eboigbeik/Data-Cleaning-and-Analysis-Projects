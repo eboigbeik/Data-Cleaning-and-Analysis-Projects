{
 "cells": [
  {
   "cell_type": "markdown",
   "metadata": {},
   "source": [
    "# Nigerian Housing Rental Analysis"
   ]
  },
  {
   "cell_type": "markdown",
   "metadata": {},
   "source": [
    "The assumption is that we work for a online agent that does house reccommendation service for customers searching for properties to rent but are limited by some constraints or some kind of preference.  The company is interested in  getting insights into the scraped data that have been cleaned.\n",
    "\n",
    "They need us to use the data given to answer the following questions:\n",
    "1. which of the states should the company recommend to customers who are interested in cheap to moderately priced rents (between 50,000 - 1,000,000 naira)?\n",
    "2. With the first question answered, which city are houses more available for rent?\n",
    "3. dividing states according to country zones, where are average rent prices the highest and lowest?\n",
    "4. Which zones should we recommend to luxury tennants (those willing to pay above 10,000,000 naira)?"
   ]
  },
  {
   "cell_type": "code",
   "execution_count": 1,
   "metadata": {
    "collapsed": true
   },
   "outputs": [],
   "source": [
    "import pandas as pd\n",
    "import numpy as np\n",
    "import seaborn as sns\n",
    "import matplotlib.pyplot as plt\n",
    "%matplotlib inline"
   ]
  },
  {
   "cell_type": "code",
   "execution_count": 2,
   "metadata": {
    "collapsed": true
   },
   "outputs": [],
   "source": [
    "housing_data = pd.read_csv(\"combined_housing_cleaned.csv\")"
   ]
  },
  {
   "cell_type": "code",
   "execution_count": 3,
   "metadata": {},
   "outputs": [
    {
     "data": {
      "text/html": [
       "<div>\n",
       "<style>\n",
       "    .dataframe thead tr:only-child th {\n",
       "        text-align: right;\n",
       "    }\n",
       "\n",
       "    .dataframe thead th {\n",
       "        text-align: left;\n",
       "    }\n",
       "\n",
       "    .dataframe tbody tr th {\n",
       "        vertical-align: top;\n",
       "    }\n",
       "</style>\n",
       "<table border=\"1\" class=\"dataframe\">\n",
       "  <thead>\n",
       "    <tr style=\"text-align: right;\">\n",
       "      <th></th>\n",
       "      <th>Unnamed: 0</th>\n",
       "      <th>price_naira</th>\n",
       "      <th>unit</th>\n",
       "      <th>city_location</th>\n",
       "      <th>bedrooms</th>\n",
       "      <th>baths</th>\n",
       "      <th>state</th>\n",
       "    </tr>\n",
       "  </thead>\n",
       "  <tbody>\n",
       "    <tr>\n",
       "      <th>0</th>\n",
       "      <td>0</td>\n",
       "      <td>33000000.0</td>\n",
       "      <td>Per Year</td>\n",
       "      <td>badagry express way</td>\n",
       "      <td>Unknown</td>\n",
       "      <td>5</td>\n",
       "      <td>lagos</td>\n",
       "    </tr>\n",
       "    <tr>\n",
       "      <th>1</th>\n",
       "      <td>1</td>\n",
       "      <td>30000000.0</td>\n",
       "      <td>Per Year</td>\n",
       "      <td>badagry express way</td>\n",
       "      <td>Unknown</td>\n",
       "      <td>7</td>\n",
       "      <td>lagos</td>\n",
       "    </tr>\n",
       "    <tr>\n",
       "      <th>2</th>\n",
       "      <td>2</td>\n",
       "      <td>40000000.0</td>\n",
       "      <td>Per Year</td>\n",
       "      <td>badagry express way</td>\n",
       "      <td>Unknown</td>\n",
       "      <td>5</td>\n",
       "      <td>lagos</td>\n",
       "    </tr>\n",
       "    <tr>\n",
       "      <th>3</th>\n",
       "      <td>3</td>\n",
       "      <td>5500000.0</td>\n",
       "      <td>Per Year</td>\n",
       "      <td>nigeria</td>\n",
       "      <td>Unknown</td>\n",
       "      <td>4</td>\n",
       "      <td>lagos</td>\n",
       "    </tr>\n",
       "    <tr>\n",
       "      <th>4</th>\n",
       "      <td>4</td>\n",
       "      <td>48000000.0</td>\n",
       "      <td>Per Year</td>\n",
       "      <td>lagos</td>\n",
       "      <td>Unknown</td>\n",
       "      <td>3</td>\n",
       "      <td>lagos</td>\n",
       "    </tr>\n",
       "  </tbody>\n",
       "</table>\n",
       "</div>"
      ],
      "text/plain": [
       "   Unnamed: 0  price_naira      unit        city_location bedrooms baths  \\\n",
       "0           0   33000000.0  Per Year  badagry express way  Unknown     5   \n",
       "1           1   30000000.0  Per Year  badagry express way  Unknown     7   \n",
       "2           2   40000000.0  Per Year  badagry express way  Unknown     5   \n",
       "3           3    5500000.0  Per Year              nigeria  Unknown     4   \n",
       "4           4   48000000.0  Per Year                lagos  Unknown     3   \n",
       "\n",
       "   state  \n",
       "0  lagos  \n",
       "1  lagos  \n",
       "2  lagos  \n",
       "3  lagos  \n",
       "4  lagos  "
      ]
     },
     "execution_count": 3,
     "metadata": {},
     "output_type": "execute_result"
    }
   ],
   "source": [
    "housing_data.head()"
   ]
  },
  {
   "cell_type": "code",
   "execution_count": 4,
   "metadata": {
    "scrolled": true
   },
   "outputs": [
    {
     "data": {
      "text/plain": [
       "count    8.179000e+03\n",
       "mean     7.910593e+07\n",
       "std      4.445914e+09\n",
       "min      5.500000e+04\n",
       "25%      5.900000e+05\n",
       "50%      1.600000e+06\n",
       "75%      4.000000e+06\n",
       "max      4.000000e+11\n",
       "Name: price_naira, dtype: float64"
      ]
     },
     "execution_count": 4,
     "metadata": {},
     "output_type": "execute_result"
    }
   ],
   "source": [
    "housing_data[\"price_naira\"].describe()"
   ]
  },
  {
   "cell_type": "markdown",
   "metadata": {},
   "source": [
    "The description shows that the average price is about 8million Naira while the maximum is 400 Billion Naira.  There seems to be something wrong with this because the maximum price is too high above the average. To investigate this, a scatter plot is used to show the variations in price more clearly."
   ]
  },
  {
   "cell_type": "code",
   "execution_count": 5,
   "metadata": {},
   "outputs": [
    {
     "data": {
      "image/png": "[encoded data removed]",
      "text/plain": [
       "<matplotlib.figure.Figure at 0x28b0dbb46d8>"
      ]
     },
     "metadata": {},
     "output_type": "display_data"
    }
   ],
   "source": [
    "fig,ax=plt.subplots(figsize=(10,4))\n",
    "ax.scatter(x=housing_data[\"state\"], y = housing_data[\"price_naira\"])\n",
    "ax.tick_params(bottom = False, left = False, right = False, top =False)\n",
    "ax.set_xticks(housing_data[\"state\"])\n",
    "ax.set_xticklabels(housing_data[\"state\"], rotation=90,fontweight=\"light\")\n",
    "ax.spines['right'].set_visible(False)\n",
    "ax.spines['top'].set_visible(False)\n",
    "plt.show();"
   ]
  },
  {
   "cell_type": "markdown",
   "metadata": {},
   "source": [
    "The plot shows there is a price that belongs to lagos state that is far above every other in the dataset and it corresponds to the maximum price we saw earlier. Since this price seems unreasonable for a yeearly rent, it will affect our analysis. Thus we decide to drop any row whose price is above 1 billion naira"
   ]
  },
  {
   "cell_type": "code",
   "execution_count": 6,
   "metadata": {
    "collapsed": true
   },
   "outputs": [],
   "source": [
    "housing_data = housing_data[housing_data[\"price_naira\"].between(50000,1000000000)]"
   ]
  },
  {
   "cell_type": "markdown",
   "metadata": {},
   "source": [
    "To answer the first question we:\n",
    "1. create a label such that houses between 50,000 - 200,000 are labelled \"cheap\", those between 200,000 - 1million naira are labelled moderate, those within 1million - 10million are ranged \"premium\" and above 10million labelled \"luxury\".\n",
    "2. create a new dataset for cheap and moderate housing.\n",
    "3. Analysing the states by the ranks."
   ]
  },
  {
   "cell_type": "markdown",
   "metadata": {},
   "source": [
    "First we create a function for the labelling"
   ]
  },
  {
   "cell_type": "code",
   "execution_count": 7,
   "metadata": {
    "collapsed": true
   },
   "outputs": [],
   "source": [
    "def house_rank(value):\n",
    "    if 50000 < value <= 200000:\n",
    "        return \"cheap\"\n",
    "    elif 200000< value <=1000000:\n",
    "        return \"moderate\"\n",
    "    elif 1000000 <value <=10000000:\n",
    "        return \"premium\"\n",
    "    else:\n",
    "        return \"luxury\""
   ]
  },
  {
   "cell_type": "markdown",
   "metadata": {},
   "source": [
    "we apply the function to  the price_naira column and store the output in a new column named \"house_ranks\". We create a crosstab table showing states by house_ranks counts."
   ]
  },
  {
   "cell_type": "code",
   "execution_count": 8,
   "metadata": {
    "collapsed": true
   },
   "outputs": [],
   "source": [
    "housing_data[\"house_ranks\"] = housing_data[\"price_naira\"].apply(house_rank)"
   ]
  },
  {
   "cell_type": "code",
   "execution_count": 9,
   "metadata": {},
   "outputs": [
    {
     "data": {
      "text/plain": [
       "premium     3934\n",
       "moderate    2790\n",
       "luxury       891\n",
       "cheap        530\n",
       "Name: house_ranks, dtype: int64"
      ]
     },
     "execution_count": 9,
     "metadata": {},
     "output_type": "execute_result"
    }
   ],
   "source": [
    "housing_data[\"house_ranks\"].value_counts(dropna=False)"
   ]
  },
  {
   "cell_type": "markdown",
   "metadata": {},
   "source": [
    "Some states in the dataset have insignificant amount of data. We filter out states whose rows are less than 10. This will make our visualization less clustered and more appealing. We then go ahead to create a table of states with the ratio of the types of house_ranks in each state."
   ]
  },
  {
   "cell_type": "code",
   "execution_count": 10,
   "metadata": {
    "collapsed": true
   },
   "outputs": [],
   "source": [
    "big_states = housing_data.groupby(\"state\").filter(lambda x : len(x) >10)"
   ]
  },
  {
   "cell_type": "code",
   "execution_count": 11,
   "metadata": {
    "collapsed": true
   },
   "outputs": [],
   "source": [
    "state_ranks =pd.crosstab(index=big_states ['state'], columns=big_states ['house_ranks'], normalize='index').reset_index().set_index(\"state\")"
   ]
  },
  {
   "cell_type": "code",
   "execution_count": 12,
   "metadata": {
    "collapsed": true
   },
   "outputs": [],
   "source": [
    "state_ranks.rename(columns ={\"cheap\" :\"ratio_cheap\", \"luxury\": \"ratio_luxury\",\"moderate\":\"ratio_moderate\", \"premium\":\"ratio_premium\"}, inplace=True)"
   ]
  },
  {
   "cell_type": "code",
   "execution_count": 13,
   "metadata": {},
   "outputs": [
    {
     "data": {
      "text/html": [
       "<div>\n",
       "<style>\n",
       "    .dataframe thead tr:only-child th {\n",
       "        text-align: right;\n",
       "    }\n",
       "\n",
       "    .dataframe thead th {\n",
       "        text-align: left;\n",
       "    }\n",
       "\n",
       "    .dataframe tbody tr th {\n",
       "        vertical-align: top;\n",
       "    }\n",
       "</style>\n",
       "<table border=\"1\" class=\"dataframe\">\n",
       "  <thead>\n",
       "    <tr style=\"text-align: right;\">\n",
       "      <th>house_ranks</th>\n",
       "      <th>ratio_cheap</th>\n",
       "      <th>ratio_luxury</th>\n",
       "      <th>ratio_moderate</th>\n",
       "      <th>ratio_premium</th>\n",
       "    </tr>\n",
       "    <tr>\n",
       "      <th>state</th>\n",
       "      <th></th>\n",
       "      <th></th>\n",
       "      <th></th>\n",
       "      <th></th>\n",
       "    </tr>\n",
       "  </thead>\n",
       "  <tbody>\n",
       "    <tr>\n",
       "      <th>abuja</th>\n",
       "      <td>0.019457</td>\n",
       "      <td>0.118100</td>\n",
       "      <td>0.160181</td>\n",
       "      <td>0.702262</td>\n",
       "    </tr>\n",
       "    <tr>\n",
       "      <th>cross river</th>\n",
       "      <td>0.058824</td>\n",
       "      <td>0.058824</td>\n",
       "      <td>0.529412</td>\n",
       "      <td>0.352941</td>\n",
       "    </tr>\n",
       "    <tr>\n",
       "      <th>delta</th>\n",
       "      <td>0.076923</td>\n",
       "      <td>0.153846</td>\n",
       "      <td>0.538462</td>\n",
       "      <td>0.230769</td>\n",
       "    </tr>\n",
       "    <tr>\n",
       "      <th>edo</th>\n",
       "      <td>0.240000</td>\n",
       "      <td>0.040000</td>\n",
       "      <td>0.600000</td>\n",
       "      <td>0.120000</td>\n",
       "    </tr>\n",
       "    <tr>\n",
       "      <th>enugu</th>\n",
       "      <td>0.040000</td>\n",
       "      <td>0.040000</td>\n",
       "      <td>0.640000</td>\n",
       "      <td>0.280000</td>\n",
       "    </tr>\n",
       "    <tr>\n",
       "      <th>imo</th>\n",
       "      <td>0.000000</td>\n",
       "      <td>0.000000</td>\n",
       "      <td>0.809524</td>\n",
       "      <td>0.190476</td>\n",
       "    </tr>\n",
       "    <tr>\n",
       "      <th>kaduna</th>\n",
       "      <td>0.051282</td>\n",
       "      <td>0.025641</td>\n",
       "      <td>0.256410</td>\n",
       "      <td>0.666667</td>\n",
       "    </tr>\n",
       "    <tr>\n",
       "      <th>kwara</th>\n",
       "      <td>0.012245</td>\n",
       "      <td>0.036735</td>\n",
       "      <td>0.395918</td>\n",
       "      <td>0.555102</td>\n",
       "    </tr>\n",
       "    <tr>\n",
       "      <th>lagos</th>\n",
       "      <td>0.066701</td>\n",
       "      <td>0.149757</td>\n",
       "      <td>0.313826</td>\n",
       "      <td>0.469716</td>\n",
       "    </tr>\n",
       "    <tr>\n",
       "      <th>nasarawa</th>\n",
       "      <td>0.000000</td>\n",
       "      <td>0.019231</td>\n",
       "      <td>0.980769</td>\n",
       "      <td>0.000000</td>\n",
       "    </tr>\n",
       "    <tr>\n",
       "      <th>ogun</th>\n",
       "      <td>0.163107</td>\n",
       "      <td>0.021359</td>\n",
       "      <td>0.681553</td>\n",
       "      <td>0.133981</td>\n",
       "    </tr>\n",
       "    <tr>\n",
       "      <th>ondo</th>\n",
       "      <td>0.500000</td>\n",
       "      <td>0.000000</td>\n",
       "      <td>0.333333</td>\n",
       "      <td>0.166667</td>\n",
       "    </tr>\n",
       "    <tr>\n",
       "      <th>oyo</th>\n",
       "      <td>0.159498</td>\n",
       "      <td>0.016129</td>\n",
       "      <td>0.593190</td>\n",
       "      <td>0.231183</td>\n",
       "    </tr>\n",
       "    <tr>\n",
       "      <th>plateau</th>\n",
       "      <td>0.166667</td>\n",
       "      <td>0.000000</td>\n",
       "      <td>0.500000</td>\n",
       "      <td>0.333333</td>\n",
       "    </tr>\n",
       "    <tr>\n",
       "      <th>rivers</th>\n",
       "      <td>0.054299</td>\n",
       "      <td>0.015837</td>\n",
       "      <td>0.631222</td>\n",
       "      <td>0.298643</td>\n",
       "    </tr>\n",
       "  </tbody>\n",
       "</table>\n",
       "</div>"
      ],
      "text/plain": [
       "house_ranks  ratio_cheap  ratio_luxury  ratio_moderate  ratio_premium\n",
       "state                                                                \n",
       "abuja           0.019457      0.118100        0.160181       0.702262\n",
       "cross river     0.058824      0.058824        0.529412       0.352941\n",
       "delta           0.076923      0.153846        0.538462       0.230769\n",
       "edo             0.240000      0.040000        0.600000       0.120000\n",
       "enugu           0.040000      0.040000        0.640000       0.280000\n",
       "imo             0.000000      0.000000        0.809524       0.190476\n",
       "kaduna          0.051282      0.025641        0.256410       0.666667\n",
       "kwara           0.012245      0.036735        0.395918       0.555102\n",
       "lagos           0.066701      0.149757        0.313826       0.469716\n",
       "nasarawa        0.000000      0.019231        0.980769       0.000000\n",
       "ogun            0.163107      0.021359        0.681553       0.133981\n",
       "ondo            0.500000      0.000000        0.333333       0.166667\n",
       "oyo             0.159498      0.016129        0.593190       0.231183\n",
       "plateau         0.166667      0.000000        0.500000       0.333333\n",
       "rivers          0.054299      0.015837        0.631222       0.298643"
      ]
     },
     "execution_count": 13,
     "metadata": {},
     "output_type": "execute_result"
    }
   ],
   "source": [
    "state_ranks"
   ]
  },
  {
   "cell_type": "code",
   "execution_count": 14,
   "metadata": {},
   "outputs": [
    {
     "data": {
      "image/png": "[encoded data removed]",
      "text/plain": [
       "<matplotlib.figure.Figure at 0x28b177eb4a8>"
      ]
     },
     "metadata": {},
     "output_type": "display_data"
    }
   ],
   "source": [
    "ax = state_ranks.plot(kind =\"bar\",rot=0, figsize=(15,6), fontsize=10, width=0.5)\n",
    "ax.set_xlabel(\"States\", fontsize=\"x-large\")\n",
    "ax.set_ylabel(\"Rank Proportion\", fontsize=\"x-large\")\n",
    "ax.set_title(\"House_ranks proportion Per State\", fontsize=\"xx-large\").set_position([.5, 1.05])\n",
    "ax.tick_params(bottom=False, top=False, left=False, right=False)\n",
    "ax.spines['right'].set_visible(False)\n",
    "ax.spines['top'].set_visible(False)\n",
    "ax.set_ylim(0,1.2)\n",
    "plt.show()"
   ]
  },
  {
   "cell_type": "markdown",
   "metadata": {},
   "source": [
    "This initital analysis compares the ratio of the type of houses present in each state. \n",
    "Based on the result, it appears that the Ondo state has more cheap houses for rent more than any other state while Nasarawa state has more or moderately prices rents compared to the rest states."
   ]
  },
  {
   "cell_type": "markdown",
   "metadata": {},
   "source": [
    "## What Towns are cheap  Houses for Rent More?"
   ]
  },
  {
   "cell_type": "markdown",
   "metadata": {},
   "source": [
    "We first extract data of just Ondo state and find out the top 5 locations where cheap houses can be found."
   ]
  },
  {
   "cell_type": "code",
   "execution_count": 15,
   "metadata": {
    "collapsed": true
   },
   "outputs": [],
   "source": [
    "ondo_cities = housing_data[housing_data[\"state\"]==\"ondo\"].groupby(\"house_ranks\")"
   ]
  },
  {
   "cell_type": "code",
   "execution_count": 16,
   "metadata": {
    "collapsed": true
   },
   "outputs": [],
   "source": [
    "cheap_houses = ondo_cities.get_group(\"cheap\").sort_values(\"price_naira\")"
   ]
  },
  {
   "cell_type": "code",
   "execution_count": 17,
   "metadata": {
    "scrolled": true
   },
   "outputs": [
    {
     "data": {
      "text/plain": [
       "akure    6\n",
       "Name: city_location, dtype: int64"
      ]
     },
     "execution_count": 17,
     "metadata": {},
     "output_type": "execute_result"
    }
   ],
   "source": [
    "cheap_houses[\"city_location\"].value_counts()"
   ]
  },
  {
   "cell_type": "markdown",
   "metadata": {},
   "source": [
    "The City of Akure has the cheapest houses. In fact, it is the only location where houses are classed cheap. We show the percentages of the type of houses in this city visually using a pie chart."
   ]
  },
  {
   "cell_type": "code",
   "execution_count": 18,
   "metadata": {
    "collapsed": true
   },
   "outputs": [],
   "source": [
    "ondo  = housing_data[housing_data[\"state\"]==\"ondo\"]"
   ]
  },
  {
   "cell_type": "code",
   "execution_count": 19,
   "metadata": {
    "collapsed": true
   },
   "outputs": [],
   "source": [
    "akure  = housing_data[housing_data[\"city_location\"]==\"akure\"]"
   ]
  },
  {
   "cell_type": "code",
   "execution_count": 20,
   "metadata": {},
   "outputs": [
    {
     "data": {
      "image/png": "[encoded data removed]",
      "text/plain": [
       "<matplotlib.figure.Figure at 0x28b1773b4a8>"
      ]
     },
     "metadata": {},
     "output_type": "display_data"
    }
   ],
   "source": [
    "ax = akure[\"house_ranks\"].value_counts().plot.pie(explode=(0.1,0,0),autopct='%1.1f%%', colors =['lightgreen', 'grey', 'lightskyblue'], fontsize = \"x-large\", figsize =(10,5))\n",
    "plt.axis('equal')\n",
    "ax.set_title(\"Percentage of Houses Types in Ondo State\", fontsize = \"xx-large\").set_position([.5, 1.1])\n",
    "plt.show();                                  "
   ]
  },
  {
   "cell_type": "markdown",
   "metadata": {},
   "source": [
    "### We now do same for Moderately priced. In this case, Nasarawa state"
   ]
  },
  {
   "cell_type": "code",
   "execution_count": 21,
   "metadata": {
    "collapsed": true
   },
   "outputs": [],
   "source": [
    "nasarawa_cities = housing_data[housing_data[\"state\"]==\"nasarawa\"].groupby(\"house_ranks\")"
   ]
  },
  {
   "cell_type": "code",
   "execution_count": 22,
   "metadata": {
    "collapsed": true
   },
   "outputs": [],
   "source": [
    "moderate_houses = nasarawa_cities.get_group(\"moderate\")"
   ]
  },
  {
   "cell_type": "code",
   "execution_count": 23,
   "metadata": {
    "collapsed": true
   },
   "outputs": [],
   "source": [
    "top_cities = round(moderate_houses.groupby(\"city_location\")[\"price_naira\"].mean().sort_values(ascending = False), 0)"
   ]
  },
  {
   "cell_type": "code",
   "execution_count": 24,
   "metadata": {},
   "outputs": [
    {
     "data": {
      "image/png": "[encoded data removed]",
      "text/plain": [
       "<matplotlib.figure.Figure at 0x28b16673d30>"
      ]
     },
     "metadata": {},
     "output_type": "display_data"
    }
   ],
   "source": [
    "ax = top_cities.plot(kind=\"barh\", figsize= (12,4), width = .3)\n",
    "ax.set_title(\" Average Price of Moderate Rents in Nasawara State by Cities\", fontsize= \"xx-large\").set_position([.5, 1.05])\n",
    "ax.tick_params(bottom =False, left = False, right= False, top =False)\n",
    "ax.set_ylabel(\"Cities\", fontsize= \"x-large\")\n",
    "ax.set_xlabel(\"Average Rent Price in Naira\", fontsize =\"x-large\")\n",
    "plt.show();"
   ]
  },
  {
   "cell_type": "markdown",
   "metadata": {
    "collapsed": true
   },
   "source": [
    "# Analysing by Zones"
   ]
  },
  {
   "cell_type": "markdown",
   "metadata": {},
   "source": [
    "First, we check the unique states in the dataset and divide them according to the Geopolitical zones in the country. Next, a function  is created to scan through the state column and return the appropriate zone the state belongs to. The output is stored into a new column called zones."
   ]
  },
  {
   "cell_type": "code",
   "execution_count": 25,
   "metadata": {},
   "outputs": [
    {
     "data": {
      "text/plain": [
       "array(['lagos', 'abuja', 'ogun', 'oyo', 'delta', 'rivers', 'cross river',\n",
       "       'enugu', 'kaduna', 'imo', 'ebonyi', 'kano', 'nasarawa', 'kwara',\n",
       "       'edo', 'benue', 'bayelsa', 'adamawa', 'akwa ibom', 'abia', 'ekiti',\n",
       "       'osun', 'ondo', 'sokoto', 'plateau'], dtype=object)"
      ]
     },
     "execution_count": 25,
     "metadata": {},
     "output_type": "execute_result"
    }
   ],
   "source": [
    "housing_data[\"state\"].unique()"
   ]
  },
  {
   "cell_type": "code",
   "execution_count": 26,
   "metadata": {
    "collapsed": true
   },
   "outputs": [],
   "source": [
    "North_central = ['nasarawa','abuja','kwara','benue','plateau']\n",
    "North_east = ['adamawa']\n",
    "North_west = ['kaduna','kano','sokoto']\n",
    "South_south = ['rivers','edo','bayelsa','delta','akwa ibom','cross river']\n",
    "South_east = ['enugu','imo','ebonyi','abia']\n",
    "South_west= ['lagos','ogun','oyo','ekiti','osun','ondo']\n",
    "\n",
    "\n",
    "def zoning(state):\n",
    "    if state in North_central:\n",
    "        return \"north_central\"\n",
    "    elif state in North_east:\n",
    "        return \"north_east\"\n",
    "    elif state in North_west:\n",
    "        return \"north_west\"\n",
    "    elif state in South_south:\n",
    "        return \"south_south\"\n",
    "    elif state in South_east:\n",
    "        return \"south_east\"\n",
    "    elif state in South_west:\n",
    "        return \"south_west\""
   ]
  },
  {
   "cell_type": "code",
   "execution_count": 27,
   "metadata": {
    "collapsed": true
   },
   "outputs": [],
   "source": [
    "housing_data[\"zones\"] = housing_data[\"state\"].apply(zoning)"
   ]
  },
  {
   "cell_type": "markdown",
   "metadata": {},
   "source": [
    "To get the grouped dataset, we alpply the filter function to the groupby object"
   ]
  },
  {
   "cell_type": "code",
   "execution_count": 28,
   "metadata": {
    "collapsed": true
   },
   "outputs": [],
   "source": [
    "nig_zone = housing_data.groupby(\"zones\").filter(lambda x: len(x) >0)"
   ]
  },
  {
   "cell_type": "code",
   "execution_count": 29,
   "metadata": {
    "collapsed": true
   },
   "outputs": [],
   "source": [
    "zone_table = pd.crosstab(index = nig_zone [\"zones\"], columns = nig_zone [\"house_ranks\"], normalize = \"index\").reset_index().set_index(\"zones\")"
   ]
  },
  {
   "cell_type": "code",
   "execution_count": 30,
   "metadata": {},
   "outputs": [],
   "source": [
    "zone_table.rename(columns ={\"cheap\" :\"ratio_cheap\", \"luxury\": \"ratio_luxury\",\"moderate\":\"ratio_moderate\", \"premium\":\"ratio_premium\"}, inplace=True)"
   ]
  },
  {
   "cell_type": "code",
   "execution_count": 31,
   "metadata": {},
   "outputs": [
    {
     "data": {
      "text/html": [
       "<div>\n",
       "<style>\n",
       "    .dataframe thead tr:only-child th {\n",
       "        text-align: right;\n",
       "    }\n",
       "\n",
       "    .dataframe thead th {\n",
       "        text-align: left;\n",
       "    }\n",
       "\n",
       "    .dataframe tbody tr th {\n",
       "        vertical-align: top;\n",
       "    }\n",
       "</style>\n",
       "<table border=\"1\" class=\"dataframe\">\n",
       "  <thead>\n",
       "    <tr style=\"text-align: right;\">\n",
       "      <th>house_ranks</th>\n",
       "      <th>ratio_cheap</th>\n",
       "      <th>ratio_luxury</th>\n",
       "      <th>ratio_moderate</th>\n",
       "      <th>ratio_premium</th>\n",
       "    </tr>\n",
       "    <tr>\n",
       "      <th>zones</th>\n",
       "      <th></th>\n",
       "      <th></th>\n",
       "      <th></th>\n",
       "      <th></th>\n",
       "    </tr>\n",
       "  </thead>\n",
       "  <tbody>\n",
       "    <tr>\n",
       "      <th>north_central</th>\n",
       "      <td>0.019048</td>\n",
       "      <td>0.107540</td>\n",
       "      <td>0.201587</td>\n",
       "      <td>0.671825</td>\n",
       "    </tr>\n",
       "    <tr>\n",
       "      <th>north_east</th>\n",
       "      <td>0.000000</td>\n",
       "      <td>0.000000</td>\n",
       "      <td>0.500000</td>\n",
       "      <td>0.500000</td>\n",
       "    </tr>\n",
       "    <tr>\n",
       "      <th>north_west</th>\n",
       "      <td>0.057692</td>\n",
       "      <td>0.038462</td>\n",
       "      <td>0.269231</td>\n",
       "      <td>0.634615</td>\n",
       "    </tr>\n",
       "    <tr>\n",
       "      <th>south_east</th>\n",
       "      <td>0.076923</td>\n",
       "      <td>0.019231</td>\n",
       "      <td>0.653846</td>\n",
       "      <td>0.250000</td>\n",
       "    </tr>\n",
       "    <tr>\n",
       "      <th>south_south</th>\n",
       "      <td>0.068762</td>\n",
       "      <td>0.021611</td>\n",
       "      <td>0.614931</td>\n",
       "      <td>0.294695</td>\n",
       "    </tr>\n",
       "    <tr>\n",
       "      <th>south_west</th>\n",
       "      <td>0.087859</td>\n",
       "      <td>0.121006</td>\n",
       "      <td>0.383187</td>\n",
       "      <td>0.407947</td>\n",
       "    </tr>\n",
       "  </tbody>\n",
       "</table>\n",
       "</div>"
      ],
      "text/plain": [
       "house_ranks    ratio_cheap  ratio_luxury  ratio_moderate  ratio_premium\n",
       "zones                                                                  \n",
       "north_central     0.019048      0.107540        0.201587       0.671825\n",
       "north_east        0.000000      0.000000        0.500000       0.500000\n",
       "north_west        0.057692      0.038462        0.269231       0.634615\n",
       "south_east        0.076923      0.019231        0.653846       0.250000\n",
       "south_south       0.068762      0.021611        0.614931       0.294695\n",
       "south_west        0.087859      0.121006        0.383187       0.407947"
      ]
     },
     "execution_count": 31,
     "metadata": {},
     "output_type": "execute_result"
    }
   ],
   "source": [
    "zone_table"
   ]
  },
  {
   "cell_type": "code",
   "execution_count": 33,
   "metadata": {},
   "outputs": [
    {
     "data": {
      "image/png": "[encoded data removed]",
      "text/plain": [
       "<matplotlib.figure.Figure at 0x28b164844e0>"
      ]
     },
     "metadata": {},
     "output_type": "display_data"
    }
   ],
   "source": [
    "ax =zone_table.plot(kind =\"bar\", figsize =(12,8))\n",
    "ax.tick_params(bottom=False, top=False, left=False, right=False)\n",
    "ax.set_title(\"House Rent Rates by Zones\", fontsize= \"xx-large\").set_position([.5, 1.05])\n",
    "ax.set_xlabel(\"Country Zones\", fontsize = \"x-large\")\n",
    "ax.set_ylabel(\"Ratio of House Type\", fontsize = \"x-large\")\n",
    "ax.spines['right'].set_visible(False)\n",
    "ax.spines['top'].set_visible(False)\n",
    "plt.show();"
   ]
  },
  {
   "cell_type": "markdown",
   "metadata": {},
   "source": [
    "The zones for the most common house type can be deduced from the plot as follows:\n",
    "1. Cheap house rent zone : South_west\n",
    "2. Moderate house rent zone : South_east\n",
    "3. Premium house rent zone : North_central\n",
    "4. Luxury house rent zone : South_west"
   ]
  },
  {
   "cell_type": "markdown",
   "metadata": {},
   "source": [
    "The chart reveals that the ratio of luxury houses are more in the south-west followed by north-central zones. Since it's easier for the firm to access more luxury houses for rent there, they should recommend these locations to those willing to pay above 10million rent per year"
   ]
  }
 ],
 "metadata": {
  "kernelspec": {
   "display_name": "Python 3",
   "language": "python",
   "name": "python3"
  },
  "language_info": {
   "codemirror_mode": {
    "name": "ipython",
    "version": 3
   },
   "file_extension": ".py",
   "mimetype": "text/x-python",
   "name": "python",
   "nbconvert_exporter": "python",
   "pygments_lexer": "ipython3",
   "version": "3.6.3"
  }
 },
 "nbformat": 4,
 "nbformat_minor": 2
}
